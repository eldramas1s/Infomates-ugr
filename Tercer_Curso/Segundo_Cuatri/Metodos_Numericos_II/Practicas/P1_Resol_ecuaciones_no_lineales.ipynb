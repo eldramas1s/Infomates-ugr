{
 "cells": [
  {
   "cell_type": "markdown",
   "metadata": {
    "id": "nPgcEXwmcp-T"
   },
   "source": [
    "# Resolución numérica de ecuaciones no lineales\n",
    "\n",
    "Autor de esta versión: **Juan Antonio Villegas Recio**\n",
    "\n",
    "Autor de la versión original: Pedro González Rodelas\n",
    "\n",
    "Fecha de la primera versión: 10/08/2017\n",
    "\n",
    "Sucesivas revisiones: 15/08/2017, 19/10/2018, 15,22/03/2020 y 20/04/2020, 24/03/2021\n",
    "\n",
    "Fecha de la última revisión: 10/4/2025\n",
    "\n",
    "Notebook adaptado y extendido a partir del notebook original realizado con Mathematica e incluido en el libro: \"*Análisis Numérico con Mathematica*\" de Ariel Ciencia"
   ]
  },
  {
   "cell_type": "markdown",
   "metadata": {
    "id": "8mY_XmOUcp-V"
   },
   "source": [
    "En esta práctica vamos a usar varios procedimientos computacionales ya implementados en alguno de los módulos o librerías de Python, así como revisar e implementar nosotros mismos otros métodos numéricos varios para calcular o aproximar las raíces, también llamados ceros, de una cierta función $f(x)$ en un intervalo $[a,b]$ de la recta real."
   ]
  },
  {
   "cell_type": "markdown",
   "metadata": {
    "id": "fB_d-EDgcp-V"
   },
   "source": [
    "## 1. Carga de los módulos y funciones empleadas 🔨"
   ]
  },
  {
   "cell_type": "markdown",
   "metadata": {
    "id": "9XMSSbZScp-V"
   },
   "source": [
    "Antes de empezar a realizar cualquier cálculo numérico o simbólico debemos de cargar los correspondientes módulos de Python que implementan la mayoría de funciones y procedimientos necesarios para ello: [`numpy`](https://numpy.org/) y [`sympy`](https://www.sympy.org/), que serán cargados con los pseudónimos `np` y `sp`, respectivamente. Además cargaremos también el submódulo `pyplot`, del paquete [`matplotlib`](https://matplotlib.org/), que nos permitirá realizar las representaciones gráficas que nos ayudarán a visualizar todo el proceso."
   ]
  },
  {
   "cell_type": "code",
<<<<<<< HEAD
   "execution_count": 3,
=======
   "execution_count": 1,
>>>>>>> local
   "metadata": {
    "colab": {
     "base_uri": "https://localhost:8080/"
    },
    "executionInfo": {
     "elapsed": 10982,
     "status": "ok",
     "timestamp": 1745347113799,
     "user": {
      "displayName": "juan_antonio VILLEGAS RECIO",
      "userId": "07002128450319972745"
     },
     "user_tz": -120
    },
    "id": "_B44W0p-UZQu",
    "outputId": "9a9db233-3e60-42b8-a7cf-866b06494a1b"
   },
   "outputs": [
    {
     "data": {
      "text/plain": [
       "Context(prec=28, rounding=ROUND_HALF_EVEN, Emin=-999999, Emax=999999, capitals=1, clamp=0, flags=[], traps=[InvalidOperation, DivisionByZero, Overflow])"
      ]
     },
<<<<<<< HEAD
     "execution_count": 3,
=======
     "execution_count": 1,
>>>>>>> local
     "metadata": {},
     "output_type": "execute_result"
    }
   ],
   "source": [
    "# Carga de librerías necesarias\n",
    "import numpy as np\n",
    "from numpy import sign\n",
    "import sympy as sp\n",
    "%matplotlib inline\n",
    "import matplotlib.pyplot as plt\n",
    "\n",
    "from decimal import * # Este módulo nos permitirá trabajar con una precisión determinada\n",
    "getcontext()"
   ]
  },
  {
   "cell_type": "code",
<<<<<<< HEAD
   "execution_count": 4,
=======
   "execution_count": 2,
>>>>>>> local
   "metadata": {
    "colab": {
     "base_uri": "https://localhost:8080/"
    },
    "executionInfo": {
     "elapsed": 14,
     "status": "ok",
     "timestamp": 1745347115218,
     "user": {
      "displayName": "juan_antonio VILLEGAS RECIO",
      "userId": "07002128450319972745"
     },
     "user_tz": -120
    },
    "id": "NiUBGCvocp-W",
    "outputId": "848bbed8-5d4f-4d62-96ae-7035ebca7561"
   },
   "outputs": [
    {
     "data": {
      "text/plain": [
       "28"
      ]
     },
<<<<<<< HEAD
     "execution_count": 4,
=======
     "execution_count": 2,
>>>>>>> local
     "metadata": {},
     "output_type": "execute_result"
    }
   ],
   "source": [
    "mporig = getcontext().prec\n",
    "mporig  # Esta sería la precisión con la que se trabaja por defecto"
   ]
  },
  {
   "cell_type": "markdown",
   "metadata": {},
   "source": [
    "## 2. Primeros métodos simbólicos y numéricos de obtención de raíces 🚥"
   ]
  },
  {
   "cell_type": "markdown",
   "metadata": {
    "id": "f1BH49PxUZQw"
   },
   "source": [
    "### 2.1. Primer intento: Obtener las raíces simbólicas 🔣"
   ]
  },
  {
   "cell_type": "markdown",
   "metadata": {
    "collapsed": true,
    "id": "U69eXcPrcp-W"
   },
   "source": [
    "En un primer momento podríamos intentar tratar de obtener simbólicamente la o las posibles raíces. Para trabajo simbólico podemos utilizar el módulo `sympy`. Primero definiremos una variable simbólica usando la función `Symbol` y definiremos la función de la cual queremos conocer su raíz o raíces."
   ]
  },
  {
   "cell_type": "code",
<<<<<<< HEAD
   "execution_count": 5,
=======
   "execution_count": 3,
>>>>>>> local
   "metadata": {
    "colab": {
     "base_uri": "https://localhost:8080/",
     "height": 38
    },
    "executionInfo": {
     "elapsed": 44,
     "status": "ok",
     "timestamp": 1745347269785,
     "user": {
      "displayName": "juan_antonio VILLEGAS RECIO",
      "userId": "07002128450319972745"
     },
     "user_tz": -120
    },
    "id": "9fQcBVqpcp-X",
    "outputId": "aef5019c-ef25-44e8-81d5-0758fbe2ded2"
   },
   "outputs": [
    {
     "data": {
      "text/latex": [
       "$\\displaystyle x$"
      ],
      "text/plain": [
       "x"
      ]
     },
<<<<<<< HEAD
     "execution_count": 5,
=======
     "execution_count": 3,
>>>>>>> local
     "metadata": {},
     "output_type": "execute_result"
    }
   ],
   "source": [
    "x = sp.Symbol('x') # Ahora cada vez que usemos x se referirá a la variable simbólica\n",
    "x"
   ]
  },
  {
   "cell_type": "markdown",
   "metadata": {
    "id": "NCM773fmUZQx"
   },
   "source": [
    "Como primer ejemplo, supongamos que queremos conocer las raices de la funcion $f(x)=e^x-3$, $x\\in\\mathbb R$. Como primero vamos a trabajar en simbólico utilizaremos la función `exp` de `sympy`, pero cuidado porque `numpy` también posee una funcion llamada `exp`. La diferencia entre estas dos funciones es que la de `sympy` trabaja en simbólico y la de `numpy` en numérico, aunque los valores en sí son los mismos en ambos casos. Observa las siguientes celdas:"
   ]
  },
  {
   "cell_type": "code",
<<<<<<< HEAD
   "execution_count": 6,
=======
   "execution_count": 4,
>>>>>>> local
   "metadata": {
    "colab": {
     "base_uri": "https://localhost:8080/"
    },
    "executionInfo": {
     "elapsed": 212,
     "status": "ok",
     "timestamp": 1745347271172,
     "user": {
      "displayName": "juan_antonio VILLEGAS RECIO",
      "userId": "07002128450319972745"
     },
     "user_tz": -120
    },
    "id": "j2g__ULBcp-X",
    "outputId": "2dfe4974-62d1-4744-e1fc-77676958a38d"
   },
   "outputs": [
    {
     "data": {
      "text/plain": [
       "(exp(x) - 3, -3 + E)"
      ]
     },
<<<<<<< HEAD
     "execution_count": 6,
=======
     "execution_count": 4,
>>>>>>> local
     "metadata": {},
     "output_type": "execute_result"
    }
   ],
   "source": [
    "def fsym(x):\n",
    "    ''' Version simbolica de la función'''\n",
    "    return sp.exp(x)-3\n",
    "\n",
    "fsym(x), fsym(1)"
   ]
  },
  {
   "cell_type": "code",
<<<<<<< HEAD
   "execution_count": 7,
=======
   "execution_count": 5,
>>>>>>> local
   "metadata": {
    "colab": {
     "base_uri": "https://localhost:8080/"
    },
    "executionInfo": {
     "elapsed": 8,
     "status": "ok",
     "timestamp": 1745347271765,
     "user": {
      "displayName": "juan_antonio VILLEGAS RECIO",
      "userId": "07002128450319972745"
     },
     "user_tz": -120
    },
    "id": "BOmOPlbVcp-X",
    "outputId": "0b4dbeec-c3f6-427c-c8f4-6114dedfc561"
   },
   "outputs": [
    {
     "data": {
      "text/plain": [
       "np.float64(-0.2817181715409549)"
      ]
     },
<<<<<<< HEAD
     "execution_count": 7,
=======
     "execution_count": 5,
>>>>>>> local
     "metadata": {},
     "output_type": "execute_result"
    }
   ],
   "source": [
    "def fnum(x):\n",
    "    ''' Version numerica de la función'''\n",
    "    return np.exp(x)-3\n",
    "\n",
    "fnum(1) #, fnum(x) # No se puede evaluar la función simbólica en este caso"
   ]
  },
  {
   "cell_type": "code",
<<<<<<< HEAD
   "execution_count": 8,
=======
   "execution_count": 6,
>>>>>>> local
   "metadata": {
    "executionInfo": {
     "elapsed": 8,
     "status": "ok",
     "timestamp": 1745347272577,
     "user": {
      "displayName": "juan_antonio VILLEGAS RECIO",
      "userId": "07002128450319972745"
     },
     "user_tz": -120
    },
    "id": "l9vKCAEocp-X"
   },
   "outputs": [],
   "source": [
    "# De momento nos quedamos con la versión simbólica de la función\n",
    "f = fsym"
   ]
  },
  {
   "cell_type": "code",
<<<<<<< HEAD
   "execution_count": 9,
=======
   "execution_count": 7,
>>>>>>> local
   "metadata": {
    "colab": {
     "base_uri": "https://localhost:8080/"
    },
    "executionInfo": {
     "elapsed": 18,
     "status": "ok",
     "timestamp": 1745347273241,
     "user": {
      "displayName": "juan_antonio VILLEGAS RECIO",
      "userId": "07002128450319972745"
     },
     "user_tz": -120
    },
    "id": "iO3mwDZIcp-X",
    "outputId": "96b819a5-f6c8-4090-95df-6b66946793d0"
   },
   "outputs": [
    {
     "data": {
      "text/plain": [
       "(-2, -3 + exp(2))"
      ]
     },
<<<<<<< HEAD
     "execution_count": 9,
=======
     "execution_count": 7,
>>>>>>> local
     "metadata": {},
     "output_type": "execute_result"
    }
   ],
   "source": [
    "a, b = 0, 2 # Intervalo de búsqueda de la raíz\n",
    "f(a),f(b) # Evaluamos la función en los extremos del intervalo"
   ]
  },
  {
   "cell_type": "code",
<<<<<<< HEAD
   "execution_count": 10,
=======
   "execution_count": 8,
>>>>>>> local
   "metadata": {
    "colab": {
     "base_uri": "https://localhost:8080/"
    },
    "executionInfo": {
     "elapsed": 16,
     "status": "ok",
     "timestamp": 1745347273793,
     "user": {
      "displayName": "juan_antonio VILLEGAS RECIO",
      "userId": "07002128450319972745"
     },
     "user_tz": -120
    },
    "id": "5BTThGBscp-X",
    "outputId": "c5c60e24-0f47-4ad1-abc1-8143a6df5739"
   },
   "outputs": [
    {
     "data": {
      "text/plain": [
       "-1"
      ]
     },
<<<<<<< HEAD
     "execution_count": 10,
=======
     "execution_count": 8,
>>>>>>> local
     "metadata": {},
     "output_type": "execute_result"
    }
   ],
   "source": [
    "# Observamos el signo de la función en los extremos del intervalo\n",
    "sign(f(a)*f(b))"
   ]
  },
  {
   "cell_type": "markdown",
   "metadata": {
    "id": "cmyUDNjWUZQy"
   },
   "source": [
    "Como la función es continua y derivable en $[0,2]$ y ademas tiene signo distinto en los extremos, entonces sabemos a ciencia cierta, por el teorema de Bolzano, que existe al menos una raíz en dicho intervalo.\n",
    "\n",
    "A continuación usamos la funcion `sp.plot` para representar la función en el intervalo deseado."
   ]
  },
  {
   "cell_type": "code",
<<<<<<< HEAD
   "execution_count": 11,
=======
   "execution_count": 9,
>>>>>>> local
   "metadata": {
    "colab": {
     "base_uri": "https://localhost:8080/",
     "height": 504
    },
    "executionInfo": {
     "elapsed": 728,
     "status": "ok",
     "timestamp": 1745347276720,
     "user": {
      "displayName": "juan_antonio VILLEGAS RECIO",
      "userId": "07002128450319972745"
     },
     "user_tz": -120
    },
    "id": "Hm_R9Zsrcp-X",
    "outputId": "93c5fad1-ece8-481a-a4f7-b257f599f229"
   },
   "outputs": [
    {
     "data": {
      "image/png": "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",
      "text/plain": [
       "<Figure size 640x480 with 1 Axes>"
      ]
     },
     "metadata": {},
     "output_type": "display_data"
    },
    {
     "data": {
      "text/plain": [
<<<<<<< HEAD
       "<sympy.plotting.backends.matplotlibbackend.matplotlib.MatplotlibBackend at 0x7e0837877830>"
      ]
     },
     "execution_count": 11,
=======
       "<sympy.plotting.backends.matplotlibbackend.matplotlib.MatplotlibBackend at 0x7820387c9fa0>"
      ]
     },
     "execution_count": 9,
>>>>>>> local
     "metadata": {},
     "output_type": "execute_result"
    }
   ],
   "source": [
    "sp.plot(f(x),(x,a,b))"
   ]
  },
  {
   "cell_type": "markdown",
   "metadata": {
    "id": "hnbv05iyUZQz"
   },
   "source": [
    "En efecto hay una raíz. En este caso concreto podemos usar la función `sp.solve` para obtenerla."
   ]
  },
  {
   "cell_type": "code",
<<<<<<< HEAD
   "execution_count": 12,
=======
   "execution_count": 10,
>>>>>>> local
   "metadata": {
    "colab": {
     "base_uri": "https://localhost:8080/"
    },
    "executionInfo": {
     "elapsed": 193,
     "status": "ok",
     "timestamp": 1745347290812,
     "user": {
      "displayName": "juan_antonio VILLEGAS RECIO",
      "userId": "07002128450319972745"
     },
     "user_tz": -120
    },
    "id": "oPrk8o1fcp-X",
    "outputId": "c0ce2d8a-589b-409f-e0cc-e2a2a0b46e21"
   },
   "outputs": [
    {
     "name": "stdout",
     "output_type": "stream",
     "text": [
      "log(3)\n"
     ]
    }
   ],
   "source": [
    "sol_exact = sp.solve(f(x),x)[0] # Solución exacta de la ecuación f(x)=0\n",
    "print(sol_exact)"
   ]
  },
  {
   "cell_type": "code",
<<<<<<< HEAD
   "execution_count": 13,
=======
   "execution_count": 11,
>>>>>>> local
   "metadata": {
    "colab": {
     "base_uri": "https://localhost:8080/",
     "height": 37
    },
    "executionInfo": {
     "elapsed": 30,
     "status": "ok",
     "timestamp": 1745347299063,
     "user": {
      "displayName": "juan_antonio VILLEGAS RECIO",
      "userId": "07002128450319972745"
     },
     "user_tz": -120
    },
    "id": "kNEitSeicp-X",
    "outputId": "18c074ad-23da-43a7-9aec-2281a8d753d5"
   },
   "outputs": [
    {
     "data": {
      "text/latex": [
       "$\\displaystyle 1.09861228866811$"
      ],
      "text/plain": [
       "1.09861228866811"
      ]
     },
<<<<<<< HEAD
     "execution_count": 13,
=======
     "execution_count": 11,
>>>>>>> local
     "metadata": {},
     "output_type": "execute_result"
    }
   ],
   "source": [
    "sol_exact.evalf()"
   ]
  },
  {
   "cell_type": "markdown",
   "metadata": {
    "id": "3l-NW3-5cp-X"
   },
   "source": [
    "No obstante, es bien sabido que no siempre es posible, ni fácil, encontrar simbólicamente las raíces de ciertas ecuaciones de tipo trascendente o incluso polinómicas de grado superior. Por ello es habitual y más recomendable emplear algún método numérico para aproximar las posibles raíces de las ecuaciones de tipo no lineal. En todo caso, lo primero que tenemos que hacer es estudiar si efectivamente dicha ecuación puede tener soluciones reales y comprobar que se dan las condiciones adecuadas para poder aplicar el método correspondiente. Muchas veces lo mejor será ayudarnos previamente,  siempre que podamos, con una representación gráfica de la función en un intervalo apropiado. De esta manera, la ecuación tendrá una interpretación geométrica muy clara, como la búsqueda de los puntos de corte de la gráfica de dicha función con el eje $OX$."
   ]
  },
  {
   "cell_type": "markdown",
   "metadata": {
    "id": "StrC9vI6UZQ0"
   },
   "source": [
    "### 2.2. Segundo intento: Aproximar las raíces de forma numérica 🔢"
   ]
  },
  {
   "cell_type": "code",
<<<<<<< HEAD
   "execution_count": 89,
=======
   "execution_count": 12,
>>>>>>> local
   "metadata": {
    "executionInfo": {
     "elapsed": 48,
     "status": "ok",
     "timestamp": 1745347389856,
     "user": {
      "displayName": "juan_antonio VILLEGAS RECIO",
      "userId": "07002128450319972745"
     },
     "user_tz": -120
    },
    "id": "kwlCUed_cp-Y"
   },
   "outputs": [],
   "source": [
    "# ahora nos interesará emplear la versión numérica de la función\n",
    "# por lo que nos convendrá intercambiar la definición de f(x)\n",
    "f = fnum"
   ]
  },
  {
   "cell_type": "markdown",
   "metadata": {
    "id": "-VRY6kqpUZQ0"
   },
   "source": [
    "En el siguiente código definimos un array de `numpy` (que no es lo mismo que una lista convencional) correspondiente a los valores de `num_points` valores reales equiespaciados entre `a` y `b`. Aplicamos la funcion `f` a cada uno de esos valores. Obsérvese que estamos pasando una colección de números como argumento a `f` y no un único valor. Esto es parte de la potencia de `numpy` para el cálculo numérico."
   ]
  },
  {
   "cell_type": "code",
<<<<<<< HEAD
   "execution_count": 15,
=======
   "execution_count": 13,
>>>>>>> local
   "metadata": {
    "colab": {
     "base_uri": "https://localhost:8080/"
    },
    "executionInfo": {
     "elapsed": 38,
     "status": "ok",
     "timestamp": 1745347391369,
     "user": {
      "displayName": "juan_antonio VILLEGAS RECIO",
      "userId": "07002128450319972745"
     },
     "user_tz": -120
    },
    "id": "RN72rKoKcp-Y",
    "outputId": "d6d94cff-da15-4ebb-e470-49be9d83eaa5"
   },
   "outputs": [
    {
     "data": {
      "text/plain": [
       "(array([0.        , 0.02020202, 0.04040404, 0.06060606, 0.08080808,\n",
       "        0.1010101 , 0.12121212, 0.14141414, 0.16161616, 0.18181818,\n",
       "        0.2020202 , 0.22222222, 0.24242424, 0.26262626, 0.28282828,\n",
       "        0.3030303 , 0.32323232, 0.34343434, 0.36363636, 0.38383838,\n",
       "        0.4040404 , 0.42424242, 0.44444444, 0.46464646, 0.48484848,\n",
       "        0.50505051, 0.52525253, 0.54545455, 0.56565657, 0.58585859,\n",
       "        0.60606061, 0.62626263, 0.64646465, 0.66666667, 0.68686869,\n",
       "        0.70707071, 0.72727273, 0.74747475, 0.76767677, 0.78787879,\n",
       "        0.80808081, 0.82828283, 0.84848485, 0.86868687, 0.88888889,\n",
       "        0.90909091, 0.92929293, 0.94949495, 0.96969697, 0.98989899,\n",
       "        1.01010101, 1.03030303, 1.05050505, 1.07070707, 1.09090909,\n",
       "        1.11111111, 1.13131313, 1.15151515, 1.17171717, 1.19191919,\n",
       "        1.21212121, 1.23232323, 1.25252525, 1.27272727, 1.29292929,\n",
       "        1.31313131, 1.33333333, 1.35353535, 1.37373737, 1.39393939,\n",
       "        1.41414141, 1.43434343, 1.45454545, 1.47474747, 1.49494949,\n",
       "        1.51515152, 1.53535354, 1.55555556, 1.57575758, 1.5959596 ,\n",
       "        1.61616162, 1.63636364, 1.65656566, 1.67676768, 1.6969697 ,\n",
       "        1.71717172, 1.73737374, 1.75757576, 1.77777778, 1.7979798 ,\n",
       "        1.81818182, 1.83838384, 1.85858586, 1.87878788, 1.8989899 ,\n",
       "        1.91919192, 1.93939394, 1.95959596, 1.97979798, 2.        ]),\n",
       " array([-2.        , -1.97959254, -1.95876861, -1.93751972, -1.9158372 ,\n",
       "        -1.89371218, -1.87113566, -1.8480984 , -1.82459101, -1.8006039 ,\n",
       "        -1.77612727, -1.75115113, -1.7256653 , -1.69965936, -1.67312271,\n",
       "        -1.64604451, -1.61841371, -1.59021904, -1.56144899, -1.53209182,\n",
       "        -1.50213553, -1.47156792, -1.4403765 , -1.40854854, -1.37607106,\n",
       "        -1.34293079, -1.30911421, -1.27460753, -1.23939664, -1.2034672 ,\n",
       "        -1.16680452, -1.12939366, -1.09121933, -1.05226596, -1.01251765,\n",
       "        -0.97195818, -0.93057099, -0.8883392 , -0.84524556, -0.80127249,\n",
       "        -0.75640204, -0.7106159 , -0.66389538, -0.61622142, -0.56757455,\n",
       "        -0.51793492, -0.46728227, -0.41559592, -0.3628548 , -0.30903736,\n",
       "        -0.25412164, -0.19808523, -0.14090526, -0.08255839, -0.02302081,\n",
       "         0.03773178,  0.09972417,  0.16298168,  0.22753011,  0.2933958 ,\n",
       "         0.36060565,  0.42918709,  0.49916809,  0.57057723,  0.64344365,\n",
       "         0.71779709,  0.79366789,  0.87108703,  0.95008609,  1.03069732,\n",
       "         1.11295363,  1.19688857,  1.28253642,  1.36993212,  1.45911134,\n",
       "         1.55011049,  1.64296669,  1.73771786,  1.83440266,  1.93306055,\n",
       "         2.03373179,  2.13645748,  2.24127955,  2.34824076,  2.45738478,\n",
       "         2.56875615,  2.68240033,  2.7983637 ,  2.91669359,  3.03743829,\n",
       "         3.16064708,  3.28637026,  3.41465912,  3.54556603,  3.67914442,\n",
       "         3.81544881,  3.95453482,  4.09645923,  4.24127995,  4.3890561 ]))"
      ]
     },
<<<<<<< HEAD
     "execution_count": 15,
=======
     "execution_count": 13,
>>>>>>> local
     "metadata": {},
     "output_type": "execute_result"
    }
   ],
   "source": [
    "num_points = 100\n",
    "x_values = np.linspace(a,b,num_points)\n",
    "y_values = f(x_values)\n",
    "x_values, y_values # Valores de x e y para graficar la función"
   ]
  },
  {
   "cell_type": "code",
<<<<<<< HEAD
   "execution_count": 16,
=======
   "execution_count": 14,
>>>>>>> local
   "metadata": {
    "executionInfo": {
     "elapsed": 10,
     "status": "ok",
     "timestamp": 1745347396062,
     "user": {
      "displayName": "juan_antonio VILLEGAS RECIO",
      "userId": "07002128450319972745"
     },
     "user_tz": -120
    },
    "id": "-emEC3q5UZQ0"
   },
   "outputs": [],
   "source": [
    "# Tambien podiamos haber hecho\n",
    "y_values = np.array([f(x) for x in x_values])\n",
    "# o incluso\n",
    "y_values = np.array(list(map(f,x_values))) # Version con map\n",
    "# pero ambas son más lentas que la versión vectorizada"
   ]
  },
  {
   "cell_type": "code",
<<<<<<< HEAD
   "execution_count": 17,
=======
   "execution_count": 15,
>>>>>>> local
   "metadata": {
    "colab": {
     "base_uri": "https://localhost:8080/",
     "height": 430
    },
    "executionInfo": {
     "elapsed": 347,
     "status": "ok",
     "timestamp": 1745347397283,
     "user": {
      "displayName": "juan_antonio VILLEGAS RECIO",
      "userId": "07002128450319972745"
     },
     "user_tz": -120
    },
    "id": "aWBvoVKBcp-Y",
    "outputId": "f0d0d6ec-eb69-41cb-df4e-58994c7cbbc5"
   },
   "outputs": [
    {
     "data": {
      "text/plain": [
<<<<<<< HEAD
       "[<matplotlib.lines.Line2D at 0x7e081e02f860>]"
      ]
     },
     "execution_count": 17,
=======
       "[<matplotlib.lines.Line2D at 0x78201ea3bf50>]"
      ]
     },
     "execution_count": 15,
>>>>>>> local
     "metadata": {},
     "output_type": "execute_result"
    },
    {
     "data": {
      "image/png": "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",
      "text/plain": [
       "<Figure size 640x480 with 1 Axes>"
      ]
     },
     "metadata": {},
     "output_type": "display_data"
    }
   ],
   "source": [
    "# Graficamos la función utilizando matplotlib\n",
    "plt.plot(x_values,y_values)"
   ]
  },
  {
   "cell_type": "markdown",
   "metadata": {
    "id": "8R2HXEGEcp-Y"
   },
   "source": [
    "Con la ayuda de este gráfico podemos intuir dónde podría estar el punto de corte de dicha gráfica con el eje $Ox$, no obstante convendría ajustar alguna de las opciones por defecto de los gráficos de MatPlotlib con el objeto de poder controlar la posición exacta de los ejes, por ejemplo."
   ]
  },
  {
   "cell_type": "code",
<<<<<<< HEAD
   "execution_count": 18,
=======
   "execution_count": 16,
>>>>>>> local
   "metadata": {
    "colab": {
     "base_uri": "https://localhost:8080/",
     "height": 423
    },
    "executionInfo": {
     "elapsed": 325,
     "status": "ok",
     "timestamp": 1745347416699,
     "user": {
      "displayName": "juan_antonio VILLEGAS RECIO",
      "userId": "07002128450319972745"
     },
     "user_tz": -120
    },
    "id": "PbXNh7arcp-Y",
    "outputId": "71a5bfec-799e-4115-ee10-7e09fe79966a"
   },
   "outputs": [
    {
     "data": {
      "text/plain": [
<<<<<<< HEAD
       "[<matplotlib.lines.Line2D at 0x7e081e0a9550>]"
      ]
     },
     "execution_count": 18,
=======
       "[<matplotlib.lines.Line2D at 0x78201e7d1be0>]"
      ]
     },
     "execution_count": 16,
>>>>>>> local
     "metadata": {},
     "output_type": "execute_result"
    },
    {
     "data": {
      "image/png": "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",
      "text/plain": [
       "<Figure size 640x480 with 1 Axes>"
      ]
     },
     "metadata": {},
     "output_type": "display_data"
    }
   ],
   "source": [
    "# Con plt.subplots() generamos una instancia de la clase Figure y\n",
    "# una de la clase Axes, que nos permite graficar en ella e incluso incluir\n",
    "# varios gráficos en la misma figura.\n",
    "fig, ax = plt.subplots()\n",
    "\n",
    "# Si queremos evitar que se dibujen los ejes derecho y superior de la figura\n",
    "ax.spines['right'].set_color('none')    # borde derecho\n",
    "ax.spines['top'].set_color('none')      # borde superior\n",
    "\n",
    "# Fijar la posición de las marcas en la parte inferior\n",
    "ax.xaxis.set_ticks_position('bottom')\n",
    "# Situar el eje Ox en la recta horizontal y=0\n",
    "ax.spines['bottom'].set_position(('data',0))\n",
    "\n",
    "\n",
    "# Fijar la posición de las marcas a la izquierda del eje Oy\n",
    "ax.yaxis.set_ticks_position('left')\n",
    "# Situar el eje Oy en la recta vertical x=0\n",
    "ax.spines['left'].set_position(('data',0))\n",
    "\n",
    "# Mostramos el gráfico despues de las modificaciones\n",
    "ax.plot(x_values, y_values)"
   ]
  },
  {
   "cell_type": "markdown",
   "metadata": {
    "id": "UXGIra5ncp-Z"
   },
   "source": [
    "Vemos claramente que esta función posee una raíz, también llamado cero o punto de corte con el eje $Ox$ cerca del valor real $1.0$ y en todo caso comprendido entre los valores $1.0$ y $1.5$. Esta simple idea de ir acotando el cero de una función *continua* entre dos valores reales, entre los cuales se encuentre el punto de corte con el eje $Ox$, podría servirnos para aproximar cada vez más dicho cero o raíz, pudiéndose realizar todo este proceso de manera gráfica, como veremos a continuación."
   ]
  },
  {
   "cell_type": "code",
<<<<<<< HEAD
   "execution_count": 19,
=======
   "execution_count": 17,
>>>>>>> local
   "metadata": {
    "executionInfo": {
     "elapsed": 62,
     "status": "ok",
     "timestamp": 1745347435733,
     "user": {
      "displayName": "juan_antonio VILLEGAS RECIO",
      "userId": "07002128450319972745"
     },
     "user_tz": -120
    },
    "id": "AvTjQZd7cp-Z"
   },
   "outputs": [],
   "source": [
    "a_1, b_1 = 1.0, 1.5 # Intervalo de búsqueda de la raíz\n",
    "x_values_1 = np.linspace(a_1,b_1,num_points)\n",
    "y_values_1 = f(x_values_1)"
   ]
  },
  {
   "cell_type": "markdown",
   "metadata": {
    "id": "nafzCM6dUZQ1"
   },
   "source": [
    "El siguiente código muestra el gráfico original con un pequeño subgráfico con zoom alrededor de la raíz."
   ]
  },
  {
   "cell_type": "code",
<<<<<<< HEAD
   "execution_count": 20,
=======
   "execution_count": 18,
>>>>>>> local
   "metadata": {
    "colab": {
     "base_uri": "https://localhost:8080/",
     "height": 443
    },
    "executionInfo": {
     "elapsed": 365,
     "status": "ok",
     "timestamp": 1745347459627,
     "user": {
      "displayName": "juan_antonio VILLEGAS RECIO",
      "userId": "07002128450319972745"
     },
     "user_tz": -120
    },
    "id": "aGwLVl4Icp-Z",
    "outputId": "33c9c764-63e2-4fd3-fbf0-555db7cde679"
   },
   "outputs": [
    {
     "data": {
      "image/png": "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",
      "text/plain": [
       "<Figure size 640x480 with 2 Axes>"
      ]
     },
     "metadata": {},
     "output_type": "display_data"
    }
   ],
   "source": [
    "fig = plt.figure()\n",
    "\n",
    "ax1 = fig.add_axes([0.1, 0.1, 0.8, 0.8]) # Ejes principales, https://www.geeksforgeeks.org/matplotlib-figure-figure-add_axes-in-python/\n",
    "ax2 = fig.add_axes([0.2, 0.5, 0.4, 0.3]) # Ejes insertados\n",
    "\n",
    "ax1.spines['right'].set_color('none')\n",
    "ax1.spines['top'].set_color('none')\n",
    "ax1.xaxis.set_ticks_position('bottom')\n",
    "ax1.spines['bottom'].set_position(('data',0))\n",
    "ax1.yaxis.set_ticks_position('left')\n",
    "ax1.spines['left'].set_position(('data',0))\n",
    "\n",
    "ax2.spines['right'].set_color('none')\n",
    "ax2.spines['top'].set_color('none')\n",
    "ax2.xaxis.set_ticks_position('bottom')\n",
    "ax2.spines['bottom'].set_position(('data',0))\n",
    "ax2.yaxis.set_ticks_position('left')\n",
    "# ax2.spines['left'].set_position(('data',0))\n",
    "\n",
    "# Figura principal\n",
    "ax1.plot(x_values, y_values, 'b')\n",
    "ax1.set_xlabel('x')\n",
    "ax1.set_ylabel('y')\n",
    "ax1.set_title('Grafica inicial en azul')\n",
    "\n",
    "# Subfigura insertada\n",
    "ax2.plot(x_values_1, y_values_1, 'g')\n",
    "ax2.set_xlabel('x')\n",
    "ax2.set_ylabel('y')\n",
    "ax2.set_title('Zoom alrededor de la raíz');"
   ]
  },
  {
   "cell_type": "markdown",
   "metadata": {
    "id": "bRPGrhdwcp-f"
   },
   "source": [
    "Repitamos el proceso varias veces, hasta que consigamos acotar el cero de esta misma función, con un error inferior a una milésima por ejemplo, modificando convenientemente los límites $a_1$ y $b_1$ del subintervalo considerado para representar solamente un zoom de su gráfica inicial en el subintervalo adecuado."
   ]
  },
  {
   "cell_type": "code",
<<<<<<< HEAD
   "execution_count": 21,
=======
   "execution_count": 19,
>>>>>>> local
   "metadata": {
    "executionInfo": {
     "elapsed": 55,
     "status": "ok",
     "timestamp": 1745347487546,
     "user": {
      "displayName": "juan_antonio VILLEGAS RECIO",
      "userId": "07002128450319972745"
     },
     "user_tz": -120
    },
    "id": "gLp8Xj97cp-f"
   },
   "outputs": [],
   "source": [
    "a_2, b_2 = 1.098, 1.099\n",
    "x_values_2 = np.linspace(a_2,b_2,num_points)\n",
    "y_values_2 = f(x_values_2)"
   ]
  },
  {
   "cell_type": "code",
<<<<<<< HEAD
   "execution_count": 22,
=======
   "execution_count": 20,
>>>>>>> local
   "metadata": {
    "colab": {
     "base_uri": "https://localhost:8080/",
     "height": 448
    },
    "executionInfo": {
     "elapsed": 150,
     "status": "ok",
     "timestamp": 1745347490882,
     "user": {
      "displayName": "juan_antonio VILLEGAS RECIO",
      "userId": "07002128450319972745"
     },
     "user_tz": -120
    },
    "id": "t92eSI4lcp-f",
    "outputId": "f5302999-de3d-46dc-ab6c-25b7399ef4c3"
   },
   "outputs": [
    {
     "data": {
      "text/plain": [
<<<<<<< HEAD
       "[<matplotlib.lines.Line2D at 0x7e081de26690>]"
      ]
     },
     "execution_count": 22,
=======
       "[<matplotlib.lines.Line2D at 0x78201e981760>]"
      ]
     },
     "execution_count": 20,
>>>>>>> local
     "metadata": {},
     "output_type": "execute_result"
    },
    {
     "data": {
      "image/png": "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",
      "text/plain": [
       "<Figure size 640x480 with 1 Axes>"
      ]
     },
     "metadata": {},
     "output_type": "display_data"
    }
   ],
   "source": [
    "fig, ax = plt.subplots()\n",
    "ax.spines['right'].set_color('none')\n",
    "ax.spines['top'].set_color('none')\n",
    "ax.xaxis.set_ticks_position('bottom')\n",
    "# ax.spines['bottom'].set_position(('data',0))\n",
    "ax.yaxis.set_ticks_position('left')\n",
    "ax.plot(x_values_2, y_values_2)"
   ]
  },
  {
   "cell_type": "markdown",
   "metadata": {
    "id": "YzsakPYecp-f"
   },
   "source": [
    "Esta misma idea también es la base de otros métodos numéricos. En todos ellos partimos de que se dan las hipótesis del conocido teorema de Bolzano para la función $f$ en cierto intervalo de su dominio de definición; esto es, continuidad en dicho intervalo y cambio de signo para los valores de la función en los extremos del mismo. Así podremos  tener asegurada la existencia de al menos una raíz de la ecuación $f(x)=0$ en dicho intervalo.\n",
    "\n",
    "En esta misma idea se basan los denominados métodos de *bisección* y el de *regula-falsi*, que chequean en todo momento que el preceptivo cambio de signo entre los valores de la función en los extremos del subintervalo considerado en cada iteración del método sigue teniendo lugar."
   ]
  },
  {
   "cell_type": "markdown",
   "metadata": {
    "id": "_fukTWkdcp-f"
   },
   "source": [
    "### 2.3. Método de búsqueda incremental 🔍📈"
   ]
  },
  {
   "cell_type": "markdown",
   "metadata": {
    "id": "qcJfMvfzcp-f"
   },
   "source": [
    "Por otra parte, el denominado *método de búsqueda incremental* también va chequeando valores de la función continua en puntos sucesivos $x_i < x_{i+1} = x_i + \\Delta x $ para un cierto valor adecuado del incremento $\\Delta x > 0$. De manera que , si la función tiene ceros en el intervalo de partida y elegimos adecuadamente este valor del incremento, podremos localizar y aislar al menos algunos de ellos con este rudimentario procedimiento, aunque por supuesto que también adolece de algún que otro inconveniente:\n",
    "* Es posible que pasemos por alto sin detectar varios ceros demasiado próximos, si el incremento $\\Delta x$ no es lo suficientemente pequeño.\n",
    "* Las raíces dobles (ceros que coinciden) no serán detectadas por este tipo de procedimientos, ya que no necesariamente involucran cambio de signo.\n",
    "* Ciertas singularidades o discontinuidades de la función pueden dar lugar a incongruencias o falsos ceros, si no se verifica previamente la continuidad de la función en los subintervalos considerados."
   ]
  },
  {
   "cell_type": "markdown",
   "metadata": {
    "id": "z6xuzjH7cp-f"
   },
   "source": [
    "Veámos a continuación una posible implementación en forma de módulo o función de este sencillo procedimiento."
   ]
  },
  {
   "cell_type": "code",
<<<<<<< HEAD
   "execution_count": 23,
=======
   "execution_count": 21,
>>>>>>> local
   "metadata": {
    "executionInfo": {
     "elapsed": 8,
     "status": "ok",
     "timestamp": 1745347598176,
     "user": {
      "displayName": "juan_antonio VILLEGAS RECIO",
      "userId": "07002128450319972745"
     },
     "user_tz": -120
    },
    "id": "-EFzzoVecp-f"
   },
   "outputs": [],
   "source": [
    "def busqueda_incremental(f,a,b,dx):\n",
    "    x1, x2 = a, a + dx\n",
    "    f1, f2 = f(x1), f(x2)\n",
    "    while np.sign(f1) == np.sign(f2):\n",
    "        if x1 >= b:\n",
    "            return None,None   # se podría cambiar por x2 >= b\n",
    "        x1, x2 = x2, x2 + dx\n",
    "        f1, f2 = f2, f(x2)\n",
    "    else: # si no se cumple la condición del while\n",
    "        return x1,x2"
   ]
  },
  {
   "cell_type": "code",
<<<<<<< HEAD
   "execution_count": 24,
=======
   "execution_count": 22,
>>>>>>> local
   "metadata": {
    "executionInfo": {
     "elapsed": 33,
     "status": "ok",
     "timestamp": 1745347599319,
     "user": {
      "displayName": "juan_antonio VILLEGAS RECIO",
      "userId": "07002128450319972745"
     },
     "user_tz": -120
    },
    "id": "PjRQPjgmcp-g"
   },
   "outputs": [
    {
     "name": "stdout",
     "output_type": "stream",
     "text": [
      "\u001b[31mSignature:\u001b[39m f(x)\n",
      "\u001b[31mDocstring:\u001b[39m Version numerica de la función\n",
<<<<<<< HEAD
      "\u001b[31mFile:\u001b[39m      /tmp/ipykernel_7539/34348493.py\n",
=======
      "\u001b[31mFile:\u001b[39m      /tmp/ipykernel_57731/34348493.py\n",
>>>>>>> local
      "\u001b[31mType:\u001b[39m      function"
     ]
    }
   ],
   "source": [
    "# recordemos qué función tenemos definida en este momento\n",
    "?f"
   ]
  },
  {
   "cell_type": "code",
<<<<<<< HEAD
   "execution_count": 25,
=======
   "execution_count": 23,
>>>>>>> local
   "metadata": {
    "colab": {
     "base_uri": "https://localhost:8080/"
    },
    "executionInfo": {
     "elapsed": 66,
     "status": "ok",
     "timestamp": 1745347608914,
     "user": {
      "displayName": "juan_antonio VILLEGAS RECIO",
      "userId": "07002128450319972745"
     },
     "user_tz": -120
    },
    "id": "NWd679kQcp-g",
    "outputId": "6f12a946-647c-4c45-a275-ee93143bf331"
   },
   "outputs": [
    {
     "data": {
      "text/plain": [
       "(0, 2)"
      ]
     },
<<<<<<< HEAD
     "execution_count": 25,
=======
     "execution_count": 23,
>>>>>>> local
     "metadata": {},
     "output_type": "execute_result"
    }
   ],
   "source": [
    "a,b # así como el intervalo del que partíamos"
   ]
  },
  {
   "cell_type": "code",
<<<<<<< HEAD
   "execution_count": 26,
=======
   "execution_count": 24,
>>>>>>> local
   "metadata": {
    "colab": {
     "base_uri": "https://localhost:8080/"
    },
    "executionInfo": {
     "elapsed": 31,
     "status": "ok",
     "timestamp": 1745347609655,
     "user": {
      "displayName": "juan_antonio VILLEGAS RECIO",
      "userId": "07002128450319972745"
     },
     "user_tz": -120
    },
    "id": "u8E8N-_Tcp-g",
    "outputId": "e66222eb-6f9f-4591-8c52-03ed9089b881"
   },
   "outputs": [
    {
     "data": {
      "text/plain": [
       "np.True_"
      ]
     },
<<<<<<< HEAD
     "execution_count": 26,
=======
     "execution_count": 24,
>>>>>>> local
     "metadata": {},
     "output_type": "execute_result"
    }
   ],
   "source": [
    "# Comprobamos si la función tiene el mismo signo en los extremos del intervalo\n",
    "np.sign(f(a)) != np.sign(f(b))"
   ]
  },
  {
   "cell_type": "markdown",
   "metadata": {
    "collapsed": true,
    "id": "7hS0Rn8dcp-g"
   },
   "source": [
    "Empecemos realizando ahora una búsqueda incremental con paso de una décima (`dx = 0.1`) y sigamos refinando la búsqueda con pasos correspondientes a una centésima (`dx = 0.01`), una milésima (`dx = 0.001`), etc. Otra idea útil sería tomar como aproximación de la raíz el punto medio de cada uno de los sucesivos intervalos en los que hayamos encajado la misma. Así tendremos asegurado que el error cometido será inferior a dicho valor del incremento `dx`."
   ]
  },
  {
   "cell_type": "code",
<<<<<<< HEAD
   "execution_count": 27,
=======
   "execution_count": 25,
>>>>>>> local
   "metadata": {
    "colab": {
     "base_uri": "https://localhost:8080/"
    },
    "executionInfo": {
     "elapsed": 14,
     "status": "ok",
     "timestamp": 1745347611802,
     "user": {
      "displayName": "juan_antonio VILLEGAS RECIO",
      "userId": "07002128450319972745"
     },
     "user_tz": -120
    },
    "id": "bCHwXZN5cp-g",
    "outputId": "fe80cc44-31b6-48b6-fd3f-5c69dc26a803"
   },
   "outputs": [
    {
     "name": "stdout",
     "output_type": "stream",
     "text": [
      "a1=0.9999999999999999,b1=1.0999999999999999\n",
      "Estimación de la raíz (dx=0.1): 1.0499999999999998\n"
     ]
    }
   ],
   "source": [
    "dx = 0.1\n",
    "a1,b1 = busqueda_incremental(f,a,b,dx) # búsqueda incremental con décimas\n",
    "print(f\"a1={a1},b1={b1}\")\n",
    "print (f\"Estimación de la raíz (dx={dx}): {(a1+b1)/2}\")"
   ]
  },
  {
   "cell_type": "code",
<<<<<<< HEAD
   "execution_count": 28,
=======
   "execution_count": 26,
>>>>>>> local
   "metadata": {
    "colab": {
     "base_uri": "https://localhost:8080/"
    },
    "executionInfo": {
     "elapsed": 23,
     "status": "ok",
     "timestamp": 1745347620926,
     "user": {
      "displayName": "juan_antonio VILLEGAS RECIO",
      "userId": "07002128450319972745"
     },
     "user_tz": -120
    },
    "id": "GHctZQB9cp-g",
    "outputId": "87b8240e-40b4-44e9-ae54-32f9b678eef0"
   },
   "outputs": [
    {
     "name": "stdout",
     "output_type": "stream",
     "text": [
      "a2=1.0899999999999999,b2=1.0999999999999999\n",
      "Estimación de la raíz (dx=0.01): 1.0949999999999998\n"
     ]
    }
   ],
   "source": [
    "dx = 0.01\n",
    "a2,b2 = busqueda_incremental(f,a1,b1,dx) # búsqueda incremental con centésimas\n",
    "print(f\"a2={a2},b2={b2}\")\n",
    "print (f\"Estimación de la raíz (dx={dx}): {(a2+b2)/2}\")"
   ]
  },
  {
   "cell_type": "code",
<<<<<<< HEAD
   "execution_count": 29,
=======
   "execution_count": 27,
>>>>>>> local
   "metadata": {
    "colab": {
     "base_uri": "https://localhost:8080/"
    },
    "executionInfo": {
     "elapsed": 6,
     "status": "ok",
     "timestamp": 1745347621974,
     "user": {
      "displayName": "juan_antonio VILLEGAS RECIO",
      "userId": "07002128450319972745"
     },
     "user_tz": -120
    },
    "id": "-ZV1ztxvcp-g",
    "outputId": "60f59d1c-4f7b-4190-adf5-e4a5bcb085b7"
   },
   "outputs": [
    {
     "name": "stdout",
     "output_type": "stream",
     "text": [
      "a3=1.097999999999999,b3=1.0989999999999989\n",
      "Estimación de la raíz (dx=0.001): 1.098499999999999\n"
     ]
    }
   ],
   "source": [
    "dx = 0.001\n",
    "a3,b3 = busqueda_incremental(f,a2,b2,dx) # búsqueda incremental con milésimas\n",
    "print(f\"a3={a3},b3={b3}\")\n",
    "print (f\"Estimación de la raíz (dx={dx}): {(a3+b3)/2}\")"
   ]
  },
  {
   "cell_type": "code",
<<<<<<< HEAD
   "execution_count": 30,
=======
   "execution_count": 28,
>>>>>>> local
   "metadata": {
    "colab": {
     "base_uri": "https://localhost:8080/"
    },
    "executionInfo": {
     "elapsed": 17,
     "status": "ok",
     "timestamp": 1745340520912,
     "user": {
      "displayName": "juan_antonio VILLEGAS RECIO",
      "userId": "07002128450319972745"
     },
     "user_tz": -120
    },
    "id": "FpBT33NKZnaN",
    "outputId": "502ec7e7-6e6c-4670-9987-ae83a3968b93"
   },
   "outputs": [
    {
     "name": "stdout",
     "output_type": "stream",
     "text": [
      "Valor exacto de la raíz 1.09861228866811\n"
     ]
    }
   ],
   "source": [
    "print(f\"Valor exacto de la raíz {sol_exact.evalf()}\")"
   ]
  },
  {
   "cell_type": "markdown",
   "metadata": {
    "id": "YdD6CJ3Jcp-h"
   },
   "source": [
    "También vamos a guardar dicho procedimiento en un fichero de Python `busqueda_incremental.py` en nuestro directorio de trabajo, por si queremos usarlo posteriormente en una sesión de Python desde la terminal o bien desde cualquier sistema integrado de desarrolo (IDE, de las siglas en inglés)."
   ]
  },
  {
   "cell_type": "code",
<<<<<<< HEAD
   "execution_count": 31,
=======
   "execution_count": 29,
>>>>>>> local
   "metadata": {
    "colab": {
     "base_uri": "https://localhost:8080/",
     "height": 35
    },
    "executionInfo": {
     "elapsed": 5,
     "status": "ok",
     "timestamp": 1745347644373,
     "user": {
      "displayName": "juan_antonio VILLEGAS RECIO",
      "userId": "07002128450319972745"
     },
     "user_tz": -120
    },
    "id": "m0nYeFElcp-h",
    "outputId": "56afdb61-63f1-4a07-9be2-0ba58bed1add"
   },
   "outputs": [
    {
     "data": {
      "text/plain": [
       "'/home/el_dramas/Desktop/Infomates/Tercer_Curso/Segundo_Cuatri/Metodos_Numericos_II/Practicas'"
      ]
     },
<<<<<<< HEAD
     "execution_count": 31,
=======
     "execution_count": 29,
>>>>>>> local
     "metadata": {},
     "output_type": "execute_result"
    }
   ],
   "source": [
    "%pwd # esta orden de IPython se traduciría en la correspondiente\n",
    "# del sistema operativo que nos muestra dicho directorio de trabajo"
   ]
  },
  {
   "cell_type": "code",
<<<<<<< HEAD
   "execution_count": 32,
=======
   "execution_count": 30,
>>>>>>> local
   "metadata": {
    "colab": {
     "base_uri": "https://localhost:8080/"
    },
    "executionInfo": {
     "elapsed": 19,
     "status": "ok",
     "timestamp": 1745347645475,
     "user": {
      "displayName": "juan_antonio VILLEGAS RECIO",
      "userId": "07002128450319972745"
     },
     "user_tz": -120
    },
    "id": "6Z02PfiDcp-h",
    "outputId": "4c49e567-0550-464e-9a5a-b0fc7c9cc900"
   },
   "outputs": [
    {
     "name": "stdout",
     "output_type": "stream",
     "text": [
<<<<<<< HEAD
      "Overwriting busqueda_incremental.py\n"
=======
      "Writing busqueda_incremental.py\n"
>>>>>>> local
     ]
    }
   ],
   "source": [
    "%%writefile busqueda_incremental.py\n",
    "# -*- coding: UTF-8 -*-\n",
    "## modulo busqueda_incremental\n",
    "'''\n",
    "x1,x2 = busqueda_incremental(f,a,b,dx)\n",
    "buscará dentro del intervalo [a,b] en incrementos de dx una acotación\n",
    "de la forma [x1,x2] de la raíz más pequeña de f(x) en dicho intervalo.\n",
    "Se devolverá x1 = x2 = None en caso de no encontrarse ninguna.\n",
    "'''\n",
    "# global f,a,b,dx\n",
    "\n",
    "def busqueda_incremental(f,a,b,dx):\n",
    "    x1, x2 = a, a + dx\n",
    "    f1, f2 = f(x1), f(x2)\n",
    "    while np.sign(f1) == np.sign(f2):\n",
    "        if x1 >= b:\n",
    "            return None,None   # se podría cambiar por x2 >= b\n",
    "        x1, x2 = x2, x2 + dx\n",
    "        f1, f2 = f2, f(x2)\n",
    "    else: # si no se cumple la condición del while\n",
    "        return x1,x2"
   ]
  },
  {
   "cell_type": "markdown",
   "metadata": {
    "id": "9uQhdoNOcp-h"
   },
   "source": [
    "Por otra parte, en todos y cada uno de los métodos que se presentan a continuación será absolutamente necesario evitar la posibilidad de entrar en un posible \"bucle infinito\", que dejaría bloqueado al programa e incluso al sistema operativo del ordenador en el caso de que no consigamos interrumpir los cálculos."
   ]
  },
  {
   "cell_type": "markdown",
   "metadata": {
    "id": "d-A1i34p8ZEU"
   },
   "source": [
    "### 2.4. Precisión y tolerancia 🎯"
   ]
  },
  {
   "cell_type": "markdown",
   "metadata": {
    "id": "M4PHYWNAcp-h"
   },
   "source": [
    "Tendremos pues que idear unos ciertos criterios de parada, de manera que el proceso se detenga cuando los resultados obtenidos se diferencien en menos de un cierto valor, que será la tolerancia o error máximo permitido, `tol`; o bien, cuando sean realizadas un número máximo de iteraciones, `nmax`, que indicaremos de antemano.\n",
    "\n",
    "Por otro lado, para la comprobación de una posible raíz exacta de la ecuación, se ha implementado una condición del tipo\n",
    "$|f(c)|<\\varepsilon$, siendo $\\varepsilon =10^{-\\sigma }$ con $\\sigma = 16$, que suele ser la precisión de la máquina cuando se trabaja en \"doble precisión\", que es lo habitual en cálculo numérico.\n",
    "\n",
    "Esto es debido a que, a no ser que se efectuaran todos los cálculos de forma simbólica (con la consecuente ralentización del proceso), siempre se realizan con una precisión limitada, y, por lo tanto, hay que considerar de esta manera la posibilidad de encontrar un valor de la raíz, afectado siempre por errores de redondeo, muy próximo a la raíz exacta de la ecuación."
   ]
  },
  {
   "cell_type": "code",
<<<<<<< HEAD
   "execution_count": 33,
=======
   "execution_count": 31,
>>>>>>> local
   "metadata": {
    "executionInfo": {
     "elapsed": 6,
     "status": "ok",
     "timestamp": 1745347651784,
     "user": {
      "displayName": "juan_antonio VILLEGAS RECIO",
      "userId": "07002128450319972745"
     },
     "user_tz": -120
    },
    "id": "x5Pell2xcp-i"
   },
   "outputs": [],
   "source": [
    "mp = 16                # Máxima precisión\n",
    "getcontext().prec = mp #https://docs.python.org/3/library/decimal.html"
   ]
  },
  {
   "cell_type": "code",
<<<<<<< HEAD
   "execution_count": 34,
=======
   "execution_count": 32,
>>>>>>> local
   "metadata": {
    "colab": {
     "base_uri": "https://localhost:8080/"
    },
    "executionInfo": {
     "elapsed": 7,
     "status": "ok",
     "timestamp": 1745347652513,
     "user": {
      "displayName": "juan_antonio VILLEGAS RECIO",
      "userId": "07002128450319972745"
     },
     "user_tz": -120
    },
    "id": "gPTjt44bcp-i",
    "outputId": "e18dca54-44fc-48e9-edcb-01dbc7a76d2e"
   },
   "outputs": [
    {
     "data": {
      "text/plain": [
       "1e-16"
      ]
     },
<<<<<<< HEAD
     "execution_count": 34,
=======
     "execution_count": 32,
>>>>>>> local
     "metadata": {},
     "output_type": "execute_result"
    }
   ],
   "source": [
    "prec = 10**(-mp)\n",
    "prec"
   ]
  },
  {
   "cell_type": "markdown",
   "metadata": {
    "id": "A9FAvFefcp-i"
   },
   "source": [
    "También se ofrece la posibilidad de solicitar que se calculen o simplemente se muestren todos los resultados con un número de cifras significativas determinado por el usuario, que en todo caso debe ser igual o inferior al valor de la  Precision de la Máquina con la que se trabaje."
   ]
  },
  {
   "cell_type": "code",
<<<<<<< HEAD
   "execution_count": 35,
=======
   "execution_count": 33,
>>>>>>> local
   "metadata": {
    "executionInfo": {
     "elapsed": 2,
     "status": "ok",
     "timestamp": 1745347687096,
     "user": {
      "displayName": "juan_antonio VILLEGAS RECIO",
      "userId": "07002128450319972745"
     },
     "user_tz": -120
    },
    "id": "OuWo6goycp-i"
   },
   "outputs": [],
   "source": [
    "cifras = 5  # Número de cifras con el que queremos calcular\n",
    "getcontext().prec = cifras # y presentar los resultados"
   ]
  },
  {
   "cell_type": "code",
<<<<<<< HEAD
   "execution_count": 36,
=======
   "execution_count": 34,
>>>>>>> local
   "metadata": {
    "colab": {
     "base_uri": "https://localhost:8080/"
    },
    "executionInfo": {
     "elapsed": 8,
     "status": "ok",
     "timestamp": 1745347694072,
     "user": {
      "displayName": "juan_antonio VILLEGAS RECIO",
      "userId": "07002128450319972745"
     },
     "user_tz": -120
    },
    "id": "Cwod2miwcp-i",
    "outputId": "8eb2c3f5-5dfd-4465-dee2-d66f38edbeea"
   },
   "outputs": [
    {
     "data": {
      "text/plain": [
       "1e-05"
      ]
     },
<<<<<<< HEAD
     "execution_count": 36,
=======
     "execution_count": 34,
>>>>>>> local
     "metadata": {},
     "output_type": "execute_result"
    }
   ],
   "source": [
    "tol = 10**(-cifras)     # Tolerancia\n",
    "tol"
   ]
  },
  {
   "cell_type": "code",
<<<<<<< HEAD
   "execution_count": 37,
=======
   "execution_count": 35,
>>>>>>> local
   "metadata": {
    "executionInfo": {
     "elapsed": 3,
     "status": "ok",
     "timestamp": 1745347694524,
     "user": {
      "displayName": "juan_antonio VILLEGAS RECIO",
      "userId": "07002128450319972745"
     },
     "user_tz": -120
    },
    "id": "WG34E43Bcp-i"
   },
   "outputs": [],
   "source": [
    "nmax = 100  # Número máximo de iteraciones"
   ]
  },
  {
   "cell_type": "markdown",
   "metadata": {
    "id": "mDpLS_7Xcp-i"
   },
   "source": [
    "## 3. Algoritmos de resolución numérica de ecuaciones más empleados 💻"
   ]
  },
  {
   "cell_type": "markdown",
   "metadata": {
    "id": "8kviXRZfcp-i"
   },
   "source": [
    "### 3.1. Método de Bisección 🙏"
   ]
  },
  {
   "cell_type": "markdown",
   "metadata": {
    "id": "a0yWUw4x7UIC"
   },
   "source": [
    "Método de bisección: https://es.wikipedia.org/wiki/M%C3%A9todo_de_bisecci%C3%B3n"
   ]
  },
  {
   "cell_type": "markdown",
   "metadata": {
    "id": "6kBqtjLpcp-k"
   },
   "source": [
    "A continuación tenemos la implementación del método de bisección (también llamado de bipartición). Recuerde que cuando se emplee este programa para aproximar una raíz de la ecuación $f(x)=0$ se debe elegir un intervalo de partida adecuado en cada caso, de manera que se verifiquen la hipótesis del teorema de Bolzano."
   ]
  },
  {
   "cell_type": "code",
<<<<<<< HEAD
   "execution_count": 38,
=======
   "execution_count": 36,
>>>>>>> local
   "metadata": {
    "colab": {
     "base_uri": "https://localhost:8080/"
    },
    "executionInfo": {
     "elapsed": 36,
     "status": "ok",
     "timestamp": 1745347879874,
     "user": {
      "displayName": "juan_antonio VILLEGAS RECIO",
      "userId": "07002128450319972745"
     },
     "user_tz": -120
    },
    "id": "M9abcSh_cp-k",
    "outputId": "74a90160-fcce-454c-c834-9d295857c718"
   },
   "outputs": [
    {
     "data": {
      "text/plain": [
       "(0, 2)"
      ]
     },
<<<<<<< HEAD
     "execution_count": 38,
=======
     "execution_count": 36,
>>>>>>> local
     "metadata": {},
     "output_type": "execute_result"
    }
   ],
   "source": [
    "# Conviene guardar una copia de los extremos del\n",
    "#  intervalo original, ya que los iremos modificando en cada iteración\n",
    "a0, b0 = a, b\n",
    "a,b"
   ]
  },
  {
   "cell_type": "markdown",
   "metadata": {
    "id": "NNtaDhJxcp-l"
   },
   "source": [
    "Ejecutemos en primer lugar el algoritmo usando la doble precisión habitual de la máquina en coma flotante (usando 64 bits para almacenar los números de la clase `float`), que equivale a trabajar con unas 16 cifras significativas para todos los cálculos."
   ]
  },
  {
   "cell_type": "markdown",
   "metadata": {
    "id": "_AzIK10v6f7p"
   },
   "source": [
    "Primero mostramos el **método de bisección**."
   ]
  },
  {
   "cell_type": "code",
<<<<<<< HEAD
   "execution_count": 39,
=======
   "execution_count": 37,
>>>>>>> local
   "metadata": {
    "executionInfo": {
     "elapsed": 1,
     "status": "ok",
     "timestamp": 1745347883051,
     "user": {
      "displayName": "juan_antonio VILLEGAS RECIO",
      "userId": "07002128450319972745"
     },
     "user_tz": -120
    },
    "id": "HGvDEWhocp-l"
   },
   "outputs": [],
   "source": [
    "def biseccion(f, a, b, nmax=nmax, tol=tol, prec=prec):\n",
    "    niter = 0\n",
    "    cont = True\n",
    "    exit = ''\n",
    "    while niter < nmax and cont:\n",
    "        niter += 1\n",
    "        c = (a+b)/2\n",
    "        if abs(f(c)) < prec:    # Si |f(c)|< prec\n",
    "            exit = 'precision'\n",
    "            cont = False\n",
    "        elif sign(f(a)) != sign(f(c)):\n",
    "            b = c\n",
    "        else:\n",
    "            a = c\n",
    "\n",
    "        if b-a < tol:\n",
    "            exit = 'tolerancia'\n",
    "            cont = False\n",
    "\n",
    "    if exit == 'precision':\n",
    "        print(f'Posiblemente solución exacta: {c}')\n",
    "    elif exit == 'tolerancia':\n",
    "        print(f'Aproximación solicitada: {c}')\n",
    "    else:\n",
    "        print('Se llegó al número máximo de iteraciones')\n",
    "    return c, niter, exit\n"
   ]
  },
  {
   "cell_type": "code",
<<<<<<< HEAD
   "execution_count": 40,
=======
   "execution_count": 38,
>>>>>>> local
   "metadata": {
    "colab": {
     "base_uri": "https://localhost:8080/"
    },
    "executionInfo": {
     "elapsed": 20,
     "status": "ok",
     "timestamp": 1745347883985,
     "user": {
      "displayName": "juan_antonio VILLEGAS RECIO",
      "userId": "07002128450319972745"
     },
     "user_tz": -120
    },
    "id": "eRYZP6Spfn-M",
    "outputId": "f5e5916d-51d9-423c-fce6-4e08cc27971e"
   },
   "outputs": [
    {
     "name": "stdout",
     "output_type": "stream",
     "text": [
      "Aproximación solicitada: 1.0986099243164062\n",
      "Solución exacta,  log(3) , con decimales   1.09861228866811\n",
      "Número total de iteraciones  18\n"
     ]
    }
   ],
   "source": [
    "sol_approx, niter, exit = biseccion(f,a,b,nmax,tol,prec)\n",
    "print('Solución exacta, ', sol_exact, \", con decimales  \", sol_exact.evalf() )\n",
    "print('Número total de iteraciones ', niter)"
   ]
  },
  {
   "cell_type": "code",
<<<<<<< HEAD
   "execution_count": 41,
=======
   "execution_count": 39,
>>>>>>> local
   "metadata": {
    "colab": {
     "base_uri": "https://localhost:8080/"
    },
    "executionInfo": {
     "elapsed": 46,
     "status": "ok",
     "timestamp": 1745347885317,
     "user": {
      "displayName": "juan_antonio VILLEGAS RECIO",
      "userId": "07002128450319972745"
     },
     "user_tz": -120
    },
    "id": "DUfE7F6Ecp-l",
    "outputId": "1530efa8-a0fb-4662-85ae-151c13a326d9"
   },
   "outputs": [
    {
     "data": {
      "text/plain": [
       "(1.0986, 1.0986099243164062, 1.09861228866811)"
      ]
     },
<<<<<<< HEAD
     "execution_count": 41,
=======
     "execution_count": 39,
>>>>>>> local
     "metadata": {},
     "output_type": "execute_result"
    }
   ],
   "source": [
    "sp.N(sol_approx, cifras), sol_approx, sp.N(sol_exact)"
   ]
  },
  {
   "cell_type": "markdown",
   "metadata": {
    "id": "-TXEUgd5cp-l"
   },
   "source": [
    "Repitamos ahora el mismo algoritmo, pero usando una precisión y número de cifras significativas concreto, indicado por el valor de la variable `cifras`. Para ello convirtamos previamente los valores extremos del intervalo al formato decimal determinado por la precisión que hemos forzado en este caso."
   ]
  },
  {
   "cell_type": "code",
<<<<<<< HEAD
   "execution_count": 42,
=======
   "execution_count": 40,
>>>>>>> local
   "metadata": {
    "executionInfo": {
     "elapsed": 15,
     "status": "ok",
     "timestamp": 1745347888840,
     "user": {
      "displayName": "juan_antonio VILLEGAS RECIO",
      "userId": "07002128450319972745"
     },
     "user_tz": -120
    },
    "id": "2Ye3t0bGcp-l"
   },
   "outputs": [],
   "source": [
    "a,b = Decimal(a),Decimal(b)"
   ]
  },
  {
   "cell_type": "code",
<<<<<<< HEAD
   "execution_count": 43,
=======
   "execution_count": 41,
>>>>>>> local
   "metadata": {
    "colab": {
     "base_uri": "https://localhost:8080/"
    },
    "executionInfo": {
     "elapsed": 19,
     "status": "ok",
     "timestamp": 1745347889925,
     "user": {
      "displayName": "juan_antonio VILLEGAS RECIO",
      "userId": "07002128450319972745"
     },
     "user_tz": -120
    },
    "id": "jAie7OGEcp-l",
    "outputId": "e9346b55-09b4-43be-d186-7f37afa5c409"
   },
   "outputs": [
    {
     "data": {
      "text/plain": [
       "(Decimal('0'), Decimal('2'))"
      ]
     },
<<<<<<< HEAD
     "execution_count": 43,
=======
     "execution_count": 41,
>>>>>>> local
     "metadata": {},
     "output_type": "execute_result"
    }
   ],
   "source": [
    "a,b"
   ]
  },
  {
   "cell_type": "code",
<<<<<<< HEAD
   "execution_count": 44,
=======
   "execution_count": 42,
>>>>>>> local
   "metadata": {
    "colab": {
     "base_uri": "https://localhost:8080/"
    },
    "executionInfo": {
     "elapsed": 12,
     "status": "ok",
     "timestamp": 1745347890983,
     "user": {
      "displayName": "juan_antonio VILLEGAS RECIO",
      "userId": "07002128450319972745"
     },
     "user_tz": -120
    },
    "id": "XtZHe2QWhi35",
    "outputId": "06a7d065-3092-4438-9d04-973aea67af69"
   },
   "outputs": [
    {
     "name": "stdout",
     "output_type": "stream",
     "text": [
      "Posiblemente solución exacta: 1.0986\n",
      "Solución exacta,  log(3) , con decimales   1.09861228866811\n",
      "Número total de iteraciones  11\n"
     ]
    }
   ],
   "source": [
    "getcontext().prec = cifras\n",
    "sol_approx, niter, exit = biseccion(f,a,b,nmax,tol,prec)\n",
    "print('Solución exacta, ', sol_exact, \", con decimales  \", sol_exact.evalf() )\n",
    "print('Número total de iteraciones ', niter)"
   ]
  },
  {
   "cell_type": "markdown",
   "metadata": {
    "id": "sPkRz--dcp-m"
   },
   "source": [
    "Vemos cómo, en efecto, se ha debido de  cumplir uno de los criterios de parada impuestos en un  número finito de iteraciones. Así pues,  el método ha sido capaz de calcular una aproximación de la raíz de la ecuación con algunas cifras decimales exactas;\n",
    "esto lo podemos concluir en este caso ya que una variación pequeña, que ha sido el error máximo cometido o tolerancia, podría\n",
    "cambiar como mucho  alguna de las últimas cifras decimales en una unidad y vemos que, en muchos de los casos, esto no afectaría por\n",
    "errores de redondeo a las otras."
   ]
  },
  {
   "cell_type": "markdown",
   "metadata": {
    "id": "jpQMavQPcp-m"
   },
   "source": [
    "### 3.2. Método de la secante ✂️"
   ]
  },
  {
   "cell_type": "markdown",
   "metadata": {
    "id": "ydg9KoAR7ZHn"
   },
   "source": [
    "https://es.wikipedia.org/wiki/M%C3%A9todo_de_la_secante"
   ]
  },
  {
   "cell_type": "markdown",
   "metadata": {
    "id": "bcfG0Ckucp-m"
   },
   "source": [
    "A continuación tenemos la implementación del método de la secante. Se construye iterativamente\n",
    "una sucesión de valores:\n",
    "$$x_{k+1}=x_k-\\frac{x_k-x_{k-1}}{f\\left(x_k\\right)-f\\left(x_{k-1}\\right)}f\\left(x_k\\right)\\\\\n",
    "=x_{k-1}-\\frac{x_k-x_{k-1}}{f\\left(x_k\\right)-f\\left(x_{k-1}\\right)}f\\left(x_{k-1}\\right)$$\n",
    "sin realizar la comprobación de cambio de signo.\n",
    "\n",
    "Ahora bien, lo mismo que ocurría al emplear el método de bisección en la sección anterior,\n",
    "debemos de idear algún criterio de parada cuando programamos cualquier método iterativo. Lo que haremos ahora, al no poder controlar de\n",
    "forma tan clara como en el método de bisección el error absoluto cometido,  es fijarnos en la diferencia entre dos iteraciones consecutivas,\n",
    "parando el proceso cuando ésta sea inferior a la tolerancia prefijada, **tol**; también fijaremos un número máximo de iteraciones\n",
    "a realizar, en caso de que dicha tolerancia sea dificil de alcanzar en un número de iteraciones razonable.\n",
    "\n",
    "> **Ejercicio 1.** Teniendo en cuenta la recomendación explicada sobre los criterios de parada, codifica una función similar a la explicada en el método de bisección para el método de la secante.\n",
    "> \n",
    "> Aproxima la raíz de la función $f(x)=e^x-3$:\n",
    "> * Cambiando la precisión a 5 cifras significativas.\n",
    "> * Con la precisión por defecto y aproximando la raíz con 28 cifras significativas."
   ]
  },
  {
   "cell_type": "markdown",
   "metadata": {
    "id": "3E4Uh5tjcp-n"
   },
   "source": [
    "### 3.3. Métodos de Whittaker y Newton-Raphson 🍎"
   ]
  },
  {
   "cell_type": "markdown",
   "metadata": {
    "id": "xixNj2l39MPU"
   },
   "source": [
    "https://www.ecured.cu/M%C3%A9todo_de_Whittaker"
   ]
  },
  {
   "cell_type": "markdown",
   "metadata": {
    "id": "7BDDAAWh8g3D"
   },
   "source": [
    "https://es.wikipedia.org/wiki/M%C3%A9todo_de_Newton"
   ]
  },
  {
   "cell_type": "markdown",
   "metadata": {
    "id": "URJmw5c1cp-n"
   },
   "source": [
    "Vamos a implementar en esta sección el llamado método de Whittaker que, a partir de un valor inicial $x_0$, utiliza en principio rectas\n",
    "con pendiente fijada para calcular el punto de corte de éstas con el eje $Ox$ para aproximar la raíz buscada. No obstante, empleando\n",
    "el programa resultante y permitiendo variar dichas pendientes, ajustándose a las de la propia función $f$, es decir, $m=f'\\left(x_k\\right)$, $k\\geq 0$, para que sean las de la recta tangente en\n",
    "el punto $\\left(x_k,f\\left(x_k\\right)\\right)$) obtendríamos el conocido método de  [Newton-Raphson](https://es.wikipedia.org/wiki/Método_de_Newton).\n",
    "\n",
    "También se verá que para que este método funcione correctamente será necesario que la derivada de la función no esté próxima a cero,\n",
    "al menos en cierto entorno de la raíz, ya que de lo contrario se podría producir una división entre cero o bien la creación\n",
    "de enormes errores de redondeo al dividir entre cantidades muy pequeñas."
   ]
  },
  {
   "cell_type": "markdown",
   "metadata": {
    "id": "1KfO6_Dqcp-n"
   },
   "source": [
    "Sigamos pues con el ejemplo que teníamos desde el principio de la práctica, e intentemos representar gráficamente todo este proceso, pero también vamos a necesitar evaluar la función derivada de la función de partida. Para ello también podemos aprovechar la potencia de cálculo simbólico de Python, a través del módulo SymPy, para ayudarnos a calcular la función derivada. No obstante, para poder realizar los cálculos y aproximaciones numéricas posteriores, convendrá definir ambas funciones, tanto la función $f$ como su derivada, empleando las versiones de NumPy de las correspondientes expresiones.  "
   ]
  },
  {
   "cell_type": "code",
<<<<<<< HEAD
   "execution_count": 45,
=======
   "execution_count": 43,
>>>>>>> local
   "metadata": {
    "executionInfo": {
     "elapsed": 44,
     "status": "ok",
     "timestamp": 1745347909250,
     "user": {
      "displayName": "juan_antonio VILLEGAS RECIO",
      "userId": "07002128450319972745"
     },
     "user_tz": -120
    },
    "id": "iG-tlkadoVFf"
   },
   "outputs": [],
   "source": [
    "f = fsym    # Ahora trabajaremos con la versión simbólica"
   ]
  },
  {
   "cell_type": "code",
<<<<<<< HEAD
   "execution_count": 46,
=======
   "execution_count": 44,
>>>>>>> local
   "metadata": {
    "colab": {
     "base_uri": "https://localhost:8080/"
    },
    "executionInfo": {
     "elapsed": 25,
     "status": "ok",
     "timestamp": 1745347909744,
     "user": {
      "displayName": "juan_antonio VILLEGAS RECIO",
      "userId": "07002128450319972745"
     },
     "user_tz": -120
    },
    "id": "JWqkiEAjcp-o",
    "outputId": "bfe02bb5-c8d2-44fa-cced-50a6027e3748"
   },
   "outputs": [
    {
     "data": {
      "text/plain": [
       "(exp(x) - 3, exp(x))"
      ]
     },
<<<<<<< HEAD
     "execution_count": 46,
=======
     "execution_count": 44,
>>>>>>> local
     "metadata": {},
     "output_type": "execute_result"
    }
   ],
   "source": [
    "f(x),sp.diff(f(x),x)    # derivada simbólica de f"
   ]
  },
  {
   "cell_type": "code",
<<<<<<< HEAD
   "execution_count": 47,
=======
   "execution_count": 45,
>>>>>>> local
   "metadata": {
    "executionInfo": {
     "elapsed": 3,
     "status": "ok",
     "timestamp": 1745347910472,
     "user": {
      "displayName": "juan_antonio VILLEGAS RECIO",
      "userId": "07002128450319972745"
     },
     "user_tz": -120
    },
    "id": "LUD-za4Wcp-o"
   },
   "outputs": [],
   "source": [
    "def df(x):##\n",
    "    ''' Función sp.exp(x)\n",
    "    Derivada simbólica de f en una función de python\n",
    "    '''\n",
    "    return sp.exp(x)"
   ]
  },
  {
   "cell_type": "markdown",
   "metadata": {
    "id": "PWXVtvfEuDSX"
   },
   "source": [
    "Le agradecemos a `sympy` su ayuda y volvemos a la versión numérica."
   ]
  },
  {
   "cell_type": "code",
<<<<<<< HEAD
   "execution_count": 48,
=======
   "execution_count": 46,
>>>>>>> local
   "metadata": {
    "executionInfo": {
     "elapsed": 4,
     "status": "ok",
     "timestamp": 1745347911688,
     "user": {
      "displayName": "juan_antonio VILLEGAS RECIO",
      "userId": "07002128450319972745"
     },
     "user_tz": -120
    },
    "id": "29NLsJfwuoBb"
   },
   "outputs": [],
   "source": [
    "f = fnum\n",
    "df = lambda x: np.exp(x)"
   ]
  },
  {
   "cell_type": "code",
<<<<<<< HEAD
   "execution_count": 49,
=======
   "execution_count": 47,
>>>>>>> local
   "metadata": {
    "executionInfo": {
     "elapsed": 32,
     "status": "ok",
     "timestamp": 1745347912173,
     "user": {
      "displayName": "juan_antonio VILLEGAS RECIO",
      "userId": "07002128450319972745"
     },
     "user_tz": -120
    },
    "id": "dH9uW0nsqBW7"
   },
   "outputs": [],
   "source": [
    "a,b = 0, 2"
   ]
  },
  {
   "cell_type": "code",
<<<<<<< HEAD
   "execution_count": 50,
=======
   "execution_count": 48,
>>>>>>> local
   "metadata": {
    "colab": {
     "base_uri": "https://localhost:8080/"
    },
    "executionInfo": {
     "elapsed": 21,
     "status": "ok",
     "timestamp": 1745347912903,
     "user": {
      "displayName": "juan_antonio VILLEGAS RECIO",
      "userId": "07002128450319972745"
     },
     "user_tz": -120
    },
    "id": "0r0bwrw1cp-o",
    "outputId": "8589a571-5a23-432c-babb-2032b7dce253"
   },
   "outputs": [
    {
     "data": {
      "text/plain": [
       "(np.float64(-2.0), np.float64(1.0))"
      ]
     },
<<<<<<< HEAD
     "execution_count": 50,
=======
     "execution_count": 48,
>>>>>>> local
     "metadata": {},
     "output_type": "execute_result"
    }
   ],
   "source": [
    "f(a),df(a)"
   ]
  },
  {
   "cell_type": "code",
<<<<<<< HEAD
   "execution_count": 51,
=======
   "execution_count": 49,
>>>>>>> local
   "metadata": {
    "executionInfo": {
     "elapsed": 5,
     "status": "ok",
     "timestamp": 1745347913710,
     "user": {
      "displayName": "juan_antonio VILLEGAS RECIO",
      "userId": "07002128450319972745"
     },
     "user_tz": -120
    },
    "id": "ucp6RZHncp-o"
   },
   "outputs": [
    {
     "data": {
      "text/plain": [
       "0"
      ]
     },
<<<<<<< HEAD
     "execution_count": 51,
=======
     "execution_count": 49,
>>>>>>> local
     "metadata": {},
     "output_type": "execute_result"
    }
   ],
   "source": [
    "x0 = a\n",
    "x0"
   ]
  },
  {
   "cell_type": "code",
<<<<<<< HEAD
   "execution_count": 52,
=======
   "execution_count": 50,
>>>>>>> local
   "metadata": {
    "colab": {
     "base_uri": "https://localhost:8080/"
    },
    "executionInfo": {
     "elapsed": 9,
     "status": "ok",
     "timestamp": 1745347915870,
     "user": {
      "displayName": "juan_antonio VILLEGAS RECIO",
      "userId": "07002128450319972745"
     },
     "user_tz": -120
    },
    "id": "BOobvPMIcp-p",
    "outputId": "71e3aa77-b33d-413f-d3e6-d1b8f291bf8a"
   },
   "outputs": [
    {
     "data": {
      "text/plain": [
       "np.float64(0.2)"
      ]
     },
<<<<<<< HEAD
     "execution_count": 52,
=======
     "execution_count": 50,
>>>>>>> local
     "metadata": {},
     "output_type": "execute_result"
    }
   ],
   "source": [
    "m = 10\n",
    "x1 = x0 - f(x0)/m\n",
    "x1"
   ]
  },
  {
   "cell_type": "code",
<<<<<<< HEAD
   "execution_count": 53,
=======
   "execution_count": 51,
>>>>>>> local
   "metadata": {
    "colab": {
     "base_uri": "https://localhost:8080/"
    },
    "executionInfo": {
     "elapsed": 21,
     "status": "ok",
     "timestamp": 1745347917794,
     "user": {
      "displayName": "juan_antonio VILLEGAS RECIO",
      "userId": "07002128450319972745"
     },
     "user_tz": -120
    },
    "id": "gEtWU_a-qvnF",
    "outputId": "91a9a6c4-d230-41cd-bd78-500c57ad6c04"
   },
   "outputs": [
    {
     "data": {
      "text/plain": [
       "np.False_"
      ]
     },
<<<<<<< HEAD
     "execution_count": 53,
=======
     "execution_count": 51,
>>>>>>> local
     "metadata": {},
     "output_type": "execute_result"
    }
   ],
   "source": [
    "abs(f(x1)) < prec"
   ]
  },
  {
   "cell_type": "code",
<<<<<<< HEAD
   "execution_count": 54,
=======
   "execution_count": 52,
>>>>>>> local
   "metadata": {
    "colab": {
     "base_uri": "https://localhost:8080/"
    },
    "executionInfo": {
     "elapsed": 38,
     "status": "ok",
     "timestamp": 1745347918710,
     "user": {
      "displayName": "juan_antonio VILLEGAS RECIO",
      "userId": "07002128450319972745"
     },
     "user_tz": -120
    },
    "id": "scFkZ6b_cp-p",
    "outputId": "8bc14a94-bf7a-434b-8152-176cd84e7f15"
   },
   "outputs": [
    {
     "data": {
      "text/plain": [
       "np.float64(0.37785972418398306)"
      ]
     },
<<<<<<< HEAD
     "execution_count": 54,
=======
     "execution_count": 52,
>>>>>>> local
     "metadata": {},
     "output_type": "execute_result"
    }
   ],
   "source": [
    "x0 = x1\n",
    "x1 = x0 - f(x0)/m\n",
    "x1"
   ]
  },
  {
   "cell_type": "code",
<<<<<<< HEAD
   "execution_count": 55,
=======
   "execution_count": 53,
>>>>>>> local
   "metadata": {
    "colab": {
     "base_uri": "https://localhost:8080/"
    },
    "executionInfo": {
     "elapsed": 7,
     "status": "ok",
     "timestamp": 1745347920262,
     "user": {
      "displayName": "juan_antonio VILLEGAS RECIO",
      "userId": "07002128450319972745"
     },
     "user_tz": -120
    },
    "id": "TFEql9ghcp-p",
    "outputId": "763082ea-859a-48f8-a67a-4334fe7d3d2d"
   },
   "outputs": [
    {
     "data": {
      "text/plain": [
       "np.False_"
      ]
     },
<<<<<<< HEAD
     "execution_count": 55,
=======
     "execution_count": 53,
>>>>>>> local
     "metadata": {},
     "output_type": "execute_result"
    }
   ],
   "source": [
    "abs(f(x1)) < prec"
   ]
  },
  {
   "cell_type": "markdown",
   "metadata": {
    "id": "7gImthchr7R_"
   },
   "source": [
    "Repitiendo el mismo proceso se llega iterativamente a construir una sucesión que, si se dan ciertas condiciones apropiadas, va a converger hacia la verdadera raíz de nuestra ecuación. Para ello habrá que elegir convenientemente tanto el valor de la pendiente $m$ como el del valor inicial $x_0$, ya que basta probar con ciertos valores para darnos cuenta cómo nos aproximamos más y más a la raíz, o por el contrario nos alejamos.\n",
    "\n",
    "> **Ejercicio 2.** Teniendo en cuenta estos primeros pasos, codifica una función para el método de Wittaker.\n",
    "> \n",
    "> Aproxima la raíz de la función $f(x)=e^x-3$:\n",
    "> * Cambiando la precisión a 5 cifras significativas.\n",
    "> * Con la precisión por defecto y aproximando la raíz con 28 cifras significativas.\n",
    "> \n",
    "> Comprueba que una mala elección de $m$ puede provocar que la sucesión no converja.\n",
    "\n",
    "> **Ejercicio 3.** Modifique el método anterior para que, en lugar de fijar una pendiente $m$, calcule en cada iteración la derivada de la función en dicho punto, obteniendo el método de Newton-Raphson. Con este método:\n",
    "> \n",
    "> Aproxima la raíz de la función $f(x)=e^x-3$:\n",
    "> * Cambiando la precisión a 5 cifras significativas.\n",
    "> * Con la precisión por defecto y aproximando la raíz con 28 cifras significativas.\n",
    "> \n",
    "> Compare, en iguales condiciones, el rendimiento de Newton-Raphson con respecto al método de Wittaker.\n",
    "\n",
    "\n",
    "**Ejercicios de esta primera parte**\n",
    "\n",
    "> **Ejercicio 4.** Demuestre que la ecuación  $x^3+4 x^2=10  $  tiene una única raíz en el intervalo $[1,2]$.  Aproxime dicha raíz con el método de bisección con al menos 3 cifras decimales exactas. ¿Cuántas iteraciones serán necesarias para conseguir 5 cifras decimales exactas (tol =$10^{-5}$)?  Aproxime también la raíz con el método de Newton-Raphson partiendo del extremo adecuado hasta que la diferencia en valor absoluto, entre dos aproximaciones consecutivas sea  inferior a  $10^{-3}$.\n",
    "\n",
    "\n",
    "> **Ejercicio 5.** Use el método de Newton-Raphson para aproximar las soluciones de las siguientes ecuaciones con tolerancia $10^{-5}$ , partiendo de un valor adecuado, próximo a cada una de ellas en cada caso.\n",
    "> \n",
    "> 1. $3x=2+x^2-e^x$.\n",
    "> \n",
    "> 2. $x^2+10 \\cos x+x=0$.\n",
    "\n",
    "\n",
    "> **Ejercicio 6.** Para la función  $ f(x)= 3 x^2+e^x-1$,\n",
    "> \n",
    "> i) encuentre, mediante el método de bisección una aproximación de la raíz en $[0,1]$ con, al menos, cuatro decimales exactos (tol =$10^{-4}$), y determine el número de iteraciones realizadas;\n",
    "> \n",
    "> ii) encuentre, mediante el método de Newton-Raphson, una aproximación de la raíz en $[0,1]$ con una tolerancia de $10^{-4}$, partiendo de $x_0=0$, y determine el número de iteraciones realizadas.  "
   ]
  },
  {
   "cell_type": "markdown",
   "metadata": {},
   "source": [
    "### 3.4. Métodos de iteración funcional:  métodos de Newton-Raphson y Steffensen 🔁"
   ]
  },
  {
   "cell_type": "markdown",
   "metadata": {},
   "source": [
    "En los métodos de iteración funcional lo que se pretende es encontrar un [punto fijo](https://es.wikipedia.org/wiki/Método_del_punto_fijo) de la aplicación  $g:I\\to I$ para\n",
    "cierto subconjunto cerrado de la recta real (no necesariamente acotado) mediante una sucesión de valores $x_{k+1}=g\\left(x_k\\right), k\\geq 0$. \n",
    "* Un ejemplo claro de esta metodología es el ya mencionado método de Newton-Raphson, donde buscamos los puntos fijos de la función $g(x)=x-\\frac{f(x)}{f'(x)}$, obteniéndose una convergencia al menos cuadrática.\n",
    "* Otro ejemplo es el método de Steffensen, en el que se tomaría $g(x)=x-\\frac{f(x)^2}{f(x+f(x))-f(x)}$.\n",
    "\n",
    "⚠️ **Nota:** No debe confundirse el método de Steffensen con el método de aceleración de la convergencia del mismo nombre, que se presentará más adelante."
   ]
  },
  {
   "cell_type": "code",
<<<<<<< HEAD
   "execution_count": 56,
=======
   "execution_count": 54,
>>>>>>> local
   "metadata": {},
   "outputs": [
    {
     "name": "stdout",
     "output_type": "stream",
     "text": [
      "Aproximación tras 100 iteraciones: 1.0986122886681096\n"
     ]
    }
   ],
   "source": [
    "# Implementación muy rudimentaria del método de Newton-Raphson\n",
    "\n",
    "# Funcion f y f'\n",
    "f  = lambda x : np.exp(x) - 3\n",
    "df = lambda x : np.exp(x)\n",
    "\n",
    "# Función g de iteración de Newton-Raphson\n",
    "gNR = lambda x : x - f(x)/df(x)\n",
    "\n",
    "x0  = 0     # Condición inicial\n",
    "nmax = 100  # Número máximo de iteraciones\n",
    "\n",
    "# Iteración funcional\n",
    "xk_seq = [x0]\n",
    "for k in range(nmax):\n",
    "    xk_seq.append(gNR(xk_seq[-1])) # Añadimos a la lista el resultado de aplicar g al último elemento\n",
    "\n",
    "aproxNR = xk_seq[-1] # Aceptamos como aproximación el último valor calculado\n",
    "\n",
    "print(f\"Aproximación tras {nmax} iteraciones: {aproxNR}\")"
   ]
  },
  {
   "cell_type": "markdown",
   "metadata": {},
   "source": [
    "> **Ejercicio 7.** Implemente el método de iteración funcional de Steffensen para una función $f$. En particular, para la función $f(x)=e^x-3$:\n",
    "> * Represente gráficamente las funciones $g$ definidas tanto para el método de Newton-Raphson como para el método de Steffensen, comprobando que ambas poseen un punto fijo en la raíz de $f$.\n",
    "> * Aproxima su única raíz utilizando el método de Steffensen:\n",
    ">     * Cambiando la precisión a 5 cifras significativas.\n",
    ">     * Con la precisión por defecto y aproximando la raíz con 28 cifras significativas."
   ]
  },
  {
   "cell_type": "markdown",
   "metadata": {},
   "source": [
    "### 3.5 Aceleración de la convergencia: métodos de Aitken y Steffensen 🚀"
   ]
  },
  {
   "cell_type": "markdown",
   "metadata": {},
   "source": [
    "https://es.wikipedia.org/wiki/Proceso_%CE%94%C2%B2_de_Aitken"
   ]
  },
  {
   "cell_type": "markdown",
   "metadata": {},
   "source": [
    "En el conocido método de Aitken se calcula una nueva sucesión de valores, $\\left\\{\\hat{x_k}\\right\\}$, a partir de la original, $\\left\\{x_k\\right\\}$, mediante la fórmula siguiente:\n",
    "$$\\hat{x_k}=x_k-\\frac{\\left(x_{k+1}-x_k\\right){}^2}{x_{k+2}-2x_{k+1}+x_k}$$\n",
    "\n",
    "Veamos un ejemplo de aplicación de este método de aceleración, utilizando las iteraciones obtenidas previamente mediante el método\n",
    " equivalente al de Newton-Raphson."
   ]
  },
  {
   "cell_type": "code",
<<<<<<< HEAD
   "execution_count": 57,
=======
   "execution_count": 55,
>>>>>>> local
   "metadata": {},
   "outputs": [
    {
     "name": "stdout",
     "output_type": "stream",
     "text": [
      "Solución exacta: 1.09861228866811\n",
      "Aproximación con 6 iteraciones de Newton-Raphson: 1.0986126945317205\n",
      "Error: 4.05863610810305E-7\n"
     ]
    }
   ],
   "source": [
    "n = 6\n",
    "xk_seq = xk_seq[:n]\n",
    "aproxNR = xk_seq[-1]\n",
    "\n",
    "print(f\"Solución exacta: {sol_exact.evalf()}\")\n",
    "print(f\"Aproximación con {n} iteraciones de Newton-Raphson: {aproxNR}\")\n",
    "print(f\"Error: {(aproxNR-sol_exact).evalf()}\")"
   ]
  },
  {
   "cell_type": "code",
<<<<<<< HEAD
   "execution_count": 58,
=======
   "execution_count": 56,
>>>>>>> local
   "metadata": {},
   "outputs": [
    {
     "name": "stdout",
     "output_type": "stream",
     "text": [
      "Solución exacta: log(3)\n",
      "Aproximación con 6 iteraciones de Newton-Raphson: 1.0986126945317205\n",
      "Modificación mediante el método de aceleración de Aitken: 1.0985928854455327\n",
      "Error (NR): 4.05863610810305E-7\n",
      "Error (Aitken): -0.0000194032225770061\n"
     ]
    }
   ],
   "source": [
    "hat_xk_seq = []\n",
    "for k in range(n-2):\n",
    "    xk, xk1, xk2 = xk_seq[k], xk_seq[k+1], xk_seq[k+2]\n",
    "    hat_xk = xk - (xk1-xk)**2 / (xk2-2*xk1+xk)\n",
    "    hat_xk_seq.append(hat_xk)\n",
    "\n",
    "aprox_acel_aitken = hat_xk_seq[-1]\n",
    "print(f\"Solución exacta: {sol_exact}\")\n",
    "print(f\"Aproximación con {n} iteraciones de Newton-Raphson: {aproxNR}\")\n",
    "print(f\"Modificación mediante el método de aceleración de Aitken: {aprox_acel_aitken}\")\n",
    "print(f\"Error (NR): {(aproxNR-sol_exact).evalf()}\")\n",
    "print(f\"Error (Aitken): {(aprox_acel_aitken-sol_exact).evalf()}\")"
   ]
  },
  {
   "cell_type": "markdown",
   "metadata": {},
   "source": [
    "Recordemos que estos métodos de aceleración de la convergencia están especialmente indicados para mejorar las iteraciones obtenidas por un método con convergencia lineal, en contra del caso del método de Newton-Raphson para raíces simples, que sabemos que tiene convergencia cuadrática."
   ]
  },
  {
   "cell_type": "markdown",
   "metadata": {},
   "source": [
    "En cuanto al método de aceleración de Steffensen, recuerde que se obtiene una nueva sucesión de valores, de tres en tres $\\left\\{\\hat{x_0}{}^{(k)},\\hat{x_1}{}^{(k)},\\hat{x_2}{}^{(k)}\\right\\}$,\n",
    "a partir de los tres primeros de la original, $\\left\\{x_0,x_1,x_2\\right\\}$, de la siguiente manera:\n",
    "$$\n",
    "\\hat{x_0}{}^{(k+1)}=\\hat{x_0}{}^{(k)}-\\frac{\\left(\\hat{x_1}{}^{(k)}-\\hat{x_0}{}^{(k)}\\right){}^2}{\\hat{x_2}{}^{(k)}-2\\hat{x_1}{}^{(k)}+\\hat{x_0}{}^{(k)}}\n",
    "$$,\n",
    "\n",
    "$\\hat{x_1}{}^{(k)}=g\\left(\\hat{x_0}{}^{(k)}\\right)$,  $\\hat{x_2}{}^{(k)}=g\\left(\\hat{x_1}{}^{(k)}\\right)$, \n",
    "\n",
    "siendo  $\\left\\{\\hat{x_0}{}^{(0)},\\hat{x_1}{}^{(0)},\\hat{x_2}{}^{(0)}\\right\\}=\\left\\{x_0,g\\left(x_0\\right),g\\left(x_1\\right)\\text{}\\right\\}$.\n"
   ]
  },
  {
   "cell_type": "markdown",
   "metadata": {},
   "source": [
    "> **Ejercicio 8.** Implemente el método de aceleración de la convergencia de Steffensen y aplíquelo a una sucesión de valores obtenidos mediante iteración funcional de Newton-Raphson a la función $f(x) = e^x -3$. Compare las aproximaciones tras 4 iteraciones del método de Newton-Raphson, aceleración de la convergencia de Aitken y aceleración de la convergencia de Steffensen."
   ]
  },
  {
   "cell_type": "markdown",
   "metadata": {},
   "source": [
    "## 4. Órdenes directas de Python 🐍"
   ]
  },
  {
   "cell_type": "markdown",
   "metadata": {},
   "source": [
    "### 4.1. Resolución de ecuaciones en general 🔧"
   ]
  },
  {
   "cell_type": "markdown",
   "metadata": {},
   "source": [
    "Aparte de todo esto *Python* también incorpora varias funciones y órdenes directas, o incluidas en alguno de los módulos más habituales, para aproximar los ceros de una función, ya sea de manera simbólica o bien mediante algoritmos de tipo bisección o Newton-Raphson, sin necesidad de acudir al código ya implementado anteriormente."
   ]
  },
  {
   "cell_type": "markdown",
   "metadata": {},
   "source": [
    "#### Opción 1: Búsqueda de soluciones exactas con el submódulo [`solvers`](https://docs.sympy.org/latest/modules/solvers/solvers.html) de `sympy`. \n",
    "\n",
    "[Documentación de ejemplos y métodos de resolución de ecuaciones con Sympy](https://docs.sympy.org/latest/guides/solving/index.html)\n",
    "\n",
    "En este módulo encontramos órdenes para buscar raíces exactas de ciertos tipos de ecuaciones. Entre ellas descatamos  [`solve`](https://docs.sympy.org/latest/modules/solvers/solvers.html#sympy.solvers.solvers.solve) y su variante [`solveset`](https://docs.sympy.org/latest/modules/solvers/solveset.html).\n",
    "\n",
    "También necesitamos definir las variables simbólicas que necesitemos (aunque en este caso ya estaba definida)."
   ]
  },
  {
   "cell_type": "code",
<<<<<<< HEAD
   "execution_count": 59,
=======
   "execution_count": 57,
>>>>>>> local
   "metadata": {},
   "outputs": [],
   "source": [
    "x = sp.Symbol('x')"
   ]
  },
  {
   "cell_type": "code",
<<<<<<< HEAD
   "execution_count": 60,
=======
   "execution_count": 58,
>>>>>>> local
   "metadata": {},
   "outputs": [
    {
     "name": "stdout",
     "output_type": "stream",
     "text": [
      "\u001b[31mSignature:\u001b[39m sp.solve(f, *symbols, **flags)\n",
      "\u001b[31mDocstring:\u001b[39m\n",
      "Algebraically solves equations and systems of equations.\n",
      "\n",
      "Explanation\n",
      "===========\n",
      "\n",
      "Currently supported:\n",
      "    - polynomial\n",
      "    - transcendental\n",
      "    - piecewise combinations of the above\n",
      "    - systems of linear and polynomial equations\n",
      "    - systems containing relational expressions\n",
      "    - systems implied by undetermined coefficients\n",
      "\n",
      "Examples\n",
      "========\n",
      "\n",
      "The default output varies according to the input and might\n",
      "be a list (possibly empty), a dictionary, a list of\n",
      "dictionaries or tuples, or an expression involving relationals.\n",
      "For specifics regarding different forms of output that may appear, see :ref:`solve_output`.\n",
      "Let it suffice here to say that to obtain a uniform output from\n",
      "`solve` use ``dict=True`` or ``set=True`` (see below).\n",
      "\n",
      "    >>> from sympy import solve, Poly, Eq, Matrix, Symbol\n",
      "    >>> from sympy.abc import x, y, z, a, b\n",
      "\n",
      "The expressions that are passed can be Expr, Equality, or Poly\n",
      "classes (or lists of the same); a Matrix is considered to be a\n",
      "list of all the elements of the matrix:\n",
      "\n",
      "    >>> solve(x - 3, x)\n",
      "    [3]\n",
      "    >>> solve(Eq(x, 3), x)\n",
      "    [3]\n",
      "    >>> solve(Poly(x - 3), x)\n",
      "    [3]\n",
      "    >>> solve(Matrix([[x, x + y]]), x, y) == solve([x, x + y], x, y)\n",
      "    True\n",
      "\n",
      "If no symbols are indicated to be of interest and the equation is\n",
      "univariate, a list of values is returned; otherwise, the keys in\n",
      "a dictionary will indicate which (of all the variables used in\n",
      "the expression(s)) variables and solutions were found:\n",
      "\n",
      "    >>> solve(x**2 - 4)\n",
      "    [-2, 2]\n",
      "    >>> solve((x - a)*(y - b))\n",
      "    [{a: x}, {b: y}]\n",
      "    >>> solve([x - 3, y - 1])\n",
      "    {x: 3, y: 1}\n",
      "    >>> solve([x - 3, y**2 - 1])\n",
      "    [{x: 3, y: -1}, {x: 3, y: 1}]\n",
      "\n",
      "If you pass symbols for which solutions are sought, the output will vary\n",
      "depending on the number of symbols you passed, whether you are passing\n",
      "a list of expressions or not, and whether a linear system was solved.\n",
      "Uniform output is attained by using ``dict=True`` or ``set=True``.\n",
      "\n",
      "    >>> #### *** feel free to skip to the stars below *** ####\n",
      "    >>> from sympy import TableForm\n",
      "    >>> h = [None, ';|;'.join(['e', 's', 'solve(e, s)', 'solve(e, s, dict=True)',\n",
      "    ... 'solve(e, s, set=True)']).split(';')]\n",
      "    >>> t = []\n",
      "    >>> for e, s in [\n",
      "    ...         (x - y, y),\n",
      "    ...         (x - y, [x, y]),\n",
      "    ...         (x**2 - y, [x, y]),\n",
      "    ...         ([x - 3, y -1], [x, y]),\n",
      "    ...         ]:\n",
      "    ...     how = [{}, dict(dict=True), dict(set=True)]\n",
      "    ...     res = [solve(e, s, **f) for f in how]\n",
      "    ...     t.append([e, '|', s, '|'] + [res[0], '|', res[1], '|', res[2]])\n",
      "    ...\n",
      "    >>> # ******************************************************* #\n",
      "    >>> TableForm(t, headings=h, alignments=\"<\")\n",
      "    e              | s      | solve(e, s)  | solve(e, s, dict=True) | solve(e, s, set=True)\n",
      "    ---------------------------------------------------------------------------------------\n",
      "    x - y          | y      | [x]          | [{y: x}]               | ([y], {(x,)})\n",
      "    x - y          | [x, y] | [(y, y)]     | [{x: y}]               | ([x, y], {(y, y)})\n",
      "    x**2 - y       | [x, y] | [(x, x**2)]  | [{y: x**2}]            | ([x, y], {(x, x**2)})\n",
      "    [x - 3, y - 1] | [x, y] | {x: 3, y: 1} | [{x: 3, y: 1}]         | ([x, y], {(3, 1)})\n",
      "\n",
      "    * If any equation does not depend on the symbol(s) given, it will be\n",
      "      eliminated from the equation set and an answer may be given\n",
      "      implicitly in terms of variables that were not of interest:\n",
      "\n",
      "        >>> solve([x - y, y - 3], x)\n",
      "        {x: y}\n",
      "\n",
      "When you pass all but one of the free symbols, an attempt\n",
      "is made to find a single solution based on the method of\n",
      "undetermined coefficients. If it succeeds, a dictionary of values\n",
      "is returned. If you want an algebraic solutions for one\n",
      "or more of the symbols, pass the expression to be solved in a list:\n",
      "\n",
      "    >>> e = a*x + b - 2*x - 3\n",
      "    >>> solve(e, [a, b])\n",
      "    {a: 2, b: 3}\n",
      "    >>> solve([e], [a, b])\n",
      "    {a: -b/x + (2*x + 3)/x}\n",
      "\n",
      "When there is no solution for any given symbol which will make all\n",
      "expressions zero, the empty list is returned (or an empty set in\n",
      "the tuple when ``set=True``):\n",
      "\n",
      "    >>> from sympy import sqrt\n",
      "    >>> solve(3, x)\n",
      "    []\n",
      "    >>> solve(x - 3, y)\n",
      "    []\n",
      "    >>> solve(sqrt(x) + 1, x, set=True)\n",
      "    ([x], set())\n",
      "\n",
      "When an object other than a Symbol is given as a symbol, it is\n",
      "isolated algebraically and an implicit solution may be obtained.\n",
      "This is mostly provided as a convenience to save you from replacing\n",
      "the object with a Symbol and solving for that Symbol. It will only\n",
      "work if the specified object can be replaced with a Symbol using the\n",
      "subs method:\n",
      "\n",
      "    >>> from sympy import exp, Function\n",
      "    >>> f = Function('f')\n",
      "\n",
      "    >>> solve(f(x) - x, f(x))\n",
      "    [x]\n",
      "    >>> solve(f(x).diff(x) - f(x) - x, f(x).diff(x))\n",
      "    [x + f(x)]\n",
      "    >>> solve(f(x).diff(x) - f(x) - x, f(x))\n",
      "    [-x + Derivative(f(x), x)]\n",
      "    >>> solve(x + exp(x)**2, exp(x), set=True)\n",
      "    ([exp(x)], {(-sqrt(-x),), (sqrt(-x),)})\n",
      "\n",
      "    >>> from sympy import Indexed, IndexedBase, Tuple\n",
      "    >>> A = IndexedBase('A')\n",
      "    >>> eqs = Tuple(A[1] + A[2] - 3, A[1] - A[2] + 1)\n",
      "    >>> solve(eqs, eqs.atoms(Indexed))\n",
      "    {A[1]: 1, A[2]: 2}\n",
      "\n",
      "    * To solve for a function within a derivative, use :func:`~.dsolve`.\n",
      "\n",
      "To solve for a symbol implicitly, use implicit=True:\n",
      "\n",
      "    >>> solve(x + exp(x), x)\n",
      "    [-LambertW(1)]\n",
      "    >>> solve(x + exp(x), x, implicit=True)\n",
      "    [-exp(x)]\n",
      "\n",
      "It is possible to solve for anything in an expression that can be\n",
      "replaced with a symbol using :obj:`~sympy.core.basic.Basic.subs`:\n",
      "\n",
      "    >>> solve(x + 2 + sqrt(3), x + 2)\n",
      "    [-sqrt(3)]\n",
      "    >>> solve((x + 2 + sqrt(3), x + 4 + y), y, x + 2)\n",
      "    {y: -2 + sqrt(3), x + 2: -sqrt(3)}\n",
      "\n",
      "    * Nothing heroic is done in this implicit solving so you may end up\n",
      "      with a symbol still in the solution:\n",
      "\n",
      "        >>> eqs = (x*y + 3*y + sqrt(3), x + 4 + y)\n",
      "        >>> solve(eqs, y, x + 2)\n",
      "        {y: -sqrt(3)/(x + 3), x + 2: -2*x/(x + 3) - 6/(x + 3) + sqrt(3)/(x + 3)}\n",
      "        >>> solve(eqs, y*x, x)\n",
      "        {x: -y - 4, x*y: -3*y - sqrt(3)}\n",
      "\n",
      "    * If you attempt to solve for a number, remember that the number\n",
      "      you have obtained does not necessarily mean that the value is\n",
      "      equivalent to the expression obtained:\n",
      "\n",
      "        >>> solve(sqrt(2) - 1, 1)\n",
      "        [sqrt(2)]\n",
      "        >>> solve(x - y + 1, 1)  # /!\\ -1 is targeted, too\n",
      "        [x/(y - 1)]\n",
      "        >>> [_.subs(z, -1) for _ in solve((x - y + 1).subs(-1, z), 1)]\n",
      "        [-x + y]\n",
      "\n",
      "**Additional Examples**\n",
      "\n",
      "``solve()`` with check=True (default) will run through the symbol tags to\n",
      "eliminate unwanted solutions. If no assumptions are included, all possible\n",
      "solutions will be returned:\n",
      "\n",
      "    >>> x = Symbol(\"x\")\n",
      "    >>> solve(x**2 - 1)\n",
      "    [-1, 1]\n",
      "\n",
      "By setting the ``positive`` flag, only one solution will be returned:\n",
      "\n",
      "    >>> pos = Symbol(\"pos\", positive=True)\n",
      "    >>> solve(pos**2 - 1)\n",
      "    [1]\n",
      "\n",
      "When the solutions are checked, those that make any denominator zero\n",
      "are automatically excluded. If you do not want to exclude such solutions,\n",
      "then use the check=False option:\n",
      "\n",
      "    >>> from sympy import sin, limit\n",
      "    >>> solve(sin(x)/x)  # 0 is excluded\n",
      "    [pi]\n",
      "\n",
      "If ``check=False``, then a solution to the numerator being zero is found\n",
      "but the value of $x = 0$ is a spurious solution since $\\sin(x)/x$ has the well\n",
      "known limit (without discontinuity) of 1 at $x = 0$:\n",
      "\n",
      "    >>> solve(sin(x)/x, check=False)\n",
      "    [0, pi]\n",
      "\n",
      "In the following case, however, the limit exists and is equal to the\n",
      "value of $x = 0$ that is excluded when check=True:\n",
      "\n",
      "    >>> eq = x**2*(1/x - z**2/x)\n",
      "    >>> solve(eq, x)\n",
      "    []\n",
      "    >>> solve(eq, x, check=False)\n",
      "    [0]\n",
      "    >>> limit(eq, x, 0, '-')\n",
      "    0\n",
      "    >>> limit(eq, x, 0, '+')\n",
      "    0\n",
      "\n",
      "**Solving Relationships**\n",
      "\n",
      "When one or more expressions passed to ``solve`` is a relational,\n",
      "a relational result is returned (and the ``dict`` and ``set`` flags\n",
      "are ignored):\n",
      "\n",
      "    >>> solve(x < 3)\n",
      "    (-oo < x) & (x < 3)\n",
      "    >>> solve([x < 3, x**2 > 4], x)\n",
      "    ((-oo < x) & (x < -2)) | ((2 < x) & (x < 3))\n",
      "    >>> solve([x + y - 3, x > 3], x)\n",
      "    (3 < x) & (x < oo) & Eq(x, 3 - y)\n",
      "\n",
      "Although checking of assumptions on symbols in relationals\n",
      "is not done, setting assumptions will affect how certain\n",
      "relationals might automatically simplify:\n",
      "\n",
      "    >>> solve(x**2 > 4)\n",
      "    ((-oo < x) & (x < -2)) | ((2 < x) & (x < oo))\n",
      "\n",
      "    >>> r = Symbol('r', real=True)\n",
      "    >>> solve(r**2 > 4)\n",
      "    (2 < r) | (r < -2)\n",
      "\n",
      "There is currently no algorithm in SymPy that allows you to use\n",
      "relationships to resolve more than one variable. So the following\n",
      "does not determine that ``q < 0`` (and trying to solve for ``r``\n",
      "and ``q`` will raise an error):\n",
      "\n",
      "    >>> from sympy import symbols\n",
      "    >>> r, q = symbols('r, q', real=True)\n",
      "    >>> solve([r + q - 3, r > 3], r)\n",
      "    (3 < r) & Eq(r, 3 - q)\n",
      "\n",
      "You can directly call the routine that ``solve`` calls\n",
      "when it encounters a relational: :func:`~.reduce_inequalities`.\n",
      "It treats Expr like Equality.\n",
      "\n",
      "    >>> from sympy import reduce_inequalities\n",
      "    >>> reduce_inequalities([x**2 - 4])\n",
      "    Eq(x, -2) | Eq(x, 2)\n",
      "\n",
      "If each relationship contains only one symbol of interest,\n",
      "the expressions can be processed for multiple symbols:\n",
      "\n",
      "    >>> reduce_inequalities([0 <= x  - 1, y < 3], [x, y])\n",
      "    (-oo < y) & (1 <= x) & (x < oo) & (y < 3)\n",
      "\n",
      "But an error is raised if any relationship has more than one\n",
      "symbol of interest:\n",
      "\n",
      "    >>> reduce_inequalities([0 <= x*y  - 1, y < 3], [x, y])\n",
      "    Traceback (most recent call last):\n",
      "    ...\n",
      "    NotImplementedError:\n",
      "    inequality has more than one symbol of interest.\n",
      "\n",
      "**Disabling High-Order Explicit Solutions**\n",
      "\n",
      "When solving polynomial expressions, you might not want explicit solutions\n",
      "(which can be quite long). If the expression is univariate, ``CRootOf``\n",
      "instances will be returned instead:\n",
      "\n",
      "    >>> solve(x**3 - x + 1)\n",
      "    [-1/((-1/2 - sqrt(3)*I/2)*(3*sqrt(69)/2 + 27/2)**(1/3)) -\n",
      "    (-1/2 - sqrt(3)*I/2)*(3*sqrt(69)/2 + 27/2)**(1/3)/3,\n",
      "    -(-1/2 + sqrt(3)*I/2)*(3*sqrt(69)/2 + 27/2)**(1/3)/3 -\n",
      "    1/((-1/2 + sqrt(3)*I/2)*(3*sqrt(69)/2 + 27/2)**(1/3)),\n",
      "    -(3*sqrt(69)/2 + 27/2)**(1/3)/3 -\n",
      "    1/(3*sqrt(69)/2 + 27/2)**(1/3)]\n",
      "    >>> solve(x**3 - x + 1, cubics=False)\n",
      "    [CRootOf(x**3 - x + 1, 0),\n",
      "     CRootOf(x**3 - x + 1, 1),\n",
      "     CRootOf(x**3 - x + 1, 2)]\n",
      "\n",
      "If the expression is multivariate, no solution might be returned:\n",
      "\n",
      "    >>> solve(x**3 - x + a, x, cubics=False)\n",
      "    []\n",
      "\n",
      "Sometimes solutions will be obtained even when a flag is False because the\n",
      "expression could be factored. In the following example, the equation can\n",
      "be factored as the product of a linear and a quadratic factor so explicit\n",
      "solutions (which did not require solving a cubic expression) are obtained:\n",
      "\n",
      "    >>> eq = x**3 + 3*x**2 + x - 1\n",
      "    >>> solve(eq, cubics=False)\n",
      "    [-1, -1 + sqrt(2), -sqrt(2) - 1]\n",
      "\n",
      "**Solving Equations Involving Radicals**\n",
      "\n",
      "Because of SymPy's use of the principle root, some solutions\n",
      "to radical equations will be missed unless check=False:\n",
      "\n",
      "    >>> from sympy import root\n",
      "    >>> eq = root(x**3 - 3*x**2, 3) + 1 - x\n",
      "    >>> solve(eq)\n",
      "    []\n",
      "    >>> solve(eq, check=False)\n",
      "    [1/3]\n",
      "\n",
      "In the above example, there is only a single solution to the\n",
      "equation. Other expressions will yield spurious roots which\n",
      "must be checked manually; roots which give a negative argument\n",
      "to odd-powered radicals will also need special checking:\n",
      "\n",
      "    >>> from sympy import real_root, S\n",
      "    >>> eq = root(x, 3) - root(x, 5) + S(1)/7\n",
      "    >>> solve(eq)  # this gives 2 solutions but misses a 3rd\n",
      "    [CRootOf(7*x**5 - 7*x**3 + 1, 1)**15,\n",
      "    CRootOf(7*x**5 - 7*x**3 + 1, 2)**15]\n",
      "    >>> sol = solve(eq, check=False)\n",
      "    >>> [abs(eq.subs(x,i).n(2)) for i in sol]\n",
      "    [0.48, 0.e-110, 0.e-110, 0.052, 0.052]\n",
      "\n",
      "The first solution is negative so ``real_root`` must be used to see that it\n",
      "satisfies the expression:\n",
      "\n",
      "    >>> abs(real_root(eq.subs(x, sol[0])).n(2))\n",
      "    0.e-110\n",
      "\n",
      "If the roots of the equation are not real then more care will be\n",
      "necessary to find the roots, especially for higher order equations.\n",
      "Consider the following expression:\n",
      "\n",
      "    >>> expr = root(x, 3) - root(x, 5)\n",
      "\n",
      "We will construct a known value for this expression at x = 3 by selecting\n",
      "the 1-th root for each radical:\n",
      "\n",
      "    >>> expr1 = root(x, 3, 1) - root(x, 5, 1)\n",
      "    >>> v = expr1.subs(x, -3)\n",
      "\n",
      "The ``solve`` function is unable to find any exact roots to this equation:\n",
      "\n",
      "    >>> eq = Eq(expr, v); eq1 = Eq(expr1, v)\n",
      "    >>> solve(eq, check=False), solve(eq1, check=False)\n",
      "    ([], [])\n",
      "\n",
      "The function ``unrad``, however, can be used to get a form of the equation\n",
      "for which numerical roots can be found:\n",
      "\n",
      "    >>> from sympy.solvers.solvers import unrad\n",
      "    >>> from sympy import nroots\n",
      "    >>> e, (p, cov) = unrad(eq)\n",
      "    >>> pvals = nroots(e)\n",
      "    >>> inversion = solve(cov, x)[0]\n",
      "    >>> xvals = [inversion.subs(p, i) for i in pvals]\n",
      "\n",
      "Although ``eq`` or ``eq1`` could have been used to find ``xvals``, the\n",
      "solution can only be verified with ``expr1``:\n",
      "\n",
      "    >>> z = expr - v\n",
      "    >>> [xi.n(chop=1e-9) for xi in xvals if abs(z.subs(x, xi).n()) < 1e-9]\n",
      "    []\n",
      "    >>> z1 = expr1 - v\n",
      "    >>> [xi.n(chop=1e-9) for xi in xvals if abs(z1.subs(x, xi).n()) < 1e-9]\n",
      "    [-3.0]\n",
      "\n",
      "Parameters\n",
      "==========\n",
      "\n",
      "f :\n",
      "    - a single Expr or Poly that must be zero\n",
      "    - an Equality\n",
      "    - a Relational expression\n",
      "    - a Boolean\n",
      "    - iterable of one or more of the above\n",
      "\n",
      "symbols : (object(s) to solve for) specified as\n",
      "    - none given (other non-numeric objects will be used)\n",
      "    - single symbol\n",
      "    - denested list of symbols\n",
      "      (e.g., ``solve(f, x, y)``)\n",
      "    - ordered iterable of symbols\n",
      "      (e.g., ``solve(f, [x, y])``)\n",
      "\n",
      "flags :\n",
      "    dict=True (default is False)\n",
      "        Return list (perhaps empty) of solution mappings.\n",
      "    set=True (default is False)\n",
      "        Return list of symbols and set of tuple(s) of solution(s).\n",
      "    exclude=[] (default)\n",
      "        Do not try to solve for any of the free symbols in exclude;\n",
      "        if expressions are given, the free symbols in them will\n",
      "        be extracted automatically.\n",
      "    check=True (default)\n",
      "        If False, do not do any testing of solutions. This can be\n",
      "        useful if you want to include solutions that make any\n",
      "        denominator zero.\n",
      "    numerical=True (default)\n",
      "        Do a fast numerical check if *f* has only one symbol.\n",
      "    minimal=True (default is False)\n",
      "        A very fast, minimal testing.\n",
      "    warn=True (default is False)\n",
      "        Show a warning if ``checksol()`` could not conclude.\n",
      "    simplify=True (default)\n",
      "        Simplify all but polynomials of order 3 or greater before\n",
      "        returning them and (if check is not False) use the\n",
      "        general simplify function on the solutions and the\n",
      "        expression obtained when they are substituted into the\n",
      "        function which should be zero.\n",
      "    force=True (default is False)\n",
      "        Make positive all symbols without assumptions regarding sign.\n",
      "    rational=True (default)\n",
      "        Recast Floats as Rational; if this option is not used, the\n",
      "        system containing Floats may fail to solve because of issues\n",
      "        with polys. If rational=None, Floats will be recast as\n",
      "        rationals but the answer will be recast as Floats. If the\n",
      "        flag is False then nothing will be done to the Floats.\n",
      "    manual=True (default is False)\n",
      "        Do not use the polys/matrix method to solve a system of\n",
      "        equations, solve them one at a time as you might \"manually.\"\n",
      "    implicit=True (default is False)\n",
      "        Allows ``solve`` to return a solution for a pattern in terms of\n",
      "        other functions that contain that pattern; this is only\n",
      "        needed if the pattern is inside of some invertible function\n",
      "        like cos, exp, ect.\n",
      "    particular=True (default is False)\n",
      "        Instructs ``solve`` to try to find a particular solution to\n",
      "        a linear system with as many zeros as possible; this is very\n",
      "        expensive.\n",
      "    quick=True (default is False; ``particular`` must be True)\n",
      "        Selects a fast heuristic to find a solution with many zeros\n",
      "        whereas a value of False uses the very slow method guaranteed\n",
      "        to find the largest number of zeros possible.\n",
      "    cubics=True (default)\n",
      "        Return explicit solutions when cubic expressions are encountered.\n",
      "        When False, quartics and quintics are disabled, too.\n",
      "    quartics=True (default)\n",
      "        Return explicit solutions when quartic expressions are encountered.\n",
      "        When False, quintics are disabled, too.\n",
      "    quintics=True (default)\n",
      "        Return explicit solutions (if possible) when quintic expressions\n",
      "        are encountered.\n",
      "\n",
      "See Also\n",
      "========\n",
      "\n",
      "rsolve: For solving recurrence relationships\n",
      "dsolve: For solving differential equations\n",
      "\u001b[31mFile:\u001b[39m      ~/Desktop/Infomates/Tercer_Curso/Segundo_Cuatri/Metodos_Numericos_II/Practicas/Base/lib/python3.12/site-packages/sympy/solvers/solvers.py\n",
      "\u001b[31mType:\u001b[39m      function"
     ]
    }
   ],
   "source": [
    "?sp.solve"
   ]
  },
  {
   "cell_type": "code",
<<<<<<< HEAD
   "execution_count": 61,
=======
   "execution_count": 59,
>>>>>>> local
   "metadata": {},
   "outputs": [
    {
     "name": "stdout",
     "output_type": "stream",
     "text": [
      "\u001b[31mSignature:\u001b[39m sp.solveset(f, symbol=\u001b[38;5;28;01mNone\u001b[39;00m, domain=Complexes)\n",
      "\u001b[31mDocstring:\u001b[39m\n",
      "Solves a given inequality or equation with set as output\n",
      "\n",
      "Parameters\n",
      "==========\n",
      "\n",
      "f : Expr or a relational.\n",
      "    The target equation or inequality\n",
      "symbol : Symbol\n",
      "    The variable for which the equation is solved\n",
      "domain : Set\n",
      "    The domain over which the equation is solved\n",
      "\n",
      "Returns\n",
      "=======\n",
      "\n",
      "Set\n",
      "    A set of values for `symbol` for which `f` is True or is equal to\n",
      "    zero. An :class:`~.EmptySet` is returned if `f` is False or nonzero.\n",
      "    A :class:`~.ConditionSet` is returned as unsolved object if algorithms\n",
      "    to evaluate complete solution are not yet implemented.\n",
      "\n",
      "``solveset`` claims to be complete in the solution set that it returns.\n",
      "\n",
      "Raises\n",
      "======\n",
      "\n",
      "NotImplementedError\n",
      "    The algorithms to solve inequalities in complex domain  are\n",
      "    not yet implemented.\n",
      "ValueError\n",
      "    The input is not valid.\n",
      "RuntimeError\n",
      "    It is a bug, please report to the github issue tracker.\n",
      "\n",
      "\n",
      "Notes\n",
      "=====\n",
      "\n",
      "Python interprets 0 and 1 as False and True, respectively, but\n",
      "in this function they refer to solutions of an expression. So 0 and 1\n",
      "return the domain and EmptySet, respectively, while True and False\n",
      "return the opposite (as they are assumed to be solutions of relational\n",
      "expressions).\n",
      "\n",
      "\n",
      "See Also\n",
      "========\n",
      "\n",
      "solveset_real: solver for real domain\n",
      "solveset_complex: solver for complex domain\n",
      "\n",
      "Examples\n",
      "========\n",
      "\n",
      ">>> from sympy import exp, sin, Symbol, pprint, S, Eq\n",
      ">>> from sympy.solvers.solveset import solveset, solveset_real\n",
      "\n",
      "* The default domain is complex. Not specifying a domain will lead\n",
      "  to the solving of the equation in the complex domain (and this\n",
      "  is not affected by the assumptions on the symbol):\n",
      "\n",
      ">>> x = Symbol('x')\n",
      ">>> pprint(solveset(exp(x) - 1, x), use_unicode=False)\n",
      "{2*n*I*pi | n in Integers}\n",
      "\n",
      ">>> x = Symbol('x', real=True)\n",
      ">>> pprint(solveset(exp(x) - 1, x), use_unicode=False)\n",
      "{2*n*I*pi | n in Integers}\n",
      "\n",
      "* If you want to use ``solveset`` to solve the equation in the\n",
      "  real domain, provide a real domain. (Using ``solveset_real``\n",
      "  does this automatically.)\n",
      "\n",
      ">>> R = S.Reals\n",
      ">>> x = Symbol('x')\n",
      ">>> solveset(exp(x) - 1, x, R)\n",
      "{0}\n",
      ">>> solveset_real(exp(x) - 1, x)\n",
      "{0}\n",
      "\n",
      "The solution is unaffected by assumptions on the symbol:\n",
      "\n",
      ">>> p = Symbol('p', positive=True)\n",
      ">>> pprint(solveset(p**2 - 4))\n",
      "{-2, 2}\n",
      "\n",
      "When a :class:`~.ConditionSet` is returned, symbols with assumptions that\n",
      "would alter the set are replaced with more generic symbols:\n",
      "\n",
      ">>> i = Symbol('i', imaginary=True)\n",
      ">>> solveset(Eq(i**2 + i*sin(i), 1), i, domain=S.Reals)\n",
      "ConditionSet(_R, Eq(_R**2 + _R*sin(_R) - 1, 0), Reals)\n",
      "\n",
      "* Inequalities can be solved over the real domain only. Use of a complex\n",
      "  domain leads to a NotImplementedError.\n",
      "\n",
      ">>> solveset(exp(x) > 1, x, R)\n",
      "Interval.open(0, oo)\n",
      "\u001b[31mFile:\u001b[39m      ~/Desktop/Infomates/Tercer_Curso/Segundo_Cuatri/Metodos_Numericos_II/Practicas/Base/lib/python3.12/site-packages/sympy/solvers/solveset.py\n",
      "\u001b[31mType:\u001b[39m      function"
     ]
    }
   ],
   "source": [
    "sp.solveset?"
   ]
  },
  {
   "cell_type": "markdown",
   "metadata": {},
   "source": [
    "Ejemplos de uso de `solve` y `solveset`."
   ]
  },
  {
   "cell_type": "code",
<<<<<<< HEAD
   "execution_count": 62,
=======
   "execution_count": 60,
>>>>>>> local
   "metadata": {},
   "outputs": [
    {
     "data": {
      "text/plain": [
       "([-1, 1], list)"
      ]
     },
<<<<<<< HEAD
     "execution_count": 62,
=======
     "execution_count": 60,
>>>>>>> local
     "metadata": {},
     "output_type": "execute_result"
    }
   ],
   "source": [
    "# Simple ejemplo de uso. Vemos que devuelve las soluciones en forma de lista\n",
    "sol1 = sp.solve( x**2 - 1, x )\n",
    "sol1, type(sol1) "
   ]
  },
  {
   "cell_type": "code",
<<<<<<< HEAD
   "execution_count": 63,
=======
   "execution_count": 61,
>>>>>>> local
   "metadata": {},
   "outputs": [
    {
     "data": {
      "text/plain": [
       "([{x: -1}, {x: 1}], list)"
      ]
     },
<<<<<<< HEAD
     "execution_count": 63,
=======
     "execution_count": 61,
>>>>>>> local
     "metadata": {},
     "output_type": "execute_result"
    }
   ],
   "source": [
    "# Aquí vemos que también podemos hacer que devuelva las soluciones en forma de lista de diccionarios\n",
    "sol2 = sp.solve( x**2 - 1, x, dict = True  ) \n",
    "sol2, type(sol2)"
   ]
  },
  {
   "cell_type": "code",
<<<<<<< HEAD
   "execution_count": 64,
=======
   "execution_count": 62,
>>>>>>> local
   "metadata": {},
   "outputs": [
    {
     "data": {
      "text/plain": [
       "({-1, 1}, sympy.sets.sets.FiniteSet)"
      ]
     },
<<<<<<< HEAD
     "execution_count": 64,
=======
     "execution_count": 62,
>>>>>>> local
     "metadata": {},
     "output_type": "execute_result"
    }
   ],
   "source": [
    "# Simple ejemplo de uso. Vemos que devuelve las soluciones en forma de conjunto\n",
    "sol3 = sp.solveset( x**2 - 1, x )  \n",
    "sol3, type(sol3)"
   ]
  },
  {
   "cell_type": "code",
<<<<<<< HEAD
   "execution_count": 65,
=======
   "execution_count": 63,
>>>>>>> local
   "metadata": {},
   "outputs": [
    {
     "data": {
      "text/plain": [
       "(Interval.open(0, oo), sympy.sets.sets.Interval)"
      ]
     },
<<<<<<< HEAD
     "execution_count": 65,
=======
     "execution_count": 63,
>>>>>>> local
     "metadata": {},
     "output_type": "execute_result"
    }
   ],
   "source": [
    "# También podemos pedirle que resuelva inecuaciones\n",
    "sol4 = sp.solveset(sp.exp(x) > 1, x, domain=sp.S.Reals)\n",
    "sol4, type(sol4)"
   ]
  },
  {
   "cell_type": "code",
<<<<<<< HEAD
   "execution_count": 66,
=======
   "execution_count": 64,
>>>>>>> local
   "metadata": {},
   "outputs": [
    {
     "data": {
      "text/plain": [
       "[0, pi/2, pi, 3*pi/2]"
      ]
     },
<<<<<<< HEAD
     "execution_count": 66,
=======
     "execution_count": 64,
>>>>>>> local
     "metadata": {},
     "output_type": "execute_result"
    }
   ],
   "source": [
    "# Ejemplo con funciones trigonométricas.\n",
    "# En estos casos es evidente que no se pueden obtener a la vez las infinitas soluciones\n",
    "sp.solve(sp.sin(x)*sp.cos(x),x) "
   ]
  },
  {
   "cell_type": "markdown",
   "metadata": {},
   "source": [
    "También podemos hacer depender las ecuaciones de otros parámetros. Por ejemplo, si queremos obtener la solución de la ecuación\n",
    "$$\n",
    "\\frac 1 a e^{x+1} - 3a^2 = 0.\n",
    "$$"
   ]
  },
  {
   "cell_type": "code",
<<<<<<< HEAD
   "execution_count": 67,
=======
   "execution_count": 65,
>>>>>>> local
   "metadata": {},
   "outputs": [
    {
     "data": {
      "text/plain": [
       "[log(a**3) - 1 + log(3)]"
      ]
     },
<<<<<<< HEAD
     "execution_count": 67,
=======
     "execution_count": 65,
>>>>>>> local
     "metadata": {},
     "output_type": "execute_result"
    }
   ],
   "source": [
    "a = sp.Symbol('a')\n",
    "sp.solve(1/a*sp.exp(x+1)-3*a**2,x)"
   ]
  },
  {
   "cell_type": "markdown",
   "metadata": {},
   "source": [
    "##### Resolución de ecuaciones **polinómicas** con Python 🚓"
   ]
  },
  {
   "cell_type": "markdown",
   "metadata": {},
   "source": [
    "La orden de NumPy  [`roots`](https://numpy.org/doc/2.2/reference/generated/numpy.roots.html) obtiene todas las raíces reales y complejas de la ecuación polinómica $a_nx^n+...+a_2x^2+a_1x+a_0=0$ correspondiente a los coeficientes $[a_n, ..., a_2,a_1, a_0]$ guardados en una lista con las mismas tal y como se observa  en el siguiente ejemplo:"
   ]
  },
  {
   "cell_type": "code",
<<<<<<< HEAD
   "execution_count": 68,
=======
   "execution_count": 66,
>>>>>>> local
   "metadata": {},
   "outputs": [
    {
     "data": {
      "text/plain": [
       "array([-0.15625+0.7749748j, -0.15625-0.7749748j])"
      ]
     },
<<<<<<< HEAD
     "execution_count": 68,
=======
     "execution_count": 66,
>>>>>>> local
     "metadata": {},
     "output_type": "execute_result"
    }
   ],
   "source": [
    "coefs = [3.2, 1, 2]\n",
    "np.roots(coefs)"
   ]
  },
  {
   "cell_type": "code",
<<<<<<< HEAD
   "execution_count": 69,
=======
   "execution_count": 67,
>>>>>>> local
   "metadata": {},
   "outputs": [
    {
     "data": {
      "text/plain": [
       "array([-1.27308945+0.36784131j, -1.27308945-0.36784131j,\n",
       "       -0.08811871+1.23334263j, -0.08811871-1.23334263j,\n",
       "        1.18028373+0.j        ,  0.27106629+0.49202862j,\n",
       "        0.27106629-0.49202862j])"
      ]
     },
<<<<<<< HEAD
     "execution_count": 69,
=======
     "execution_count": 67,
>>>>>>> local
     "metadata": {},
     "output_type": "execute_result"
    }
   ],
   "source": [
    "coefs = [1,1,0,0,-2,-2,1,-1]\n",
    "np.roots(coefs)"
   ]
  },
  {
   "cell_type": "markdown",
   "metadata": {},
   "source": [
    "Observe ahora la salida de las dos órdenes siguientes:"
   ]
  },
  {
   "cell_type": "code",
<<<<<<< HEAD
   "execution_count": 70,
=======
   "execution_count": 68,
>>>>>>> local
   "metadata": {},
   "outputs": [
    {
     "data": {
      "text/plain": [
       "[2.50000000000000, -3.0*I, 3.0*I]"
      ]
     },
<<<<<<< HEAD
     "execution_count": 70,
=======
     "execution_count": 68,
>>>>>>> local
     "metadata": {},
     "output_type": "execute_result"
    }
   ],
   "source": [
    "sp.solve((x**2+9)*(x-2.5),x)"
   ]
  },
  {
   "cell_type": "code",
<<<<<<< HEAD
   "execution_count": 71,
=======
   "execution_count": 69,
>>>>>>> local
   "metadata": {},
   "outputs": [
    {
     "data": {
      "text/latex": [
       "$\\displaystyle x^{3} - 2.5 x^{2} + 9 x - 22.5$"
      ],
      "text/plain": [
       "x**3 - 2.5*x**2 + 9*x - 22.5"
      ]
     },
<<<<<<< HEAD
     "execution_count": 71,
=======
     "execution_count": 69,
>>>>>>> local
     "metadata": {},
     "output_type": "execute_result"
    }
   ],
   "source": [
    "sp.expand((x**2+9)*(x-2.5))"
   ]
  },
  {
   "cell_type": "code",
<<<<<<< HEAD
   "execution_count": 72,
=======
   "execution_count": 70,
>>>>>>> local
   "metadata": {},
   "outputs": [
    {
     "data": {
      "text/plain": [
       "array([4.4408921e-16+3.j, 4.4408921e-16-3.j, 2.5000000e+00+0.j])"
      ]
     },
<<<<<<< HEAD
     "execution_count": 72,
=======
     "execution_count": 70,
>>>>>>> local
     "metadata": {},
     "output_type": "execute_result"
    }
   ],
   "source": [
    "coefs = [1,-2.5,9,-22.5]\n",
    "np.roots(coefs)"
   ]
  },
  {
   "cell_type": "markdown",
   "metadata": {},
   "source": [
    "#### Opción 2: Resolución numérica con la orden [`fsolve`](https://docs.scipy.org/doc/scipy/reference/generated/scipy.optimize.fsolve.html) del paquete `optimize` dentro del módulo `SciPy`.\n",
    "\n",
    "También podemos resolver numéricamente las ecuaciones mediante la función `fsolve`, la cual podemos importar mediante la siguiente orden.\n",
    "Por ello, deberemos cargarlo mediante una orden como la siguiente:"
   ]
  },
  {
   "cell_type": "code",
<<<<<<< HEAD
   "execution_count": 73,
=======
   "execution_count": 71,
>>>>>>> local
   "metadata": {},
   "outputs": [],
   "source": [
    "from scipy.optimize import fsolve"
   ]
  },
  {
   "cell_type": "markdown",
   "metadata": {},
   "source": [
    "Y usarla con el siguiente formato\n",
    "```python\n",
    "    fsolve(f,x0)\n",
    "```\n",
    "\n",
    "donde la función `f` debe estar definida previamente o utilizar una función lambda, y `x0` es el valor inicial para comenzar las iteraciones.\n",
    "\n",
    "En cuanto a las opciones disponibles, lo mejor es mirar la documentación disponible, preguntándole directamente al sistema Python para que nos muestre el docstring incluido en la definición de dicha orden"
   ]
  },
  {
   "cell_type": "code",
<<<<<<< HEAD
   "execution_count": 74,
=======
   "execution_count": 72,
>>>>>>> local
   "metadata": {},
   "outputs": [
    {
     "name": "stdout",
     "output_type": "stream",
     "text": [
      "\u001b[31mSignature:\u001b[39m\n",
      "fsolve(\n",
      "    func,\n",
      "    x0,\n",
      "    args=(),\n",
      "    fprime=\u001b[38;5;28;01mNone\u001b[39;00m,\n",
      "    full_output=\u001b[32m0\u001b[39m,\n",
      "    col_deriv=\u001b[32m0\u001b[39m,\n",
      "    xtol=\u001b[32m1.49012e-08\u001b[39m,\n",
      "    maxfev=\u001b[32m0\u001b[39m,\n",
      "    band=\u001b[38;5;28;01mNone\u001b[39;00m,\n",
      "    epsfcn=\u001b[38;5;28;01mNone\u001b[39;00m,\n",
      "    factor=\u001b[32m100\u001b[39m,\n",
      "    diag=\u001b[38;5;28;01mNone\u001b[39;00m,\n",
      ")\n",
      "\u001b[31mDocstring:\u001b[39m\n",
      "Find the roots of a function.\n",
      "\n",
      "Return the roots of the (non-linear) equations defined by\n",
      "``func(x) = 0`` given a starting estimate.\n",
      "\n",
      "Parameters\n",
      "----------\n",
      "func : callable ``f(x, *args)``\n",
      "    A function that takes at least one (possibly vector) argument,\n",
      "    and returns a value of the same length.\n",
      "x0 : ndarray\n",
      "    The starting estimate for the roots of ``func(x) = 0``.\n",
      "args : tuple, optional\n",
      "    Any extra arguments to `func`.\n",
      "fprime : callable ``f(x, *args)``, optional\n",
      "    A function to compute the Jacobian of `func` with derivatives\n",
      "    across the rows. By default, the Jacobian will be estimated.\n",
      "full_output : bool, optional\n",
      "    If True, return optional outputs.\n",
      "col_deriv : bool, optional\n",
      "    Specify whether the Jacobian function computes derivatives down\n",
      "    the columns (faster, because there is no transpose operation).\n",
      "xtol : float, optional\n",
      "    The calculation will terminate if the relative error between two\n",
      "    consecutive iterates is at most `xtol`.\n",
      "maxfev : int, optional\n",
      "    The maximum number of calls to the function. If zero, then\n",
      "    ``100*(N+1)`` is the maximum where N is the number of elements\n",
      "    in `x0`.\n",
      "band : tuple, optional\n",
      "    If set to a two-sequence containing the number of sub- and\n",
      "    super-diagonals within the band of the Jacobi matrix, the\n",
      "    Jacobi matrix is considered banded (only for ``fprime=None``).\n",
      "epsfcn : float, optional\n",
      "    A suitable step length for the forward-difference\n",
      "    approximation of the Jacobian (for ``fprime=None``). If\n",
      "    `epsfcn` is less than the machine precision, it is assumed\n",
      "    that the relative errors in the functions are of the order of\n",
      "    the machine precision.\n",
      "factor : float, optional\n",
      "    A parameter determining the initial step bound\n",
      "    (``factor * || diag * x||``). Should be in the interval\n",
      "    ``(0.1, 100)``.\n",
      "diag : sequence, optional\n",
      "    N positive entries that serve as a scale factors for the\n",
      "    variables.\n",
      "\n",
      "Returns\n",
      "-------\n",
      "x : ndarray\n",
      "    The solution (or the result of the last iteration for\n",
      "    an unsuccessful call).\n",
      "infodict : dict\n",
      "    A dictionary of optional outputs with the keys:\n",
      "\n",
      "    ``nfev``\n",
      "        number of function calls\n",
      "    ``njev``\n",
      "        number of Jacobian calls\n",
      "    ``fvec``\n",
      "        function evaluated at the output\n",
      "    ``fjac``\n",
      "        the orthogonal matrix, q, produced by the QR\n",
      "        factorization of the final approximate Jacobian\n",
      "        matrix, stored column wise\n",
      "    ``r``\n",
      "        upper triangular matrix produced by QR factorization\n",
      "        of the same matrix\n",
      "    ``qtf``\n",
      "        the vector ``(transpose(q) * fvec)``\n",
      "\n",
      "ier : int\n",
      "    An integer flag.  Set to 1 if a solution was found, otherwise refer\n",
      "    to `mesg` for more information.\n",
      "mesg : str\n",
      "    If no solution is found, `mesg` details the cause of failure.\n",
      "\n",
      "See Also\n",
      "--------\n",
      "root : Interface to root finding algorithms for multivariate\n",
      "       functions. See the ``method='hybr'`` in particular.\n",
      "\n",
      "Notes\n",
      "-----\n",
      "``fsolve`` is a wrapper around MINPACK's hybrd and hybrj algorithms.\n",
      "\n",
      "Examples\n",
      "--------\n",
      "Find a solution to the system of equations:\n",
      "``x0*cos(x1) = 4,  x1*x0 - x1 = 5``.\n",
      "\n",
      ">>> import numpy as np\n",
      ">>> from scipy.optimize import fsolve\n",
      ">>> def func(x):\n",
      "...     return [x[0] * np.cos(x[1]) - 4,\n",
      "...             x[1] * x[0] - x[1] - 5]\n",
      ">>> root = fsolve(func, [1, 1])\n",
      ">>> root\n",
      "array([6.50409711, 0.90841421])\n",
      ">>> np.isclose(func(root), [0.0, 0.0])  # func(root) should be almost 0.0.\n",
      "array([ True,  True])\n",
      "\u001b[31mFile:\u001b[39m      ~/Desktop/Infomates/Tercer_Curso/Segundo_Cuatri/Metodos_Numericos_II/Practicas/Base/lib/python3.12/site-packages/scipy/optimize/_minpack_py.py\n",
      "\u001b[31mType:\u001b[39m      function"
     ]
    }
   ],
   "source": [
    "?fsolve"
   ]
  },
  {
   "cell_type": "code",
<<<<<<< HEAD
   "execution_count": 75,
=======
   "execution_count": 73,
>>>>>>> local
   "metadata": {},
   "outputs": [
    {
     "data": {
      "text/plain": [
       "array([1.09861229])"
      ]
     },
<<<<<<< HEAD
     "execution_count": 75,
=======
     "execution_count": 73,
>>>>>>> local
     "metadata": {},
     "output_type": "execute_result"
    }
   ],
   "source": [
    "fsolve(f, 1.0) # Observe que devuelve un array"
   ]
  },
  {
   "cell_type": "code",
<<<<<<< HEAD
   "execution_count": 76,
=======
   "execution_count": 74,
>>>>>>> local
   "metadata": {},
   "outputs": [
    {
     "name": "stdout",
     "output_type": "stream",
     "text": [
      "Solución exacta: 1.09861228866811\n",
      "Aproximación con fsolve: 1.0986122886681096\n",
      "Error: -1.31331632575016E-16\n"
     ]
    }
   ],
   "source": [
    "aprox_fsolve = fsolve(f, 1.0)[0] # Tomamos el primer elemento del array\n",
    "print(f\"Solución exacta: {sol_exact.evalf()}\")\n",
    "print(f\"Aproximación con fsolve: {aprox_fsolve}\")\n",
    "print(f\"Error: {(aprox_fsolve-sol_exact).evalf()}\")"
   ]
  },
  {
   "cell_type": "markdown",
   "metadata": {},
   "source": [
    "### 4.2. Resolución de sistemas de ecuaciones no lineales 📝"
   ]
  },
  {
   "cell_type": "markdown",
   "metadata": {},
   "source": [
    "   No cabe duda de que en muchas ocasiones también tendremos que resolver sistemas de ecuaciones no lineales y no sólo una ecuación escalar, para la que ya hemos visto bastantes métodos efectivos en la primera parte de este notebook.\n",
    "\n",
    "   Ahora nos proponemos indicar también algunas posibilidades cuando se trate más bien de sistemas de ecuaciones no lineales, para las que no siempre habrá posibilidad de obtener soluciones exactas, ni tampoco existen procedimientos o algoritmos sistemáticos, como sí que los hay para el caso de sistemas lineales. No obstante, sí que disponemos de generalizaciónes adecuadas de alguno de los métodos numéricos que ya se tenían para el caso escalar y que nos permitirán al menos aproximar numéricamente, con un cierto grado de precisión determinado, dichas soluciones, en caso de que estas existan."
   ]
  },
  {
   "cell_type": "markdown",
   "metadata": {},
   "source": [
    "#### Opción 1: Calcular analíticamente las soluciones con `sympy`"
   ]
  },
  {
   "cell_type": "markdown",
   "metadata": {},
   "source": [
    "La orden `solve` del módulo `sympy` también puede ser utilizada para resolver sistemas de ecuaciones (ver documentación). A su vez, `sympy` contiene la clase `Eq`, que representa una ecuación. Combinando ambas pueden resolverse sistemas de ecuaciones no lineales.\n",
    "\n",
    "Observe el siguiente ejemplo en el que resolvemos el sistema de ecuaciones\n",
    "$$\n",
    "\\left\\{\\begin{array}{c}\n",
    "x+y^2 = 4 \\\\\n",
    "x^2 + y = 4\n",
    "\\end{array}\\right..\n",
    "$$"
   ]
  },
  {
   "cell_type": "code",
<<<<<<< HEAD
   "execution_count": 77,
=======
   "execution_count": 75,
>>>>>>> local
   "metadata": {},
   "outputs": [],
   "source": [
    "x, y = sp.symbols('x, y') # Definimos las variables simbólicas\n",
    "# Creamos las ecuaciones\n",
    "eq1 = sp.Eq(x + y**2, 4)\n",
    "eq2 = sp.Eq(x**2 + y, 4)"
   ]
  },
  {
   "cell_type": "code",
<<<<<<< HEAD
   "execution_count": 78,
=======
   "execution_count": 76,
>>>>>>> local
   "metadata": {},
   "outputs": [
    {
     "data": {
      "text/latex": [
       "$\\displaystyle x + y^{2} = 4$"
      ],
      "text/plain": [
       "Eq(x + y**2, 4)"
      ]
     },
<<<<<<< HEAD
     "execution_count": 78,
=======
     "execution_count": 76,
>>>>>>> local
     "metadata": {},
     "output_type": "execute_result"
    }
   ],
   "source": [
    "eq1"
   ]
  },
  {
   "cell_type": "code",
<<<<<<< HEAD
   "execution_count": 79,
=======
   "execution_count": 77,
>>>>>>> local
   "metadata": {},
   "outputs": [
    {
     "data": {
      "text/latex": [
       "$\\displaystyle x^{2} + y = 4$"
      ],
      "text/plain": [
       "Eq(x**2 + y, 4)"
      ]
     },
<<<<<<< HEAD
     "execution_count": 79,
=======
     "execution_count": 77,
>>>>>>> local
     "metadata": {},
     "output_type": "execute_result"
    }
   ],
   "source": [
    "eq2"
   ]
  },
  {
   "cell_type": "markdown",
   "metadata": {},
   "source": [
    "Utilizamos `solve` para obtener las soluciones"
   ]
  },
  {
   "cell_type": "code",
<<<<<<< HEAD
   "execution_count": 80,
=======
   "execution_count": 78,
>>>>>>> local
   "metadata": {},
   "outputs": [
    {
     "data": {
      "text/plain": [
       "[(-(-5/2 - sqrt(17)/2)*(3/2 - sqrt(17)/2), -sqrt(17)/2 - 1/2),\n",
       " (-(-5/2 + sqrt(17)/2)*(3/2 + sqrt(17)/2), -1/2 + sqrt(17)/2),\n",
       " (-(-3/2 + sqrt(13)/2)*(sqrt(13)/2 + 5/2), 1/2 + sqrt(13)/2),\n",
       " (-(5/2 - sqrt(13)/2)*(-sqrt(13)/2 - 3/2), 1/2 - sqrt(13)/2)]"
      ]
     },
<<<<<<< HEAD
     "execution_count": 80,
=======
     "execution_count": 78,
>>>>>>> local
     "metadata": {},
     "output_type": "execute_result"
    }
   ],
   "source": [
    "sols = sp.solve([eq1, eq2], [x,y])\n",
    "sols"
   ]
  },
  {
   "cell_type": "markdown",
   "metadata": {},
   "source": [
    "#### Opción 2: Resolución numérica aproximada con `scipy`."
   ]
  },
  {
   "cell_type": "markdown",
   "metadata": {},
   "source": [
    "Análogamente al caso simbólico, la orden `fsolve` de `scipy.optimize` permite trabajar con varias funciones y condiciones iniciales multivariadas.\n",
    "\n",
    "Resolvamos el sistema\n",
    "$$\n",
    "\\left\\{\\begin{array}{c}\n",
    "x+y^2 - 4 = 0 \\\\\n",
    "e^x + xy - 3 = 0\n",
    "\\end{array}\\right..\n",
    "$$"
   ]
  },
  {
   "cell_type": "code",
<<<<<<< HEAD
   "execution_count": 81,
=======
   "execution_count": 79,
>>>>>>> local
   "metadata": {},
   "outputs": [],
   "source": [
    "from scipy.optimize import fsolve"
   ]
  },
  {
   "cell_type": "code",
<<<<<<< HEAD
   "execution_count": 82,
=======
   "execution_count": 80,
>>>>>>> local
   "metadata": {},
   "outputs": [],
   "source": [
    "def equations(p:tuple):\n",
    "    x, y = p\n",
    "    return x + y**2 - 4, sp.exp(x) + x*y -3"
   ]
  },
  {
   "cell_type": "code",
<<<<<<< HEAD
   "execution_count": 83,
=======
   "execution_count": 81,
>>>>>>> local
   "metadata": {},
   "outputs": [
    {
     "data": {
      "text/plain": [
       "(x + y**2 - 4, x*y + exp(x) - 3)"
      ]
     },
<<<<<<< HEAD
     "execution_count": 83,
=======
     "execution_count": 81,
>>>>>>> local
     "metadata": {},
     "output_type": "execute_result"
    }
   ],
   "source": [
    "x, y = sp.symbols('x, y')\n",
    "equations((x,y)) # Devuelve una tupla"
   ]
  },
  {
   "cell_type": "code",
<<<<<<< HEAD
   "execution_count": 84,
=======
   "execution_count": 82,
>>>>>>> local
   "metadata": {},
   "outputs": [
    {
     "data": {
      "text/plain": [
       "(u + v**2 - 4, u*v + exp(u) - 3)"
      ]
     },
<<<<<<< HEAD
     "execution_count": 84,
=======
     "execution_count": 82,
>>>>>>> local
     "metadata": {},
     "output_type": "execute_result"
    }
   ],
   "source": [
    "# Vemos que la expresión algebraica de estas ecuaciones es independiente\n",
    "# de las variables concretas que se usen\n",
    "u,v = sp.symbols('u,v')    \n",
    "equations((u,v))"
   ]
  },
  {
   "cell_type": "markdown",
   "metadata": {},
   "source": [
    "Ahora usamos `fsolve` indicando dos condiciones iniciales."
   ]
  },
  {
   "cell_type": "code",
<<<<<<< HEAD
   "execution_count": 85,
=======
   "execution_count": 83,
>>>>>>> local
   "metadata": {},
   "outputs": [],
   "source": [
    "x0, y0  = 1, 1      # Condiciones iniciales\n",
    "sol_x, sol_y    = fsolve(equations, (x0,y0))"
   ]
  },
  {
   "cell_type": "code",
<<<<<<< HEAD
   "execution_count": 86,
=======
   "execution_count": 84,
>>>>>>> local
   "metadata": {},
   "outputs": [
    {
     "name": "stdout",
     "output_type": "stream",
     "text": [
      "0.6203445234801195 1.8383839306750887\n"
     ]
    }
   ],
   "source": [
    "print(sol_x,sol_y)    # Esta sería la aproximación de dichas soluciones numéricas"
   ]
  },
  {
   "cell_type": "code",
<<<<<<< HEAD
   "execution_count": 87,
=======
   "execution_count": 85,
>>>>>>> local
   "metadata": {},
   "outputs": [
    {
     "name": "stdout",
     "output_type": "stream",
     "text": [
      "(np.float64(4.4508396968012676e-11), -1.05120356863608e-11)\n"
     ]
    }
   ],
   "source": [
    "# Comprobamos además que al evaluar estas expresiones algebraicas en las soluciones aproximadas\n",
    "# obtenemos valores bastante próximos a cero.\n",
    "print(equations((sol_x,sol_y)))"
   ]
  },
  {
   "cell_type": "code",
<<<<<<< HEAD
   "execution_count": 88,
=======
   "execution_count": 86,
>>>>>>> local
   "metadata": {},
   "outputs": [
    {
     "name": "stdout",
     "output_type": "stream",
     "text": [
      "Final de la práctica 😁\n"
     ]
    }
   ],
   "source": [
    "print(\"Final de la práctica 😁\")"
   ]
  },
  {
   "cell_type": "markdown",
   "metadata": {},
   "source": [
    "\n",
    "> **Ejercicio 9** Utilice las órdenes apropiadas de Python para aproximar todos los puntos donde se anulan las funciones siguientes (si es necesario, represéntelas gráficamente):\n",
    "> \n",
    "> i) $f(x)=x^7-x^4+2$ ,\n",
    "> \n",
    "> ii) $f(x)=x^7+\\cos  x-3$.\n",
    "\n",
    "> **Ejercicio 10:** De los métodos implementados en los anteriores ejercicios, utiliza el método o métodos numéricos que desees para aproximar la primera raíz de la función\n",
    "> $$\n",
    "> f:[0,1]\\longrightarrow\\mathbb R \\\\\n",
    "> f(x) = x(1-x)\\sin\\left(\\dfrac{2\\pi}{x+1/10}\\right)\n",
    "> $$\n",
    "> que sea mayor que una milésima con una precisión de 28 cifras significativas y utilizando el menor número de iteraciones posible. Imprime por pantalla tu aproximación y el número de iteraciones utilizado."
   ]
  }
 ],
 "metadata": {
  "anaconda-cloud": {},
  "colab": {
   "collapsed_sections": [
    "8kviXRZfcp-i",
    "jpQMavQPcp-m",
    "MW4_-uSrcp-w",
    "jr7yFeSNcp-z",
    "yyNEN0w-cp-1",
    "n3RiGTxbcp-3"
   ],
   "provenance": []
  },
  "kernelspec": {
   "display_name": "Base",
   "language": "python",
   "name": "python3"
  },
  "language_info": {
   "codemirror_mode": {
    "name": "ipython",
    "version": 3
   },
   "file_extension": ".py",
   "mimetype": "text/x-python",
   "name": "python",
   "nbconvert_exporter": "python",
   "pygments_lexer": "ipython3",
   "version": "3.12.3"
  }
 },
 "nbformat": 4,
 "nbformat_minor": 0
}
