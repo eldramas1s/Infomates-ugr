{
 "cells": [
  {
   "cell_type": "markdown",
   "id": "174bb5ef",
   "metadata": {},
   "source": [
    "# Práctica 3: Resolución Numérica  de PVIs  usando Python"
   ]
  },
  {
   "cell_type": "markdown",
   "id": "dabcdaa0",
   "metadata": {},
   "source": [
    "Autor de esta versión: **Juan Antonio Villegas**\n",
    "\n",
    "Autor de la primera versión: Pedro González Rodelas\n",
    "\n",
    "Fecha de la primera versión: 01/05/2020\n",
    "\n",
    "Sucesivas revisiones: 02-08 y 11/05/2020, 02/06/2021\n",
    "\n",
    "Fecha de la última revisión: 15/5/2025"
   ]
  },
  {
   "cell_type": "markdown",
   "id": "bafcda17",
   "metadata": {},
   "source": [
    "En esta práctica se programan en lenguaje Python diferentes métodos numéricos de resolución aproximada de Problemas de Valores Iniciales asociados a Ecuaciones Diferenciales Ordinarias (EDOs) y sistemas de primer orden, provenientes muchos de ellos de problemas y aplicaciones interesantes de Física e Ingeniería.\n",
    "\n",
    "Algunos de los ejemplos y algoritmos usados en este notebook han sido extraídos, adaptados o traducidos por Pedro González Rodelas de alguno de los siguientes libros y/o apuntes:\n",
    "\n",
    "\n",
    "- \"Análisis Numérico con Mathematica\" de V. Ramírez, D. Barrera, M. Pasadas y P. González. Edit. Ariel Ciencia (2001) con ISBN: 84-344-8036-0. Dep. Legal: B.31.425-2001.\n",
    "\n",
    "- Apuntes de la asignatura de Métodos Numéricos II del Grado de Matemáticas y Dobles Grados de Matemáticas e Informática o Física de la UGR, de los profesores José Martínez Aroza y Victoriano Ramírez González.\n",
    "\n",
    "- Notebook perteneciente al Capítulo 9 del libro [Numerical Python - A Practical Techniques Approach for Industry](http://www.apress.com/9781484205549) (ISBN 978-1-484205-54-9) de Robert Johansson.\n",
    "\n",
    "- Capítulo 7 del libro [Numerical Methods in Engineering with Python 3](https://www.cambridge.org/core/books/numerical-methods-in-engineering-with-python-3/95151C37C2F427F30DC90FA619FE79F9) de Jaan Kiusalaas."
   ]
  },
  {
   "cell_type": "markdown",
   "id": "f0372e99",
   "metadata": {},
   "source": [
    "## 1. Carga de los módulos y funciones empleadas 🔨"
   ]
  },
  {
   "cell_type": "markdown",
   "id": "9c590be5",
   "metadata": {},
   "source": [
    "Antes de empezar a realizar cualquier cálculo numérico o simbólico debemos de cargar los correspondientes módulos de Python que implementan la mayoría de funciones y procedimientos necesarios para ello: [`numpy`](https://numpy.org/) y [`sympy`](https://www.sympy.org/), que serán cargados con los pseudónimos `np` y `sp`, respectivamente. Además cargaremos también el submódulo `pyplot`, del paquete [`matplotlib`](https://matplotlib.org/), que nos permitirá realizar las representaciones gráficas que nos ayudarán a visualizar todo el proceso."
   ]
  },
  {
   "cell_type": "code",
   "execution_count": 2,
   "id": "f047c09a",
   "metadata": {},
   "outputs": [],
   "source": [
    "# Carga de librerías necesarias\n",
    "import numpy as np\n",
    "import sympy as sp\n",
    "import matplotlib.pyplot as plt\n",
    "import matplotlib as mpl\n",
    "\n",
    "%matplotlib inline\n",
    "mpl.rcParams['text.usetex'] = True"
   ]
  },
  {
   "cell_type": "markdown",
   "id": "3420304f",
   "metadata": {},
   "source": [
    "## 2. Resolviendo EDOs simbólicamente con SymPy 🔣"
   ]
  },
  {
   "cell_type": "markdown",
   "id": "da57da13",
   "metadata": {},
   "source": [
    "Como es bien sabido, una ecuación diferencial ordinaria (EDO), no es más que una relación existente entre algunas derivadas de función incógnita $y(t)$, suponiendo que resulta ser suficientemente derivable, a partir de la función $f\\equiv f(t,x)$ que determina la EDO que satisface. \n",
    "\n",
    "En el caso de una EDO de primer orden esta relación se podría escribir de la siguiente manera genérica: $$x'(t)=f(t,x(t)),\\; t\\in[a,b]$$\n",
    "con $f:[a,b]\\times\\mathbb{R}\\to \\mathbb{R}$ también suficientemente regular, o al menos continua en $(t,x)$ y Lipschitziana en $x$, para asegurar existencia y unicidad de solución del correspondiente Problema de Valores Iniciales (PVI), para cierta condición inicial $x(t_0) = x_0 = \\mu\\in\\mathbb{R}$ determinada de antemano:\n",
    "\n",
    "$$\\begin{array}{c l} x'(t)=f(t,x(t)),& t\\in[a,b]\\\\ x(t_0) =x_0 = \\mu  &  \\end{array}$$\n",
    "\n",
    "aunque también suele ser habitual el empleo de la siguiente notación\n",
    "\n",
    "$$\\begin{array}{c l} y'(t)=f(t,y(t)),& t\\in[a,b]\\\\ y(t_0) = y_0\\equiv\\mu  &  \\end{array}$$\n",
    "\n",
    "o usar $x$ como variable independiente e $y$ como variable dependiente, etc. "
   ]
  },
  {
   "cell_type": "markdown",
   "id": "853b1487",
   "metadata": {},
   "source": [
    "Como primer ejemplo, consideremos el PVI\n",
    "\n",
    "$$\n",
    "\\left\\{\\begin{array}{rcl}\n",
    "x'(t) &=& x(t) \\\\\n",
    "x(0) &=& 1\n",
    "\\end{array}\\right..\n",
    "$$\n",
    "Es decir, $f(t,x)=x$, $x(0)=x_0 = 1$. Comenzamos definiendo nuestros símbolos y nuestra función."
   ]
  },
  {
   "cell_type": "code",
   "execution_count": 5,
   "id": "86c4505e",
   "metadata": {},
   "outputs": [
    {
     "data": {
      "text/latex": [
       "$\\displaystyle x$"
      ],
      "text/plain": [
       "x"
      ]
     },
     "execution_count": 5,
     "metadata": {},
     "output_type": "execute_result"
    }
   ],
   "source": [
    "t, x0, x = sp.symbols('t, x_0, x')\n",
    "def f(t,x):\n",
    "    return x\n",
    "\n",
    "f(t,x)"
   ]
  },
  {
   "cell_type": "code",
   "execution_count": 6,
   "id": "6f57df66",
   "metadata": {},
   "outputs": [],
   "source": [
    "a, b = 0, 1     # extremos inferior y superior del intervalo \n",
    "mu = 1          # condición inicial del PVI"
   ]
  },
  {
   "cell_type": "markdown",
   "id": "3dfd1196",
   "metadata": {},
   "source": [
    "Vamos a empezar definiendo la Ec. Dif. Ordinaria (edo) a resolver"
   ]
  },
  {
   "cell_type": "code",
   "execution_count": 7,
   "id": "0f910dd4",
   "metadata": {},
   "outputs": [
    {
     "data": {
      "text/latex": [
       "$\\displaystyle - x{\\left(t \\right)} + \\frac{d}{d t} x{\\left(t \\right)} = 0$"
      ],
      "text/plain": [
       "Eq(-x(t) + Derivative(x(t), t), 0)"
      ]
     },
     "execution_count": 7,
     "metadata": {},
     "output_type": "execute_result"
    }
   ],
   "source": [
    "x = sp.Function('x')\n",
    "edo = x(t).diff(t)-f(t,x(t))\n",
    "sp.Eq(edo,0)"
   ]
  },
  {
   "cell_type": "markdown",
   "id": "aba80426",
   "metadata": {},
   "source": [
    "La resolvemos simbólicamente mediante la orden [`dsolve`](https://docs.sympy.org/latest/modules/solvers/ode.html#sympy.solvers.ode.dsolve) de SymPy."
   ]
  },
  {
   "cell_type": "code",
   "execution_count": 8,
   "id": "231fa193",
   "metadata": {},
   "outputs": [
    {
     "data": {
      "text/latex": [
       "$\\displaystyle x{\\left(t \\right)} = C_{1} e^{t}$"
      ],
      "text/plain": [
       "Eq(x(t), C1*exp(t))"
      ]
     },
     "execution_count": 8,
     "metadata": {},
     "output_type": "execute_result"
    }
   ],
   "source": [
    "edo_sol = sp.dsolve(edo)\n",
    "edo_sol"
   ]
  },
  {
   "cell_type": "code",
   "execution_count": 9,
   "id": "c6d86227",
   "metadata": {},
   "outputs": [
    {
     "data": {
      "text/plain": [
       "sympy.core.relational.Equality"
      ]
     },
     "execution_count": 9,
     "metadata": {},
     "output_type": "execute_result"
    }
   ],
   "source": [
    "type(edo_sol)"
   ]
  },
  {
   "cell_type": "markdown",
   "id": "484a6b04",
   "metadata": {},
   "source": [
    "De esta solución simbólica obtenida también podremos extraer, tanto el término de la izquierda (mediante `.lhs`) como el de la derecha (mediante `.rhs`)."
   ]
  },
  {
   "cell_type": "code",
   "execution_count": 10,
   "id": "a86a50b6",
   "metadata": {},
   "outputs": [
    {
     "data": {
      "text/latex": [
       "$\\displaystyle x{\\left(t \\right)}$"
      ],
      "text/plain": [
       "x(t)"
      ]
     },
     "execution_count": 10,
     "metadata": {},
     "output_type": "execute_result"
    }
   ],
   "source": [
    "edo_sol.lhs  "
   ]
  },
  {
   "cell_type": "code",
   "execution_count": 11,
   "id": "20bbe710",
   "metadata": {},
   "outputs": [
    {
     "data": {
      "text/latex": [
       "$\\displaystyle C_{1} e^{t}$"
      ],
      "text/plain": [
       "C1*exp(t)"
      ]
     },
     "execution_count": 11,
     "metadata": {},
     "output_type": "execute_result"
    }
   ],
   "source": [
    "edo_sol.rhs"
   ]
  },
  {
   "cell_type": "markdown",
   "id": "5ded2498",
   "metadata": {},
   "source": [
    "A continuación, una vez tenemos la solución general, imponemos las condiciones iniciales. Lo hacemos a través de un diccionario."
   ]
  },
  {
   "cell_type": "code",
   "execution_count": 12,
   "id": "ba74073b",
   "metadata": {},
   "outputs": [
    {
     "data": {
      "text/plain": [
       "{x(0): x_0}"
      ]
     },
     "execution_count": 12,
     "metadata": {},
     "output_type": "execute_result"
    }
   ],
   "source": [
    "ics = {x(0): x0}\n",
    "ics"
   ]
  },
  {
   "cell_type": "markdown",
   "id": "f64f09b5",
   "metadata": {},
   "source": [
    "Sustituimos en ambos miembros de la solución general $t=0$, y en el miembro izquierdo, $x(0)=x_0$. Así, obtenemos la ecuación asociada a la imposición de la condición inicial del PVI."
   ]
  },
  {
   "cell_type": "code",
   "execution_count": 13,
   "id": "53f395e1",
   "metadata": {},
   "outputs": [
    {
     "data": {
      "text/latex": [
       "$\\displaystyle x_{0} = C_{1}$"
      ],
      "text/plain": [
       "Eq(x_0, C1)"
      ]
     },
     "execution_count": 13,
     "metadata": {},
     "output_type": "execute_result"
    }
   ],
   "source": [
    "CI_eq = sp.Eq(edo_sol.lhs.subs({t: 0}).subs(ics), edo_sol.rhs.subs({t: 0}))\n",
    "CI_eq"
   ]
  },
  {
   "cell_type": "markdown",
   "id": "1363b822",
   "metadata": {},
   "source": [
    "En este caso es muy obvia, pero en general necesitaremos resolver esta ecuación, usamos la orden `solve`"
   ]
  },
  {
   "cell_type": "code",
   "execution_count": 14,
   "id": "b5ec8e28",
   "metadata": {},
   "outputs": [
    {
     "data": {
      "text/plain": [
       "{C1: x_0}"
      ]
     },
     "execution_count": 14,
     "metadata": {},
     "output_type": "execute_result"
    }
   ],
   "source": [
    "CI_sol = sp.solve(CI_eq)[0]\n",
    "CI_sol"
   ]
  },
  {
   "cell_type": "markdown",
   "id": "eb7094f0",
   "metadata": {},
   "source": [
    "Finalmente, sustuimos la constante de la solución general por su valor al imponer la condición inicial."
   ]
  },
  {
   "cell_type": "code",
   "execution_count": 15,
   "id": "27e3054b",
   "metadata": {},
   "outputs": [
    {
     "data": {
      "text/latex": [
       "$\\displaystyle x{\\left(t \\right)} = x_{0} e^{t}$"
      ],
      "text/plain": [
       "Eq(x(t), x_0*exp(t))"
      ]
     },
     "execution_count": 15,
     "metadata": {},
     "output_type": "execute_result"
    }
   ],
   "source": [
    "edo_sol_part = edo_sol.subs(CI_sol)\n",
    "edo_sol_part"
   ]
  },
  {
   "cell_type": "markdown",
   "id": "05a600ba",
   "metadata": {},
   "source": [
    "Y así obtenemos la solución particular para cualquier $x_0$. En nuestro caso $x_0 = \\mu = 1$ nuestra solución exacta para nuestro PVI sería:"
   ]
  },
  {
   "cell_type": "code",
   "execution_count": 16,
   "id": "bf67cba8",
   "metadata": {},
   "outputs": [
    {
     "data": {
      "text/latex": [
       "$\\displaystyle e^{t}$"
      ],
      "text/plain": [
       "exp(t)"
      ]
     },
     "execution_count": 16,
     "metadata": {},
     "output_type": "execute_result"
    }
   ],
   "source": [
    "sol_exacta = edo_sol_part.rhs.subs({x0:mu})\n",
    "sol_exacta"
   ]
  },
  {
   "cell_type": "markdown",
   "id": "868dc81e",
   "metadata": {},
   "source": [
    "## 3. Representación gráfica de las soluciones 📈"
   ]
  },
  {
   "cell_type": "code",
   "execution_count": 17,
   "id": "2d93abaf",
   "metadata": {},
   "outputs": [],
   "source": [
    "# Asegurar que los gráficos generados con Matplotlib se muestren directamente en el notebook.\n",
    "%matplotlib inline "
   ]
  },
  {
   "cell_type": "markdown",
   "id": "71fdde80",
   "metadata": {},
   "source": [
    "Para poder evaluar la solución exacta de nuestro PVI, podemos usar `subs` y `evalf` en el caso de que queramos ver el valor numérico."
   ]
  },
  {
   "cell_type": "code",
   "execution_count": 15,
   "id": "2adba71e",
   "metadata": {},
   "outputs": [
    {
     "data": {
      "text/latex": [
       "$\\displaystyle e^{t}$"
      ],
      "text/plain": [
       "exp(t)"
      ]
     },
     "execution_count": 15,
     "metadata": {},
     "output_type": "execute_result"
    }
   ],
   "source": [
    "sol_exacta"
   ]
  },
  {
   "cell_type": "code",
   "execution_count": 16,
   "id": "e3700b2a",
   "metadata": {},
   "outputs": [
    {
     "data": {
      "text/latex": [
       "$\\displaystyle 2.71828182845905$"
      ],
      "text/plain": [
       "2.71828182845905"
      ]
     },
     "execution_count": 16,
     "metadata": {},
     "output_type": "execute_result"
    }
   ],
   "source": [
    "sol_exacta.subs({t:1}).evalf()"
   ]
  },
  {
   "cell_type": "markdown",
   "id": "e5a62436",
   "metadata": {},
   "source": [
    "Recordamos el intervalo que establecimos anteriormente."
   ]
  },
  {
   "cell_type": "code",
   "execution_count": 17,
   "id": "02b67fa9",
   "metadata": {},
   "outputs": [
    {
     "data": {
      "text/plain": [
       "(0, 1)"
      ]
     },
     "execution_count": 17,
     "metadata": {},
     "output_type": "execute_result"
    }
   ],
   "source": [
    "a,b    # el intervalo de trabajo"
   ]
  },
  {
   "cell_type": "code",
   "execution_count": 18,
   "id": "b78a05ff",
   "metadata": {},
   "outputs": [],
   "source": [
    "val_inf = sol_exacta.subs({t:a})  # valores de referencia a la izqda.\n",
    "val_sup = sol_exacta.subs({t:b})  # y derecha del intervalo"
   ]
  },
  {
   "cell_type": "code",
   "execution_count": 19,
   "id": "fe1d2315",
   "metadata": {},
   "outputs": [],
   "source": [
    "# No recomendado:\n",
    "# graf_sympy = sp.plot(sol_exacta, xlim =(a,b), ylim = (0,val_sup))"
   ]
  },
  {
   "cell_type": "markdown",
   "id": "40e33c14",
   "metadata": {},
   "source": [
    "Siempre tendremos la posibilidad de hacerlo de la manera tradicional habitual, pero esto requeriría reconvertir previamente esta solución analítica, dada simbólicamente, en una función numérica, evaluable de manera vectorial en arrays de valores, como por ejemplo las abcisas de la variable independiente en los que queramos obtener sus correspondientes ordenadas."
   ]
  },
  {
   "cell_type": "code",
   "execution_count": 19,
   "id": "e24998f3",
   "metadata": {},
   "outputs": [],
   "source": [
    "# Esta sería la herramienta adecuada para realizar dicha conversión\n",
    "sol_exacta_np = sp.lambdify(t, sol_exacta, 'numpy')"
   ]
  },
  {
   "cell_type": "code",
   "execution_count": 21,
   "id": "fb0a6252",
   "metadata": {},
   "outputs": [
    {
     "data": {
      "text/plain": [
       "array([1.        , 1.0101522 , 1.02040746, 1.03076684, 1.04123139,\n",
       "       1.05180218, 1.06248028, 1.07326679, 1.0841628 , 1.09516944,\n",
       "       1.10628782, 1.11751907, 1.12886434, 1.1403248 , 1.1519016 ,\n",
       "       1.16359593, 1.17540899, 1.18734197, 1.1993961 , 1.21157261,\n",
       "       1.22387273, 1.23629773, 1.24884887, 1.26152743, 1.2743347 ,\n",
       "       1.287272  , 1.30034064, 1.31354196, 1.32687729, 1.34034801,\n",
       "       1.35395549, 1.36770112, 1.38158629, 1.39561243, 1.40978096,\n",
       "       1.42409333, 1.43855101, 1.45315546, 1.46790818, 1.48281068,\n",
       "       1.49786447, 1.51307108, 1.52843208, 1.54394902, 1.5596235 ,\n",
       "       1.5754571 , 1.59145146, 1.60760818, 1.62392894, 1.64041539,\n",
       "       1.65706921, 1.6738921 , 1.69088579, 1.70805199, 1.72539247,\n",
       "       1.742909  , 1.76060336, 1.77847735, 1.7965328 , 1.81477156,\n",
       "       1.83319548, 1.85180644, 1.87060634, 1.88959711, 1.90878067,\n",
       "       1.92815899, 1.94773404, 1.96750782, 1.98748235, 2.00765966,\n",
       "       2.02804182, 2.0486309 , 2.06942901, 2.09043826, 2.1116608 ,\n",
       "       2.1330988 , 2.15475444, 2.17662993, 2.19872751, 2.22104942,\n",
       "       2.24359796, 2.26637541, 2.2893841 , 2.31262638, 2.33610462,\n",
       "       2.35982121, 2.38377858, 2.40797917, 2.43242545, 2.45711992,\n",
       "       2.48206508, 2.5072635 , 2.53271773, 2.55843038, 2.58440408,\n",
       "       2.61064146, 2.6371452 , 2.66391802, 2.69096264, 2.71828183])"
      ]
     },
     "execution_count": 21,
     "metadata": {},
     "output_type": "execute_result"
    }
   ],
   "source": [
    "t_values = np.linspace(a, b, 100) # así obtendríamos el array de abcisas\n",
    "x_values = sol_exacta_np(t_values) # y el de ordenadas\n",
    "x_values"
   ]
  },
  {
   "cell_type": "code",
   "execution_count": 22,
   "id": "0ebafa21",
   "metadata": {},
   "outputs": [
    {
     "data": {
      "image/png": "[encoded data removed]",
      "text/plain": [
       "<Figure size 600x600 with 1 Axes>"
      ]
     },
     "metadata": {},
     "output_type": "display_data"
    }
   ],
   "source": [
    "# Representación gráfica de la solución exacta\n",
    "fig, ax = plt.subplots(figsize=(6, 6))  # figura de Matplotlib\n",
    "ax.plot(t_values, x_values, label=\"sol. exacta\")\n",
    "ax.set_title(r\"Solución exacta: $%s$\" % sp.latex(sol_exacta), fontsize=18)\n",
    "ax.set_xlabel(r\"$t$\", fontsize=18)\n",
    "ax.set_ylabel(r\"$x$\", fontsize=18)\n",
    "ax.legend()\n",
    "\n",
    "fig.tight_layout()"
   ]
  },
  {
   "cell_type": "markdown",
   "id": "13fea6a7",
   "metadata": {},
   "source": [
    "## 4. Métodos de Euler 🌉"
   ]
  },
  {
   "cell_type": "markdown",
   "id": "bee1d2bf",
   "metadata": {},
   "source": [
    "El método de Euler explícito es el método más sencillo de aproximación numérica de soluciones de PVI. En él, calculamos sucesiones de valores\n",
    "$$\n",
    "t_{n+1} = t_n + h, \\qquad x_{n+1} = x_n + h f(t_n,x_n).\n",
    "$$"
   ]
  },
  {
   "cell_type": "code",
   "execution_count": 23,
   "id": "5ae6bd14",
   "metadata": {},
   "outputs": [],
   "source": [
    "def euler_explicito(f, a, b, mu, N):\n",
    "    \"\"\"\n",
    "    Método de Euler explícito para resolver la ecuación diferencial\n",
    "    x' = f(t,x) con condición inicial x(a) = mu en el intervalo [a,b]\n",
    "    con N pasos.\n",
    "    \"\"\"\n",
    "    h = (b - a) / N\n",
    "    t = np.linspace(a, b, N + 1)\n",
    "    x = np.zeros((N + 1,))\n",
    "    x[0] = mu\n",
    "    for n in range(N):\n",
    "        x[n + 1] = x[n] + h * f(t[n], x[n])\n",
    "    return t, x"
   ]
  },
  {
   "cell_type": "markdown",
   "id": "6b116670",
   "metadata": {},
   "source": [
    "A continuación aplicamos este algoritmo con un valor concreto de $N$ y la función $f(t,x)=x$ que define nuestra EDO desde un primer momento, así como la condición inicial $x(a)=1$."
   ]
  },
  {
   "cell_type": "code",
   "execution_count": 24,
   "id": "c0e00d28",
   "metadata": {},
   "outputs": [],
   "source": [
    "N = 10\n",
    "t_values, x_values_Eulerexpl = euler_explicito(f,a,b,mu,N)"
   ]
  },
  {
   "cell_type": "code",
   "execution_count": 25,
   "id": "1e571fc5",
   "metadata": {},
   "outputs": [
    {
     "name": "stdout",
     "output_type": "stream",
     "text": [
      "[1.         1.1        1.21       1.331      1.4641     1.61051\n",
      " 1.771561   1.9487171  2.14358881 2.35794769 2.59374246]\n"
     ]
    }
   ],
   "source": [
    "print(x_values_Eulerexpl)  #  Aproximaciones obtenidas en los nodos considerados"
   ]
  },
  {
   "cell_type": "code",
   "execution_count": 26,
   "id": "891de805",
   "metadata": {},
   "outputs": [
    {
     "data": {
      "image/png": "[encoded data removed]",
      "text/plain": [
       "<Figure size 800x400 with 1 Axes>"
      ]
     },
     "metadata": {},
     "output_type": "display_data"
    }
   ],
   "source": [
    "# Dibujamos y comparamos con la solución exacta\n",
    "fig, ax = plt.subplots(figsize=(8, 4))\n",
    "ax.plot(t_values, x_values_Eulerexpl, 'ro-',label = \"aprox. mét. Euler explícito\")\n",
    "ax.plot(t_values, sol_exacta_np(t_values), label=f\"sol. exacta: ${sp.latex(sol_exacta)}$\")\n",
    "ax.set_title(r\"Comparación solución exacta vs Euler explícito\", fontsize=18)\n",
    "ax.set_xlabel(r\"$t$\", fontsize=18)\n",
    "ax.set_ylabel(r\"$x$\", fontsize=18)\n",
    "ax.legend()\n",
    "fig.tight_layout()\n",
    "graf_Eulerexpl = fig"
   ]
  },
  {
   "cell_type": "markdown",
   "id": "4119342b",
   "metadata": {},
   "source": [
    "Por su parte, en el método de Euler implícito, es necesario resolver una ecuación para obtener el nuevo valor:\n",
    "$$x_{n+1} = x_n + h f(t_{n+1},x_{n+1}).$$"
   ]
  },
  {
   "cell_type": "code",
   "execution_count": 27,
   "id": "88ae1c4d",
   "metadata": {},
   "outputs": [],
   "source": [
    "from scipy.optimize import fsolve\n",
    "\n",
    "def euler_implicito(f, a, b, mu, N):\n",
    "    \"\"\"\n",
    "    Método de Euler explícito para resolver la ecuación diferencial\n",
    "    x' = f(t,x) con condición inicial x(a) = mu en el intervalo [a,b]\n",
    "    con N pasos.\n",
    "    \"\"\"\n",
    "    h = (b - a) / N\n",
    "    t = np.linspace(a, b, N + 1)\n",
    "    x = np.zeros(N + 1)\n",
    "    x[0] = mu\n",
    "    # x1 = sp.symbols('x1')\n",
    "    for n in range(N):\n",
    "        # x[n + 1] = np.float64(sp.solve(x[n]+h*f(t[n+1],x1)-x1,x1)[0])\n",
    "        x[n + 1] = fsolve(lambda x1: x[n] + h * f(t[n + 1], x1) - x1, x[n])[0]\n",
    "    return t, x"
   ]
  },
  {
   "cell_type": "code",
   "execution_count": 28,
   "id": "6094a17a",
   "metadata": {},
   "outputs": [],
   "source": [
    "N = 10\n",
    "t_values, x_values_Eulerimpl = euler_implicito(f,a,b,mu,N)"
   ]
  },
  {
   "cell_type": "code",
   "execution_count": 29,
   "id": "d8de7932",
   "metadata": {},
   "outputs": [
    {
     "name": "stdout",
     "output_type": "stream",
     "text": [
      "[1.         1.11111111 1.2345679  1.37174211 1.5241579  1.69350878\n",
      " 1.88167642 2.09075158 2.32305731 2.58117479 2.86797199]\n"
     ]
    }
   ],
   "source": [
    "print(x_values_Eulerimpl)  #  Aproximaciones obtenidas en los nodos considerados"
   ]
  },
  {
   "cell_type": "code",
   "execution_count": 30,
   "id": "33380c59",
   "metadata": {},
   "outputs": [
    {
     "data": {
      "image/png": "[encoded data removed]",
      "text/plain": [
       "<Figure size 800x400 with 1 Axes>"
      ]
     },
     "metadata": {},
     "output_type": "display_data"
    }
   ],
   "source": [
    "# Dibujamos y comparamos con la solución exacta\n",
    "fig, ax = plt.subplots(figsize=(8, 4))\n",
    "ax.plot(t_values, x_values_Eulerimpl, 'bo-',label = \"aprox. mét. Euler implícito\")\n",
    "ax.plot(t_values, x_values_Eulerexpl, 'ro-',label = \"aprox. mét. Euler explícito\")\n",
    "ax.plot(t_values, sol_exacta_np(t_values), label=f\"sol. exacta: ${sp.latex(sol_exacta)}$\")\n",
    "ax.set_title(r\"Comparación solución exacta vs Euler explícito vs Euler implícito\", fontsize=18)\n",
    "ax.set_xlabel(r\"$t$\", fontsize=18)\n",
    "ax.set_ylabel(r\"$x$\", fontsize=18)\n",
    "ax.legend()\n",
    "fig.tight_layout()\n",
    "graf_Eulerexpl = fig"
   ]
  },
  {
   "cell_type": "markdown",
   "id": "7803a18b",
   "metadata": {},
   "source": [
    "> **Ejercicio 1:** Repita las aproximaciones anteriores con diferentes valores de $N$ (y por tanto de $h$) y compruebe el efecto en cuanto a mayor o menor precisión, estabilidad y coste computacional.\n",
    "\n",
    "> **Ejercicio 2 ✅:** A partir de la implementación del algoritmo del método de Euler explícito, realice las modificaciones oportunas para obtener también las implementaciones correspondientes a los métodos de Euler mejorado (o del punto medio), así como del de Euler modificado (o de Heun)."
   ]
  },
  {
   "cell_type": "markdown",
   "id": "51eb85f9",
   "metadata": {},
   "source": [
    "Habría una posibilidad de intentar estimar el tiempo de CPU empleado "
   ]
  },
  {
   "cell_type": "code",
   "execution_count": 31,
   "id": "2bd1db23",
   "metadata": {},
   "outputs": [],
   "source": [
    "import timeit"
   ]
  },
  {
   "cell_type": "code",
   "execution_count": 32,
   "id": "d6820350",
   "metadata": {},
   "outputs": [
    {
     "name": "stdout",
     "output_type": "stream",
     "text": [
      "CPU times: total: 0 ns\n",
      "Wall time: 0 ns\n"
     ]
    }
   ],
   "source": [
    "N = 10\n",
    "%time\n",
    "_, _ = euler_explicito(f,a,b,mu,N)"
   ]
  },
  {
   "cell_type": "code",
   "execution_count": 33,
   "id": "4f521fb2",
   "metadata": {},
   "outputs": [
    {
     "name": "stdout",
     "output_type": "stream",
     "text": [
      "10 μs ± 827 ns per loop (mean ± std. dev. of 7 runs, 100,000 loops each)\n"
     ]
    }
   ],
   "source": [
    "%%timeit\n",
    "_, _ = euler_explicito(f,a,b,mu,N)"
   ]
  },
  {
   "cell_type": "code",
   "execution_count": 34,
   "id": "a0c8c189",
   "metadata": {},
   "outputs": [
    {
     "name": "stdout",
     "output_type": "stream",
     "text": [
      "CPU times: total: 0 ns\n",
      "Wall time: 0 ns\n"
     ]
    }
   ],
   "source": [
    "%time\n",
    "_, _ = euler_implicito(f,a,b,mu,N)"
   ]
  },
  {
   "cell_type": "code",
   "execution_count": 35,
   "id": "1c6a580c",
   "metadata": {},
   "outputs": [
    {
     "name": "stdout",
     "output_type": "stream",
     "text": [
      "356 μs ± 80.4 μs per loop (mean ± std. dev. of 7 runs, 1,000 loops each)\n"
     ]
    }
   ],
   "source": [
    "%%timeit\n",
    "_, _ = euler_implicito(f,a,b,mu,N)"
   ]
  },
  {
   "cell_type": "markdown",
   "id": "db465064",
   "metadata": {},
   "source": [
    "Al usar `%time` el intérprete de Python nos intenta devolver el tiempo empleado en la ejecución de dicho comando (o linea de comandos), pero esto suele depender muchas veces de la carga puntual de la CPU en ese justo momento de la ejecución; por ese motivo se suele preferir el uso del comando mágico `%%timeit` que lo que hace más bien es realizar una tanda de ejecuciones repetitivas de dicha linea o bloque de comandos, tantas veces como sea necesario para obtener un valor estimado promedio, que es el que nos devuelve seguidamente. Habrá que tener en cuenta en todo caso, tanto las unidades de medida del tiempo que nos devuelva (ya sea en  nano- ($10^{-9}$ s), micro- ($10^{-6}$ s), mili-segundos ($10^{-3}$ s), etc), como el número de veces que se ha llevado a cabo la tanda de repeticiones, que puede oscilar entre unos cientos o miles, hasta a veces un millón, para poder comparar finalmente de una manera realista la rapidez de ejecución de cierto trozo de código."
   ]
  },
  {
   "cell_type": "markdown",
   "id": "247518a2",
   "metadata": {},
   "source": [
    "## 5. Métodos de Taylor 🪩"
   ]
  },
  {
   "cell_type": "markdown",
   "id": "90140e25",
   "metadata": {},
   "source": [
    "Como es bien sabido, los métodos de Taylor se basan en un adecuado desarrollo en serie de Taylor de la propia función incógnita $x(t)$, suponiendo que resulta ser suficientemente derivable, y que sus derivadas sucesivas se pueden obtener a partir de la función $f$ que determina la EDO que satisface: $$x'(t)=f(t,x(t)),\\; t\\in[a,b]$$\n",
    "\n",
    "Así pues, si suponemos que $x\\in\\mathcal{C}^p$ y que podemos realizar un desarrollo en serie como el que sigue:\n",
    "$$x(t+h)\\approx x(t)+h\\, x'(t)+\\frac{h^2}{2}\\, x''(t)+\\ldots+\\frac{h^p}{p!}\\, x^{(p)}(t)\\\\ \\equiv x(t)+h\\, F_1(t,x(t))+\\frac{h^2}{2}\\, F_2(t,x(t))+\\ldots+\\frac{h^p}{p!}\\, F_p(t,x(t))$$\n",
    "\n",
    "pues justamente el conocido método de Euler explícito, visto anteriormente, correspondería con el desarrollo de Taylor correspondiente al caso $p=1$, definiendo por ejemplo $F_1(t,x)\\equiv f(t,x)$. \n",
    "\n",
    "Así pues vamos por ejemplo a centrarnos en desarrollar por ejemplo, el siguiente caso $p=2$, y los demás casos $p>2$ se harían de la misma manera, sólo que conllevarían la realización de más cálculos del mismo tipo.\n",
    "\n",
    "**Caso $p=2$:**\n",
    "Aquí de lo que se trataría es de aprovechar la expresión de la EDO que relaciona la derivada primera de $x(t)$ con $f(t,x(t))$, y realizar la derivada segunda de acuerdo con el siguiente desarrollo (asumiendo que $f\\equiv f(t,x)$):\n",
    "\n",
    "$$x''(t)=\\frac{d}{dt}x'(t)=\\frac{d}{dt}(f(t,x(t)))=\\frac{df}{dt}(t,x(t))+\\frac{df}{dx}(t,x(t))\\,x'(t) \\\\= \\frac{df}{dt}(t,x(t))+\\frac{df}{dx}(t,x(t))\\,f(t,x(t)) \\equiv F_2(t,x(t))$$\n",
    "\n",
    "de manera que finalmente nuestro métodos de Taylor de orden $p=2$ quedaría como sigue:\n",
    "\n",
    "$$x(t+h)\\approx x(t)+h\\,F_1(t,x(t)) +\\frac{h^2}{2}\\, F_2(t,x(t))$$\n",
    "\n",
    "con $F_1(t,x)\\equiv f(t,x)$  y $F_2(t,x)\\equiv \\frac{df}{dt}(t,x)+\\frac{df}{dx}(t,x)\\,f(t,x)$."
   ]
  },
  {
   "cell_type": "markdown",
   "id": "d5cc5967",
   "metadata": {},
   "source": [
    "Vamos pues a intentar implementar este método de Taylor de orden $p=2$ aprovechando las capacidadesd de cálculo simbólico que también nos proporciona el módulo de cálculo simbólico de Python, `SymPy`.\n",
    "\n",
    "Recordemos que `x` la definimos anteriormente como función, lo cual puede provocar error a la hora de derivar `f` respecto de `x`."
   ]
  },
  {
   "cell_type": "code",
   "execution_count": 36,
   "id": "e8709783",
   "metadata": {},
   "outputs": [
    {
     "data": {
      "text/plain": [
       "sympy.core.function.UndefinedFunction"
      ]
     },
     "execution_count": 36,
     "metadata": {},
     "output_type": "execute_result"
    }
   ],
   "source": [
    "type(x)"
   ]
  },
  {
   "cell_type": "code",
   "execution_count": 37,
   "id": "33b6ab4c",
   "metadata": {},
   "outputs": [],
   "source": [
    "# sp.diff(f(t, x), x) # Error"
   ]
  },
  {
   "cell_type": "markdown",
   "id": "71298f04",
   "metadata": {},
   "source": [
    "Utilizaremos en su lugar una nueva variable, `z`."
   ]
  },
  {
   "cell_type": "code",
   "execution_count": 38,
   "id": "ee57fe43",
   "metadata": {},
   "outputs": [
    {
     "data": {
      "text/latex": [
       "$\\displaystyle z$"
      ],
      "text/plain": [
       "z"
      ]
     },
     "execution_count": 38,
     "metadata": {},
     "output_type": "execute_result"
    }
   ],
   "source": [
    "z = sp.Symbol('z')\n",
    "f(t,z)"
   ]
  },
  {
   "cell_type": "code",
   "execution_count": 39,
   "id": "ec67f82b",
   "metadata": {},
   "outputs": [
    {
     "data": {
      "text/plain": [
       "(z, 0, 1)"
      ]
     },
     "execution_count": 39,
     "metadata": {},
     "output_type": "execute_result"
    }
   ],
   "source": [
    "f(t,z), sp.diff(f(t,z),t), sp.diff(f(t,z),z)"
   ]
  },
  {
   "cell_type": "code",
   "execution_count": 40,
   "id": "2439e707",
   "metadata": {},
   "outputs": [],
   "source": [
    "def F1(t,z):\n",
    "    return f(t,z)\n",
    "\n",
    "def F2(t,z):\n",
    "    return sp.diff(f(t,z),t) + sp.diff(f(t,z),z)*f(t,z)"
   ]
  },
  {
   "cell_type": "code",
   "execution_count": 41,
   "id": "e77c340b",
   "metadata": {},
   "outputs": [
    {
     "data": {
      "text/plain": [
       "(z, z)"
      ]
     },
     "execution_count": 41,
     "metadata": {},
     "output_type": "execute_result"
    }
   ],
   "source": [
    "F1(t,z), F2(t,z)"
   ]
  },
  {
   "cell_type": "code",
   "execution_count": 42,
   "id": "30d95154",
   "metadata": {},
   "outputs": [],
   "source": [
    "def taylor_2(f, a, b, mu, N):\n",
    "    \"\"\"\n",
    "    Método de Taylor de orden 2 para resolver la ecuación diferencial\n",
    "    x' = f(t,x) con condición inicial x(a) = mu en el intervalo [a,b]\n",
    "    con N pasos.\n",
    "    \"\"\"\n",
    "    h = (b - a) / N\n",
    "    t_values = np.linspace(a, b, N + 1)\n",
    "    x_values = np.zeros(N + 1)\n",
    "    x_values[0] = mu\n",
    "    t, z = sp.symbols('t z')\n",
    "    F1 = lambda t,z: f(t,z)\n",
    "    F2 = lambda t,z: sp.diff(f(t,z),t) + sp.diff(f(t,z),z)*f(t,z)\n",
    "    for n in range(N):\n",
    "        x_values[n + 1] = np.float64(x_values[n] + h * F1(t_values[n], x_values[n]) + \\\n",
    "                                     (h**2 / 2) * F2(t,z).subs({t: t_values[n], z: x_values[n]}))\n",
    "    return t_values, x_values"
   ]
  },
  {
   "cell_type": "code",
   "execution_count": 43,
   "id": "44e78226",
   "metadata": {},
   "outputs": [],
   "source": [
    "N = 10\n",
    "t_values, x_values_Taylor2 = taylor_2(f,a,b,mu,N)"
   ]
  },
  {
   "cell_type": "code",
   "execution_count": 44,
   "id": "cb939f1b",
   "metadata": {},
   "outputs": [
    {
     "name": "stdout",
     "output_type": "stream",
     "text": [
      "[1.         1.105      1.221025   1.34923262 1.49090205 1.64744677\n",
      " 1.82042868 2.01157369 2.22278892 2.45618176 2.71408085]\n"
     ]
    }
   ],
   "source": [
    "print(x_values_Taylor2)  #  Aproximaciones obtenidas en los nodos considerados"
   ]
  },
  {
   "cell_type": "code",
   "execution_count": 45,
   "id": "07533751",
   "metadata": {},
   "outputs": [
    {
     "data": {
      "image/png": "[encoded data removed]",
      "text/plain": [
       "<Figure size 800x400 with 1 Axes>"
      ]
     },
     "metadata": {},
     "output_type": "display_data"
    }
   ],
   "source": [
    "# Dibujamos y comparamos con la solución exacta\n",
    "fig, ax = plt.subplots(figsize=(8, 4))\n",
    "ax.plot(t_values, x_values_Eulerimpl, 'bo-',label = \"aprox. mét. Euler implícito\")\n",
    "ax.plot(t_values, x_values_Eulerexpl, 'ro-',label = \"aprox. mét. Euler explícito\")\n",
    "ax.plot(t_values, x_values_Taylor2, 'o-',label = \"aprox. mét. Taylor de orden 2\")\n",
    "ax.plot(t_values, sol_exacta_np(t_values), label=f\"sol. exacta: ${sp.latex(sol_exacta)}$\")\n",
    "ax.set_title(r\"Comparación solución exacta vs diferentes métodos\", fontsize=18)\n",
    "ax.set_xlabel(r\"$t$\", fontsize=18)\n",
    "ax.set_ylabel(r\"$x$\", fontsize=18)\n",
    "ax.legend()\n",
    "fig.tight_layout()\n",
    "graf_Eulerexpl = fig"
   ]
  },
  {
   "cell_type": "markdown",
   "id": "0923adc8",
   "metadata": {},
   "source": [
    "Vemos que en este caso la aproximación por el método de Taylor de orden 2 es muy cercana a la solución exacta. Para hacernos una idea del error que estamos cometiendo, calcularemos el error cuadrático medio, esto es:\n",
    "$$\n",
    "ECM = \\dfrac 1 {N+1} \\sum_{n=0}^{N} (x(t_n) - x_n)^2, \n",
    "$$\n",
    "donde $x(t)$ es la solución exacta y $x_n$ la sucesión de aproximaciones que calculamos con este método."
   ]
  },
  {
   "cell_type": "code",
   "execution_count": 46,
   "id": "caaacc35",
   "metadata": {},
   "outputs": [
    {
     "data": {
      "text/plain": [
       "np.float64(4.32470120081979e-06)"
      ]
     },
     "execution_count": 46,
     "metadata": {},
     "output_type": "execute_result"
    }
   ],
   "source": [
    "ECM_taylor2 = ((x_values_Taylor2 - sol_exacta_np(t_values))**2).mean()\n",
    "ECM_taylor2"
   ]
  },
  {
   "cell_type": "markdown",
   "id": "57b476a5",
   "metadata": {},
   "source": [
    "Otra forma de aproximar el error es calcular el máximo error absoluto, es decir:\n",
    "$$\n",
    "MEA = \\max_{n=0,\\dots,N}|x(t_n)-x_n|,\n",
    "$$\n",
    "aunque es una medida poco representativa, pues una desviación en un único punto puede dar indicios de ser una mala aproximación cuando realmente puede no serlo."
   ]
  },
  {
   "cell_type": "code",
   "execution_count": 47,
   "id": "60d37ca4",
   "metadata": {},
   "outputs": [
    {
     "data": {
      "text/plain": [
       "np.float64(0.004200981850820629)"
      ]
     },
     "execution_count": 47,
     "metadata": {},
     "output_type": "execute_result"
    }
   ],
   "source": [
    "MEA_taylor2 = np.max(np.abs(x_values_Taylor2 - sol_exacta_np(t_values)))\n",
    "MEA_taylor2"
   ]
  },
  {
   "cell_type": "markdown",
   "id": "68f752a6",
   "metadata": {},
   "source": [
    "> **Ejercicio 3** A partir de la implementación del algoritmo del método de Taylor de orden $p=2$, realice las modificaciones oportunas para obtener también una posible implementación correspondiente al método de Taylor de orden $p=3$."
   ]
  },
  {
   "cell_type": "markdown",
   "id": "c00a1561",
   "metadata": {},
   "source": [
    "## 6. Métodos de Runge-Kutta ➿"
   ]
  },
  {
   "cell_type": "markdown",
   "id": "5b79231f",
   "metadata": {},
   "source": [
    "Debido a la complejidad del desarrollo de las derivadas a partir de cierto orden, los métodos de Taylor no son muy utilizados. En su lugar, los métodos de Runge-Kutta (RK), son bastante populares.\n",
    "\n",
    "En particular, vamos a ver el método de RK de 2 evaluaciones en esta práctica, que como sabemos admite dos parámetros $\\alpha$ y $\\beta$, cumpliendo $\\alpha\\beta=1/2$, de forma que\n",
    "$$\n",
    "x_{n+1} = x_n + h ((1-\\alpha)K_1+\\alpha K_2),\n",
    "$$\n",
    "donde $K_1 = f(t_n, x_n), K_2=f(t_n+\\beta h, h\\beta K_1)$."
   ]
  },
  {
   "cell_type": "code",
   "execution_count": 48,
   "id": "569b5b4a",
   "metadata": {},
   "outputs": [],
   "source": [
    "def RK2(f, a, b, mu, N, alpha=0.5, beta=1):\n",
    "    \"\"\"\n",
    "    Método de Runge-Kutta de orden 2 para resolver la ecuación diferencial\n",
    "    x' = f(t,x) con condición inicial x(a) = mu en el intervalo [a,b]\n",
    "    con N pasos.\n",
    "    \"\"\"\n",
    "    h = (b - a) / N\n",
    "    t_values = np.linspace(a, b, N + 1)\n",
    "    x_values = np.zeros(N + 1)\n",
    "    x_values[0] = mu\n",
    "    for n in range(N):\n",
    "        K1 = f(t_values[n], x_values[n])\n",
    "        K2 = f(t_values[n] + beta * h, x_values[n] + beta * h * K1)\n",
    "        x_values[n + 1] = x_values[n] + h * ((1-alpha)*K1 + alpha*K2)\n",
    "    return t_values, x_values"
   ]
  },
  {
   "cell_type": "code",
   "execution_count": 49,
   "id": "f38c66bf",
   "metadata": {},
   "outputs": [],
   "source": [
    "N = 10\n",
    "alpha, beta = 1, 1/2 # Euler mejorado o punto medio\n",
    "t_values, x_values_rk2_pm = RK2(f,a,b,mu,N,alpha=alpha, beta=beta)"
   ]
  },
  {
   "cell_type": "code",
   "execution_count": 50,
   "id": "c8465a0e",
   "metadata": {},
   "outputs": [
    {
     "name": "stdout",
     "output_type": "stream",
     "text": [
      "[1.         1.105      1.221025   1.34923262 1.49090205 1.64744677\n",
      " 1.82042868 2.01157369 2.22278892 2.45618176 2.71408085]\n"
     ]
    }
   ],
   "source": [
    "print(x_values_rk2_pm)  #  Aproximaciones obtenidas en los nodos considerados"
   ]
  },
  {
   "cell_type": "code",
   "execution_count": 51,
   "id": "1283feb4",
   "metadata": {},
   "outputs": [],
   "source": [
    "N = 10\n",
    "alpha, beta = 1/2, 1 # Euler modificado o Heun\n",
    "t_values, x_values_rk2_H = RK2(f,a,b,mu,N,alpha=alpha, beta=beta)"
   ]
  },
  {
   "cell_type": "code",
   "execution_count": 52,
   "id": "ae018f7e",
   "metadata": {},
   "outputs": [
    {
     "name": "stdout",
     "output_type": "stream",
     "text": [
      "[1.         1.105      1.221025   1.34923262 1.49090205 1.64744677\n",
      " 1.82042868 2.01157369 2.22278892 2.45618176 2.71408085]\n"
     ]
    }
   ],
   "source": [
    "print(x_values_rk2_H)  #  Aproximaciones obtenidas en los nodos considerados"
   ]
  },
  {
   "cell_type": "code",
   "execution_count": 53,
   "id": "59c601c9",
   "metadata": {},
   "outputs": [
    {
     "data": {
      "image/png": "[encoded data removed]",
      "text/plain": [
       "<Figure size 800x400 with 1 Axes>"
      ]
     },
     "metadata": {},
     "output_type": "display_data"
    }
   ],
   "source": [
    "# Dibujamos y comparamos con la solución exacta\n",
    "fig, ax = plt.subplots(figsize=(8, 4))\n",
    "ax.plot(t_values, x_values_rk2_pm, 'bo-',label = r\"aprox. RK2 $\\alpha=1,\\beta=1/2$\")\n",
    "ax.plot(t_values, x_values_rk2_H, 'ro-',label = r\"aprox. RK2 $\\alpha=1/2,\\beta=1$\")\n",
    "ax.plot(t_values, sol_exacta_np(t_values), label=f\"sol. exacta: ${sp.latex(sol_exacta)}$\")\n",
    "ax.set_title(r\"Comparación solución exacta vs RK2\", fontsize=18)\n",
    "ax.set_xlabel(r\"$t$\", fontsize=18)\n",
    "ax.set_ylabel(r\"$x$\", fontsize=18)\n",
    "ax.legend()\n",
    "fig.tight_layout()\n",
    "graf_Eulerexpl = fig"
   ]
  },
  {
   "cell_type": "code",
   "execution_count": 54,
   "id": "6a92ecbc",
   "metadata": {},
   "outputs": [
    {
     "data": {
      "text/plain": [
       "(np.float64(4.324701200821029e-06), np.float64(4.324701200821029e-06))"
      ]
     },
     "execution_count": 54,
     "metadata": {},
     "output_type": "execute_result"
    }
   ],
   "source": [
    "ECM_rk2_pm = ((x_values_rk2_pm - sol_exacta_np(t_values))**2).mean()\n",
    "ECM_rk2_H  = ((x_values_rk2_H  - sol_exacta_np(t_values))**2).mean()\n",
    "ECM_rk2_pm, ECM_rk2_H"
   ]
  },
  {
   "cell_type": "code",
   "execution_count": 55,
   "id": "7ccd5ae1",
   "metadata": {},
   "outputs": [
    {
     "data": {
      "text/plain": [
       "(np.float64(0.004200981850821073), np.float64(0.004200981850821073))"
      ]
     },
     "execution_count": 55,
     "metadata": {},
     "output_type": "execute_result"
    }
   ],
   "source": [
    "MEA_rk2_pm = np.max(np.abs(x_values_rk2_pm - sol_exacta_np(t_values)))\n",
    "MEA_rk2_H  = np.max(np.abs(x_values_rk2_H  - sol_exacta_np(t_values)))\n",
    "MEA_rk2_pm, MEA_rk2_H"
   ]
  },
  {
   "cell_type": "markdown",
   "id": "77d53db5",
   "metadata": {},
   "source": [
    "Por su parte, en el método de Runge-Kutta de 4 evaluaciones, también conocido como método de Runge-Kuta clásico, la sucesión se calcula mediante\n",
    "$$\n",
    "x_{n+1} = x_n + \\frac h 6 (K_1+2K_2+2K_3+K_4),\n",
    "$$\n",
    "donde $K_1=f(t_n,x_n)$, $K_2 = f(t_n+\\frac h 2, x_n + \\frac h 2 K_1)$, $K_3 = f(t_n+\\frac h 2, x_n + \\frac h 2 K_2)$ y $K_4 = f(t_n+h, x_n + h K_3)$.\n",
    "\n",
    "> **Ejercicio  4 ✅:** Programe el método de Runge-Kutta de 4 evaluaciones y grafique la sucesión de aproximaciones y calcule el error cuadrático medio y el máximo error absoluto con respecto a la solución exacta.\n",
    "\n",
    "> **Ejercicio 5 (Ejercicio final de las diapositivas) ✅:** Se pretende aproximar la solución del PVI:\n",
    "> $$\n",
    "> \\left\\{\\begin{array}{rcl}\n",
    "> x'(t) &=& \\dfrac{t-x(t)} 2 \\\\\n",
    "> x(0) &=& 1\n",
    "> \\end{array}\\right..\n",
    "> $$\n",
    "> en $[0,3]$\n",
    "> 1. Usa el método de Runge-Kutta de 2 evaluaciones con $\\alpha= 3/4$ y $\\beta=2/3$ para $h = 1$, $h = 1/2$, $h = 1/4$ y $h = 1/8$ y compara los resultados obtenidos.\n",
    "> 2. Repite el apartado anterior usando Runge-Kutta clásico.\n",
    "> \n",
    "> Nota: La solución exacta es $x(t) = 3 e^{-t/2} + t -2$."
   ]
  },
  {
   "cell_type": "markdown",
   "id": "11434b2a",
   "metadata": {},
   "source": [
    "## 7. Métodos Multipaso Lineales (MML) 👣👣"
   ]
  },
  {
   "cell_type": "markdown",
   "id": "afb630c4",
   "metadata": {},
   "source": [
    "Recordamos que un método multipaso (con $k$ pasos) para el PVI considerado en esta práctica, tendría la siguiente forma:\n",
    "$$\n",
    "x_0, x_1, \\ldots, x_{k-1} \\text{ valores iniciales de partida}\\\\\n",
    "x_{n+k} = \\sum_{j=0}^{k-1} \\alpha_j \\, x_{n+j} + h\\, \\Phi(x_{n+k}, x_{n+k-1}, \\ldots, x_{n};\\, t_n,\\, h)\n",
    "$$\n",
    "donde la función $\\Phi$ cumple una condición de Lipschitz adecuada.\n",
    "\n",
    "Se dirá que uno de estos métodos se trata de un Método Multipaso Lineal (MML) si además la expresión que define el cálculo de $x_{n+k}$ se puede escribir de la siguiente manera:\n",
    "$$\n",
    "x_{n+k} = \\sum_{j=0}^{k-1} \\alpha_j \\, x_{n+j} + h\\,  \\sum_{j=0}^{k} \\beta_j \\, f_{n+j}\n",
    "$$\n",
    "usando la notación   $\\ f_i\\equiv f(t_i,x_i)$.\n",
    "\n",
    "Por otra parte, si $\\alpha_0=0=\\beta_0$ evidentemente, ya el método dejaría de ser de $k$ pasos, por lo que exigiremos que $|\\alpha_0|+|\\beta_0|\\neq 0$, tratándose de un método explícito si $\\beta_k=0$, e implícito en caso contrario."
   ]
  },
  {
   "cell_type": "markdown",
   "id": "99d3e453",
   "metadata": {},
   "source": [
    "### 7.1. MML basados en cuadraturas 🟦"
   ]
  },
  {
   "cell_type": "markdown",
   "id": "910e9664",
   "metadata": {},
   "source": [
    "Usando las fórmulas clásicas habituales de integración numérica, de tipo interpolatorio, podríamos diseñar innumerables nuevos métodos de resolución numérica de problemas de PVI de tipo MML, partiendo de que la ecuación diferencial de partida $x'(t)=f(t,x(t))$ se puede expresar también de forma equivalente, como \n",
    "$$x(\\tau_2)-x(\\tau_1)=\\int_{\\tau_1}^{\\tau_2} f(s,x(s))\\, ds, \\; \\forall \\tau_1, \\, \\tau_2 \\in [a,b],$$ \n",
    "entonces podremos también escribir, $\\forall 1\\leq q \\leq k$, notando $f_j\\equiv f(t_j,y_j)$,\n",
    "$$x(t_{n+k}) = x(t_{n+k-q}) + \\int_{t_{n+k-q}}^{t_{n+k}} f(s,x(s))\\, ds \\\\\n",
    "\\approx  x(t_{n+k-q}) + h\\, \\sum_{j=m}^{k-r} \\beta_j \\, f_{n+j}\n",
    "$$\n",
    "que será implícito si $r=0$, y explícito en cualquier otro caso. Y para que el método resultante sea efectivamente de $k$ pasos, deberá de aparecer por algún lado el término $x_n$, por lo que necesariamente $q=k$, o bien $m=0$.\n",
    "\n",
    "Dependiendo ahora de los valores de $q,\\, m, \\, r$ surgen algunas conocidas familias de métodos, que revisaremos a continuación."
   ]
  },
  {
   "cell_type": "markdown",
   "id": "fa0e497b",
   "metadata": {},
   "source": [
    "#### 7.1.1 Métodos de tipo Adams 🏰"
   ]
  },
  {
   "cell_type": "markdown",
   "id": "cdbd0989",
   "metadata": {},
   "source": [
    "Son aquellos con $q=1$, y por tanto $m=0$; y se podrían expresar como sigue:\n",
    "\n",
    "$$ x_{n+k} = x_{n+k-1} + h\\, (\\beta_0\\, f_n + \\ldots + \\beta_{k-r}\\, f_{n+k-r})\n",
    "$$\n",
    "\n",
    "Comenzamos hablando de los **métodos de Adams-Bashforth** (AB). \n",
    "Son métodos de tipo Adams explícitos, con exactitud máxima, y valores $q=1,\\, m=0,\\, r=1$.\n",
    "\n",
    "Por ejemplo, \n",
    "- con $k=1$ tendríamos de nuevo el método de Euler: $x_{n+1} = x_{n} + h\\, f_n$\n",
    "- y con $k=2$: $x_{n+2} = x_{n+1} + \\frac{h}{2} (3 f_{n+1} - f_{n})$."
   ]
  },
  {
   "cell_type": "code",
   "execution_count": 3,
   "id": "9699cd00",
   "metadata": {},
   "outputs": [],
   "source": [
    "def Adams_Bashforth2(f, a, b, x0, x1, N):\n",
    "    \"\"\"\n",
    "    Método de Adam-Bashforth de orden 2 para resolver la ecuación diferencial\n",
    "    x' = f(t,x) con condiciones iniciales x0, x1 en el intervalo [a,b]\n",
    "    con N pasos.\n",
    "    \"\"\"\n",
    "    h = (b - a) / N\n",
    "    t_values = np.linspace(a, b, N + 1)\n",
    "    x_values = np.zeros(N + 1)\n",
    "    x_values[0] = x0\n",
    "    x_values[1] = x1\n",
    "    for n in range(N-1):\n",
    "        x_values[n + 2] = x_values[n+1] + (h / 2) * (3 * f(t_values[n+1], x_values[n+1]) - f(t_values[n], x_values[n]))\n",
    "    return t_values, x_values"
   ]
  },
  {
   "cell_type": "code",
   "execution_count": 20,
   "id": "13499aa7",
   "metadata": {},
   "outputs": [],
   "source": [
    "N = 10\n",
    "a, b = 0, 1\n",
    "h = (b - a) / N\n",
    "x0, x1 = sol_exacta_np(a), sol_exacta_np(a+h)\n",
    "t_values, x_values_AB2 = Adams_Bashforth2(f,a,b,x0,x1,N)"
   ]
  },
  {
   "cell_type": "code",
   "execution_count": 21,
   "id": "a44a077f",
   "metadata": {},
   "outputs": [
    {
     "name": "stdout",
     "output_type": "stream",
     "text": [
      "[1.         1.10517092 1.22094656 1.34882999 1.49010716 1.64618174\n",
      " 1.81860364 2.0090851  2.21951768 2.45199108 2.70881386]\n"
     ]
    }
   ],
   "source": [
    "print(x_values_AB2)  #  Aproximaciones obtenidas en los nodos considerados"
   ]
  },
  {
   "cell_type": "code",
   "execution_count": 22,
   "id": "10d399de",
   "metadata": {},
   "outputs": [
    {
     "data": {
      "image/png": "[encoded data removed]",
      "text/plain": [
       "<Figure size 800x400 with 1 Axes>"
      ]
     },
     "metadata": {},
     "output_type": "display_data"
    }
   ],
   "source": [
    "# Dibujamos y comparamos con la solución exacta\n",
    "fig, ax = plt.subplots(figsize=(8, 4))\n",
    "ax.plot(t_values, x_values_AB2, 'ro-',label = r\"aprox. Adam-Bashforth 2\")\n",
    "ax.plot(t_values, sol_exacta_np(t_values), label=f\"sol. exacta: ${sp.latex(sol_exacta)}$\")\n",
    "ax.set_title(r\"Comparación solución exacta vs Adam-Bashforth orden 2\", fontsize=18)\n",
    "ax.set_xlabel(r\"$t$\", fontsize=18)\n",
    "ax.set_ylabel(r\"$x$\", fontsize=18)\n",
    "ax.legend()\n",
    "fig.tight_layout()\n",
    "graf_Eulerexpl = fig"
   ]
  },
  {
   "cell_type": "code",
   "execution_count": 23,
   "id": "7a410f4a",
   "metadata": {},
   "outputs": [
    {
     "data": {
      "text/plain": [
       "np.float64(2.078849755284244e-05)"
      ]
     },
     "execution_count": 23,
     "metadata": {},
     "output_type": "execute_result"
    }
   ],
   "source": [
    "ECM_AB2 = ((x_values_AB2 - sol_exacta_np(t_values))**2).mean()\n",
    "ECM_AB2"
   ]
  },
  {
   "cell_type": "code",
   "execution_count": 24,
   "id": "2aa94d7d",
   "metadata": {},
   "outputs": [
    {
     "data": {
      "text/plain": [
       "np.float64(0.009467968119576842)"
      ]
     },
     "execution_count": 24,
     "metadata": {},
     "output_type": "execute_result"
    }
   ],
   "source": [
    "MEA_AB2 = np.max(np.abs(x_values_AB2 - sol_exacta_np(t_values)))\n",
    "MEA_AB2"
   ]
  },
  {
   "cell_type": "markdown",
   "id": "53479e9f",
   "metadata": {},
   "source": [
    "> **Ejercicio 6:** A partir de la implementación del algoritmo del método de Adams-Bashforth anterior, realice las modificaciones oportunas para intentar obtener también las implementaciones correspondientes a otros métodos de tipo Adams (al menos 3), como Adams-Moulton (AM), Milne-Simpson, Nyström y/o Newton-Cotes."
   ]
  },
  {
   "cell_type": "markdown",
   "id": "f0a18255",
   "metadata": {},
   "source": [
    "#### 7.1.2. Métodos Predictor-Corrector 🔮"
   ]
  },
  {
   "cell_type": "markdown",
   "id": "b027bdf2",
   "metadata": {},
   "source": [
    "Implementaremos a continuación un método MML Predictor-Corrector muy sencillo, combinando un predictor AB de 2 pasos y un corrector Simpson, aplicando una única corrección en cada iteración. Es decir:\n",
    "$$\n",
    "P:\\qquad x_{n+2}^{(0)} = x_{n+1} + \\frac h 2(3 f_{n+1}-f_n),\n",
    "$$\n",
    "$$\n",
    "C^1: \\qquad x_{n+2} = x_n + \\frac h 3 (f_n + 4 f_{n+1} + f(t_{n+2}, x_{n+2}^{(0)}))\n",
    "$$"
   ]
  },
  {
   "cell_type": "code",
   "execution_count": 29,
   "id": "0eb5b1f3",
   "metadata": {},
   "outputs": [],
   "source": [
    "def predictor_corrector_AB2_Simpson(f, a, b, x0, x1, N):\n",
    "    \"\"\"\n",
    "    Método predictor-corrector de orden 2 para resolver la ecuación diferencial\n",
    "    x' = f(t,x) con condiciones iniciales x0, x1, x2 en el intervalo [a,b]\n",
    "    con N pasos.\n",
    "    Utilizamos el método de Adam-Bashforth de orden 2 para la predicción\n",
    "    y el método de Simpson para la corrección.\n",
    "    \"\"\"\n",
    "    h = (b - a) / N\n",
    "    t_values = np.linspace(a, b, N + 1)\n",
    "    x_values = np.zeros(N + 1)\n",
    "    x_values[0] = x0\n",
    "    x_values[1] = x1\n",
    "    \n",
    "    # Predicción, usaremos la fórmula abierta de 4 pasos:\n",
    "    for n in range(N-1):\n",
    "        \n",
    "        # Predicción, usaremos el método de Adam-Bashforth de orden 2:\n",
    "        x_values[n + 2] = x_values[n+1] + h/2*(-f(t_values[n],x_values[n])+3*f(t_values[n+1],x_values[n+1]))\n",
    "\n",
    "        # Corrección, usaremos la regla de Simpson:\n",
    "        x_values[n + 2] = x_values[n] + h/3*(f(t_values[n],x_values[n])+4*f(t_values[n+1],x_values[n+1])+f(t_values[n+2],x_values[n+2]))\n",
    "\n",
    "    return t_values, x_values\n"
   ]
  },
  {
   "cell_type": "code",
   "execution_count": 36,
   "id": "bbe612f2",
   "metadata": {},
   "outputs": [],
   "source": [
    "N = 10\n",
    "x0, x1 = sol_exacta_np(a), sol_exacta_np(a+h)\n",
    "t_values, x_values_PC = predictor_corrector_AB2_Simpson(f,a,b,x0,x1,N)"
   ]
  },
  {
   "cell_type": "code",
   "execution_count": 37,
   "id": "3e577f00",
   "metadata": {},
   "outputs": [
    {
     "name": "stdout",
     "output_type": "stream",
     "text": [
      "[1.         1.10517092 1.22138767 1.34983955 1.49178741 1.64867464\n",
      " 1.82204982 2.01366789 2.22542772 2.4594658  2.71810789]\n"
     ]
    }
   ],
   "source": [
    "print(x_values_PC)  #  Aproximaciones obtenidas en los nodos considerados"
   ]
  },
  {
   "cell_type": "code",
   "execution_count": 38,
   "id": "6ac30b6f",
   "metadata": {},
   "outputs": [
    {
     "data": {
      "image/png": "[encoded data removed]",
      "text/plain": [
       "<Figure size 800x400 with 1 Axes>"
      ]
     },
     "metadata": {},
     "output_type": "display_data"
    }
   ],
   "source": [
    "# Dibujamos y comparamos con la solución exacta\n",
    "fig, ax = plt.subplots(figsize=(8, 4))\n",
    "ax.plot(t_values, x_values_PC, 'ro-',label = r\"aprox. Predictor-Corrector\")\n",
    "ax.plot(t_values, sol_exacta_np(t_values), label=f\"sol. exacta: ${sp.latex(sol_exacta)}$\")\n",
    "ax.set_title(r\"Comparación solución exacta vs predictor-corrector de 2 pasos\", fontsize=18)\n",
    "ax.set_xlabel(r\"$t$\", fontsize=18)\n",
    "ax.set_ylabel(r\"$x$\", fontsize=18)\n",
    "ax.legend()\n",
    "fig.tight_layout()\n",
    "graf_Eulerexpl = fig"
   ]
  },
  {
   "cell_type": "code",
   "execution_count": 39,
   "id": "b6d3f990",
   "metadata": {},
   "outputs": [
    {
     "data": {
      "text/plain": [
       "np.float64(7.094749570629264e-09)"
      ]
     },
     "execution_count": 39,
     "metadata": {},
     "output_type": "execute_result"
    }
   ],
   "source": [
    "ECM_PC = ((x_values_PC - sol_exacta_np(t_values))**2).mean()\n",
    "ECM_PC"
   ]
  },
  {
   "cell_type": "code",
   "execution_count": 40,
   "id": "58f58975",
   "metadata": {},
   "outputs": [
    {
     "data": {
      "text/plain": [
       "np.float64(0.0001739368976836353)"
      ]
     },
     "execution_count": 40,
     "metadata": {},
     "output_type": "execute_result"
    }
   ],
   "source": [
    "MEA_PC = np.max(np.abs(x_values_PC - sol_exacta_np(t_values)))\n",
    "MEA_PC"
   ]
  },
  {
   "cell_type": "markdown",
   "id": "7ce16ab6",
   "metadata": {},
   "source": [
    "> **Ejercicio 7 ✅:** Implemente un método MML Predictor-Corrector combinando un predictor AB de 5 pasos con un corrector AM de 4, y aplicando una sólo corrección en cada iteración:\n",
    "> $$\n",
    "> P: \\qquad x_{n+5}^{(0)} = x_{n+4} + \\frac{h}{720} (1901 f_{n+4} -2774 f_{n+3} +2616 f_{n+2} - 1274 f_{n+1} + 251 f_n)\n",
    "> $$\n",
    "> $$\n",
    "> C^1: \\qquad  x_{n+5} = x_{n+4} + \\frac{h}{720} (251 f(t_{n+5},x_{n+5}^{(0)}) + 646 f_{n+4} -264 f_{n+3} +106 f_{n+2} - 19 f_{n+1} )\n",
    "> $$"
   ]
  },
  {
   "cell_type": "markdown",
   "id": "766438b6",
   "metadata": {},
   "source": [
    "## 8. Integración Numerica de EDOs y sistemas de Ecs. Diferenciales usando SciPy 🐍"
   ]
  },
  {
   "cell_type": "markdown",
   "id": "5bf32419",
   "metadata": {},
   "source": [
    "Al igual que en las prácticas 1 y 2, terminamos esta práctica utilizando los métodos nativos del módulo `scipy` para la resolución numérica de ecuaciones y sistemas de ecuaciones diferenciales. \n",
    "\n",
    "Más concretamente, utilizaremos el método `odeint`, que se encuentra dentro del submódulo `integrate`."
   ]
  },
  {
   "cell_type": "code",
   "execution_count": 41,
   "id": "9fd7f2b6",
   "metadata": {},
   "outputs": [
    {
     "name": "stdout",
     "output_type": "stream",
     "text": [
      "Help on function odeint in module scipy.integrate._odepack_py:\n",
      "\n",
      "odeint(func, y0, t, args=(), Dfun=None, col_deriv=0, full_output=0, ml=None, mu=None, rtol=None, atol=None, tcrit=None, h0=0.0, hmax=0.0, hmin=0.0, ixpr=0, mxstep=0, mxhnil=0, mxordn=12, mxords=5, printmessg=0, tfirst=False)\n",
      "    Integrate a system of ordinary differential equations.\n",
      "\n",
      "    .. note:: For new code, use `scipy.integrate.solve_ivp` to solve a\n",
      "              differential equation.\n",
      "\n",
      "    Solve a system of ordinary differential equations using lsoda from the\n",
      "    FORTRAN library odepack.\n",
      "\n",
      "    Solves the initial value problem for stiff or non-stiff systems\n",
      "    of first order ode-s::\n",
      "\n",
      "        dy/dt = func(y, t, ...)  [or func(t, y, ...)]\n",
      "\n",
      "    where y can be a vector.\n",
      "\n",
      "    .. note:: By default, the required order of the first two arguments of\n",
      "              `func` are in the opposite order of the arguments in the system\n",
      "              definition function used by the `scipy.integrate.ode` class and\n",
      "              the function `scipy.integrate.solve_ivp`. To use a function with\n",
      "              the signature ``func(t, y, ...)``, the argument `tfirst` must be\n",
      "              set to ``True``.\n",
      "\n",
      "    Parameters\n",
      "    ----------\n",
      "    func : callable(y, t, ...) or callable(t, y, ...)\n",
      "        Computes the derivative of y at t.\n",
      "        If the signature is ``callable(t, y, ...)``, then the argument\n",
      "        `tfirst` must be set ``True``.\n",
      "        `func` must not modify the data in `y`, as it is a\n",
      "        view of the data used internally by the ODE solver.\n",
      "    y0 : array\n",
      "        Initial condition on y (can be a vector).\n",
      "    t : array\n",
      "        A sequence of time points for which to solve for y. The initial\n",
      "        value point should be the first element of this sequence.\n",
      "        This sequence must be monotonically increasing or monotonically\n",
      "        decreasing; repeated values are allowed.\n",
      "    args : tuple, optional\n",
      "        Extra arguments to pass to function.\n",
      "    Dfun : callable(y, t, ...) or callable(t, y, ...)\n",
      "        Gradient (Jacobian) of `func`.\n",
      "        If the signature is ``callable(t, y, ...)``, then the argument\n",
      "        `tfirst` must be set ``True``.\n",
      "        `Dfun` must not modify the data in `y`, as it is a\n",
      "        view of the data used internally by the ODE solver.\n",
      "    col_deriv : bool, optional\n",
      "        True if `Dfun` defines derivatives down columns (faster),\n",
      "        otherwise `Dfun` should define derivatives across rows.\n",
      "    full_output : bool, optional\n",
      "        True if to return a dictionary of optional outputs as the second output\n",
      "    printmessg : bool, optional\n",
      "        Whether to print the convergence message\n",
      "    tfirst : bool, optional\n",
      "        If True, the first two arguments of `func` (and `Dfun`, if given)\n",
      "        must ``t, y`` instead of the default ``y, t``.\n",
      "\n",
      "        .. versionadded:: 1.1.0\n",
      "\n",
      "    Returns\n",
      "    -------\n",
      "    y : array, shape (len(t), len(y0))\n",
      "        Array containing the value of y for each desired time in t,\n",
      "        with the initial value `y0` in the first row.\n",
      "    infodict : dict, only returned if full_output == True\n",
      "        Dictionary containing additional output information\n",
      "\n",
      "        =======  ============================================================\n",
      "        key      meaning\n",
      "        =======  ============================================================\n",
      "        'hu'     vector of step sizes successfully used for each time step\n",
      "        'tcur'   vector with the value of t reached for each time step\n",
      "                 (will always be at least as large as the input times)\n",
      "        'tolsf'  vector of tolerance scale factors, greater than 1.0,\n",
      "                 computed when a request for too much accuracy was detected\n",
      "        'tsw'    value of t at the time of the last method switch\n",
      "                 (given for each time step)\n",
      "        'nst'    cumulative number of time steps\n",
      "        'nfe'    cumulative number of function evaluations for each time step\n",
      "        'nje'    cumulative number of jacobian evaluations for each time step\n",
      "        'nqu'    a vector of method orders for each successful step\n",
      "        'imxer'  index of the component of largest magnitude in the\n",
      "                 weighted local error vector (e / ewt) on an error return, -1\n",
      "                 otherwise\n",
      "        'lenrw'  the length of the double work array required\n",
      "        'leniw'  the length of integer work array required\n",
      "        'mused'  a vector of method indicators for each successful time step:\n",
      "                 1: adams (nonstiff), 2: bdf (stiff)\n",
      "        =======  ============================================================\n",
      "\n",
      "    Other Parameters\n",
      "    ----------------\n",
      "    ml, mu : int, optional\n",
      "        If either of these are not None or non-negative, then the\n",
      "        Jacobian is assumed to be banded. These give the number of\n",
      "        lower and upper non-zero diagonals in this banded matrix.\n",
      "        For the banded case, `Dfun` should return a matrix whose\n",
      "        rows contain the non-zero bands (starting with the lowest diagonal).\n",
      "        Thus, the return matrix `jac` from `Dfun` should have shape\n",
      "        ``(ml + mu + 1, len(y0))`` when ``ml >=0`` or ``mu >=0``.\n",
      "        The data in `jac` must be stored such that ``jac[i - j + mu, j]``\n",
      "        holds the derivative of the ``i``\\ th equation with respect to the\n",
      "        ``j``\\ th state variable.  If `col_deriv` is True, the transpose of\n",
      "        this `jac` must be returned.\n",
      "    rtol, atol : float, optional\n",
      "        The input parameters `rtol` and `atol` determine the error\n",
      "        control performed by the solver.  The solver will control the\n",
      "        vector, e, of estimated local errors in y, according to an\n",
      "        inequality of the form ``max-norm of (e / ewt) <= 1``,\n",
      "        where ewt is a vector of positive error weights computed as\n",
      "        ``ewt = rtol * abs(y) + atol``.\n",
      "        rtol and atol can be either vectors the same length as y or scalars.\n",
      "        Defaults to 1.49012e-8.\n",
      "    tcrit : ndarray, optional\n",
      "        Vector of critical points (e.g., singularities) where integration\n",
      "        care should be taken.\n",
      "    h0 : float, (0: solver-determined), optional\n",
      "        The step size to be attempted on the first step.\n",
      "    hmax : float, (0: solver-determined), optional\n",
      "        The maximum absolute step size allowed.\n",
      "    hmin : float, (0: solver-determined), optional\n",
      "        The minimum absolute step size allowed.\n",
      "    ixpr : bool, optional\n",
      "        Whether to generate extra printing at method switches.\n",
      "    mxstep : int, (0: solver-determined), optional\n",
      "        Maximum number of (internally defined) steps allowed for each\n",
      "        integration point in t.\n",
      "    mxhnil : int, (0: solver-determined), optional\n",
      "        Maximum number of messages printed.\n",
      "    mxordn : int, (0: solver-determined), optional\n",
      "        Maximum order to be allowed for the non-stiff (Adams) method.\n",
      "    mxords : int, (0: solver-determined), optional\n",
      "        Maximum order to be allowed for the stiff (BDF) method.\n",
      "\n",
      "    See Also\n",
      "    --------\n",
      "    solve_ivp : solve an initial value problem for a system of ODEs\n",
      "    ode : a more object-oriented integrator based on VODE\n",
      "    quad : for finding the area under a curve\n",
      "\n",
      "    Examples\n",
      "    --------\n",
      "    The second order differential equation for the angle `theta` of a\n",
      "    pendulum acted on by gravity with friction can be written::\n",
      "\n",
      "        theta''(t) + b*theta'(t) + c*sin(theta(t)) = 0\n",
      "\n",
      "    where `b` and `c` are positive constants, and a prime (') denotes a\n",
      "    derivative. To solve this equation with `odeint`, we must first convert\n",
      "    it to a system of first order equations. By defining the angular\n",
      "    velocity ``omega(t) = theta'(t)``, we obtain the system::\n",
      "\n",
      "        theta'(t) = omega(t)\n",
      "        omega'(t) = -b*omega(t) - c*sin(theta(t))\n",
      "\n",
      "    Let `y` be the vector [`theta`, `omega`]. We implement this system\n",
      "    in Python as:\n",
      "\n",
      "    >>> import numpy as np\n",
      "    >>> def pend(y, t, b, c):\n",
      "    ...     theta, omega = y\n",
      "    ...     dydt = [omega, -b*omega - c*np.sin(theta)]\n",
      "    ...     return dydt\n",
      "    ...\n",
      "\n",
      "    We assume the constants are `b` = 0.25 and `c` = 5.0:\n",
      "\n",
      "    >>> b = 0.25\n",
      "    >>> c = 5.0\n",
      "\n",
      "    For initial conditions, we assume the pendulum is nearly vertical\n",
      "    with `theta(0)` = `pi` - 0.1, and is initially at rest, so\n",
      "    `omega(0)` = 0.  Then the vector of initial conditions is\n",
      "\n",
      "    >>> y0 = [np.pi - 0.1, 0.0]\n",
      "\n",
      "    We will generate a solution at 101 evenly spaced samples in the interval\n",
      "    0 <= `t` <= 10.  So our array of times is:\n",
      "\n",
      "    >>> t = np.linspace(0, 10, 101)\n",
      "\n",
      "    Call `odeint` to generate the solution. To pass the parameters\n",
      "    `b` and `c` to `pend`, we give them to `odeint` using the `args`\n",
      "    argument.\n",
      "\n",
      "    >>> from scipy.integrate import odeint\n",
      "    >>> sol = odeint(pend, y0, t, args=(b, c))\n",
      "\n",
      "    The solution is an array with shape (101, 2). The first column\n",
      "    is `theta(t)`, and the second is `omega(t)`. The following code\n",
      "    plots both components.\n",
      "\n",
      "    >>> import matplotlib.pyplot as plt\n",
      "    >>> plt.plot(t, sol[:, 0], 'b', label='theta(t)')\n",
      "    >>> plt.plot(t, sol[:, 1], 'g', label='omega(t)')\n",
      "    >>> plt.legend(loc='best')\n",
      "    >>> plt.xlabel('t')\n",
      "    >>> plt.grid()\n",
      "    >>> plt.show()\n",
      "\n"
     ]
    }
   ],
   "source": [
    "from scipy import integrate\n",
    "\n",
    "help(integrate.odeint)"
   ]
  },
  {
   "cell_type": "markdown",
   "id": "49cb9fe1",
   "metadata": {},
   "source": [
    "### 8.1. Resolución de ecuaciones diferenciales con `integrate.odeint` 📈"
   ]
  },
  {
   "cell_type": "markdown",
   "id": "962a17da",
   "metadata": {},
   "source": [
    "Como ejemplo, resolveremos el PVI $x'(t) = x(t)^2 + t$, $x(0)=x_0=0$."
   ]
  },
  {
   "cell_type": "code",
   "execution_count": 42,
   "id": "bd37b4f6",
   "metadata": {},
   "outputs": [],
   "source": [
    "t, x = sp.Symbol(\"t\"), sp.Function(\"x\")"
   ]
  },
  {
   "cell_type": "code",
   "execution_count": 43,
   "id": "3e3256c1",
   "metadata": {},
   "outputs": [
    {
     "data": {
      "text/latex": [
       "$\\displaystyle t + x^{2}{\\left(t \\right)}$"
      ],
      "text/plain": [
       "t + x(t)**2"
      ]
     },
     "execution_count": 43,
     "metadata": {},
     "output_type": "execute_result"
    }
   ],
   "source": [
    "f = x(t)**2 + t\n",
    "f"
   ]
  },
  {
   "cell_type": "code",
   "execution_count": 44,
   "id": "99c7ce18",
   "metadata": {},
   "outputs": [],
   "source": [
    "f_np = sp.lambdify((x(t), t), f, 'numpy') # Cuidado con el orden de los argumentos\n",
    "# Tambien podíamos haber hecho:\n",
    "# f_np = lambda x, t : x**2 + t "
   ]
  },
  {
   "cell_type": "code",
   "execution_count": 45,
   "id": "d4eb9b16",
   "metadata": {},
   "outputs": [],
   "source": [
    "x0 = 0 # condición inicial"
   ]
  },
  {
   "cell_type": "markdown",
   "id": "bcdb6c9b",
   "metadata": {},
   "source": [
    "Calculamos primero una órbita para valores positivos de $t$."
   ]
  },
  {
   "cell_type": "code",
   "execution_count": 46,
   "id": "34481f86",
   "metadata": {},
   "outputs": [],
   "source": [
    "t_values_pos = np.linspace(0, 1.9, 100)"
   ]
  },
  {
   "cell_type": "code",
   "execution_count": 47,
   "id": "e506fd45",
   "metadata": {},
   "outputs": [],
   "source": [
    "x_values_pos = integrate.odeint(f_np, x0, t_values_pos)"
   ]
  },
  {
   "cell_type": "markdown",
   "id": "6bed72e8",
   "metadata": {},
   "source": [
    "Y ahora una para valores de $t$ negativos."
   ]
  },
  {
   "cell_type": "code",
   "execution_count": 48,
   "id": "716ff915",
   "metadata": {},
   "outputs": [],
   "source": [
    "t_values_neg = np.linspace(0, -5, 100)"
   ]
  },
  {
   "cell_type": "code",
   "execution_count": 49,
   "id": "259c521f",
   "metadata": {},
   "outputs": [],
   "source": [
    "x_values_neg = integrate.odeint(f_np, x0, t_values_neg)"
   ]
  },
  {
   "cell_type": "markdown",
   "id": "93387356",
   "metadata": {},
   "source": [
    "Visualizamos gráficamente el campo de direcciones, así como las órbitas."
   ]
  },
  {
   "cell_type": "code",
   "execution_count": 50,
   "id": "f073d8ae",
   "metadata": {},
   "outputs": [],
   "source": [
    "def plot_direction_field(t, x_t, f_tx, t_lim=(-5, 5), x_lim=(-5, 5), ax=None):\n",
    "    \"\"\"\n",
    "    Plots the direction field for the ODE dx/dt = f(t, x).\n",
    "    Parameters:\n",
    "    - t: symbol for time\n",
    "    - x_t: symbol for the dependent variable\n",
    "    - f_tx: function defining the ODE\n",
    "    - t_lim: limits for the time axis\n",
    "    - x_lim: limits for the dependent variable axis\n",
    "    - ax: axis to plot on (if None, a new figure is created)\n",
    "    \"\"\"\n",
    "    \n",
    "    f_np = sp.lambdify((t, x_t), f_tx, 'numpy')\n",
    "    \n",
    "    t_vec = np.linspace(t_lim[0], t_lim[1], 20)\n",
    "    x_vec = np.linspace(x_lim[0], x_lim[1], 20)\n",
    "    \n",
    "    if ax is None:\n",
    "        _, ax = plt.subplots(figsize=(4, 4))\n",
    "\n",
    "    dt = t_vec[1] - t_vec[0]\n",
    "    dx = x_vec[1] - x_vec[0]\n",
    "\n",
    "    for m, tt in enumerate(t_vec):\n",
    "        for n, xx in enumerate(x_vec):\n",
    "            Dx = f_np(tt, xx) * dt\n",
    "            Dt = 0.8 * dt**2 / np.sqrt(dt**2 + Dx**2)\n",
    "            Dx = 0.8 * Dx*dx / np.sqrt(dt**2 + Dx**2)\n",
    "            ax.plot([tt - Dt/2, tt + Dt/2],\n",
    "                    [xx - Dx/2, xx + Dx/2], 'b', lw=0.5)\n",
    "    ax.axis('tight')"
   ]
  },
  {
   "cell_type": "code",
   "execution_count": 51,
   "id": "6b1e0e87",
   "metadata": {},
   "outputs": [
    {
     "data": {
      "image/png": "[encoded data removed]",
      "text/plain": [
       "<Figure size 400x400 with 1 Axes>"
      ]
     },
     "metadata": {},
     "output_type": "display_data"
    }
   ],
   "source": [
    "fig, ax = plt.subplots(1, 1, figsize=(4, 4))\n",
    "plot_direction_field(t, x(t), f, ax=ax)\n",
    "ax.plot(t_values_pos, x_values_pos, 'b', lw=2)\n",
    "ax.plot(t_values_neg, x_values_neg, 'r', lw=2);\n",
    "# fig.savefig('odeint-ejemplo-ec-escalar.pdf')"
   ]
  },
  {
   "cell_type": "markdown",
   "id": "e9a71932",
   "metadata": {},
   "source": [
    "### 8.2. Resolución de sistemas de ecuaciones diferenciales con `scipy` ➰\n",
    "\n",
    "Como ejemplo, utilizaremos las **ecuaciones de Lotka-Volterra para poblaciones de tipo presa/predador**.\n",
    "\n",
    "$$\n",
    "x'(t) = a x - b x y\n",
    "$$\n",
    "\n",
    "$$\n",
    "y'(t) = c x y - d y,\n",
    "$$\n",
    "donde $a,b,c,d$ son parámetros del modelo que definen la tasa de fertilidad y mortalidad de las especies."
   ]
  },
  {
   "cell_type": "code",
   "execution_count": 52,
   "id": "e1704358",
   "metadata": {},
   "outputs": [],
   "source": [
    "a, b, c, d = 0.4, 0.002, 0.001, 0.7"
   ]
  },
  {
   "cell_type": "markdown",
   "id": "8132e1aa",
   "metadata": {},
   "source": [
    "Definimos la ecuación del modelo, que como vemos, debe ser una función cuyo primer argumento sea una tupla (en este caso, una pareja) $(x,y)$, y el segundo la variable temporal. La función a su vez devuelve los valores de $(x'(t), y'(t))$ a partir de los respectivos $(x(t), y(t))$ y $t$. Para este caso concreto, tendríamos que\n",
    "$$\n",
    "f((x,y), t) =(ax-bxy, cxy-dy).\n",
    "$$"
   ]
  },
  {
   "cell_type": "code",
   "execution_count": 53,
   "id": "6ce2f956",
   "metadata": {},
   "outputs": [],
   "source": [
    "def f(xy, t):\n",
    "    x, y = xy\n",
    "    return (a * x - b * x * y,\n",
    "            c * x * y - d * y)"
   ]
  },
  {
   "cell_type": "code",
   "execution_count": 54,
   "id": "c485b154",
   "metadata": {},
   "outputs": [],
   "source": [
    "xy0 = (600, 400) # condiciones iniciales"
   ]
  },
  {
   "cell_type": "code",
   "execution_count": 55,
   "id": "329b227d",
   "metadata": {},
   "outputs": [],
   "source": [
    "t = np.linspace(0, 50, 250) # valores de t"
   ]
  },
  {
   "cell_type": "markdown",
   "id": "56985019",
   "metadata": {},
   "source": [
    "Y resolvemos el sistema de ecuaciones diferenciales."
   ]
  },
  {
   "cell_type": "code",
   "execution_count": 56,
   "id": "d7500dc0",
   "metadata": {},
   "outputs": [],
   "source": [
    "xy_t = integrate.odeint(f, xy0, t)"
   ]
  },
  {
   "cell_type": "code",
   "execution_count": 57,
   "id": "176b8831",
   "metadata": {},
   "outputs": [
    {
     "data": {
      "text/plain": [
       "(250, 2)"
      ]
     },
     "execution_count": 57,
     "metadata": {},
     "output_type": "execute_result"
    }
   ],
   "source": [
    "xy_t.shape"
   ]
  },
  {
   "cell_type": "markdown",
   "id": "42fc1aca",
   "metadata": {},
   "source": [
    "En los siguientes gráficos, representamos las funciones $x(t)$ e $y(t)$ como funciones de $t$ y la órbita $(x(t), y(t))$ en el plano $XY$."
   ]
  },
  {
   "cell_type": "code",
   "execution_count": 58,
   "id": "14efb9f9",
   "metadata": {},
   "outputs": [
    {
     "data": {
      "image/png": "[encoded data removed]",
      "text/plain": [
       "<Figure size 800x400 with 2 Axes>"
      ]
     },
     "metadata": {},
     "output_type": "display_data"
    }
   ],
   "source": [
    "fig, axes = plt.subplots(1, 2, figsize=(8, 4))\n",
    "\n",
    "axes[0].plot(t, xy_t[:,0], 'r', label=\"Presa\")\n",
    "axes[0].plot(t, xy_t[:,1], 'b', label=\"Depredador\")\n",
    "axes[0].set_xlabel(\"Tiempo\")\n",
    "axes[0].set_ylabel(\"Numero de animales\")\n",
    "axes[0].legend()\n",
    "\n",
    "axes[1].plot(xy_t[:,0], xy_t[:,1], 'k')\n",
    "axes[1].set_xlabel(\"Numero de presas\")\n",
    "axes[1].set_ylabel(\"Numero de depredadores\")\n",
    "fig.tight_layout()\n",
    "# fig.savefig('lokta-volterra.pdf')"
   ]
  },
  {
   "cell_type": "markdown",
   "id": "f8501b23",
   "metadata": {},
   "source": [
    "> **Ejercicio 8:** Se considera el sistema de ecuaciones diferenciales\n",
    "> $$\\left\\{\\begin{array}{rcl}\n",
    "> x_1' &=& - 4 x_1 + 3 x_2 + 6 \\\\\n",
    "> x_2' &=& -2.4 x_1 + 1.6 x_2 + 3.6\n",
    "> \\end{array}\\right.\n",
    "> $$\n",
    "> con condiciones iniciales $x_1(0) = 0$, $x_2(0) = 0$. Calcula y representa gráficamente la solución del sistema."
   ]
  },
  {
   "cell_type": "markdown",
   "id": "5d6dd495",
   "metadata": {},
   "source": [
    "> **Ejercicio 9 ✅:** Dado el siguiente PVI definido para $t\\in[0,1]$:\n",
    "> $$\\left\\{\\begin{array}{rcl}\n",
    "> x'(t) &=& \\cos(x(t)) + t^2 \\\\\n",
    "> x(0) &=& 1\n",
    "> \\end{array}\\right.\n",
    "> $$\n",
    "> a) Intente encontrar la solución exacta del PVI.\n",
    ">\n",
    "> b) Aproxime numéricamente el PVI utilizando los métodos que considere y represente gráficamente las diferentes aproximaciones en el intervalo $[0,1]$.\n",
    ">\n",
    "> c) Para el método que observe que devuelve mejores resultados, estudie su sensibilidad a distintos valores de $N$ (por tanto de $h$)."
   ]
  },
  {
   "cell_type": "code",
   "execution_count": 59,
   "id": "dea19fb1",
   "metadata": {},
   "outputs": [
    {
     "name": "stdout",
     "output_type": "stream",
     "text": [
      "Fue todo un honor y un placer ser vuestro profesor 👋🧑🏽‍🏫\n",
      "🌊U🔜\n"
     ]
    }
   ],
   "source": [
    "print(\"Fue todo un honor y un placer ser vuestro profesor 👋🧑🏽‍🏫\")\n",
    "print(\"🌊U🔜\")"
   ]
  },
  {
   "cell_type": "code",
   "execution_count": null,
   "id": "b8bdc5c7",
   "metadata": {},
   "outputs": [],
   "source": []
  }
 ],
 "metadata": {
  "kernelspec": {
   "display_name": ".venv",
   "language": "python",
   "name": "python3"
  },
  "language_info": {
   "codemirror_mode": {
    "name": "ipython",
    "version": 3
   },
   "file_extension": ".py",
   "mimetype": "text/x-python",
   "name": "python",
   "nbconvert_exporter": "python",
   "pygments_lexer": "ipython3",
   "version": "3.12.3"
  }
 },
 "nbformat": 4,
 "nbformat_minor": 5
}
