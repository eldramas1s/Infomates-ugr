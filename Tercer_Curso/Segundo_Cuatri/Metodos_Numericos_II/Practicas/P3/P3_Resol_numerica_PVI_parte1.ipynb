{
 "cells": [
  {
   "cell_type": "markdown",
   "id": "174bb5ef",
   "metadata": {},
   "source": [
    "# Práctica 3: Resolución Numérica  de PVIs  usando Python"
   ]
  },
  {
   "cell_type": "markdown",
   "id": "dabcdaa0",
   "metadata": {},
   "source": [
    "Autor de esta versión: **Juan Antonio Villegas**\n",
    "\n",
    "Autor de la primera versión: Pedro González Rodelas\n",
    "\n",
    "Fecha de la primera versión: 01/05/2020\n",
    "\n",
    "Sucesivas revisiones: 02-08 y 11/05/2020, 02/06/2021\n",
    "\n",
    "Fecha de la última revisión: 15/5/2025"
   ]
  },
  {
   "cell_type": "markdown",
   "id": "bafcda17",
   "metadata": {},
   "source": [
    "En esta práctica se programan en lenguaje Python diferentes métodos numéricos de resolución aproximada de Problemas de Valores Iniciales asociados a Ecuaciones Diferenciales Ordinarias (EDOs) y sistemas de primer orden, provenientes muchos de ellos de problemas y aplicaciones interesantes de Física e Ingeniería.\n",
    "\n",
    "Algunos de los ejemplos y algoritmos usados en este notebook han sido extraídos, adaptados o traducidos por Pedro González Rodelas de alguno de los siguientes libros y/o apuntes:\n",
    "\n",
    "\n",
    "- \"Análisis Numérico con Mathematica\" de V. Ramírez, D. Barrera, M. Pasadas y P. González. Edit. Ariel Ciencia (2001) con ISBN: 84-344-8036-0. Dep. Legal: B.31.425-2001.\n",
    "\n",
    "- Apuntes de la asignatura de Métodos Numéricos II del Grado de Matemáticas y Dobles Grados de Matemáticas e Informática o Física de la UGR, de los profesores José Martínez Aroza y Victoriano Ramírez González.\n",
    "\n",
    "- Notebook perteneciente al Capítulo 9 del libro [Numerical Python - A Practical Techniques Approach for Industry](http://www.apress.com/9781484205549) (ISBN 978-1-484205-54-9) de Robert Johansson.\n",
    "\n",
    "- Capítulo 7 del libro [Numerical Methods in Engineering with Python 3](https://www.cambridge.org/core/books/numerical-methods-in-engineering-with-python-3/95151C37C2F427F30DC90FA619FE79F9) de Jaan Kiusalaas."
   ]
  },
  {
   "cell_type": "markdown",
   "id": "f0372e99",
   "metadata": {},
   "source": [
    "## 1. Carga de los módulos y funciones empleadas 🔨"
   ]
  },
  {
   "cell_type": "markdown",
   "id": "9c590be5",
   "metadata": {},
   "source": [
    "Antes de empezar a realizar cualquier cálculo numérico o simbólico debemos de cargar los correspondientes módulos de Python que implementan la mayoría de funciones y procedimientos necesarios para ello: [`numpy`](https://numpy.org/) y [`sympy`](https://www.sympy.org/), que serán cargados con los pseudónimos `np` y `sp`, respectivamente. Además cargaremos también el submódulo `pyplot`, del paquete [`matplotlib`](https://matplotlib.org/), que nos permitirá realizar las representaciones gráficas que nos ayudarán a visualizar todo el proceso."
   ]
  },
  {
   "cell_type": "code",
   "execution_count": 3,
   "id": "f047c09a",
   "metadata": {},
   "outputs": [],
   "source": [
    "# Carga de librerías necesarias\n",
    "import numpy as np\n",
    "import sympy as sp\n",
    "import matplotlib.pyplot as plt"
   ]
  },
  {
   "cell_type": "markdown",
   "id": "3420304f",
   "metadata": {},
   "source": [
    "## 2. Resolviendo EDOs simbólicamente con SymPy 🔣"
   ]
  },
  {
   "cell_type": "markdown",
   "id": "da57da13",
   "metadata": {},
   "source": [
    "Como es bien sabido, una ecuación diferencial ordinaria (EDO), no es más que una relación existente entre algunas derivadas de función incógnita $y(t)$, suponiendo que resulta ser suficientemente derivable, a partir de la función $f\\equiv f(t,x)$ que determina la EDO que satisface. \n",
    "\n",
    "En el caso de una EDO de primer orden esta relación se podría escribir de la siguiente manera genérica: $$x'(t)=f(t,x(t)),\\; t\\in[a,b]$$\n",
    "con $f:[a,b]\\times\\mathbb{R}\\to \\mathbb{R}$ también suficientemente regular, o al menos continua en $(t,x)$ y Lipschitziana en $x$, para asegurar existencia y unicidad de solución del correspondiente Problema de Valores Iniciales (PVI), para cierta condición inicial $x(t_0) = x_0 = \\mu\\in\\mathbb{R}$ determinada de antemano:\n",
    "\n",
    "$$\\begin{array}{c l} x'(t)=f(t,x(t)),& t\\in[a,b]\\\\ x(t_0) =x_0 = \\mu  &  \\end{array}$$\n",
    "\n",
    "aunque también suele ser habitual el empleo de la siguiente notación\n",
    "\n",
    "$$\\begin{array}{c l} y'(t)=f(t,y(t)),& t\\in[a,b]\\\\ y(t_0) = y_0\\equiv\\mu  &  \\end{array}$$\n",
    "\n",
    "o usar $x$ como variable independiente e $y$ como variable dependiente, etc. "
   ]
  },
  {
   "cell_type": "markdown",
   "id": "853b1487",
   "metadata": {},
   "source": [
    "Como primer ejemplo, consideremos el PVI\n",
    "\n",
    "$$\n",
    "\\left\\{\\begin{array}{rcl}\n",
    "x'(t) &=& x(t) \\\\\n",
    "x(0) &=& 1\n",
    "\\end{array}\\right..\n",
    "$$\n",
    "Es decir, $f(t,x)=x$, $x(0)=x_0 = 1$. Comenzamos definiendo nuestros símbolos y nuestra función."
   ]
  },
  {
   "cell_type": "code",
   "execution_count": 4,
   "id": "86c4505e",
   "metadata": {},
   "outputs": [
    {
     "data": {
      "text/latex": [
       "$\\displaystyle x$"
      ],
      "text/plain": [
       "x"
      ]
     },
     "execution_count": 4,
     "metadata": {},
     "output_type": "execute_result"
    }
   ],
   "source": [
    "t, x0, x = sp.symbols('t, x_0, x')\n",
    "def f(t,x):\n",
    "    return x\n",
    "\n",
    "f(t,x)"
   ]
  },
  {
   "cell_type": "code",
   "execution_count": 5,
   "id": "6f57df66",
   "metadata": {},
   "outputs": [],
   "source": [
    "a, b = 0, 1     # extremos inferior y superior del intervalo \n",
    "mu = 1          # condición inicial del PVI"
   ]
  },
  {
   "cell_type": "markdown",
   "id": "3dfd1196",
   "metadata": {},
   "source": [
    "Vamos a empezar definiendo la Ec. Dif. Ordinaria (edo) a resolver"
   ]
  },
  {
   "cell_type": "code",
   "execution_count": 6,
   "id": "0f910dd4",
   "metadata": {},
   "outputs": [
    {
     "data": {
      "text/latex": [
       "$\\displaystyle - x{\\left(t \\right)} + \\frac{d}{d t} x{\\left(t \\right)} = 0$"
      ],
      "text/plain": [
       "Eq(-x(t) + Derivative(x(t), t), 0)"
      ]
     },
     "execution_count": 6,
     "metadata": {},
     "output_type": "execute_result"
    }
   ],
   "source": [
    "x = sp.Function('x')\n",
    "edo = x(t).diff(t)-f(t,x(t))\n",
    "sp.Eq(edo,0)"
   ]
  },
  {
   "cell_type": "markdown",
   "id": "aba80426",
   "metadata": {},
   "source": [
    "La resolvemos simbólicamente mediante la orden [`dsolve`](https://docs.sympy.org/latest/modules/solvers/ode.html#sympy.solvers.ode.dsolve) de SymPy."
   ]
  },
  {
   "cell_type": "code",
   "execution_count": 7,
   "id": "231fa193",
   "metadata": {},
   "outputs": [
    {
     "data": {
      "text/latex": [
       "$\\displaystyle x{\\left(t \\right)} = C_{1} e^{t}$"
      ],
      "text/plain": [
       "Eq(x(t), C1*exp(t))"
      ]
     },
     "execution_count": 7,
     "metadata": {},
     "output_type": "execute_result"
    }
   ],
   "source": [
    "edo_sol = sp.dsolve(edo)\n",
    "edo_sol"
   ]
  },
  {
   "cell_type": "code",
   "execution_count": 8,
   "id": "c6d86227",
   "metadata": {},
   "outputs": [
    {
     "data": {
      "text/plain": [
       "sympy.core.relational.Equality"
      ]
     },
     "execution_count": 8,
     "metadata": {},
     "output_type": "execute_result"
    }
   ],
   "source": [
    "type(edo_sol)"
   ]
  },
  {
   "cell_type": "markdown",
   "id": "484a6b04",
   "metadata": {},
   "source": [
    "De esta solución simbólica obtenida también podremos extraer, tanto el término de la izquierda (mediante `.lhs`) como el de la derecha (mediante `.rhs`)."
   ]
  },
  {
   "cell_type": "code",
   "execution_count": 9,
   "id": "a86a50b6",
   "metadata": {},
   "outputs": [
    {
     "data": {
      "text/latex": [
       "$\\displaystyle x{\\left(t \\right)}$"
      ],
      "text/plain": [
       "x(t)"
      ]
     },
     "execution_count": 9,
     "metadata": {},
     "output_type": "execute_result"
    }
   ],
   "source": [
    "edo_sol.lhs  "
   ]
  },
  {
   "cell_type": "code",
   "execution_count": 10,
   "id": "20bbe710",
   "metadata": {},
   "outputs": [
    {
     "data": {
      "text/latex": [
       "$\\displaystyle C_{1} e^{t}$"
      ],
      "text/plain": [
       "C1*exp(t)"
      ]
     },
     "execution_count": 10,
     "metadata": {},
     "output_type": "execute_result"
    }
   ],
   "source": [
    "edo_sol.rhs"
   ]
  },
  {
   "cell_type": "markdown",
   "id": "5ded2498",
   "metadata": {},
   "source": [
    "A continuación, una vez tenemos la solución general, imponemos las condiciones iniciales. Lo hacemos a través de un diccionario."
   ]
  },
  {
   "cell_type": "code",
   "execution_count": 11,
   "id": "ba74073b",
   "metadata": {},
   "outputs": [
    {
     "data": {
      "text/plain": [
       "{x(0): x_0}"
      ]
     },
     "execution_count": 11,
     "metadata": {},
     "output_type": "execute_result"
    }
   ],
   "source": [
    "ics = {x(0): x0}    # Si encuentra un x(0) lo cambia por un x_0\n",
    "ics"
   ]
  },
  {
   "cell_type": "markdown",
   "id": "f64f09b5",
   "metadata": {},
   "source": [
    "Sustituimos en ambos miembros de la solución general $t=0$, y en el miembro izquierdo, $x(0)=x_0$. Así, obtenemos la ecuación asociada a la imposición de la condición inicial del PVI."
   ]
  },
  {
   "cell_type": "code",
   "execution_count": 12,
   "id": "53f395e1",
   "metadata": {},
   "outputs": [
    {
     "data": {
      "text/latex": [
       "$\\displaystyle x_{0} = C_{1}$"
      ],
      "text/plain": [
       "Eq(x_0, C1)"
      ]
     },
     "execution_count": 12,
     "metadata": {},
     "output_type": "execute_result"
    }
   ],
   "source": [
    "CI_eq = sp.Eq(edo_sol.lhs.subs({t: 0}).subs(ics), edo_sol.rhs.subs({t: 0}))\n",
    "CI_eq"
   ]
  },
  {
   "cell_type": "markdown",
   "id": "1363b822",
   "metadata": {},
   "source": [
    "En este caso es muy obvia, pero en general necesitaremos resolver esta ecuación, usamos la orden `solve`"
   ]
  },
  {
   "cell_type": "code",
   "execution_count": 13,
   "id": "b5ec8e28",
   "metadata": {},
   "outputs": [
    {
     "data": {
      "text/plain": [
       "{C1: x_0}"
      ]
     },
     "execution_count": 13,
     "metadata": {},
     "output_type": "execute_result"
    }
   ],
   "source": [
    "CI_sol = sp.solve(CI_eq)[0]\n",
    "CI_sol"
   ]
  },
  {
   "cell_type": "markdown",
   "id": "eb7094f0",
   "metadata": {},
   "source": [
    "Finalmente, sustuimos la constante de la solución general por su valor al imponer la condición inicial."
   ]
  },
  {
   "cell_type": "code",
   "execution_count": 14,
   "id": "27e3054b",
   "metadata": {},
   "outputs": [
    {
     "data": {
      "text/latex": [
       "$\\displaystyle x{\\left(t \\right)} = x_{0} e^{t}$"
      ],
      "text/plain": [
       "Eq(x(t), x_0*exp(t))"
      ]
     },
     "execution_count": 14,
     "metadata": {},
     "output_type": "execute_result"
    }
   ],
   "source": [
    "edo_sol_part = edo_sol.subs(CI_sol)\n",
    "edo_sol_part"
   ]
  },
  {
   "cell_type": "markdown",
   "id": "05a600ba",
   "metadata": {},
   "source": [
    "Y así obtenemos la solución particular para cualquier $x_0$. En nuestro caso $x_0 = \\mu = 1$ nuestra solución exacta para nuestro PVI sería:"
   ]
  },
  {
   "cell_type": "code",
   "execution_count": 15,
   "id": "bf67cba8",
   "metadata": {},
   "outputs": [
    {
     "data": {
      "text/latex": [
       "$\\displaystyle e^{t}$"
      ],
      "text/plain": [
       "exp(t)"
      ]
     },
     "execution_count": 15,
     "metadata": {},
     "output_type": "execute_result"
    }
   ],
   "source": [
    "sol_exacta = edo_sol_part.rhs.subs({x0:mu})\n",
    "sol_exacta"
   ]
  },
  {
   "cell_type": "markdown",
   "id": "868dc81e",
   "metadata": {},
   "source": [
    "## 3. Representación gráfica de las soluciones 📈"
   ]
  },
  {
   "cell_type": "code",
   "execution_count": 16,
   "id": "2d93abaf",
   "metadata": {},
   "outputs": [],
   "source": [
    "# Asegurar que los gráficos generados con Matplotlib se muestren directamente en el notebook.\n",
    "%matplotlib inline "
   ]
  },
  {
   "cell_type": "markdown",
   "id": "71fdde80",
   "metadata": {},
   "source": [
    "Para poder evaluar la solución exacta de nuestro PVI, podemos usar `subs` y `evalf` en el caso de que queramos ver el valor numérico."
   ]
  },
  {
   "cell_type": "code",
   "execution_count": 17,
   "id": "2adba71e",
   "metadata": {},
   "outputs": [
    {
     "data": {
      "text/latex": [
       "$\\displaystyle e^{t}$"
      ],
      "text/plain": [
       "exp(t)"
      ]
     },
     "execution_count": 17,
     "metadata": {},
     "output_type": "execute_result"
    }
   ],
   "source": [
    "sol_exacta"
   ]
  },
  {
   "cell_type": "code",
   "execution_count": 18,
   "id": "e3700b2a",
   "metadata": {},
   "outputs": [
    {
     "data": {
      "text/latex": [
       "$\\displaystyle 2.71828182845905$"
      ],
      "text/plain": [
       "2.71828182845905"
      ]
     },
     "execution_count": 18,
     "metadata": {},
     "output_type": "execute_result"
    }
   ],
   "source": [
    "sol_exacta.subs({t:1}).evalf()"
   ]
  },
  {
   "cell_type": "markdown",
   "id": "e5a62436",
   "metadata": {},
   "source": [
    "Recordamos el intervalo que establecimos anteriormente."
   ]
  },
  {
   "cell_type": "code",
   "execution_count": 19,
   "id": "02b67fa9",
   "metadata": {},
   "outputs": [
    {
     "data": {
      "text/plain": [
       "(0, 1)"
      ]
     },
     "execution_count": 19,
     "metadata": {},
     "output_type": "execute_result"
    }
   ],
   "source": [
    "a,b    # el intervalo de trabajo"
   ]
  },
  {
   "cell_type": "code",
   "execution_count": 20,
   "id": "b78a05ff",
   "metadata": {},
   "outputs": [],
   "source": [
    "val_inf = sol_exacta.subs({t:a})  # valores de referencia a la izqda.\n",
    "val_sup = sol_exacta.subs({t:b})  # y derecha del intervalo"
   ]
  },
  {
   "cell_type": "code",
   "execution_count": 21,
   "id": "fe1d2315",
   "metadata": {},
   "outputs": [],
   "source": [
    "# No recomendado:\n",
    "# graf_sympy = sp.plot(sol_exacta, xlim =(a,b), ylim = (0,val_sup))"
   ]
  },
  {
   "cell_type": "markdown",
   "id": "40e33c14",
   "metadata": {},
   "source": [
    "Siempre tendremos la posibilidad de hacerlo de la manera tradicional habitual, pero esto requeriría reconvertir previamente esta solución analítica, dada simbólicamente, en una función numérica, evaluable de manera vectorial en arrays de valores, como por ejemplo las abcisas de la variable independiente en los que queramos obtener sus correspondientes ordenadas."
   ]
  },
  {
   "cell_type": "code",
   "execution_count": 22,
   "id": "e24998f3",
   "metadata": {},
   "outputs": [],
   "source": [
    "# Esta sería la herramienta adecuada para realizar dicha conversión\n",
    "sol_exacta_np = sp.lambdify(t, sol_exacta, 'numpy')"
   ]
  },
  {
   "cell_type": "code",
   "execution_count": 23,
   "id": "fb0a6252",
   "metadata": {},
   "outputs": [
    {
     "data": {
      "text/plain": [
       "array([1.        , 1.0101522 , 1.02040746, 1.03076684, 1.04123139,\n",
       "       1.05180218, 1.06248028, 1.07326679, 1.0841628 , 1.09516944,\n",
       "       1.10628782, 1.11751907, 1.12886434, 1.1403248 , 1.1519016 ,\n",
       "       1.16359593, 1.17540899, 1.18734197, 1.1993961 , 1.21157261,\n",
       "       1.22387273, 1.23629773, 1.24884887, 1.26152743, 1.2743347 ,\n",
       "       1.287272  , 1.30034064, 1.31354196, 1.32687729, 1.34034801,\n",
       "       1.35395549, 1.36770112, 1.38158629, 1.39561243, 1.40978096,\n",
       "       1.42409333, 1.43855101, 1.45315546, 1.46790818, 1.48281068,\n",
       "       1.49786447, 1.51307108, 1.52843208, 1.54394902, 1.5596235 ,\n",
       "       1.5754571 , 1.59145146, 1.60760818, 1.62392894, 1.64041539,\n",
       "       1.65706921, 1.6738921 , 1.69088579, 1.70805199, 1.72539247,\n",
       "       1.742909  , 1.76060336, 1.77847735, 1.7965328 , 1.81477156,\n",
       "       1.83319548, 1.85180644, 1.87060634, 1.88959711, 1.90878067,\n",
       "       1.92815899, 1.94773404, 1.96750782, 1.98748235, 2.00765966,\n",
       "       2.02804182, 2.0486309 , 2.06942901, 2.09043826, 2.1116608 ,\n",
       "       2.1330988 , 2.15475444, 2.17662993, 2.19872751, 2.22104942,\n",
       "       2.24359796, 2.26637541, 2.2893841 , 2.31262638, 2.33610462,\n",
       "       2.35982121, 2.38377858, 2.40797917, 2.43242545, 2.45711992,\n",
       "       2.48206508, 2.5072635 , 2.53271773, 2.55843038, 2.58440408,\n",
       "       2.61064146, 2.6371452 , 2.66391802, 2.69096264, 2.71828183])"
      ]
     },
     "execution_count": 23,
     "metadata": {},
     "output_type": "execute_result"
    }
   ],
   "source": [
    "t_values = np.linspace(a, b, 100) # así obtendríamos el array de abcisas\n",
    "x_values = sol_exacta_np(t_values) # y el de ordenadas\n",
    "x_values"
   ]
  },
  {
   "cell_type": "code",
   "execution_count": 24,
   "id": "0ebafa21",
   "metadata": {},
   "outputs": [
    {
     "data": {
      "image/png": "[encoded data removed]",
      "text/plain": [
       "<Figure size 600x600 with 1 Axes>"
      ]
     },
     "metadata": {},
     "output_type": "display_data"
    }
   ],
   "source": [
    "# Representación gráfica de la solución exacta\n",
    "fig, ax = plt.subplots(figsize=(6, 6))  # figura de Matplotlib\n",
    "ax.plot(t_values, x_values, label=\"sol. exacta\")\n",
    "ax.set_title(r\"Solución exacta: $%s$\" % sp.latex(sol_exacta), fontsize=18)\n",
    "ax.set_xlabel(r\"$t$\", fontsize=18)\n",
    "ax.set_ylabel(r\"$x$\", fontsize=18)\n",
    "ax.legend()\n",
    "\n",
    "fig.tight_layout()"
   ]
  },
  {
   "cell_type": "markdown",
   "id": "13fea6a7",
   "metadata": {},
   "source": [
    "## 4. Métodos de Euler 🌉"
   ]
  },
  {
   "cell_type": "markdown",
   "id": "bee1d2bf",
   "metadata": {},
   "source": [
    "El método de Euler explícito es el método más sencillo de aproximación numérica de soluciones de PVI. En él, calculamos sucesiones de valores\n",
    "$$\n",
    "t_{n+1} = t_n + h, \\qquad x_{n+1} = x_n + h f(t_n,x_n).\n",
    "$$"
   ]
  },
  {
   "cell_type": "code",
   "execution_count": 25,
   "id": "5ae6bd14",
   "metadata": {},
   "outputs": [],
   "source": [
    "def euler_explicito(f, a, b, mu, N):\n",
    "    \"\"\"\n",
    "    Método de Euler explícito para resolver la ecuación diferencial\n",
    "    x' = f(t,x) con condición inicial x(a) = mu en el intervalo [a,b]\n",
    "    con N pasos.\n",
    "    \"\"\"\n",
    "    h = (b - a) / N\n",
    "    t = np.linspace(a, b, N + 1)\n",
    "    x = np.zeros((N + 1,))\n",
    "    x[0] = mu\n",
    "    for n in range(N):\n",
    "        x[n + 1] = x[n] + h * f(t[n], x[n])\n",
    "    return t, x"
   ]
  },
  {
   "cell_type": "markdown",
   "id": "6b116670",
   "metadata": {},
   "source": [
    "A continuación aplicamos este algoritmo con un valor concreto de $N$ y la función $f(t,x)=x$ que define nuestra EDO desde un primer momento, así como la condición inicial $x(a)=1$."
   ]
  },
  {
   "cell_type": "code",
   "execution_count": 26,
   "id": "c0e00d28",
   "metadata": {},
   "outputs": [],
   "source": [
    "N = 10\n",
    "t_values, x_values_Eulerexpl = euler_explicito(f,a,b,mu,N)"
   ]
  },
  {
   "cell_type": "code",
   "execution_count": 27,
   "id": "1e571fc5",
   "metadata": {},
   "outputs": [
    {
     "name": "stdout",
     "output_type": "stream",
     "text": [
      "[1.         1.1        1.21       1.331      1.4641     1.61051\n",
      " 1.771561   1.9487171  2.14358881 2.35794769 2.59374246]\n"
     ]
    }
   ],
   "source": [
    "print(x_values_Eulerexpl)  #  Aproximaciones obtenidas en los nodos considerados"
   ]
  },
  {
   "cell_type": "code",
   "execution_count": 28,
   "id": "891de805",
   "metadata": {},
   "outputs": [
    {
     "data": {
      "image/png": "[encoded data removed]",
      "text/plain": [
       "<Figure size 800x400 with 1 Axes>"
      ]
     },
     "metadata": {},
     "output_type": "display_data"
    }
   ],
   "source": [
    "# Dibujamos y comparamos con la solución exacta\n",
    "fig, ax = plt.subplots(figsize=(8, 4))\n",
    "ax.plot(t_values, x_values_Eulerexpl, 'ro-',label = \"aprox. mét. Euler explícito\")\n",
    "ax.plot(t_values, sol_exacta_np(t_values), label=f\"sol. exacta: ${sp.latex(sol_exacta)}$\")\n",
    "ax.set_title(r\"Comparación solución exacta vs Euler explícito\", fontsize=18)\n",
    "ax.set_xlabel(r\"$t$\", fontsize=18)\n",
    "ax.set_ylabel(r\"$x$\", fontsize=18)\n",
    "ax.legend()\n",
    "fig.tight_layout()\n",
    "graf_Eulerexpl = fig"
   ]
  },
  {
   "cell_type": "markdown",
   "id": "4119342b",
   "metadata": {},
   "source": [
    "Por su parte, en el método de Euler implícito, es necesario resolver una ecuación para obtener el nuevo valor:\n",
    "$$x_{n+1} = x_n + h f(t_{n+1},x_{n+1}).$$"
   ]
  },
  {
   "cell_type": "code",
   "execution_count": 29,
   "id": "88ae1c4d",
   "metadata": {},
   "outputs": [],
   "source": [
    "from scipy.optimize import fsolve\n",
    "\n",
    "def euler_implicito(f, a, b, mu, N):\n",
    "    \"\"\"\n",
    "    Método de Euler explícito para resolver la ecuación diferencial\n",
    "    x' = f(t,x) con condición inicial x(a) = mu en el intervalo [a,b]\n",
    "    con N pasos.\n",
    "    \"\"\"\n",
    "    h = (b - a) / N\n",
    "    t = np.linspace(a, b, N + 1)\n",
    "    x = np.zeros((N + 1,))\n",
    "    x[0] = mu\n",
    "    # x1 = sp.symbols('x1')\n",
    "    for n in range(N):\n",
    "        # x[n + 1] = np.float64(sp.solve(x[n]+h*f(t[n+1],x1)-x1,x1)[0])\n",
    "        x[n + 1] = fsolve(lambda x1: x[n] + h * f(t[n + 1], x1) - x1, x[n])[0]\n",
    "    return t, x"
   ]
  },
  {
   "cell_type": "code",
   "execution_count": 30,
   "id": "6094a17a",
   "metadata": {},
   "outputs": [],
   "source": [
    "N = 10\n",
    "t_values, x_values_Eulerimpl = euler_implicito(f,a,b,mu,N)"
   ]
  },
  {
   "cell_type": "code",
   "execution_count": 31,
   "id": "d8de7932",
   "metadata": {},
   "outputs": [
    {
     "name": "stdout",
     "output_type": "stream",
     "text": [
      "[1.         1.11111111 1.2345679  1.37174211 1.5241579  1.69350878\n",
      " 1.88167642 2.09075158 2.32305731 2.58117479 2.86797199]\n"
     ]
    }
   ],
   "source": [
    "print(x_values_Eulerimpl)  #  Aproximaciones obtenidas en los nodos considerados"
   ]
  },
  {
   "cell_type": "code",
   "execution_count": 32,
   "id": "33380c59",
   "metadata": {},
   "outputs": [
    {
     "data": {
      "image/png": "[encoded data removed]",
      "text/plain": [
       "<Figure size 800x400 with 1 Axes>"
      ]
     },
     "metadata": {},
     "output_type": "display_data"
    }
   ],
   "source": [
    "# Dibujamos y comparamos con la solución exacta\n",
    "fig, ax = plt.subplots(figsize=(8, 4))\n",
    "ax.plot(t_values, x_values_Eulerimpl, 'bo-',label = \"aprox. mét. Euler implícito\")\n",
    "ax.plot(t_values, x_values_Eulerexpl, 'ro-',label = \"aprox. mét. Euler explícito\")\n",
    "ax.plot(t_values, sol_exacta_np(t_values), label=f\"sol. exacta: ${sp.latex(sol_exacta)}$\")\n",
    "ax.set_title(r\"Comparación solución exacta vs Euler explícito vs Euler implícito\", fontsize=18)\n",
    "ax.set_xlabel(r\"$t$\", fontsize=18)\n",
    "ax.set_ylabel(r\"$x$\", fontsize=18)\n",
    "ax.legend()\n",
    "fig.tight_layout()\n",
    "graf_Eulerexpl = fig"
   ]
  },
  {
   "cell_type": "markdown",
   "id": "7803a18b",
   "metadata": {},
   "source": [
    "> **Ejercicio 1:** Repita las aproximaciones anteriores con diferentes valores de $N$ (y por tanto de $h$) y compruebe el efecto en cuanto a mayor o menor precisión, estabilidad y coste computacional.\n",
    "\n",
    "> **Ejercicio 2:** A partir de la implementación del algoritmo del método de Euler explícito, realice las modificaciones oportunas para obtener también las implementaciones correspondientes a los métodos de Euler mejorado (o del punto medio), así como del de Euler modificado (o de Heun)."
   ]
  },
  {
   "cell_type": "code",
   "execution_count": 33,
   "id": "8eb3da80",
   "metadata": {},
   "outputs": [],
   "source": [
    "# 1. SImplemente repetir con más nodos.\n",
    "# Lo del coste es metiante la biblioteca timeit"
   ]
  },
  {
   "cell_type": "markdown",
   "id": "51eb85f9",
   "metadata": {},
   "source": [
    "Habría una posibilidad de intentar estimar el tiempo de CPU empleado "
   ]
  },
  {
   "cell_type": "code",
   "execution_count": 34,
   "id": "2bd1db23",
   "metadata": {},
   "outputs": [],
   "source": [
    "import timeit"
   ]
  },
  {
   "cell_type": "code",
   "execution_count": 35,
   "id": "d6820350",
   "metadata": {},
   "outputs": [
    {
     "name": "stdout",
     "output_type": "stream",
     "text": [
      "CPU times: user 8 μs, sys: 1 μs, total: 9 μs\n",
      "Wall time: 16.2 μs\n"
     ]
    }
   ],
   "source": [
    "N = 10\n",
    "%time\n",
    "_, _ = euler_explicito(f,a,b,mu,N)"
   ]
  },
  {
   "cell_type": "code",
   "execution_count": 36,
   "id": "4f521fb2",
   "metadata": {},
   "outputs": [
    {
     "name": "stdout",
     "output_type": "stream",
     "text": [
      "26.8 μs ± 1.46 μs per loop (mean ± std. dev. of 7 runs, 10,000 loops each)\n"
     ]
    }
   ],
   "source": [
    "%%timeit\n",
    "_, _ = euler_explicito(f,a,b,mu,N)"
   ]
  },
  {
   "cell_type": "code",
   "execution_count": 37,
   "id": "a0c8c189",
   "metadata": {},
   "outputs": [
    {
     "name": "stdout",
     "output_type": "stream",
     "text": [
      "CPU times: user 5 μs, sys: 0 ns, total: 5 μs\n",
      "Wall time: 9.54 μs\n"
     ]
    }
   ],
   "source": [
    "%time\n",
    "_, _ = euler_implicito(f,a,b,mu,N)"
   ]
  },
  {
   "cell_type": "code",
   "execution_count": 38,
   "id": "1c6a580c",
   "metadata": {},
   "outputs": [
    {
     "name": "stdout",
     "output_type": "stream",
     "text": [
      "642 μs ± 29.9 μs per loop (mean ± std. dev. of 7 runs, 1,000 loops each)\n"
     ]
    }
   ],
   "source": [
    "%%timeit\n",
    "_, _ = euler_implicito(f,a,b,mu,N)"
   ]
  },
  {
   "cell_type": "markdown",
   "id": "db465064",
   "metadata": {},
   "source": [
    "Al usar `%time` el intérprete de Python nos intenta devolver el tiempo empleado en la ejecución de dicho comando (o linea de comandos), pero esto suele depender muchas veces de la carga puntual de la CPU en ese justo momento de la ejecución; por ese motivo se suele preferir el uso del comando mágico `%%timeit` que lo que hace más bien es realizar una tanda de ejecuciones repetitivas de dicha linea o bloque de comandos, tantas veces como sea necesario para obtener un valor estimado promedio, que es el que nos devuelve seguidamente. Habrá que tener en cuenta en todo caso, tanto las unidades de medida del tiempo que nos devuelva (ya sea en  nano- ($10^{-9}$ s), micro- ($10^{-6}$ s), mili-segundos ($10^{-3}$ s), etc), como el número de veces que se ha llevado a cabo la tanda de repeticiones, que puede oscilar entre unos cientos o miles, hasta a veces un millón, para poder comparar finalmente de una manera realista la rapidez de ejecución de cierto trozo de código."
   ]
  },
  {
   "cell_type": "markdown",
   "id": "247518a2",
   "metadata": {},
   "source": [
    "## 5. Métodos de Taylor 🪩"
   ]
  },
  {
   "cell_type": "markdown",
   "id": "90140e25",
   "metadata": {},
   "source": [
    "Como es bien sabido, los métodos de Taylor se basan en un adecuado desarrollo en serie de Taylor de la propia función incógnita $x(t)$, suponiendo que resulta ser suficientemente derivable, y que sus derivadas sucesivas se pueden obtener a partir de la función $f$ que determina la EDO que satisface: $$x'(t)=f(t,x(t)),\\; t\\in[a,b]$$\n",
    "\n",
    "Así pues, si suponemos que $x\\in\\mathcal{C}^p$ y que podemos realizar un desarrollo en serie como el que sigue:\n",
    "$$x(t+h)\\approx x(t)+h\\, x'(t)+\\frac{h^2}{2}\\, x''(t)+\\ldots+\\frac{h^p}{p!}\\, x^{(p)}(t)\\\\ \\equiv x(t)+h\\, F_1(t,x(t))+\\frac{h^2}{2}\\, F_2(t,x(t))+\\ldots+\\frac{h^p}{p!}\\, F_p(t,x(t))$$\n",
    "\n",
    "pues justamente el conocido método de Euler explícito, visto anteriormente, correspondería con el desarrollo de Taylor correspondiente al caso $p=1$, definiendo por ejemplo $F_1(t,x)\\equiv f(t,x)$. \n",
    "\n",
    "Así pues vamos por ejemplo a centrarnos en desarrollar por ejemplo, el siguiente caso $p=2$, y los demás casos $p>2$ se harían de la misma manera, sólo que conllevarían la realización de más cálculos del mismo tipo.\n",
    "\n",
    "**Caso $p=2$:**\n",
    "Aquí de lo que se trataría es de aprovechar la expresión de la EDO que relaciona la derivada primera de $x(t)$ con $f(t,x(t))$, y realizar la derivada segunda de acuerdo con el siguiente desarrollo (asumiendo que $f\\equiv f(t,x)$):\n",
    "\n",
    "$$x''(t)=\\frac{d}{dt}x'(t)=\\frac{d}{dt}(f(t,x(t)))=\\frac{df}{dt}(t,x(t))+\\frac{df}{dx}(t,x(t))\\,x'(t) \\\\= \\frac{df}{dt}(t,x(t))+\\frac{df}{dx}(t,x(t))\\,f(t,x(t)) \\equiv F_2(t,x(t))$$\n",
    "\n",
    "de manera que finalmente nuestro métodos de Taylor de orden $p=2$ quedaría como sigue:\n",
    "\n",
    "$$x(t+h)\\approx x(t)+h\\,F_1(t,x(t)) +\\frac{h^2}{2}\\, F_2(t,x(t))$$\n",
    "\n",
    "con $F_1(t,x)\\equiv f(t,x)$  y $F_2(t,x)\\equiv \\frac{df}{dt}(t,x)+\\frac{df}{dx}(t,x)\\,f(t,x)$."
   ]
  },
  {
   "cell_type": "markdown",
   "id": "d5cc5967",
   "metadata": {},
   "source": [
    "Vamos pues a intentar implementar este método de Taylor de orden $p=2$ aprovechando las capacidadesd de cálculo simbólico que también nos proporciona el módulo de cálculo simbólico de Python, `SymPy`.\n",
    "\n",
    "Recordemos que `x` la definimos anteriormente como función, lo cual puede provocar error a la hora de derivar `f` respecto de `x`."
   ]
  },
  {
   "cell_type": "code",
   "execution_count": 39,
   "id": "e8709783",
   "metadata": {},
   "outputs": [
    {
     "data": {
      "text/plain": [
       "sympy.core.function.UndefinedFunction"
      ]
     },
     "execution_count": 39,
     "metadata": {},
     "output_type": "execute_result"
    }
   ],
   "source": [
    "type(x)"
   ]
  },
  {
   "cell_type": "code",
   "execution_count": null,
   "id": "33b6ab4c",
   "metadata": {},
   "outputs": [],
   "source": [
    "#sp.diff(f(t,x), x) # Error"
   ]
  },
  {
   "cell_type": "markdown",
   "id": "71298f04",
   "metadata": {},
   "source": [
    "Utilizaremos en su lugar una nueva variable, `z`."
   ]
  },
  {
   "cell_type": "code",
   "execution_count": null,
   "id": "ee57fe43",
   "metadata": {},
   "outputs": [
    {
     "data": {
      "text/latex": [
       "$\\displaystyle z$"
      ],
      "text/plain": [
       "z"
      ]
     },
     "execution_count": 70,
     "metadata": {},
     "output_type": "execute_result"
    }
   ],
   "source": [
    "z = sp.Symbol('z')\n",
    "f(t,z)"
   ]
  },
  {
   "cell_type": "code",
   "execution_count": null,
   "id": "ec67f82b",
   "metadata": {},
   "outputs": [
    {
     "data": {
      "text/plain": [
       "(z, 0, 1)"
      ]
     },
     "execution_count": 71,
     "metadata": {},
     "output_type": "execute_result"
    }
   ],
   "source": [
    "f(t,z), sp.diff(f(t,z),t), sp.diff(f(t,z),z)"
   ]
  },
  {
   "cell_type": "code",
   "execution_count": null,
   "id": "2439e707",
   "metadata": {},
   "outputs": [],
   "source": [
    "def F1(t,z):\n",
    "    return f(t,z)\n",
    "\n",
    "def F2(t,z):\n",
    "    return sp.diff(f(t,z),t) + sp.diff(f(t,z),z)*f(t,z)"
   ]
  },
  {
   "cell_type": "code",
   "execution_count": null,
   "id": "e77c340b",
   "metadata": {},
   "outputs": [
    {
     "data": {
      "text/plain": [
       "(z, z)"
      ]
     },
     "execution_count": 73,
     "metadata": {},
     "output_type": "execute_result"
    }
   ],
   "source": [
    "F1(t,z), F2(t,z)"
   ]
  },
  {
   "cell_type": "code",
   "execution_count": null,
   "id": "30d95154",
   "metadata": {},
   "outputs": [],
   "source": [
    "def taylor_2(f, a, b, mu, N):\n",
    "    \"\"\"\n",
    "    Método de Taylor de orden 2 para resolver la ecuación diferencial\n",
    "    x' = f(t,x) con condición inicial x(a) = mu en el intervalo [a,b]\n",
    "    con N pasos.\n",
    "    \"\"\"\n",
    "    h = (b - a) / N\n",
    "    t_values = np.linspace(a, b, N + 1)\n",
    "    x_values = np.zeros(N + 1)\n",
    "    x_values[0] = mu\n",
    "    t, z = sp.symbols('t z')\n",
    "    F1 = lambda t,z: f(t,z)\n",
    "    F2 = lambda t,z: sp.diff(f(t,z),t) + sp.diff(f(t,z),z)*f(t,z)\n",
    "    for n in range(N):\n",
    "        x_values[n + 1] = np.float64(x_values[n] + h * F1(t_values[n], x_values[n]) + \\\n",
    "                                     (h**2 / 2) * F2(t,z).subs({t: t_values[n], z: x_values[n]}))\n",
    "    return t_values, x_values"
   ]
  },
  {
   "cell_type": "code",
   "execution_count": null,
   "id": "44e78226",
   "metadata": {},
   "outputs": [],
   "source": [
    "N = 10\n",
    "t_values, x_values_Taylor2 = taylor_2(f,a,b,mu,N)"
   ]
  },
  {
   "cell_type": "code",
   "execution_count": null,
   "id": "cb939f1b",
   "metadata": {},
   "outputs": [
    {
     "name": "stdout",
     "output_type": "stream",
     "text": [
      "[1.         1.105      1.221025   1.34923262 1.49090205 1.64744677\n",
      " 1.82042868 2.01157369 2.22278892 2.45618176 2.71408085]\n"
     ]
    }
   ],
   "source": [
    "print(x_values_Taylor2)  #  Aproximaciones obtenidas en los nodos considerados"
   ]
  },
  {
   "cell_type": "code",
   "execution_count": null,
   "id": "07533751",
   "metadata": {},
   "outputs": [
    {
     "data": {
      "image/png": "[encoded data removed]",
      "text/plain": [
       "<Figure size 800x400 with 1 Axes>"
      ]
     },
     "metadata": {},
     "output_type": "display_data"
    }
   ],
   "source": [
    "# Dibujamos y comparamos con la solución exacta\n",
    "fig, ax = plt.subplots(figsize=(8, 4))\n",
    "ax.plot(t_values, x_values_Eulerimpl, 'bo-',label = \"aprox. mét. Euler implícito\")\n",
    "ax.plot(t_values, x_values_Eulerexpl, 'ro-',label = \"aprox. mét. Euler explícito\")\n",
    "ax.plot(t_values, x_values_Taylor2, 'o-',label = \"aprox. mét. Taylor de orden 2\")\n",
    "ax.plot(t_values, sol_exacta_np(t_values), label=f\"sol. exacta: ${sp.latex(sol_exacta)}$\")\n",
    "ax.set_title(r\"Comparación solución exacta vs diferentes métodos\", fontsize=18)\n",
    "ax.set_xlabel(r\"$t$\", fontsize=18)\n",
    "ax.set_ylabel(r\"$x$\", fontsize=18)\n",
    "ax.legend()\n",
    "fig.tight_layout()\n",
    "graf_Eulerexpl = fig"
   ]
  },
  {
   "cell_type": "markdown",
   "id": "0923adc8",
   "metadata": {},
   "source": [
    "Vemos que en este caso la aproximación por el método de Taylor de orden 2 es muy cercana a la solución exacta. Para hacernos una idea del error que estamos cometiendo, calcularemos el error cuadrático medio, esto es:\n",
    "$$\n",
    "ECM = \\dfrac 1 {N+1} \\sum_{n=0}^{N} (x(t_n) - x_n)^2, \n",
    "$$\n",
    "donde $x(t)$ es la solución exacta y $x_n$ la sucesión de aproximaciones que calculamos con este método."
   ]
  },
  {
   "cell_type": "code",
   "execution_count": null,
   "id": "caaacc35",
   "metadata": {},
   "outputs": [
    {
     "data": {
      "text/plain": [
       "np.float64(4.32470120081979e-06)"
      ]
     },
     "execution_count": 100,
     "metadata": {},
     "output_type": "execute_result"
    }
   ],
   "source": [
    "ECM_taylor2 = ((x_values_Taylor2 - sol_exacta_np(t_values))**2).mean()\n",
    "ECM_taylor2"
   ]
  },
  {
   "cell_type": "markdown",
   "id": "57b476a5",
   "metadata": {},
   "source": [
    "Otra forma de aproximar el error es calcular el máximo error absoluto, es decir:\n",
    "$$\n",
    "MEA = \\max_{n=0,\\dots,N}|x(t_n)-x_n|,\n",
    "$$\n",
    "aunque es una medida poco representativa, pues una desviación en un único punto puede dar indicios de ser una mala aproximación cuando realmente puede no serlo."
   ]
  },
  {
   "cell_type": "code",
   "execution_count": null,
   "id": "60d37ca4",
   "metadata": {},
   "outputs": [
    {
     "data": {
      "text/plain": [
       "np.float64(0.004200981850820629)"
      ]
     },
     "execution_count": 102,
     "metadata": {},
     "output_type": "execute_result"
    }
   ],
   "source": [
    "MEA_taylor2 = np.max(np.abs(x_values_Taylor2 - sol_exacta_np(t_values)))\n",
    "MEA_taylor2"
   ]
  },
  {
   "cell_type": "markdown",
   "id": "68f752a6",
   "metadata": {},
   "source": [
    "> **Ejercicio 3** A partir de la implementación del algoritmo del método de Taylor de orden $p=2$, realice las modificaciones oportunas para obtener también una posible implementación correspondiente al método de Taylor de orden $p=3$."
   ]
  },
  {
   "cell_type": "markdown",
   "id": "c00a1561",
   "metadata": {},
   "source": [
    "## 6. Métodos de Runge-Kutta ➿"
   ]
  },
  {
   "cell_type": "markdown",
   "id": "5b79231f",
   "metadata": {},
   "source": [
    "Debido a la complejidad del desarrollo de las derivadas a partir de cierto orden, los métodos de Taylor no son muy utilizados. En su lugar, los métodos de Runge-Kutta (RK), son bastante populares.\n",
    "\n",
    "En particular, vamos a ver el método de RK de 2 evaluaciones en esta práctica, que como sabemos admite dos parámetros $\\alpha$ y $\\beta$, cumpliendo $\\alpha\\beta=1/2$, de forma que\n",
    "$$\n",
    "x_{n+1} = x_n + h ((1-\\alpha)K_1+\\alpha K_2),\n",
    "$$\n",
    "donde $K_1 = f(t_n, x_n), K_2=f(t_n+\\beta h, h\\beta K_1)$."
   ]
  },
  {
   "cell_type": "code",
   "execution_count": null,
   "id": "569b5b4a",
   "metadata": {},
   "outputs": [],
   "source": [
    "def RK2(f, a, b, mu, N, alpha=0.5, beta=1):\n",
    "    \"\"\"\n",
    "    Método de Runge-Kutta de orden 2 para resolver la ecuación diferencial\n",
    "    x' = f(t,x) con condición inicial x(a) = mu en el intervalo [a,b]\n",
    "    con N pasos.\n",
    "    \"\"\"\n",
    "    h = (b - a) / N\n",
    "    t_values = np.linspace(a, b, N + 1)\n",
    "    x_values = np.zeros(N + 1)\n",
    "    x_values[0] = mu\n",
    "    for n in range(N):\n",
    "        K1 = f(t_values[n], x_values[n])\n",
    "        K2 = f(t_values[n] + beta * h, x_values[n] + beta * h * K1)\n",
    "        x_values[n + 1] = x_values[n] + h * ((1-alpha)*K1 + alpha*K2)\n",
    "    return t_values, x_values"
   ]
  },
  {
   "cell_type": "code",
   "execution_count": null,
   "id": "f38c66bf",
   "metadata": {},
   "outputs": [],
   "source": [
    "N = 10\n",
    "alpha, beta = 1, 1/2 # Euler mejorado o punto medio\n",
    "t_values, x_values_rk2_pm = RK2(f,a,b,mu,N,alpha=alpha, beta=beta)"
   ]
  },
  {
   "cell_type": "code",
   "execution_count": null,
   "id": "c8465a0e",
   "metadata": {},
   "outputs": [
    {
     "name": "stdout",
     "output_type": "stream",
     "text": [
      "[1.         1.105      1.221025   1.34923262 1.49090205 1.64744677\n",
      " 1.82042868 2.01157369 2.22278892 2.45618176 2.71408085]\n"
     ]
    }
   ],
   "source": [
    "print(x_values_rk2_pm)  #  Aproximaciones obtenidas en los nodos considerados"
   ]
  },
  {
   "cell_type": "code",
   "execution_count": null,
   "id": "1283feb4",
   "metadata": {},
   "outputs": [],
   "source": [
    "N = 10\n",
    "alpha, beta = 1/2, 1 # Euler modificado o Heun\n",
    "t_values, x_values_rk2_H = RK2(f,a,b,mu,N,alpha=alpha, beta=beta)"
   ]
  },
  {
   "cell_type": "code",
   "execution_count": null,
   "id": "ae018f7e",
   "metadata": {},
   "outputs": [
    {
     "name": "stdout",
     "output_type": "stream",
     "text": [
      "[1.         1.105      1.221025   1.34923262 1.49090205 1.64744677\n",
      " 1.82042868 2.01157369 2.22278892 2.45618176 2.71408085]\n"
     ]
    }
   ],
   "source": [
    "print(x_values_rk2_H)  #  Aproximaciones obtenidas en los nodos considerados"
   ]
  },
  {
   "cell_type": "code",
   "execution_count": null,
   "id": "59c601c9",
   "metadata": {},
   "outputs": [
    {
     "data": {
      "image/png": "[encoded data removed]",
      "text/plain": [
       "<Figure size 800x400 with 1 Axes>"
      ]
     },
     "metadata": {},
     "output_type": "display_data"
    }
   ],
   "source": [
    "# Dibujamos y comparamos con la solución exacta\n",
    "fig, ax = plt.subplots(figsize=(8, 4))\n",
    "ax.plot(t_values, x_values_rk2_pm, 'bo-',label = r\"aprox. RK2 $\\alpha=1,\\beta=1/2$\")\n",
    "ax.plot(t_values, x_values_rk2_H, 'ro-',label = r\"aprox. RK2 $\\alpha=1/2,\\beta=1$\")\n",
    "ax.plot(t_values, sol_exacta_np(t_values), label=f\"sol. exacta: ${sp.latex(sol_exacta)}$\")\n",
    "ax.set_title(r\"Comparación solución exacta vs RK2\", fontsize=18)\n",
    "ax.set_xlabel(r\"$t$\", fontsize=18)\n",
    "ax.set_ylabel(r\"$x$\", fontsize=18)\n",
    "ax.legend()\n",
    "fig.tight_layout()\n",
    "graf_Eulerexpl = fig"
   ]
  },
  {
   "cell_type": "code",
   "execution_count": null,
   "id": "6a92ecbc",
   "metadata": {},
   "outputs": [
    {
     "data": {
      "text/plain": [
       "(np.float64(4.324701200821029e-06), np.float64(4.324701200821029e-06))"
      ]
     },
     "execution_count": 95,
     "metadata": {},
     "output_type": "execute_result"
    }
   ],
   "source": [
    "ECM_rk2_pm = ((x_values_rk2_pm - sol_exacta_np(t_values))**2).mean()\n",
    "ECM_rk2_H  = ((x_values_rk2_H  - sol_exacta_np(t_values))**2).mean()\n",
    "ECM_rk2_pm, ECM_rk2_H"
   ]
  },
  {
   "cell_type": "code",
   "execution_count": null,
   "id": "7ccd5ae1",
   "metadata": {},
   "outputs": [
    {
     "data": {
      "text/plain": [
       "(np.float64(0.004200981850821073), np.float64(0.004200981850821073))"
      ]
     },
     "execution_count": 103,
     "metadata": {},
     "output_type": "execute_result"
    }
   ],
   "source": [
    "MEA_rk2_pm = np.max(np.abs(x_values_rk2_pm - sol_exacta_np(t_values)))\n",
    "MEA_rk2_H  = np.max(np.abs(x_values_rk2_H  - sol_exacta_np(t_values)))\n",
    "MEA_rk2_pm, MEA_rk2_H"
   ]
  },
  {
   "cell_type": "markdown",
   "id": "77d53db5",
   "metadata": {},
   "source": [
    "Por su parte, en el método de Runge-Kutta de 4 evaluaciones, también conocido como método de Runge-Kuta clásico, la sucesión se calcula mediante\n",
    "$$\n",
    "x_{n+1} = x_n + \\frac h 6 (K_1+2K_2+2K_3+K_4),\n",
    "$$\n",
    "donde $K_1=f(t_n,x_n)$, $K_2 = f(t_n+\\frac h 2, x_n + \\frac h 2 K_1)$, $K_3 = f(t_n+\\frac h 2, x_n + \\frac h 2 K_2)$ y $K_4 = f(t_n+h, x_n + h K_3)$.\n",
    "\n",
    "> **Ejercicio 4:** Programe el método de Runge-Kutta de 4 evaluaciones y grafique la sucesión de aproximaciones y calcule el error cuadrático medio y el máximo error absoluto con respecto a la solución exacta.\n",
    "\n",
    "> **Ejercicio 5 (Ejercicio final de las diapositivas):** Se pretende aproximar la solución del PVI:\n",
    "> $$\n",
    "> \\left\\{\\begin{array}{rcl}\n",
    "> x'(t) &=& \\dfrac{t-x(t)} 2 \\\\\n",
    "> x(0) &=& 1\n",
    "> \\end{array}\\right..\n",
    "> $$\n",
    "> en $[0,3]$\n",
    "> 1. Usa el método de Runge-Kutta de 2 evaluaciones con $\\alpha= 3/4$ y $\\beta=2/3$ para $h = 1$, $h = 1/2$, $h = 1/4$ y $h = 1/8$ y compara los resultados obtenidos.\n",
    "> 2. Repite el apartado anterior usando Runge-Kutta clásico.\n",
    "> \n",
    "> Nota: La solución exacta es $x(t) = 3 e^{-t/2} + t -2$."
   ]
  }
 ],
 "metadata": {
  "kernelspec": {
   "display_name": ".venv",
   "language": "python",
   "name": "python3"
  },
  "language_info": {
   "codemirror_mode": {
    "name": "ipython",
    "version": 3
   },
   "file_extension": ".py",
   "mimetype": "text/x-python",
   "name": "python",
   "nbconvert_exporter": "python",
   "pygments_lexer": "ipython3",
   "version": "3.12.3"
  }
 },
 "nbformat": 4,
 "nbformat_minor": 5
}
