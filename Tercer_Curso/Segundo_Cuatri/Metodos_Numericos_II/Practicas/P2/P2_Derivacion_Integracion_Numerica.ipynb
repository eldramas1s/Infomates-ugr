{
  "cells": [
    {
      "cell_type": "markdown",
      "metadata": {
        "id": "PHdDAjTb-myi"
      },
      "source": [
        "# Fórmulas de Derivación e Integración Numérica"
      ]
    },
    {
      "cell_type": "markdown",
      "metadata": {
        "id": "QAEYEgWZ-myk"
      },
      "source": [
        "Autor de esta versión: **Juan Antonio Villegas Recio**\n",
        "\n",
        "Autor de la versión original: Pedro González Rodelas\n",
        "\n",
        "Fecha de la primera versión: 08/09/2017\n",
        "\n",
        "Sucesivas revisiones: 22/09/2017, 12,19/09/2018, 29/03 y 6, 20/04/2020, 24/04/2023\n",
        "\n",
        "Fecha de la última revisión: 20/04/2025\n",
        "\n",
        "Estructura del notebook y algunos ejemplos tomados o adaptados de los libros:\n",
        "\n",
        "- \"*Numerical Python: A Practical Techniques Approach for Industry*\" de Robert Johansson. Edit. Apress (2015) con ISBN-13 (electronic): 978-1-4842-0553-2\n",
        "- \"*Numerical Methods in Engineering with Python 3*\" de Jaan Kiusalaas. Edit Cambridge Univ. Press (2013) con ISBN: 978-1-107-03385-6\n",
        "- \"*Análisis Numérico con Mathematica*\" de V. Ramírez, D. Barrera, M. Pasadas y P. González. Edit. Ariel Ciencia (2001) con ISBN: 84-344-8036-0. Dep. Legal: B.31.425-2001"
      ]
    },
    {
      "cell_type": "markdown",
      "metadata": {
        "id": "uA08O0dB-myk"
      },
      "source": [
        "En esta práctica nos ocuparemos de los métodos y algoritmos habituales para la derivación y la integración numéricas. Fundamentalmente nos centraremos en las fórmulas de tipo interpolatorio, que asumen que derivaremos o integraremos el correspondiente polinomio que interpole a la función en los nodos usados en la fórmula. En particular destacaremos las fórmulas que usan nodos equidistantes para la derivación aproximada, y revisaremos las fórmulas de integración numérica de Newton-Cotes más habituales (de los rectángulos, trapecios, Simpson, etc.), tanto en su versión simple como en sus versiones compuestas. También se presentarán fórmulas algo más avanzadas, como la integración de Romberg y las fórmulas de cuadratura gaussiana."
      ]
    },
    {
      "cell_type": "markdown",
      "metadata": {},
      "source": [
        "## 1. Carga de los módulos y funciones empleadas 🔨"
      ]
    },
    {
      "cell_type": "markdown",
      "metadata": {},
      "source": [
        "Antes de empezar a realizar cualquier cálculo numérico o simbólico debemos de cargar los correspondientes módulos de Python que implementan la mayoría de funciones y procedimientos necesarios para ello: [`numpy`](https://numpy.org/) y [`sympy`](https://www.sympy.org/), que serán cargados con los pseudónimos `np` y `sp`, respectivamente. Además cargaremos también el submódulo `pyplot`, del paquete [`matplotlib`](https://matplotlib.org/), que nos permitirá realizar las representaciones gráficas que nos ayudarán a visualizar todo el proceso. También importaremos la función [`random`](https://docs.python.org/3/library/random.html#random.random) del módulo [`random`](https://docs.python.org/3/library/random.html), encargada de la generación de números aleatorios."
      ]
    },
    {
      "cell_type": "code",
      "execution_count": 1,
      "metadata": {},
      "outputs": [],
      "source": [
        "# Carga de librerías necesarias\n",
        "import numpy as np\n",
        "import sympy as sp\n",
        "import matplotlib.pyplot as plt\n",
        "from random import random"
      ]
    },
    {
      "cell_type": "markdown",
      "metadata": {
        "id": "lZIPcvQI-myo"
      },
      "source": [
        "## 2. Obtención de fórmulas de tipo interpolatorio 〰️"
      ]
    },
    {
      "cell_type": "markdown",
      "metadata": {
        "id": "ZNKdv_2h-myo"
      },
      "source": [
        "Para obtener fórmulas de derivación o integración numéricas a partir de la interpolación polinómica necesitamos calcular, en primer lugar, el polinomio de interpolación y después la derivada correspondiente en un punto $a$ o la integral en un intervalo $[a,b]$. En lo que respecta a la derivación numérica, consideraremos distintos órdenes de derivación. Los datos de interpolación para las fórmulas de derivación numérica podrán ser lagrangianos fundamentalmente, aunque para las fórmulas de integración numérica también podrían ser de tipo Hermite. Así pues la idea detrás de todas estas fórmulas de tipo interpolatorio será la de obtener en primer lugar el correspondiente polinomio interpolador (satisfaciendo los datos indicados) y posteriormente aplicarle la derivada o integral a dicho polinomio en vez de a la función, para obtener así la correspondiente fórmula numérica. Es decir $$\\mathcal{L}(f)\\approx\\mathcal{L}(p) $$\n",
        "donde $p$ es el polinomio que interpola a $f$ en los datos concretos indicados y $\\mathcal L$ es el operador derivada o integral."
      ]
    },
    {
      "cell_type": "markdown",
      "metadata": {
        "id": "D1rGRNW1-myo"
      },
      "source": [
        "### 2.1. Fórmulas de derivación numérica 🍟"
      ]
    },
    {
      "cell_type": "markdown",
      "metadata": {
        "id": "l0areJ85-myo"
      },
      "source": [
        "En las fórmulas de derivación numérica, los nodos que intervienen, es decir los puntos de interpolación de la función $f$, suelen ser\n",
        "el punto $a$ y/o ciertos puntos cercanos a su derecha e/o izquierda, de la forma $a\\pm h$, $a\\pm 2h$, etc.\n",
        "\n",
        "Las primeras fórmulas que vamos a obtener son las que utilizan los nodos $a$ y $a+h$, o $a-h$, para la derivada primera."
      ]
    },
    {
      "cell_type": "code",
      "execution_count": 2,
      "metadata": {
        "id": "pVP7NCYn-myp"
      },
      "outputs": [
        {
          "data": {
            "text/plain": [
              "[a, a + h]"
            ]
          },
          "execution_count": 2,
          "metadata": {},
          "output_type": "execute_result"
        }
      ],
      "source": [
        "f = sp.Function('f')                # Crea función simbólica\n",
        "a,h = sp.symbols('a,h')\n",
        "x_values = [a,a+h]                  # Intervalo simbólico, lista que contiene variables simbólicas\n",
        "x_values"
      ]
    },
    {
      "cell_type": "code",
      "execution_count": 3,
      "metadata": {
        "id": "x3zTQ95E-myp"
      },
      "outputs": [
        {
          "data": {
            "text/plain": [
              "[f(a), f(a + h)]"
            ]
          },
          "execution_count": 3,
          "metadata": {},
          "output_type": "execute_result"
        }
      ],
      "source": [
        "y_values = [f(x_values[0]),f(x_values[1])]\n",
        "y_values"
      ]
    },
    {
      "cell_type": "code",
      "execution_count": 4,
      "metadata": {
        "colab": {
          "base_uri": "https://localhost:8080/",
          "height": 53
        },
        "id": "ycNbtnAy-myp",
        "outputId": "ac6274ed-9158-4efe-bf4d-f588d9fd7768"
      },
      "outputs": [
        {
          "data": {
            "text/latex": [
              "$\\displaystyle f{\\left(a \\right)} + \\frac{\\left(- a + x\\right) \\left(- f{\\left(a \\right)} + f{\\left(a + h \\right)}\\right)}{h}$"
            ],
            "text/plain": [
              "f(a) + (-a + x)*(-f(a) + f(a + h))/h"
            ]
          },
          "execution_count": 4,
          "metadata": {},
          "output_type": "execute_result"
        }
      ],
      "source": [
        "x = sp.Symbol('x')  # utilizaremos z como variable simbólica\n",
        "p = (y_values[1]-y_values[0])/(x_values[1]-x_values[0])*(x-x_values[0])+y_values[0]\n",
        "p  # este sería el polinomio interpolador de grado $1$, ecuación recta tangente con derivada aproximada (f(b)-f(a))/(b-a)"
      ]
    },
    {
      "cell_type": "code",
      "execution_count": 5,
      "metadata": {
        "colab": {
          "base_uri": "https://localhost:8080/"
        },
        "id": "trsBQdoc-myp",
        "outputId": "61580655-91e1-4a80-9f0d-437999aa7acd"
      },
      "outputs": [
        {
          "data": {
            "text/plain": [
              "(f(a), f(a + h))"
            ]
          },
          "execution_count": 5,
          "metadata": {},
          "output_type": "execute_result"
        }
      ],
      "source": [
        "p.subs({x:x_values[0]}),p.subs({x:x_values[1]}) #  Comprobamos que el polinomio interpolador pasa por los puntos (a,f(a)) y (a+h,f(a+h))"
      ]
    },
    {
      "cell_type": "markdown",
      "metadata": {
        "id": "5JuuRAd2-myp"
      },
      "source": [
        "Derivemos ahora simbólicamente dicho polinomio, para ver cúal sería su derivada de primer orden"
      ]
    },
    {
      "cell_type": "code",
      "execution_count": 6,
      "metadata": {
        "colab": {
          "base_uri": "https://localhost:8080/",
          "height": 53
        },
        "id": "IKdouxDW-myp",
        "outputId": "26d4a7a7-56f2-4b2e-e1e6-4dd05dbd3eec"
      },
      "outputs": [
        {
          "data": {
            "text/latex": [
              "$\\displaystyle \\frac{- f{\\left(a \\right)} + f{\\left(a + h \\right)}}{h}$"
            ],
            "text/plain": [
              "(-f(a) + f(a + h))/h"
            ]
          },
          "execution_count": 6,
          "metadata": {},
          "output_type": "execute_result"
        }
      ],
      "source": [
        "sp.diff(p,x)# Derivada respecto x"
      ]
    },
    {
      "cell_type": "markdown",
      "metadata": {
        "id": "y2D46ron-myq"
      },
      "source": [
        "Esta será pues la fórmula de derivación numérica obtenida a partir de estos datos de interpolación $(a,f(a))$ y $(a+h,f(a+h))$\n",
        "\n",
        "$\\mathcal{L}(f)\\equiv f'(a) \\approx p'(a) = \\frac{f(a+h)-f(a)}{h}$"
      ]
    },
    {
      "cell_type": "markdown",
      "metadata": {
        "id": "bKHjLy44-myq"
      },
      "source": [
        "> **Ejercicio 1:** Pruebe ahora a repetir el mismo proceso, pero con los datos de interpolación  \n",
        "> \n",
        "> a) $(a-h,f(a-h))$ y $(a,f(a))$,\n",
        "> \n",
        "> b) $(a-h,f(a-h))$ y $(a+h,f(a+h))$. \n",
        "> \n",
        "> ¿Qué fórmulas de derivación numérica se obtiene en cada caso?"
      ]
    },
    {
      "cell_type": "markdown",
      "metadata": {
        "id": "nng9rEeQ-myq"
      },
      "source": [
        "A continuación vamos a usar tres nodos en vez de dos, empecemos por ejemplo con $a-h$, $a$ y $a+h$ para la derivada primera. Este tipo de fómulas que emplean de manera simétrica puntos a ambos lados del punto de derivación se suelen denominar *centradas*."
      ]
    },
    {
      "cell_type": "code",
      "execution_count": 7,
      "metadata": {
        "colab": {
          "base_uri": "https://localhost:8080/"
        },
        "id": "o0Dkd16--myq",
        "outputId": "ce323bdb-a17b-4a3c-ab23-97d08948c587"
      },
      "outputs": [
        {
          "data": {
            "text/plain": [
              "[f(a - h), f(a), f(a + h)]"
            ]
          },
          "execution_count": 7,
          "metadata": {},
          "output_type": "execute_result"
        }
      ],
      "source": [
        "x_values = [a-h, a, a+h]  # estos serán los nodos de interpolación, 3 nodos -> polinomio interpolación de grado 2\n",
        "y_values = [f(xi) for xi in x_values]  # y los valores interpolados\n",
        "y_values"
      ]
    },
    {
      "cell_type": "code",
      "execution_count": 8,
      "metadata": {},
      "outputs": [
        {
          "data": {
            "text/latex": [
              "$\\displaystyle - \\frac{a^{2} f{\\left(a \\right)}}{h^{2}} + \\frac{a^{2} f{\\left(a - h \\right)}}{2 h^{2}} + \\frac{a^{2} f{\\left(a + h \\right)}}{2 h^{2}} + \\frac{a f{\\left(a - h \\right)}}{2 h} - \\frac{a f{\\left(a + h \\right)}}{2 h} + \\frac{2 a x f{\\left(a \\right)}}{h^{2}} - \\frac{a x f{\\left(a - h \\right)}}{h^{2}} - \\frac{a x f{\\left(a + h \\right)}}{h^{2}} + f{\\left(a \\right)} - \\frac{x f{\\left(a - h \\right)}}{2 h} + \\frac{x f{\\left(a + h \\right)}}{2 h} - \\frac{x^{2} f{\\left(a \\right)}}{h^{2}} + \\frac{x^{2} f{\\left(a - h \\right)}}{2 h^{2}} + \\frac{x^{2} f{\\left(a + h \\right)}}{2 h^{2}}$"
            ],
            "text/plain": [
              "-a**2*f(a)/h**2 + a**2*f(a - h)/(2*h**2) + a**2*f(a + h)/(2*h**2) + a*f(a - h)/(2*h) - a*f(a + h)/(2*h) + 2*a*x*f(a)/h**2 - a*x*f(a - h)/h**2 - a*x*f(a + h)/h**2 + f(a) - x*f(a - h)/(2*h) + x*f(a + h)/(2*h) - x**2*f(a)/h**2 + x**2*f(a - h)/(2*h**2) + x**2*f(a + h)/(2*h**2)"
            ]
          },
          "execution_count": 8,
          "metadata": {},
          "output_type": "execute_result"
        }
      ],
      "source": [
        "from sympy.polys.polyfuncs import interpolate\n",
        "\n",
        "data = list(zip(x_values, y_values))  # lista de tuplas (x,y) para los nodos de interpolación\n",
        "interpolated_poly = interpolate(data, x)\n",
        "interpolated_poly"
      ]
    },
    {
      "cell_type": "code",
      "execution_count": 9,
      "metadata": {},
      "outputs": [
        {
          "data": {
            "text/plain": [
              "(f(a - h), f(a), f(a + h))"
            ]
          },
          "execution_count": 9,
          "metadata": {},
          "output_type": "execute_result"
        }
      ],
      "source": [
        "# Comprobamos que el polinomio interpolador pasa por los puntos (a-h,f(a-h)), (a,f(a)) y (a+h,f(a+h))\n",
        "interpolated_poly.subs({x:a-h}).simplify(), \\\n",
        "interpolated_poly.subs({x:a}).simplify(), \\\n",
        "interpolated_poly.subs({x:a+h}).simplify()"
      ]
    },
    {
      "cell_type": "markdown",
      "metadata": {
        "id": "7OLbIA9O-myr"
      },
      "source": [
        "Ahora para obtener la correspondiente fórmula de derivación numérica, bastará con derivar dicho polinomio respecto de la variable independiente y evaluar en el punto donde queremos aproximar la derivada; es decir calculamos $p_2'(a) = \\frac{f(a+h)-f(a-h)}{2h}$.\n",
        "\n",
        "Vemos que resulta una fórmula con sólo dos nodos, uno a cada lado del punto $a$, ya que el coeficiente de $f(a)$ vale cero. Comprobémoslo:"
      ]
    },
    {
      "cell_type": "code",
      "execution_count": 10,
      "metadata": {
        "colab": {
          "base_uri": "https://localhost:8080/",
          "height": 53
        },
        "id": "evw1yj6X-myr",
        "outputId": "54754e94-1601-4e7e-f942-72cb21cd7a86"
      },
      "outputs": [
        {
          "data": {
            "text/latex": [
              "$\\displaystyle \\frac{- f{\\left(a - h \\right)} + f{\\left(a + h \\right)}}{2 h}$"
            ],
            "text/plain": [
              "(-f(a - h) + f(a + h))/(2*h)"
            ]
          },
          "execution_count": 10,
          "metadata": {},
          "output_type": "execute_result"
        }
      ],
      "source": [
        "sp.diff(interpolated_poly,x).subs({x:a}).simplify()"
      ]
    },
    {
      "cell_type": "markdown",
      "metadata": {
        "id": "PCgsGVhm-mys"
      },
      "source": [
        "Pero al tratarse ahora de un polinomio de interpolación de grado $2$ nada nos impide calcular también su derivada de segundo orden, que nos serviría en este caso como aproximación del correspondiente operador de derivada segunda\n",
        "\n",
        "$$\\mathcal{L}(f)\\equiv f''(a)\\approx p''(a)$$"
      ]
    },
    {
      "cell_type": "code",
      "execution_count": 11,
      "metadata": {
        "colab": {
          "base_uri": "https://localhost:8080/",
          "height": 53
        },
        "id": "ym-vivBG-mys",
        "outputId": "c7de09c8-0d1a-4bf0-bb8a-cdf0cf72878b"
      },
      "outputs": [
        {
          "data": {
            "text/latex": [
              "$\\displaystyle \\frac{- 2 f{\\left(a \\right)} + f{\\left(a - h \\right)} + f{\\left(a + h \\right)}}{h^{2}}$"
            ],
            "text/plain": [
              "(-2*f(a) + f(a - h) + f(a + h))/h**2"
            ]
          },
          "execution_count": 11,
          "metadata": {},
          "output_type": "execute_result"
        }
      ],
      "source": [
        "# Nótese que en este caso, ni siquiera hemos tenido que evaluar dicha derivada en el punto x=a,\n",
        "# al ser esta constante.\n",
        "sp.diff(interpolated_poly, x, 2)"
      ]
    },
    {
      "cell_type": "markdown",
      "metadata": {
        "id": "olJeFDa3-mys"
      },
      "source": [
        "Por último vamos a obtener también otras fórmulas para la derivada primera o segunda, que sean de tipo *descentrado*, utilizando por ejemplo los nodos $a$, $a+h$ y $a+2h$. El procedimiento es igual que antes, solo cambian los puntos de las listas x e y.\n",
        "\n",
        "Creamos las listas de nodos y calculamos el polinomio interpolador."
      ]
    },
    {
      "cell_type": "code",
      "execution_count": 12,
      "metadata": {
        "colab": {
          "base_uri": "https://localhost:8080/"
        },
        "id": "_B1MsFy6-my0",
        "outputId": "e2903401-c095-4108-a7ad-db7fc542fbaa"
      },
      "outputs": [
        {
          "data": {
            "text/latex": [
              "$\\displaystyle \\frac{a^{2} f{\\left(a \\right)}}{2 h^{2}} - \\frac{a^{2} f{\\left(a + h \\right)}}{h^{2}} + \\frac{a^{2} f{\\left(a + 2 h \\right)}}{2 h^{2}} + \\frac{3 a f{\\left(a \\right)}}{2 h} - \\frac{2 a f{\\left(a + h \\right)}}{h} + \\frac{a f{\\left(a + 2 h \\right)}}{2 h} - \\frac{a x f{\\left(a \\right)}}{h^{2}} + \\frac{2 a x f{\\left(a + h \\right)}}{h^{2}} - \\frac{a x f{\\left(a + 2 h \\right)}}{h^{2}} + f{\\left(a \\right)} - \\frac{3 x f{\\left(a \\right)}}{2 h} + \\frac{2 x f{\\left(a + h \\right)}}{h} - \\frac{x f{\\left(a + 2 h \\right)}}{2 h} + \\frac{x^{2} f{\\left(a \\right)}}{2 h^{2}} - \\frac{x^{2} f{\\left(a + h \\right)}}{h^{2}} + \\frac{x^{2} f{\\left(a + 2 h \\right)}}{2 h^{2}}$"
            ],
            "text/plain": [
              "a**2*f(a)/(2*h**2) - a**2*f(a + h)/h**2 + a**2*f(a + 2*h)/(2*h**2) + 3*a*f(a)/(2*h) - 2*a*f(a + h)/h + a*f(a + 2*h)/(2*h) - a*x*f(a)/h**2 + 2*a*x*f(a + h)/h**2 - a*x*f(a + 2*h)/h**2 + f(a) - 3*x*f(a)/(2*h) + 2*x*f(a + h)/h - x*f(a + 2*h)/(2*h) + x**2*f(a)/(2*h**2) - x**2*f(a + h)/h**2 + x**2*f(a + 2*h)/(2*h**2)"
            ]
          },
          "execution_count": 12,
          "metadata": {},
          "output_type": "execute_result"
        }
      ],
      "source": [
        "x_values = [a, a+h, a+2*h]\n",
        "y_values = [f(xi) for xi in x_values]\n",
        "data = list(zip(x_values, y_values))  # lista de tuplas (x,y) para los nodos de interpolación\n",
        "interpolated_poly = interpolate(data, x)\n",
        "interpolated_poly"
      ]
    },
    {
      "cell_type": "markdown",
      "metadata": {},
      "source": [
        "Comprobamos (opcional)"
      ]
    },
    {
      "cell_type": "code",
      "execution_count": 13,
      "metadata": {},
      "outputs": [
        {
          "data": {
            "text/plain": [
              "(f(a), f(a + h), f(a + 2*h))"
            ]
          },
          "execution_count": 13,
          "metadata": {},
          "output_type": "execute_result"
        }
      ],
      "source": [
        "# Comprobamos que el polinomio interpolador pasa por los puntos (a,f(a)), (a+h,f(a+h)) y (a+2h,f(a+2h))\n",
        "interpolated_poly.subs({x:a}).simplify(), \\\n",
        "interpolated_poly.subs({x:a+h}).simplify(), \\\n",
        "interpolated_poly.subs({x:a+2*h}).simplify()"
      ]
    },
    {
      "cell_type": "markdown",
      "metadata": {},
      "source": [
        "Calculamos las derivadas"
      ]
    },
    {
      "cell_type": "code",
      "execution_count": 14,
      "metadata": {
        "colab": {
          "base_uri": "https://localhost:8080/",
          "height": 53
        },
        "id": "sp1QkIMu-my0",
        "outputId": "2715a0bd-0e74-4810-af30-a1a04050638a"
      },
      "outputs": [
        {
          "data": {
            "text/latex": [
              "$\\displaystyle \\frac{- 3 f{\\left(a \\right)} + 4 f{\\left(a + h \\right)} - f{\\left(a + 2 h \\right)}}{2 h}$"
            ],
            "text/plain": [
              "(-3*f(a) + 4*f(a + h) - f(a + 2*h))/(2*h)"
            ]
          },
          "execution_count": 14,
          "metadata": {},
          "output_type": "execute_result"
        }
      ],
      "source": [
        "# Primera derivada evaluada en el punto x=a\n",
        "sp.diff(interpolated_poly,x).subs({x:a}).simplify()"
      ]
    },
    {
      "cell_type": "code",
      "execution_count": 15,
      "metadata": {
        "colab": {
          "base_uri": "https://localhost:8080/",
          "height": 53
        },
        "id": "yaHaF2be-my0",
        "outputId": "afda466f-3cf1-4842-e5fa-631bf58129ef"
      },
      "outputs": [
        {
          "data": {
            "text/latex": [
              "$\\displaystyle \\frac{f{\\left(a \\right)} - 2 f{\\left(a + h \\right)} + f{\\left(a + 2 h \\right)}}{h^{2}}$"
            ],
            "text/plain": [
              "(f(a) - 2*f(a + h) + f(a + 2*h))/h**2"
            ]
          },
          "execution_count": 15,
          "metadata": {},
          "output_type": "execute_result"
        }
      ],
      "source": [
        "# Derivada segunda evaluada en el punto x=a\n",
        "sp.diff(interpolated_poly,x,2)"
      ]
    },
    {
      "cell_type": "markdown",
      "metadata": {
        "id": "Rb3MU54v-my1"
      },
      "source": [
        "Pero si queremos obtener otras *fórmulas centradas* para la derivada segunda, usando ahora por ejemplo cinco nodos simétricos, $a-2h, \\; a-h, \\; a,\n",
        "\\; a+h$ y $a+2h$, deberemos calcular entonces el correspondiente polinomio de interpolación de grado $4$."
      ]
    },
    {
      "cell_type": "markdown",
      "metadata": {
        "id": "VRxb_eAX-my1"
      },
      "source": [
        "Procedamos como antes, de manera progresiva, calculando lo correspondientes polinomios de interpolación de Newton, interpolando un dato más de Lagrange cada vez."
      ]
    },
    {
      "cell_type": "code",
      "execution_count": 16,
      "metadata": {
        "colab": {
          "base_uri": "https://localhost:8080/"
        },
        "id": "pSeNGPYC-my1",
        "outputId": "3bddb698-a064-4da8-bb6f-99fd81dca46d"
      },
      "outputs": [],
      "source": [
        "x_values = [a-2*h, a-h, a, a+h, a+2*h] # nodos de interpolación\n",
        "y_values = [f(xi) for xi in x_values]\n",
        "data = list(zip(x_values, y_values))  # lista de tuplas (x,y) para los nodos de interpolación\n",
        "interpolated_poly = interpolate(data, x)\n",
        "# interpolated_poly"
      ]
    },
    {
      "cell_type": "code",
      "execution_count": 17,
      "metadata": {
        "colab": {
          "base_uri": "https://localhost:8080/",
          "height": 53
        },
        "id": "DvT2-jr0-my1",
        "outputId": "abe51831-c6d1-407a-fea4-f8e162f5214f"
      },
      "outputs": [
        {
          "data": {
            "text/latex": [
              "$\\displaystyle \\frac{- 30 f{\\left(a \\right)} - f{\\left(a - 2 h \\right)} + 16 f{\\left(a - h \\right)} + 16 f{\\left(a + h \\right)} - f{\\left(a + 2 h \\right)}}{12 h^{2}}$"
            ],
            "text/plain": [
              "(-30*f(a) - f(a - 2*h) + 16*f(a - h) + 16*f(a + h) - f(a + 2*h))/(12*h**2)"
            ]
          },
          "execution_count": 17,
          "metadata": {},
          "output_type": "execute_result"
        }
      ],
      "source": [
        "# esta será la fórmula obtenida esta vez para aproximar la derivada segunda f''(a)\n",
        "formula=sp.diff(interpolated_poly,x,2).subs({x:a}).simplify() \n",
        "formula"
      ]
    },
    {
      "cell_type": "markdown",
      "metadata": {
        "id": "RM4rh88d-my1"
      },
      "source": [
        "Y de igual forma se obtendría cualquier otra fórmula de derivación numérica de tipo interpolatorio. La cuestión será obtener primero el correspondiente polinomio de interpolación, usando la fórmula o el procedimiento simbólico que consideremos más oportuno, y después derivar dicho polinomio, también simbólicamente, antes de evaluar en el punto en cuestión donde queremos aproximar la derivada, tal y cómo hemos hecho en los ejemplos anteriores."
      ]
    },
    {
      "cell_type": "markdown",
      "metadata": {},
      "source": [
        "> **Ejercicio 2:** Codifica una función para calcular la fórmula de derivación de tipo interpolatorio obtenida al derivar el polinomio interpolador en una lista de nodos que acepte como argumento. Añade un argumento opcional que sea el orden de la derivada a calcular. Comprueba el correcto funcionamiento de esta función con los ejemplos mostrados hasta el momento."
      ]
    },
    {
      "cell_type": "markdown",
      "metadata": {
        "id": "akK8s547-my1"
      },
      "source": [
        "A continuación vamos a analizar otra de las cuestiones importantes que tienen que ver con este tipo de fórmulas, *el orden o grado de exactitud* de la misma (se presupone que para funciones de tipo polinómico). Comprobémoslo por ejemplo en el caso de la última fórmula obtenida. Tenemos que ver hasta qué potencia del tipo $x^i$, con $i$ entero natural, dicha fórmula no sólo es aproximada, sino que resulta exacta. De antemano, por construcción, dicha exactitud está garantizada para $i=0,\\,1,\\, 2,\\, 3$ y $4$, por tratarse de una fórmula de tipo interpolatorio. Sin embargo, vamos a probar que pasa con el valor $i=5$ y posteriores. Ser exacta en una base ${1, x, . . . , x^m}$ de $\\mathbb{P}_m$ equivale, por linealidad, a serlo\n",
        "en todo el espacio $\\mathbb{P}_m$."
      ]
    },
    {
      "cell_type": "code",
      "execution_count": 18,
      "metadata": {
        "id": "qSbkF9Pw-my1"
      },
      "outputs": [
        {
          "data": {
            "text/latex": [
              "$\\displaystyle \\frac{- 30 g{\\left(a \\right)} - g{\\left(a - 2 h \\right)} + 16 g{\\left(a - h \\right)} + 16 g{\\left(a + h \\right)} - g{\\left(a + 2 h \\right)}}{12 h^{2}}$"
            ],
            "text/plain": [
              "(-30*g(a) - g(a - 2*h) + 16*g(a - h) + 16*g(a + h) - g(a + 2*h))/(12*h**2)"
            ]
          },
          "execution_count": 18,
          "metadata": {},
          "output_type": "execute_result"
        }
      ],
      "source": [
        "formula_der = lambda f: (-30*f(a)-f(a-2*h)+16*f(a-h)+16*f(a+h)-f(a+2*h))/(12*h**2) # fórmula derivada\n",
        "formula_der(sp.Function('g'))"
      ]
    },
    {
      "cell_type": "code",
      "execution_count": 19,
      "metadata": {},
      "outputs": [
        {
          "data": {
            "text/latex": [
              "$\\displaystyle \\frac{- 30 \\sin{\\left(a \\right)} - \\sin{\\left(a - 2 h \\right)} + 16 \\sin{\\left(a - h \\right)} + 16 \\sin{\\left(a + h \\right)} - \\sin{\\left(a + 2 h \\right)}}{12 h^{2}}$"
            ],
            "text/plain": [
              "(-30*sin(a) - sin(a - 2*h) + 16*sin(a - h) + 16*sin(a + h) - sin(a + 2*h))/(12*h**2)"
            ]
          },
          "execution_count": 19,
          "metadata": {},
          "output_type": "execute_result"
        }
      ],
      "source": [
        "formula_der(sp.sin)"
      ]
    },
    {
      "cell_type": "code",
      "execution_count": 20,
      "metadata": {
        "colab": {
          "base_uri": "https://localhost:8080/"
        },
        "id": "letFf4U_-my2",
        "outputId": "f55916d9-d89a-472f-c06c-4b10a2f5584b"
      },
      "outputs": [
        {
          "data": {
            "text/plain": [
              "[0, 0, 2, 6*a, 12*a**2, 20*a**3, 30*a**4, 42*a**5, 56*a**6, 72*a**7]"
            ]
          },
          "execution_count": 20,
          "metadata": {},
          "output_type": "execute_result"
        }
      ],
      "source": [
        "exact_values =[sp.diff(x**i,x,2).subs({x:a}) for i in range(10)]    # Derivada segunda de x^i con i=0,...,10\n",
        "exact_values"
      ]
    },
    {
      "cell_type": "code",
      "execution_count": 21,
      "metadata": {
        "colab": {
          "base_uri": "https://localhost:8080/"
        },
        "id": "FRh2R-fa-my2",
        "outputId": "516beb3a-f773-4c94-e34f-b9fb2733d2cc"
      },
      "outputs": [
        {
          "data": {
            "text/plain": [
              "[0,\n",
              " 0,\n",
              " 2,\n",
              " 6*a,\n",
              " 12*a**2,\n",
              " 20*a**3,\n",
              " 30*a**4 - 8*h**4,\n",
              " 42*a**5 - 56*a*h**4,\n",
              " 56*a**6 - 224*a**2*h**4 - 40*h**6,\n",
              " 72*a**7 - 672*a**3*h**4 - 360*a*h**6]"
            ]
          },
          "execution_count": 21,
          "metadata": {},
          "output_type": "execute_result"
        }
      ],
      "source": [
        "# Evaluamos formula_der() en x^i con i=0,...,10, es decir, \n",
        "# derivamos x^i con la fórmula de derivación obtenida a partir de interpolación\n",
        "approx_values =[formula_der(lambda x:x**i).simplify() for i in range(10)]\n",
        "approx_values"
      ]
    },
    {
      "cell_type": "code",
      "execution_count": 22,
      "metadata": {
        "colab": {
          "base_uri": "https://localhost:8080/"
        },
        "id": "RzjCeBw9-my2",
        "outputId": "94939e0f-1110-4d53-a910-39798cdf6870"
      },
      "outputs": [
        {
          "data": {
            "text/plain": [
              "array([0, 0, 0, 0, 0, 0, -8*h**4, -56*a*h**4, -224*a**2*h**4 - 40*h**6,\n",
              "       -672*a**3*h**4 - 360*a*h**6], dtype=object)"
            ]
          },
          "execution_count": 22,
          "metadata": {},
          "output_type": "execute_result"
        }
      ],
      "source": [
        "# Si ahora lo que queremos es restar estos resultados uno a uno, debemos convertir estas listas en arrays\n",
        "# Estamos comparando el funcional derivada con el funcional calculado con la interpolación polinómica\n",
        "np.array(approx_values) - np.array(exact_values)"
      ]
    },
    {
      "cell_type": "code",
      "execution_count": 23,
      "metadata": {
        "colab": {
          "base_uri": "https://localhost:8080/"
        },
        "id": "hksifA1K-my2",
        "outputId": "0f4e6398-0bb0-470c-9e7e-a72656ac9742"
      },
      "outputs": [
        {
          "name": "stdout",
          "output_type": "stream",
          "text": [
            "Diferencia entre el valor aproximado y el valor exacto de (x^0)'': 0\n",
            "Diferencia entre el valor aproximado y el valor exacto de (x^1)'': 0\n",
            "Diferencia entre el valor aproximado y el valor exacto de (x^2)'': 0\n",
            "Diferencia entre el valor aproximado y el valor exacto de (x^3)'': 0\n",
            "Diferencia entre el valor aproximado y el valor exacto de (x^4)'': 0\n",
            "Diferencia entre el valor aproximado y el valor exacto de (x^5)'': 0\n",
            "Diferencia entre el valor aproximado y el valor exacto de (x^6)'': -8*h**4\n",
            "Diferencia entre el valor aproximado y el valor exacto de (x^7)'': -56*a*h**4\n",
            "Diferencia entre el valor aproximado y el valor exacto de (x^8)'': -224*a**2*h**4 - 40*h**6\n",
            "Diferencia entre el valor aproximado y el valor exacto de (x^9)'': -672*a**3*h**4 - 360*a*h**6\n",
            "comprobación terminada; deduzca de aquí el grado de exactitud de la fórmula\n"
          ]
        }
      ],
      "source": [
        "# Otra opción siempre sería hacerlo elemento a elemento mediante un índice que recorra las distintas componenentes de ambas listas\n",
        "for i in range(10):\n",
        "    print(f\"Diferencia entre el valor aproximado y el valor exacto de (x^{i})\\'\\': {approx_values[i]- exact_values[i]}\")\n",
        "print(\"comprobación terminada; deduzca de aquí el grado de exactitud de la fórmula\")"
      ]
    },
    {
      "cell_type": "markdown",
      "metadata": {
        "id": "FQb8nKH5-my2"
      },
      "source": [
        "Observamos claramente que efectivamente la fórmula es exacta para polinomios hasta grado $5$, ya que los resultados obtenidos al aplicar la fórmula a los monomios correspondientes da idéntico resultado que calculando sus derivadas segundas directamente, y claramente el proceso de derivación constituye una forma lineal.\n",
        "\n",
        "Sin embargo, para $i=6$ por ejemplo, el valor proporcionado es $30 a^4-8h^4$, cuya diferencia con el valor exacto es el término $-8h^4$. Errores del mismo orden $O(h^4)$ también aparecen en los demás casos, con $i\\geq 6$. Así pues concluimos que el orden de exactitud para funciones polinómicas es $5$ y que el orden de aproximación puede ser $4$, aunque habrá que comprobarlo fehacientemente para funciones arbitrarias (no sólo polinómicas) mediante desarrollos de Taylor."
      ]
    },
    {
      "cell_type": "code",
      "execution_count": 24,
      "metadata": {
        "colab": {
          "base_uri": "https://localhost:8080/",
          "height": 39
        },
        "id": "fdkO4l9g-my3",
        "outputId": "c83f0d05-e468-4ff0-b2b1-3d5d7be5e33b"
      },
      "outputs": [
        {
          "data": {
            "text/latex": [
              "$\\displaystyle f{\\left(x \\right)}$"
            ],
            "text/plain": [
              "f(x)"
            ]
          },
          "execution_count": 24,
          "metadata": {},
          "output_type": "execute_result"
        }
      ],
      "source": [
        "f(x)"
      ]
    },
    {
      "cell_type": "markdown",
      "metadata": {},
      "source": [
        "Obsérvese que podemos obtener derivadas simbólicas del orden que necesitemos"
      ]
    },
    {
      "cell_type": "code",
      "execution_count": 25,
      "metadata": {
        "colab": {
          "base_uri": "https://localhost:8080/",
          "height": 52
        },
        "id": "9UdgkS1y-my3",
        "outputId": "25e2db82-4782-4791-ae41-1755823285b3"
      },
      "outputs": [
        {
          "data": {
            "text/latex": [
              "$\\displaystyle \\frac{d}{d x} f{\\left(x \\right)}$"
            ],
            "text/plain": [
              "Derivative(f(x), x)"
            ]
          },
          "execution_count": 25,
          "metadata": {},
          "output_type": "execute_result"
        }
      ],
      "source": [
        "sp.diff(f(x),x)"
      ]
    },
    {
      "cell_type": "code",
      "execution_count": 26,
      "metadata": {
        "colab": {
          "base_uri": "https://localhost:8080/",
          "height": 54
        },
        "id": "O6Zjv1Zx-my3",
        "outputId": "2e24651f-a6f6-4c42-e410-1ba2cb7ff871"
      },
      "outputs": [
        {
          "data": {
            "text/latex": [
              "$\\displaystyle \\frac{d^{5}}{d x^{5}} f{\\left(x \\right)}$"
            ],
            "text/plain": [
              "Derivative(f(x), (x, 5))"
            ]
          },
          "execution_count": 26,
          "metadata": {},
          "output_type": "execute_result"
        }
      ],
      "source": [
        "sp.diff(f(x),x,5)"
      ]
    },
    {
      "cell_type": "markdown",
      "metadata": {},
      "source": [
        "Pero vemos que habrá que tener cuidado cuando se evaluen las derivadas en puntos concretos."
      ]
    },
    {
      "cell_type": "code",
      "execution_count": 27,
      "metadata": {
        "colab": {
          "base_uri": "https://localhost:8080/",
          "height": 52
        },
        "id": "oMVeHSap-my3",
        "outputId": "2be70405-aea6-4564-82da-ec6f7781ce06"
      },
      "outputs": [
        {
          "data": {
            "text/latex": [
              "$\\displaystyle \\frac{d}{d a} f{\\left(a \\right)}$"
            ],
            "text/plain": [
              "Derivative(f(a), a)"
            ]
          },
          "execution_count": 27,
          "metadata": {},
          "output_type": "execute_result"
        }
      ],
      "source": [
        "# Esta orden de python nos da la derivada respecto a a, no la derivada respecto a z evaluada en z=a\n",
        "(sp.diff(f(x),x)).subs({x:a})"
      ]
    },
    {
      "cell_type": "code",
      "execution_count": 28,
      "metadata": {
        "colab": {
          "base_uri": "https://localhost:8080/",
          "height": 61
        },
        "id": "c_1AQkHz-my3",
        "outputId": "60ff6d47-609d-4306-8b9d-e25a11491b31"
      },
      "outputs": [
        {
          "data": {
            "text/latex": [
              "$\\displaystyle \\left. \\frac{d}{d \\xi_{1}} f{\\left(\\xi_{1} \\right)} \\right|_{\\substack{ \\xi_{1}=a }}$"
            ],
            "text/plain": [
              "Subs(Derivative(f(_xi_1), _xi_1), _xi_1, a)"
            ]
          },
          "execution_count": 28,
          "metadata": {},
          "output_type": "execute_result"
        }
      ],
      "source": [
        "# Esto puede simular la derivada del orden requerido, evaluada en el punto concreto x = a\n",
        "k=1;\n",
        "sp.diff(f(x-h),x,k).subs({x:a+h}) "
      ]
    },
    {
      "cell_type": "code",
      "execution_count": 29,
      "metadata": {
        "colab": {
          "base_uri": "https://localhost:8080/",
          "height": 62
        },
        "id": "FM9DHGTb-my3",
        "outputId": "a5e9a1d2-56ad-4d1e-9136-a936ec06e3bb"
      },
      "outputs": [
        {
          "data": {
            "text/latex": [
              "$\\displaystyle \\left. \\frac{d^{2}}{d \\xi_{1}^{2}} f{\\left(\\xi_{1} \\right)} \\right|_{\\substack{ \\xi_{1}=a }}$"
            ],
            "text/plain": [
              "Subs(Derivative(f(_xi_1), (_xi_1, 2)), _xi_1, a)"
            ]
          },
          "execution_count": 29,
          "metadata": {},
          "output_type": "execute_result"
        }
      ],
      "source": [
        "k=2;\n",
        "sp.diff(f(x-h),x,k).subs({x:a+h})"
      ]
    },
    {
      "cell_type": "markdown",
      "metadata": {},
      "source": [
        "Sin embargo, para obtener el polinomio de Taylor será mejor utilizar la orden `series` del módulo `sympy`."
      ]
    },
    {
      "cell_type": "code",
      "execution_count": 30,
      "metadata": {
        "id": "qpF6vdr--my3"
      },
      "outputs": [
        {
          "name": "stdout",
          "output_type": "stream",
          "text": [
            "\u001b[31mSignature:\u001b[39m sp.series(expr, x=\u001b[38;5;28;01mNone\u001b[39;00m, x0=\u001b[32m0\u001b[39m, n=\u001b[32m6\u001b[39m, dir=\u001b[33m'+'\u001b[39m)\n",
            "\u001b[31mDocstring:\u001b[39m\n",
            "Series expansion of expr around point `x = x0`.\n",
            "\n",
            "Parameters\n",
            "==========\n",
            "\n",
            "expr : Expression\n",
            "       The expression whose series is to be expanded.\n",
            "\n",
            "x : Symbol\n",
            "    It is the variable of the expression to be calculated.\n",
            "\n",
            "x0 : Value\n",
            "     The value around which ``x`` is calculated. Can be any value\n",
            "     from ``-oo`` to ``oo``.\n",
            "\n",
            "n : Value\n",
            "    The number of terms upto which the series is to be expanded.\n",
            "\n",
            "dir : String, optional\n",
            "      The series-expansion can be bi-directional. If ``dir=\"+\"``,\n",
            "      then (x->x0+). If ``dir=\"-\"``, then (x->x0-). For infinite\n",
            "      ``x0`` (``oo`` or ``-oo``), the ``dir`` argument is determined\n",
            "      from the direction of the infinity (i.e., ``dir=\"-\"`` for\n",
            "      ``oo``).\n",
            "\n",
            "Examples\n",
            "========\n",
            "\n",
            ">>> from sympy import series, tan, oo\n",
            ">>> from sympy.abc import x\n",
            ">>> f = tan(x)\n",
            ">>> series(f, x, 2, 6, \"+\")\n",
            "tan(2) + (1 + tan(2)**2)*(x - 2) + (x - 2)**2*(tan(2)**3 + tan(2)) +\n",
            "(x - 2)**3*(1/3 + 4*tan(2)**2/3 + tan(2)**4) + (x - 2)**4*(tan(2)**5 +\n",
            "5*tan(2)**3/3 + 2*tan(2)/3) + (x - 2)**5*(2/15 + 17*tan(2)**2/15 +\n",
            "2*tan(2)**4 + tan(2)**6) + O((x - 2)**6, (x, 2))\n",
            "\n",
            ">>> series(f, x, 2, 3, \"-\")\n",
            "tan(2) + (2 - x)*(-tan(2)**2 - 1) + (2 - x)**2*(tan(2)**3 + tan(2))\n",
            "+ O((x - 2)**3, (x, 2))\n",
            "\n",
            ">>> series(f, x, 2, oo, \"+\")\n",
            "Traceback (most recent call last):\n",
            "...\n",
            "TypeError: 'Infinity' object cannot be interpreted as an integer\n",
            "\n",
            "Returns\n",
            "=======\n",
            "\n",
            "Expr\n",
            "    Series expansion of the expression about x0\n",
            "\n",
            "See Also\n",
            "========\n",
            "\n",
            "sympy.core.expr.Expr.series: See the docstring of Expr.series() for complete details of this wrapper.\n",
            "\u001b[31mFile:\u001b[39m      c:\\users\\juana\\appdata\\local\\programs\\python\\python312\\lib\\site-packages\\sympy\\series\\series.py\n",
            "\u001b[31mType:\u001b[39m      function"
          ]
        }
      ],
      "source": [
        "?sp.series"
      ]
    },
    {
      "cell_type": "markdown",
      "metadata": {},
      "source": [
        "A continuación, utilizaremos la serie de Taylor hasta orden $n-1$ para aproximar una función cualquiera mediante un polinomio, y a dicha serie le aplicaremos algunas de las fórmulas de derivación numérica deducidas, pudiendo comprobar el orden de aproximación."
      ]
    },
    {
      "cell_type": "code",
      "execution_count": 31,
      "metadata": {},
      "outputs": [
        {
          "data": {
            "text/latex": [
              "$\\displaystyle f{\\left(a \\right)} + \\left(- a + x\\right) \\left. \\frac{d}{d \\xi_{1}} f{\\left(\\xi_{1} \\right)} \\right|_{\\substack{ \\xi_{1}=a }} + \\frac{\\left(- a + x\\right)^{2} \\left. \\frac{d^{2}}{d \\xi_{1}^{2}} f{\\left(\\xi_{1} \\right)} \\right|_{\\substack{ \\xi_{1}=a }}}{2} + \\frac{\\left(- a + x\\right)^{3} \\left. \\frac{d^{3}}{d \\xi_{1}^{3}} f{\\left(\\xi_{1} \\right)} \\right|_{\\substack{ \\xi_{1}=a }}}{6} + \\frac{\\left(- a + x\\right)^{4} \\left. \\frac{d^{4}}{d \\xi_{1}^{4}} f{\\left(\\xi_{1} \\right)} \\right|_{\\substack{ \\xi_{1}=a }}}{24} + O\\left(\\left(- a + x\\right)^{5}; x\\rightarrow a\\right)$"
            ],
            "text/plain": [
              "f(a) + (-a + x)*Subs(Derivative(f(_xi_1), _xi_1), _xi_1, a) + (-a + x)**2*Subs(Derivative(f(_xi_1), (_xi_1, 2)), _xi_1, a)/2 + (-a + x)**3*Subs(Derivative(f(_xi_1), (_xi_1, 3)), _xi_1, a)/6 + (-a + x)**4*Subs(Derivative(f(_xi_1), (_xi_1, 4)), _xi_1, a)/24 + O((-a + x)**5, (x, a))"
            ]
          },
          "execution_count": 31,
          "metadata": {},
          "output_type": "execute_result"
        }
      ],
      "source": [
        "n = 5\n",
        "(f(x).series(x,a,n))"
      ]
    },
    {
      "cell_type": "code",
      "execution_count": 32,
      "metadata": {
        "id": "49h_gplb-my4"
      },
      "outputs": [
        {
          "data": {
            "text/latex": [
              "$\\displaystyle \\frac{\\left(- a + x\\right)^{4} \\left. \\frac{d^{4}}{d \\xi_{1}^{4}} f{\\left(\\xi_{1} \\right)} \\right|_{\\substack{ \\xi_{1}=a }}}{24} + \\frac{\\left(- a + x\\right)^{3} \\left. \\frac{d^{3}}{d \\xi_{1}^{3}} f{\\left(\\xi_{1} \\right)} \\right|_{\\substack{ \\xi_{1}=a }}}{6} + \\frac{\\left(- a + x\\right)^{2} \\left. \\frac{d^{2}}{d \\xi_{1}^{2}} f{\\left(\\xi_{1} \\right)} \\right|_{\\substack{ \\xi_{1}=a }}}{2} + \\left(- a + x\\right) \\left. \\frac{d}{d \\xi_{1}} f{\\left(\\xi_{1} \\right)} \\right|_{\\substack{ \\xi_{1}=a }} + f{\\left(a \\right)}$"
            ],
            "text/plain": [
              "(-a + x)**4*Subs(Derivative(f(_xi_1), (_xi_1, 4)), _xi_1, a)/24 + (-a + x)**3*Subs(Derivative(f(_xi_1), (_xi_1, 3)), _xi_1, a)/6 + (-a + x)**2*Subs(Derivative(f(_xi_1), (_xi_1, 2)), _xi_1, a)/2 + (-a + x)*Subs(Derivative(f(_xi_1), _xi_1), _xi_1, a) + f(a)"
            ]
          },
          "execution_count": 32,
          "metadata": {},
          "output_type": "execute_result"
        }
      ],
      "source": [
        "n=5\n",
        "fseries = (f(x).series(x,a,n)).removeO()    # Series de Taylor de f(z) en el punto z=a hasta orden n-1 sin incluir O(z^5)\n",
        "fseries"
      ]
    },
    {
      "cell_type": "markdown",
      "metadata": {},
      "source": [
        "Recordemos la fórmula de la derivada primera centrada\n",
        "$$\n",
        "f'(a) \\approx \\dfrac 1 {2h} (f(a+h) - f(a-h))\n",
        "$$\n",
        "Aproximamos $f(a+h)$ y $f(a-h)$ mediante la evaluación del polinomio de Taylor en $x=a+h$ y $x=a-h$ respectivamente."
      ]
    },
    {
      "cell_type": "code",
      "execution_count": 33,
      "metadata": {},
      "outputs": [],
      "source": [
        "fmas    = fseries.subs({x:(a+h)})           # Polin. Taylor para x=a+h\n",
        "fmenos  = fseries.subs({x:(a-h)})           # Polin. Taylor para x=a-h"
      ]
    },
    {
      "cell_type": "code",
      "execution_count": 34,
      "metadata": {
        "colab": {
          "base_uri": "https://localhost:8080/",
          "height": 76
        },
        "id": "5GW2E7G_-my4",
        "outputId": "191a606a-6996-4ea7-cf01-d1816f21f248"
      },
      "outputs": [
        {
          "data": {
            "text/latex": [
              "$\\displaystyle \\frac{h^{4} \\left. \\frac{d^{4}}{d \\xi_{1}^{4}} f{\\left(\\xi_{1} \\right)} \\right|_{\\substack{ \\xi_{1}=a }}}{24} + \\frac{h^{3} \\left. \\frac{d^{3}}{d \\xi_{1}^{3}} f{\\left(\\xi_{1} \\right)} \\right|_{\\substack{ \\xi_{1}=a }}}{6} + \\frac{h^{2} \\left. \\frac{d^{2}}{d \\xi_{1}^{2}} f{\\left(\\xi_{1} \\right)} \\right|_{\\substack{ \\xi_{1}=a }}}{2} + h \\left. \\frac{d}{d \\xi_{1}} f{\\left(\\xi_{1} \\right)} \\right|_{\\substack{ \\xi_{1}=a }} + f{\\left(a \\right)}$"
            ],
            "text/plain": [
              "h**4*Subs(Derivative(f(_xi_1), (_xi_1, 4)), _xi_1, a)/24 + h**3*Subs(Derivative(f(_xi_1), (_xi_1, 3)), _xi_1, a)/6 + h**2*Subs(Derivative(f(_xi_1), (_xi_1, 2)), _xi_1, a)/2 + h*Subs(Derivative(f(_xi_1), _xi_1), _xi_1, a) + f(a)"
            ]
          },
          "execution_count": 34,
          "metadata": {},
          "output_type": "execute_result"
        }
      ],
      "source": [
        "fmas"
      ]
    },
    {
      "cell_type": "code",
      "execution_count": 35,
      "metadata": {
        "colab": {
          "base_uri": "https://localhost:8080/",
          "height": 76
        },
        "id": "zMljrFnS-my4",
        "outputId": "dc0af5d7-f5e0-471e-b398-942014a0987f"
      },
      "outputs": [
        {
          "data": {
            "text/latex": [
              "$\\displaystyle \\frac{h^{4} \\left. \\frac{d^{4}}{d \\xi_{1}^{4}} f{\\left(\\xi_{1} \\right)} \\right|_{\\substack{ \\xi_{1}=a }}}{24} - \\frac{h^{3} \\left. \\frac{d^{3}}{d \\xi_{1}^{3}} f{\\left(\\xi_{1} \\right)} \\right|_{\\substack{ \\xi_{1}=a }}}{6} + \\frac{h^{2} \\left. \\frac{d^{2}}{d \\xi_{1}^{2}} f{\\left(\\xi_{1} \\right)} \\right|_{\\substack{ \\xi_{1}=a }}}{2} - h \\left. \\frac{d}{d \\xi_{1}} f{\\left(\\xi_{1} \\right)} \\right|_{\\substack{ \\xi_{1}=a }} + f{\\left(a \\right)}$"
            ],
            "text/plain": [
              "h**4*Subs(Derivative(f(_xi_1), (_xi_1, 4)), _xi_1, a)/24 - h**3*Subs(Derivative(f(_xi_1), (_xi_1, 3)), _xi_1, a)/6 + h**2*Subs(Derivative(f(_xi_1), (_xi_1, 2)), _xi_1, a)/2 - h*Subs(Derivative(f(_xi_1), _xi_1), _xi_1, a) + f(a)"
            ]
          },
          "execution_count": 35,
          "metadata": {},
          "output_type": "execute_result"
        }
      ],
      "source": [
        "fmenos"
      ]
    },
    {
      "cell_type": "markdown",
      "metadata": {},
      "source": [
        "Aplicamos la fórmula de la primera derivada centrada y obtenemos"
      ]
    },
    {
      "cell_type": "code",
      "execution_count": 36,
      "metadata": {
        "colab": {
          "base_uri": "https://localhost:8080/",
          "height": 76
        },
        "id": "Q0jIy_Pq-my4",
        "outputId": "052be6a5-b879-44e1-8050-bec00ce73989"
      },
      "outputs": [
        {
          "data": {
            "text/latex": [
              "$\\displaystyle \\frac{h^{2} \\left. \\frac{d^{3}}{d \\xi_{1}^{3}} f{\\left(\\xi_{1} \\right)} \\right|_{\\substack{ \\xi_{1}=a }}}{6} + \\left. \\frac{d}{d \\xi_{1}} f{\\left(\\xi_{1} \\right)} \\right|_{\\substack{ \\xi_{1}=a }}$"
            ],
            "text/plain": [
              "h**2*Subs(Derivative(f(_xi_1), (_xi_1, 3)), _xi_1, a)/6 + Subs(Derivative(f(_xi_1), _xi_1), _xi_1, a)"
            ]
          },
          "execution_count": 36,
          "metadata": {},
          "output_type": "execute_result"
        }
      ],
      "source": [
        "sp.expand((fmas - fmenos)/(2*h))"
      ]
    },
    {
      "cell_type": "markdown",
      "metadata": {},
      "source": [
        "Comprobamos que el error de aproximación es, como se dijo en teoría, de orden $h^2$."
      ]
    },
    {
      "cell_type": "markdown",
      "metadata": {},
      "source": [
        "> **Ejercicio 3**: Repita este procedimiento con la fórmula para la segunda derivada\n",
        "> $$\n",
        "> f''(a) \\approx \\frac{f(a+h)-2f(a)+f(a-h)}{h^2}\n",
        "> $$\n",
        "> y compruebe que tiene orden de aproximación 2."
      ]
    },
    {
      "cell_type": "markdown",
      "metadata": {
        "id": "wFfsPR0q-my5"
      },
      "source": [
        "### 2.2. Fórmulas para derivadas de orden elevado ↗️"
      ]
    },
    {
      "cell_type": "markdown",
      "metadata": {
        "id": "LgzDJOD9-my5"
      },
      "source": [
        "Para la obtención de nuevas fórmulas de derivación numérica de alto orden, otra estrategia posible sería la aplicación reiterada de otras fórmulas de orden inferior. Esta técnica suele proporcionar nuevas fórmulas que aproximan bien esta derivada de orden superior, sobre todo cuando se usan fórmulas centradas o bien fórmulas descentradas, pero todas en la misma dirección. Si no se respeta esta premisa, la fórmula resultante puede ser inservible y habrá que verificarla en todo caso. Veámos algunos ejemplos de cómo hacerlo.\n",
        "\n",
        "Veámos cómo obtener aproximaciones de la derivada segunda a partir de la aplicación reiterada de fórmulas para la derivada primera:\n",
        "\n",
        "Si $f'(a)\\approx \\frac{f(a+h)-f(a)}{h}$ y $f'(a+h)\\approx \\frac{f(a+2h)-f(a+h)}{h}$, entonces podemos introducirlas en la siguiente aproximación de la derivada segunda\n",
        "\n",
        "$$f''(a)\\approx \\frac{f'(a+h)-f'(a)}{h}\\approx \\frac{\\frac{f(a+2h)-f(a+h)}{h}-\\frac{f(a+h)-f(a)}{h}}{h}=\\frac{f(a+2h)-2f(a+h)+f(a)}{h^2}$$\n",
        "\n",
        "De forma totalmente análoga podríamos haber obtenido la corresponiente fórmula descentrada en el otro sentido\n",
        "\n",
        "$$f''(a)\\approx \\frac{f'(a)-f'(a-h)}{h}\\approx \\frac{\\frac{f(a)-f(a-h)}{h}-\\frac{f(a-h)-f(a-2h)}{h}}{h}=\\frac{f(a)-2f(a-h)+f(a-2h)}{h^2}$$\n",
        "\n",
        "Si ahora empleamos fórmulas centradas, $f'(a)\\approx \\frac{f(a+h)-f(a-h)}{2h}$ entonces tendríamos\n",
        "\n",
        "$$f''(a)\\approx \\frac{f'(a+h)-f'(a-h)}{2h}\\approx \\frac{\\frac{f(a+2h)-f(a)}{2h}-\\frac{f(a)-f(a-2h)}{2h}}{2h}=\\frac{f(a+2h)-2f(a)+f(a-2h)}{4h^2}$$\n"
      ]
    },
    {
      "cell_type": "markdown",
      "metadata": {
        "id": "v5bw0yNh-my5"
      },
      "source": [
        "Aproximemos ahora la derivada de una función suficientemente derivable, de la que podemos disponer de sus valores tanto a la izquierda como a la derecha del punto donde queremos obtener la derivada cuarta\n",
        "\n",
        "$$f^{iv)}(a)\\equiv \\frac{d^2}{dx^2}_{|x=a}f''(x)\\approx \\frac{f''(a+h)-2f''(a)+f''(a-h)}{h^2}\\approx \\\\\n",
        "\\frac{\\frac{f(a+2h)-2f(a+h)+f(a)}{h^2}-2\\frac{f(a+h)-2f(a)+f(a-h)}{h^2}+\\frac{f(a)-2f(a-h)+f(a-2h)}{h^2}}{h^2}= \\\\\n",
        "\\frac{f(a+2h)-4f(a+h)+6f(a)-4f(a-h)+f(a-2h) }{h^4}$$"
      ]
    },
    {
      "cell_type": "markdown",
      "metadata": {
        "id": "Zc5ckQY2-my6"
      },
      "source": [
        "### 2.3. Comportamiento del error en las fórmulas de derivación numérica 👮"
      ]
    },
    {
      "cell_type": "markdown",
      "metadata": {
        "id": "aygH3ZqQ-my6"
      },
      "source": [
        "Como es bien conocido, aunque sea muy simple, toda fórmula de derivación numérica que se obtuvo en el desarrollo teórico es convergente.\n",
        "Los errores teóricos siempre tienden a cero cuando $h$ tiende a cero. Sin embargo, en el cálculo llevado a cabo por ordenador suelen aparecer otros errores que pueden desaconsejar el uso\n",
        "de valores muy pequeños de $h$ si se quiere una buena aproximación. Es lo que ocurre con el eror de cancelación en las fórmulas\n",
        "de derivación numérica. Veámoslo con algún ejemplo: vamos a dar el valor de las derivadas numéricas de una función $f$ en el punto $a=2$,\n",
        "con la fórmula $\\frac{f(a+h)-f(a)}{h}$ para valores de $h$ de la forma $h=10^{-j}$ con $j\\geq 1$. Veremos que llega un momento en el\n",
        "que la derivada numérica deja de converger, con unas oscilaciones no controlables, para después pasar a valer cero, porque el numerador\n",
        "vale cero. Esto último ocurre cuando $h$ es tan pequeño que para el ordenador $a+h$ y $h$ toman el mismo valor como *número máquina*."
      ]
    },
    {
      "cell_type": "code",
      "execution_count": 37,
      "metadata": {
        "id": "vN_OP1IQ-my6"
      },
      "outputs": [],
      "source": [
        "def func(x):\n",
        "    \"\"\"función (x-0.5)/(1+x^2)\"\"\"\n",
        "    return (z-0.5)/(1+z**2)"
      ]
    },
    {
      "cell_type": "code",
      "execution_count": 38,
      "metadata": {
        "id": "dZMMym5E-my6"
      },
      "outputs": [],
      "source": [
        "f = lambda x: (x-0.5)/(1+x**2)  # Definimos la función a evaluar"
      ]
    },
    {
      "cell_type": "code",
      "execution_count": 39,
      "metadata": {
        "colab": {
          "base_uri": "https://localhost:8080/",
          "height": 37
        },
        "id": "p8zmxIJD-my6",
        "outputId": "71f7519c-5216-4f3e-e0f5-f0239b9c8fd6"
      },
      "outputs": [
        {
          "data": {
            "text/latex": [
              "$\\displaystyle -0.04$"
            ],
            "text/plain": [
              "-0.0400000000000000"
            ]
          },
          "execution_count": 39,
          "metadata": {},
          "output_type": "execute_result"
        }
      ],
      "source": [
        "a=2. # El valor exacto de la derivada de la función en este punto\n",
        "vexacto = (sp.diff(f(x),x)).subs({x:a}) # sería el siguiente\n",
        "vexacto"
      ]
    },
    {
      "cell_type": "code",
      "execution_count": 40,
      "metadata": {
        "colab": {
          "base_uri": "https://localhost:8080/"
        },
        "id": "XdjWSveB-my6",
        "outputId": "804f6065-17db-46f1-a0f7-4425363c4052"
      },
      "outputs": [
        {
          "name": "stdout",
          "output_type": "stream",
          "text": [
            "[-0.05       -0.04251386 -0.04027698 -0.04002797 -0.0400028  -0.04000028\n",
            " -0.04000003 -0.04       -0.04       -0.04       -0.03999967 -0.04000134\n",
            " -0.03996803 -0.03996803 -0.03885781  0.          0.          0.\n",
            "  0.          0.          0.        ]\n"
          ]
        }
      ],
      "source": [
        "n=20 # Calculemos aproximaciones, mediante una fórmula numérica de la derivada primera progresiva\n",
        "dersnum = np.array([(f(a+10**(-j))-f(a))/(10**(-j)) for j in range(n+1)])\n",
        "print(dersnum)  # con h desde 10^0 hasta el valor 10^(-n)."
      ]
    },
    {
      "cell_type": "code",
      "execution_count": 41,
      "metadata": {
        "colab": {
          "base_uri": "https://localhost:8080/"
        },
        "id": "cIS0b0y--my6",
        "outputId": "ee45d8d2-9661-4df1-e30d-8e2ce06996fc"
      },
      "outputs": [
        {
          "name": "stdout",
          "output_type": "stream",
          "text": [
            "[-0.0100000000000000 -0.00251386321626584 -0.000276978631370606\n",
            " -2.79696187167056e-5 -2.79969607058783e-6 -2.79993845941906e-7\n",
            " -2.80120771578574e-8 -2.75450334763505e-9 2.24150026317815e-9\n",
            " -3.30961485994763e-9 3.29757292527599e-7 -1.33557724441014e-6\n",
            " 3.19711134943446e-5 3.19711134943446e-5 0.00114219413811950\n",
            " 0.0400000000000000 0.0400000000000000 0.0400000000000000\n",
            " 0.0400000000000000 0.0400000000000000 0.0400000000000000]\n"
          ]
        }
      ],
      "source": [
        "errores = np.array(dersnum) - vexacto  # Aquí podemos ver una tabla\n",
        "print(errores)                         # con los errores cometidos"
      ]
    },
    {
      "cell_type": "markdown",
      "metadata": {
        "id": "gkBawXBm-my6"
      },
      "source": [
        "Vemos pues que los valores redondeados, con seis cifras significativas, de la derivada numérica para $j=6,7,8$ y $9$ coincidirán con el valor exacto. Además observamos que al principio, a medida que $h$ disminuye, el error (fundamentalmente de *truncatura*) también disminuye, después empieza a haber comportamientos extraños, donde los errores pueden empezar a aumentar de nuevo; y finalmente la aproximación que da es cero (aquí el error predominante sería el de *cancelación*). Comprobémoslo a continuación."
      ]
    },
    {
      "cell_type": "code",
      "execution_count": 42,
      "metadata": {
        "colab": {
          "base_uri": "https://localhost:8080/"
        },
        "id": "WUSuMhm0-my6",
        "outputId": "8b85f9ae-ebdd-445f-b27a-3a5e2bb3d130"
      },
      "outputs": [
        {
          "data": {
            "text/plain": [
              "[-0.0500000,\n",
              " -0.0425139,\n",
              " -0.0402770,\n",
              " -0.0400280,\n",
              " -0.0400028,\n",
              " -0.0400003,\n",
              " -0.0400000,\n",
              " -0.0400000,\n",
              " -0.0400000,\n",
              " -0.0400000,\n",
              " -0.0399997,\n",
              " -0.0400013,\n",
              " -0.0399680,\n",
              " -0.0399680,\n",
              " -0.0388578,\n",
              " 0,\n",
              " 0,\n",
              " 0,\n",
              " 0,\n",
              " 0,\n",
              " 0]"
            ]
          },
          "execution_count": 42,
          "metadata": {},
          "output_type": "execute_result"
        }
      ],
      "source": [
        "[sp.N(dersnum[k],6) for k in range(n+1)] # con 6 cifras significativas"
      ]
    },
    {
      "cell_type": "markdown",
      "metadata": {
        "id": "zIsSHBma-my7"
      },
      "source": [
        "> **Ejercicio 4:** Utilice la función $f(x) = \\dfrac{e^{\\cos(x)}}{x^2+1}$ y el valor $a=1$ y compruebe que ocurre este mismo hecho. Repita el procedimiento utilizando la fórmula de diferencia centrada en lugar de la de diferencia progresiva y comenta las diferencias observadas.\n",
        "\n",
        "> **Ejercicio 5 (Implementación numérica de las fórmulas de derivación):** Implementa una función que acepte como argumentos una función en versión numérica `f`, un valor `a`, un valor `h`, un entero opcional `n` y un cuarto argumento que sea la fórmula de derivación numérica utilizada. La función deberá calcular la derivada `n`-ésima de la función `f` en el punto `a` utilizando la fórmula y el valor de `h` indicados. Las posibles fórmulas utilizadas deben incluir, al menos: diferencia regresiva, diferencia progresiva, diferencia centrada y diferencia centrada con 5 nodos. Para la función $$f(x) = \\sin(\\log(x^2+1)),$$ calcula el valor de $f'(-1)$, primero derivando una versión simbólica y obteniendo el valor exacto y después utilizando la función implementada con distintos valores de `h` y distintas fórmulas y comprueba las diferencias en la aproximación en cada caso."
      ]
    },
    {
      "cell_type": "markdown",
      "metadata": {
        "id": "oCmwc8jp-my8"
      },
      "source": [
        "## 2.2. Integración numérica 🍠"
      ]
    },
    {
      "cell_type": "markdown",
      "metadata": {
        "id": "uKib8S5n-my8"
      },
      "source": [
        "### 2.2.1. Fórmulas de los rectángulos 🔲"
      ]
    },
    {
      "cell_type": "markdown",
      "metadata": {
        "id": "pjurjsmD-my8"
      },
      "source": [
        "Entre las fórmulas de integración numérica más simples que hay están las denominadas *fórmulas de los rectángulos*, que además son usadas normalmente para la definición de las denominadas *sumas de Riemann* y el correspondiente concepto de *Integral de Riemann*.\n",
        "\n",
        "Veámos a continuación cómo obtenerlas; en el caso de considerar un sólo rectángulo que aproxime por ejemplo a la siguiente región del semiplano superior (con $y\\geq 0$)\n",
        "\n",
        "$$\\mathcal{R}\\equiv\\{ (x,y)\\in \\mathbb{R}^2 : a\\leq x\\leq b,\\; 0\\leq y\\leq f(x)  \\}$$\n",
        "\n",
        "aproximaríamos la correspondiente integral de la siguiente manera, sustituyendo la función integrando por una función constante en dicho intervalo de integración\n",
        "\n",
        "$area(R)=\\int_a^b f(x)\\,dx \\approx \\int_a^b f(x_0)\\,dx =(b-a)f(x_0),$ para cierto punto $x_0\\in[a,b]$, que a veces tomaremos como:\n",
        "- $x_0=a$, obteniéndose la *fórmula del rectángulo izquierdo* $\\int_a^b f(x)\\,dx \\approx (b-a)f(a),$\n",
        "- $x_0=b$, obteniéndose la *fórmula del rectángulo derecho* $\\int_a^b f(x)\\,dx \\approx (b-a)f(b),$\n",
        "- $x_0=\\frac{a+b}{2}$, obteniéndose en este caso la *fórmula del rectángulo del punto medio* $\\int_a^b f(x)\\,dx \\approx (b-a)f(\\frac{a+b}{2})$.\n",
        "\n",
        "Nótese que, en todos los casos, lo que se tiene es el área del correspondiente rectángulo, cuya base mide $b-a$ y la altura será la determinada por el valor $f(x_0)$. Cuando este valor de la función sea negativo en vez de positivo, entonces obtendríamos el área del correspondiente rectángulo pero cambiada de signo, que ahora estaría por debajo del eje $Ox$, justo lo mismo que el concepto de integral mide el área de las regiones del semiplano inferior (con $y\\leq 0$).\n",
        "\n",
        "$$\\mathcal{R}\\equiv\\{ (x,y)\\in \\mathbb{R}^2 : a\\leq x\\leq b,\\; f(x)\\leq y\\leq 0 \\},$$\n",
        "donde \n",
        "$$\\int_a^b f(x)\\,dx = -area(\\mathcal{R})$$ \n",
        "en este caso."
      ]
    },
    {
      "cell_type": "markdown",
      "metadata": {},
      "source": [
        "A continuación definimos dos funciones auxiliares que nos servirán en las representaciones. Son polinomios interpoladores de grado 1 y 2, respectivamente, es decir, la línea que une dos puntos y la parábola que pasa por 3 puntos. Nótese el uso de `np.interp`, que es la versión numérica de `sp.interpolate`. También importaremos el submódulo `patches`, que posteriormente nos servirá para dibujar rectángulos en las gráficas."
      ]
    },
    {
      "cell_type": "code",
      "execution_count": 43,
      "metadata": {
        "id": "niZQlPt7-my8"
      },
      "outputs": [],
      "source": [
        "import matplotlib.patches as patches\n",
        "x = sp.Symbol('x')\n",
        "\n",
        "xL,yL,xM,yM,xR,yR = sp.symbols('x_L,y_L,x_M,y_M,x_R,y_R')\n",
        "dyL,dyR = sp.symbols('dyL,dyR')\n",
        "\n",
        "def linea(x,xL,yL,xR,yR):\n",
        "    \"\"\"línea uniendo los puntos (xL,yL) y (xR,yR)\"\"\"\n",
        "    return np.interp(x, [xL,xR], [yL,yR])  # Interpolación lineal entre los puntos (xL,yL) y (xR,yR)\n",
        "\n",
        "def parabola(x,xL,yL,xM,yM,xR,yR):\n",
        "    \"\"\"parábola uniendo los puntos (xL,yL), (xM,yM) y (xR,yR)\"\"\"\n",
        "    return np.interp(x, [xL, xM, xR], [yL, yM, yR])\n"
      ]
    },
    {
      "cell_type": "markdown",
      "metadata": {},
      "source": [
        "Como ejemplo, trataremos de calcular la integral de la función $f(x) = x^2+1$ en el intervalo $[0,1]$, es decir, $\\displaystyle\\int_0^1 (x^2+1)dx$. Primero veamos cuál es el valor exacto de esta integral."
      ]
    },
    {
      "cell_type": "code",
      "execution_count": 44,
      "metadata": {
        "id": "cJLuYSOF-my8"
      },
      "outputs": [
        {
          "data": {
            "text/latex": [
              "$\\displaystyle \\frac{4}{3}$"
            ],
            "text/plain": [
              "4/3"
            ]
          },
          "execution_count": 44,
          "metadata": {},
          "output_type": "execute_result"
        }
      ],
      "source": [
        "def func(x):\n",
        "    \"\"\"función x^2+1\"\"\"\n",
        "    return x**2+1\n",
        "\n",
        "a, b = 0, 1\n",
        "\n",
        "f = func\n",
        "valor_exacto = sp.integrate(f(x),(x,a,b)) # valor exacto de la integral definida\n",
        "valor_exacto"
      ]
    },
    {
      "cell_type": "code",
      "execution_count": 45,
      "metadata": {
        "colab": {
          "base_uri": "https://localhost:8080/",
          "height": 729
        },
        "id": "1t_ZjTHa-my9",
        "outputId": "28d4bf67-4f74-4947-9120-74c608077cbe"
      },
      "outputs": [
        {
          "data": {
            "text/plain": [
              "Text(0.5, 1.0, 'Fórmula del rectángulo del punto medio')"
            ]
          },
          "execution_count": 45,
          "metadata": {},
          "output_type": "execute_result"
        },
        {
          "data": {
            "image/png": "[encoded data removed]",
            "text/plain": [
              "<Figure size 800x800 with 1 Axes>"
            ]
          },
          "metadata": {},
          "output_type": "display_data"
        }
      ],
      "source": [
        "num_values = 100; a = 0; b = 1  # Número de puntos y límites del intervalo de integración\n",
        "x_values = np.linspace(float(a), float(b), num_values)  # Genera valores de x uniformemente distribuidos en [a, b]\n",
        "y_values = f(x_values)  # Calcula los valores de la función en los puntos x\n",
        "x0 = (a + b) / 2  # Calcula el punto medio del intervalo\n",
        "y0 = f(x0)  # Evalúa la función en el punto medio\n",
        "\n",
        "# Configuración de la figura y los ejes\n",
        "fig, ax = plt.subplots(figsize=(8, 8))  \n",
        "ax.plot(x0, y0, 'ro',)  # Dibuja el punto medio en rojo\n",
        "ax.plot(x_values, y_values, 'k', label='función del integrando')  # Dibuja la función en negro\n",
        "\n",
        "# Añade un rectángulo que representa la aproximación de la integral\n",
        "ax.add_patch(\n",
        "    patches.Rectangle(\n",
        "        (a, 0),   # (x, y) coordenadas de la esquina inferior izquierda del rectángulo\n",
        "        b - a,    # Anchura del rectángulo (longitud del intervalo)\n",
        "        y0,       # Altura del rectángulo (valor de la función en el punto medio)\n",
        "    )\n",
        ")\n",
        "\n",
        "# Configuración de etiquetas, leyenda y título\n",
        "ax.legend(loc=9)  # Añade la leyenda en la parte superior central\n",
        "ax.set_xlabel('$x$', fontsize=18)  # Etiqueta del eje x\n",
        "ax.set_ylabel('$y$', fontsize=18)  # Etiqueta del eje y\n",
        "ax.set_title('Fórmula del rectángulo del punto medio')  # Título del gráfico"
      ]
    },
    {
      "cell_type": "code",
      "execution_count": 46,
      "metadata": {
        "colab": {
          "base_uri": "https://localhost:8080/",
          "height": 729
        },
        "id": "o25J0ZLo-my9",
        "outputId": "5c2994a9-e787-4aec-da71-5e5cc3a01e3f"
      },
      "outputs": [
        {
          "data": {
            "image/png": "[encoded data removed]",
            "text/plain": [
              "<Figure size 800x800 with 1 Axes>"
            ]
          },
          "metadata": {},
          "output_type": "display_data"
        }
      ],
      "source": [
        "num_values = 100; a = 0; b = 1\n",
        "x_values = np.linspace(float(a),float(b),num_values)\n",
        "y_values = f(x_values)\n",
        "x0 = a; y0 = f(x0)\n",
        "fig,ax = plt.subplots(figsize=(8,8))\n",
        "ax.plot(x0,y0,'ro')\n",
        "ax.plot(x_values,y_values,'k',label='función del integrando')\n",
        "ax.add_patch(\n",
        "    patches.Rectangle(\n",
        "        (a, 0),   # (x,y) coordenadas esquina inferior izquierda\n",
        "        b-a,      # anchura, y\n",
        "        y0,       # altura del rectángulo\n",
        "    )\n",
        ")\n",
        "ax.legend(loc=9)\n",
        "ax.set_xlabel('$x$',fontsize=18)\n",
        "ax.set_ylabel('$y$',fontsize=18)\n",
        "ax.set_title('Fórmula del rectángulo izquierdo');"
      ]
    },
    {
      "cell_type": "code",
      "execution_count": 47,
      "metadata": {
        "colab": {
          "base_uri": "https://localhost:8080/",
          "height": 729
        },
        "id": "sk_mDGHu-my9",
        "outputId": "21e09413-e6e8-4d55-a49e-fdd81ae9d7b2"
      },
      "outputs": [
        {
          "data": {
            "image/png": "[encoded data removed]",
            "text/plain": [
              "<Figure size 800x800 with 1 Axes>"
            ]
          },
          "metadata": {},
          "output_type": "display_data"
        }
      ],
      "source": [
        "x_values = np.linspace(float(a),float(b),num_values)\n",
        "y_values = f(x_values)\n",
        "x0 = b; y0 = f(x0)\n",
        "fig,ax = plt.subplots(figsize=(8,8))\n",
        "ax.plot(x0,y0,'ro')\n",
        "ax.plot(x_values,y_values,'k',label='función del integrando')\n",
        "ax.add_patch(\n",
        "    patches.Rectangle(\n",
        "        (a, 0),   # (x,y) coordenadas esquina inferior izquierda\n",
        "        b-a,      # anchura, y\n",
        "        y0,       # altura del rectángulo\n",
        "    )\n",
        ")\n",
        "ax.legend(loc=9)\n",
        "ax.set_xlabel('$x$',fontsize=18)\n",
        "ax.set_ylabel('$y$',fontsize=18)\n",
        "ax.set_title('Fórmula del rectángulo derecho');"
      ]
    },
    {
      "cell_type": "markdown",
      "metadata": {
        "id": "UUg3TGbq-my9"
      },
      "source": [
        "La idea ahora para obtener las correspondientes fórmulas compuestas, asociadas a estas reglas de cuadratura simples, sería aplicarlas a los subintervalos que obtendríamos al subdividir el intervalo original $[a,b]$ mediante una partición cualquiera del mismo:\n",
        "$$a=x_0<x_1 < \\ldots x_{i-1}<x_i<x_{i+1}<\\ldots <x_{n-1}<x_n=b$$\n",
        "aunque se suele emplear *particiones uniformes* (con $x_{i}-x_{i-1}=h\\equiv \\frac{b-a}{n},\\; \\forall i=1,\\ldots,n$ para cierto valor entero natural $n\\in \\mathbb{N}$).\n",
        "\n",
        "Así pues, para estas fórmulas de los rectángulos obtendríamos las siguientes expresiones en cada uno de los casos:\n",
        "\n",
        "$$\\int_a^b f(x)\\,dx = \\sum_{i=0}^{n-1}\\int_{x_{i}}^{x_{i+1}} f(x)\\,dx\\approx  \\sum_{i=0}^{n-1} (x_{i+1}- x_{i}) f(\\psi_i)$$\n",
        "\n",
        "donde $\\psi_i = x_{i}, x_{i+1}$ o bien $\\frac{x_{i}+ x_{i+1}}{2}$ según se trate de la fórmula de los rectángulos a izquierda, derecha o del punto medio.\n",
        "\n",
        "Si se tratara de particiones uniformes podremos escribir\n",
        "\n",
        "$$\\int_a^b f(x)\\,dx \\approx h \\sum_{i=0}^{n-1} f(\\psi_i)$$\n",
        "con $\\psi_i = a+ i h, a+(i+1) h$ o bien $a+ (i+1/2)h$ según el caso, y así podríamos programarlo también sin mucha dificultad."
      ]
    },
    {
      "cell_type": "markdown",
      "metadata": {
        "id": "hR8P0WNx-my9"
      },
      "source": [
        "### 2.2.2. Fórmulas compuestas de los rectángulos 🔲🔲🔲"
      ]
    },
    {
      "cell_type": "markdown",
      "metadata": {},
      "source": [
        "A continuación mostramos una implementación de la fórmula compuesta de los rectángulos a la izquierda."
      ]
    },
    {
      "cell_type": "code",
      "execution_count": 48,
      "metadata": {
        "id": "vHkfJYSq-my9"
      },
      "outputs": [],
      "source": [
        "def formula_rectangulo_izquierda(f,a,b,n):\n",
        "    \"\"\"fórmula compuesta de los rectangulos a izquierda\"\"\"\n",
        "    h = (b-a)/n\n",
        "    nodos = np.linspace(a, b, n+1)  # Genera los nodos de integración\n",
        "    return h*np.sum(f(nodos[:-1]))"
      ]
    },
    {
      "cell_type": "markdown",
      "metadata": {},
      "source": [
        "Con un valor de `n` razonablemente grande, debe aproximarse al valor real."
      ]
    },
    {
      "cell_type": "code",
      "execution_count": 49,
      "metadata": {},
      "outputs": [
        {
          "data": {
            "text/plain": [
              "np.float64(1.3328335000000002)"
            ]
          },
          "execution_count": 49,
          "metadata": {},
          "output_type": "execute_result"
        }
      ],
      "source": [
        "valor_aproximado = formula_rectangulo_izquierda(f,a,b,1000)\n",
        "valor_aproximado"
      ]
    },
    {
      "cell_type": "code",
      "execution_count": 50,
      "metadata": {},
      "outputs": [
        {
          "data": {
            "text/latex": [
              "$\\displaystyle 0.000499833333333033$"
            ],
            "text/plain": [
              "0.000499833333333033"
            ]
          },
          "execution_count": 50,
          "metadata": {},
          "output_type": "execute_result"
        }
      ],
      "source": [
        "abs(valor_exacto - valor_aproximado)"
      ]
    },
    {
      "cell_type": "code",
      "execution_count": 51,
      "metadata": {
        "colab": {
          "base_uri": "https://localhost:8080/",
          "height": 729
        },
        "id": "RRU_kaJ7-my-",
        "outputId": "de26bb57-6b82-48f4-fba0-cb9e2b262a80"
      },
      "outputs": [
        {
          "data": {
            "image/png": "[encoded data removed]",
            "text/plain": [
              "<Figure size 800x800 with 1 Axes>"
            ]
          },
          "metadata": {},
          "output_type": "display_data"
        }
      ],
      "source": [
        "num_values = 100; num_nodos=10\n",
        "x_values = np.linspace(float(a),float(b),num_values)\n",
        "y_values = f(x_values)\n",
        "x_nodos = np.linspace(a,b,num_nodos)\n",
        "y_nodos = f(x_nodos)\n",
        "\n",
        "fig,ax = plt.subplots(figsize=(8,8))\n",
        "ax.plot(x_nodos[:-1],y_nodos[:-1],'ro')\n",
        "ax.plot(x_values,y_values,'k',label='función del integrando')\n",
        "for k in range(1,num_nodos):\n",
        "    zz = np.linspace(float(x_nodos[k-1]),float(x_nodos[k]),num_values)\n",
        "    yk = [linea(z, x_nodos[k-1], y_nodos[k-1], x_nodos[k], y_nodos[k-1]) for z in zz]\n",
        "    ax.fill_between(zz,0,yk)\n",
        "\n",
        "\n",
        "ax.legend(loc=9)\n",
        "ax.set_xlabel('$x$',fontsize=18)\n",
        "ax.set_ylabel('$y$',fontsize=18)\n",
        "ax.set_title('Fórmula compuesta de los rectángulos a la izquierda');"
      ]
    },
    {
      "cell_type": "markdown",
      "metadata": {},
      "source": [
        "> **Ejercicio 6:** Siguiendo el modelo y el código proporcionado para la fórmula de los rectángulos a la izquierda, codifique las fórmulas compuestas de los rectángulos a la derecha y centrados. Calcule con estas dos fórmulas la aproximación de $\\displaystyle\\int_0^1 (x^2+1)dx$, el error cometido y represente al menos una de las dos gráficamente."
      ]
    },
    {
      "cell_type": "markdown",
      "metadata": {
        "id": "pdme8h5N-my_"
      },
      "source": [
        "### 2.2.3. Fórmulas de los trapecios (simple y compuesta) 🎪"
      ]
    },
    {
      "cell_type": "markdown",
      "metadata": {
        "id": "g5a1jScz-my_"
      },
      "source": [
        "Si ahora empleamos trapecios, en vez de rectángulos, para aproximar las integrales de la función integrando en cada uno de los subintervalos $[x_{i},x_{i+1}],\\; i=0,1,\\ldots,n-1$, sabiendo por otra parte que el área de un trapecio de base $[x_{i},x_{i+1}]$ y alturas $f(x_{i})$ y $f(x_{i+1})$ es $(x_{i+1}-x_i)\\frac{f(x_{i})+f(x_{i+1})}{2}$, entonces llegaríamos a las siguientes fórmulas de los trapecios:\n",
        "\n",
        "- simple (con $n=1$ y $x_0=a, \\; x_1=b$):\n",
        "$$\\int_a^b f(x)\\,dx\\approx (b-a)\\frac{f(a)+f(b)}{2}$$\n",
        "- compuesta (para cierto $n\\in \\mathbb{N}$, con $n>1$, y particiones arbitrarias):\n",
        "$$\\int_a^b f(x)\\,dx = \\sum_{i=0}^{n-1}\\int_{x_{i}}^{x_{i+1}} f(x)\\,dx\\approx  \\sum_{i=0}^{n-1} (x_{i+1}- x_{i})\\, \\frac{f(x_{i})+f(x_{i+1})}{2}$$\n",
        "- compuesta (para cierto $n\\in \\mathbb{N}$, con $n>1$, y particiones uniformes):\n",
        "$$\\int_a^b f(x)\\,dx = \\sum_{i=0}^{n-1}\\int_{a+i\\,h}^{a+(i+1)\\,h} f(x)\\,dx\\\\\n",
        "\\approx  h\\; \\sum_{i=0}^{n-1} \\frac{f(a+i\\,h)+f(a+(i+1)\\,h)}{2} \\\\\n",
        "= \\frac{h}{2}\\left( f(a)+2\\sum_{i=1}^{n-1}f(a+i\\,h)+f(b)\\right)$$\n",
        "\n",
        "Nótese que por otro lado, la fórmula de los trapecios simple se obtiene sin más que integrar en el intervalo $[a,b]$ la función lineal que pasa por los puntos $(a,f(a))$ y $(b,f(b))$ de manera que  $$\\int_a^b \\left( \\frac{f(b)-f(a)}{b-a}(x-a)+f(a) \\right)\\,dx\n",
        "= \\left[ \\frac{f(b)-f(a)}{b-a}\\frac{(x-a)^2}{2}+f(a)(x-a) \\right]_{x=a}^{x=b} = \\\\ \\frac{f(b)-f(a)}{b-a}\\frac{(b-a)^2}{2}+f(a)(b-a)=\\frac{b-a}{2}(f(b)-f(a)+2f(a))= \\frac{b-a}{2}(f(a)+f(b))$$.\n",
        "\n",
        "En la siguiente celda mostramos el código de la fórmula de los trapecios compuesta."
      ]
    },
    {
      "cell_type": "code",
      "execution_count": 52,
      "metadata": {
        "id": "9yMVtkI7-my_"
      },
      "outputs": [],
      "source": [
        "def formula_trapecios(f,a,b,num_nodos):\n",
        "    \"\"\"fórmula compuesta de los trapecios con partición uniforme\"\"\"\n",
        "    h = (b-a)/num_nodos\n",
        "    nodos = np.linspace(a, b, num_nodos+1)  # Genera los nodos de integración (incluyendo los extremos)\n",
        "    # Otra opción sería\n",
        "    # nodos = np.array([a + i*h for i in range(num_nodos+1)])\n",
        "\n",
        "    return h/2*(f(a)+2*np.sum(f(nodos[1:-1]))+f(b))\n",
        "    # Otra posible implementación sería\n",
        "    # return h/2*(f(a)+2*sum([f(a+i*h) for i in range(1,num_nodos)])+f(b))"
      ]
    },
    {
      "cell_type": "code",
      "execution_count": 53,
      "metadata": {},
      "outputs": [
        {
          "data": {
            "text/plain": [
              "np.float64(1.3333335)"
            ]
          },
          "execution_count": 53,
          "metadata": {},
          "output_type": "execute_result"
        }
      ],
      "source": [
        "valor_aproximado = formula_trapecios(f,a,b,1000) # valor aproximado de la integral definida\n",
        "valor_aproximado"
      ]
    },
    {
      "cell_type": "markdown",
      "metadata": {},
      "source": [
        "Calculemos el error:"
      ]
    },
    {
      "cell_type": "code",
      "execution_count": 54,
      "metadata": {},
      "outputs": [
        {
          "data": {
            "text/latex": [
              "$\\displaystyle 1.66666666689963 \\cdot 10^{-7}$"
            ],
            "text/plain": [
              "1.66666666689963e-7"
            ]
          },
          "execution_count": 54,
          "metadata": {},
          "output_type": "execute_result"
        }
      ],
      "source": [
        "abs(valor_aproximado - valor_exacto)"
      ]
    },
    {
      "cell_type": "markdown",
      "metadata": {},
      "source": [
        "Vemos que mejora considerablemente al error cometido por la fórmula de los rectángulos a la izquierda.\n",
        "\n",
        "A continuación, representamos gráficamente la fórmula del trapecio simple:"
      ]
    },
    {
      "cell_type": "code",
      "execution_count": 55,
      "metadata": {
        "colab": {
          "base_uri": "https://localhost:8080/",
          "height": 729
        },
        "id": "eJXhUcV9-mzA",
        "outputId": "0d54d859-eec7-4069-a4dd-e642e182476a"
      },
      "outputs": [
        {
          "data": {
            "image/png": "[encoded data removed]",
            "text/plain": [
              "<Figure size 800x800 with 1 Axes>"
            ]
          },
          "metadata": {},
          "output_type": "display_data"
        }
      ],
      "source": [
        "num_values = 100\n",
        "x_values = np.linspace(float(a),float(b),num_values)\n",
        "y_values = f(x_values)\n",
        "x0 = [a,b]; y0 = [f(a),f(b)]\n",
        "zz = (y0[1]-y0[0])/(b-a)*(x_values-a)+y0[0]\n",
        "fig,ax = plt.subplots(figsize=(8,8))\n",
        "ax.plot(x0,y0,'ro')\n",
        "ax.plot(x_values,y_values,'k',label='función del integrando')\n",
        "ax.fill_between(x_values,0,zz)\n",
        "ax.legend(loc=9)\n",
        "ax.set_xlabel('$x$',fontsize=18)\n",
        "ax.set_ylabel('$y$',fontsize=18)\n",
        "ax.set_title('Fórmula del trapecio');"
      ]
    },
    {
      "cell_type": "markdown",
      "metadata": {},
      "source": [
        "Y la fórmula compuesta:"
      ]
    },
    {
      "cell_type": "code",
      "execution_count": 56,
      "metadata": {
        "colab": {
          "base_uri": "https://localhost:8080/",
          "height": 729
        },
        "id": "jkfK873E-mzA",
        "outputId": "2bd56fb9-3013-4d4d-a5c7-a226c00de588"
      },
      "outputs": [
        {
          "data": {
            "text/plain": [
              "Text(0.5, 1.0, 'Fórmula del trapecio compuesta')"
            ]
          },
          "execution_count": 56,
          "metadata": {},
          "output_type": "execute_result"
        },
        {
          "data": {
            "image/png": "[encoded data removed]",
            "text/plain": [
              "<Figure size 800x800 with 1 Axes>"
            ]
          },
          "metadata": {},
          "output_type": "display_data"
        }
      ],
      "source": [
        "num_values = 100\n",
        "num_nodos=10\n",
        "x_values = np.linspace(float(a),float(b),num_values)\n",
        "y_values = f(x_values)\n",
        "x_nodos = np.linspace(a,b,num_nodos)\n",
        "y_nodos = f(x_nodos)\n",
        "\n",
        "fig,ax = plt.subplots(figsize=(8,8))\n",
        "ax.plot(x_values,y_values,'k',label='función del integrando')\n",
        "for k in range(1,num_nodos):\n",
        "    zz = np.linspace(float(x_nodos[k-1]),float(x_nodos[k]),num_values)\n",
        "    yk = [linea(z,x_nodos[k-1],y_nodos[k-1],x_nodos[k],y_nodos[k]) for z in zz]\n",
        "    ax.fill_between(zz,0,yk)\n",
        "ax.plot(x_nodos,y_nodos,'ro')\n",
        "\n",
        "\n",
        "ax.legend(loc=9)\n",
        "ax.set_xlabel('$x$',fontsize=18)\n",
        "ax.set_ylabel('$y$',fontsize=18)\n",
        "ax.set_title('Fórmula del trapecio compuesta')"
      ]
    },
    {
      "cell_type": "markdown",
      "metadata": {
        "id": "8b3LSdMs-mzA"
      },
      "source": [
        "### 2.2.4. Fórmulas de Simpson (simple y compuesta) 💛"
      ]
    },
    {
      "cell_type": "markdown",
      "metadata": {
        "id": "IUuuoiCt-mzA"
      },
      "source": [
        "Ya hemos visto que las *fórmulas simples* de integración numérica  se pueden obtener sin más que sustituir la función del integrando por un polinomio de interpolación de grado cero (en el caso de las fórmulas de los rectángulos) o bien por un polinomio de grado uno que iterpola los valores de la función en ambos extremos del intervalo.\n",
        "\n",
        "Por otro lado, para obtener las correspondientes *fórmulas compuestas*, bastaría con sustituir la función en el intervalo total $[a,b]$ por funciones polinómicas a trozos: ya sea de grado cero discontinuas, (en el caso de las fórmulas de los rectángulos) o bien lineales continuas (en el caso de la fórmula de los trapecios compuesta).\n",
        "\n",
        "En el caso de la fórmula de Simpson que nos ocupa ahora, este procedimiento se lleva un paso más allá, considerando ahora polinomios de grado $2$ (es decir, una parábola en el caso de la *fórmula de Simpson* simple o bien trozos de parábolas consecutivos, en el caso de la fórmula de Simpson compuesta)."
      ]
    },
    {
      "cell_type": "code",
      "execution_count": 93,
      "metadata": {
        "id": "UEUP7l5e-mzA"
      },
      "outputs": [
        {
          "data": {
            "text/latex": [
              "$\\displaystyle - \\frac{x^{2} x_{L} y_{M} - x^{2} x_{L} y_{R} - x^{2} x_{M} y_{L} + x^{2} x_{M} y_{R} + x^{2} x_{R} y_{L} - x^{2} x_{R} y_{M} - x x_{L}^{2} y_{M} + x x_{L}^{2} y_{R} + x x_{M}^{2} y_{L} - x x_{M}^{2} y_{R} - x x_{R}^{2} y_{L} + x x_{R}^{2} y_{M} - x_{L}^{2} x_{M} y_{R} + x_{L}^{2} x_{R} y_{M} + x_{L} x_{M}^{2} y_{R} - x_{L} x_{R}^{2} y_{M} - x_{M}^{2} x_{R} y_{L} + x_{M} x_{R}^{2} y_{L}}{\\left(x_{L} - x_{M}\\right) \\left(x_{L} - x_{R}\\right) \\left(x_{M} - x_{R}\\right)}$"
            ],
            "text/plain": [
              "-(x**2*x_L*y_M - x**2*x_L*y_R - x**2*x_M*y_L + x**2*x_M*y_R + x**2*x_R*y_L - x**2*x_R*y_M - x*x_L**2*y_M + x*x_L**2*y_R + x*x_M**2*y_L - x*x_M**2*y_R - x*x_R**2*y_L + x*x_R**2*y_M - x_L**2*x_M*y_R + x_L**2*x_R*y_M + x_L*x_M**2*y_R - x_L*x_R**2*y_M - x_M**2*x_R*y_L + x_M*x_R**2*y_L)/((x_L - x_M)*(x_L - x_R)*(x_M - x_R))"
            ]
          },
          "execution_count": 93,
          "metadata": {},
          "output_type": "execute_result"
        }
      ],
      "source": [
        "xL,yL,xM,yM,xR,yR = sp.symbols('x_L,y_L,x_M,y_M,x_R,y_R')\n",
        "a, b = sp.symbols('a,b')\n",
        "dyL,dyR = sp.symbols('dyL,dyR')\n",
        "\n",
        "parabola_3_puntos = sp.interpolate([(xL,yL),(xM,yM),(xR,yR)],x).factor() # Interpolación de Lagrange para 3 puntos\n",
        "parabola_3_puntos"
      ]
    },
    {
      "cell_type": "code",
      "execution_count": 94,
      "metadata": {
        "id": "P8QTSiYD-mzA"
      },
      "outputs": [
        {
          "data": {
            "text/plain": [
              "(y_L, y_M, y_R)"
            ]
          },
          "execution_count": 94,
          "metadata": {},
          "output_type": "execute_result"
        }
      ],
      "source": [
        "# Comprobamos que el polinomio interpolador pasa por los puntos (xL,yL), (xM,yM) y (xR,yR)\n",
        "parabola_3_puntos.subs({x:xL}).simplify(), \\\n",
        "parabola_3_puntos.subs({x:xM}).simplify(), \\\n",
        "parabola_3_puntos.subs({x:xR}).simplify()"
      ]
    },
    {
      "cell_type": "markdown",
      "metadata": {
        "id": "6cAabmyg-mzB"
      },
      "source": [
        "Si ahora integramos la parábola que pasa por los puntos determinados por los valores de cierta función en los extremos del intervalo $[x_L,x_R]$: $(x_L,y_L)$ y $(x_R,y_R)$, así como por el correspondiente valor $y_M$ en el punto medio del intervalo $\\frac{x_L+x_R}{2}$, obtendremos la fórmula de Simpson simple."
      ]
    },
    {
      "cell_type": "code",
      "execution_count": 95,
      "metadata": {
        "colab": {
          "base_uri": "https://localhost:8080/",
          "height": 53
        },
        "id": "FcvTf04c-mzB",
        "outputId": "66e3c70a-a3c3-4a61-b9c7-8041c8f05cc8"
      },
      "outputs": [
        {
          "data": {
            "text/latex": [
              "$\\displaystyle - \\frac{\\left(x_{L} - x_{R}\\right) \\left(y_{L} + 4 y_{M} + y_{R}\\right)}{6}$"
            ],
            "text/plain": [
              "-(x_L - x_R)*(y_L + 4*y_M + y_R)/6"
            ]
          },
          "execution_count": 95,
          "metadata": {},
          "output_type": "execute_result"
        }
      ],
      "source": [
        "parabola_simpson = sp.interpolate([(xL,yL),((xL+xR)/2,yM),(xR,yR)],x)\n",
        "sp.integrate(parabola_simpson,[x,xL,xR]).factor()"
      ]
    },
    {
      "cell_type": "markdown",
      "metadata": {
        "id": "5lYqZ8Ij-mzB"
      },
      "source": [
        "Un método alternativo, pero equivalente, consistiría en imponer exactitud al menos para los monomios generadores de la base canónica de  $\\mathbb{P}_2\\equiv L(\\{1,x,x^2\\})$, los polinomios de grado menor o igual que $2$.  Veámos cómo sería el proceso para esta fórmula de Simpson."
      ]
    },
    {
      "cell_type": "code",
      "execution_count": 60,
      "metadata": {
        "colab": {
          "base_uri": "https://localhost:8080/",
          "height": 88
        },
        "id": "dOC7SnA1-mzC",
        "outputId": "a3fe286e-198b-4de3-dc8d-7feab7eadc5d"
      },
      "outputs": [
        {
          "data": {
            "text/latex": [
              "$\\displaystyle \\left[\\begin{matrix}1 & 1 & 1 & - a + b\\\\a & \\frac{a}{2} + \\frac{b}{2} & b & - \\frac{a^{2}}{2} + \\frac{b^{2}}{2}\\\\a^{2} & \\left(\\frac{a}{2} + \\frac{b}{2}\\right)^{2} & b^{2} & - \\frac{a^{3}}{3} + \\frac{b^{3}}{3}\\end{matrix}\\right]$"
            ],
            "text/plain": [
              "Matrix([\n",
              "[   1,              1,    1,           -a + b],\n",
              "[   a,      a/2 + b/2,    b, -a**2/2 + b**2/2],\n",
              "[a**2, (a/2 + b/2)**2, b**2, -a**3/3 + b**3/3]])"
            ]
          },
          "execution_count": 60,
          "metadata": {},
          "output_type": "execute_result"
        }
      ],
      "source": [
        "AB = sp.Matrix([ [a**k,((a+b)/2)**k,b**k, sp.integrate(x**k,[x,a,b])] for k in range(3)])\n",
        "AB"
      ]
    },
    {
      "cell_type": "code",
      "execution_count": 61,
      "metadata": {
        "id": "Dv1wbF45-mzC"
      },
      "outputs": [
        {
          "name": "stdout",
          "output_type": "stream",
          "text": [
            "\u001b[31mSignature:\u001b[39m sp.linsolve(system, *symbols)\n",
            "\u001b[31mDocstring:\u001b[39m\n",
            "Solve system of $N$ linear equations with $M$ variables; both\n",
            "underdetermined and overdetermined systems are supported.\n",
            "The possible number of solutions is zero, one or infinite.\n",
            "Zero solutions throws a ValueError, whereas infinite\n",
            "solutions are represented parametrically in terms of the given\n",
            "symbols. For unique solution a :class:`~.FiniteSet` of ordered tuples\n",
            "is returned.\n",
            "\n",
            "All standard input formats are supported:\n",
            "For the given set of equations, the respective input types\n",
            "are given below:\n",
            "\n",
            ".. math:: 3x + 2y -   z = 1\n",
            ".. math:: 2x - 2y + 4z = -2\n",
            ".. math:: 2x -   y + 2z = 0\n",
            "\n",
            "* Augmented matrix form, ``system`` given below:\n",
            "\n",
            "$$ \\text{system} = \\left[{array}{cccc}\n",
            "    3 &  2 & -1 &  1\\\\\n",
            "    2 & -2 &  4 & -2\\\\\n",
            "    2 & -1 &  2 &  0\n",
            "    \\end{array}\\right] $$\n",
            "\n",
            "::\n",
            "\n",
            "    system = Matrix([[3, 2, -1, 1], [2, -2, 4, -2], [2, -1, 2, 0]])\n",
            "\n",
            "* List of equations form\n",
            "\n",
            "::\n",
            "\n",
            "    system  =  [3x + 2y - z - 1, 2x - 2y + 4z + 2, 2x - y + 2z]\n",
            "\n",
            "* Input $A$ and $b$ in matrix form (from $Ax = b$) are given as:\n",
            "\n",
            "$$ A = \\left[\\begin{array}{ccc}\n",
            "    3 &  2 & -1 \\\\\n",
            "    2 & -2 &  4 \\\\\n",
            "    2 & -1 &  2\n",
            "    \\end{array}\\right] \\ \\  b = \\left[\\begin{array}{c}\n",
            "    1 \\\\ -2 \\\\ 0\n",
            "    \\end{array}\\right] $$\n",
            "\n",
            "::\n",
            "\n",
            "    A = Matrix([[3, 2, -1], [2, -2, 4], [2, -1, 2]])\n",
            "    b = Matrix([[1], [-2], [0]])\n",
            "    system = (A, b)\n",
            "\n",
            "Symbols can always be passed but are actually only needed\n",
            "when 1) a system of equations is being passed and 2) the\n",
            "system is passed as an underdetermined matrix and one wants\n",
            "to control the name of the free variables in the result.\n",
            "An error is raised if no symbols are used for case 1, but if\n",
            "no symbols are provided for case 2, internally generated symbols\n",
            "will be provided. When providing symbols for case 2, there should\n",
            "be at least as many symbols are there are columns in matrix A.\n",
            "\n",
            "The algorithm used here is Gauss-Jordan elimination, which\n",
            "results, after elimination, in a row echelon form matrix.\n",
            "\n",
            "Returns\n",
            "=======\n",
            "\n",
            "A FiniteSet containing an ordered tuple of values for the\n",
            "unknowns for which the `system` has a solution. (Wrapping\n",
            "the tuple in FiniteSet is used to maintain a consistent\n",
            "output format throughout solveset.)\n",
            "\n",
            "Returns EmptySet, if the linear system is inconsistent.\n",
            "\n",
            "Raises\n",
            "======\n",
            "\n",
            "ValueError\n",
            "    The input is not valid.\n",
            "    The symbols are not given.\n",
            "\n",
            "Examples\n",
            "========\n",
            "\n",
            ">>> from sympy import Matrix, linsolve, symbols\n",
            ">>> x, y, z = symbols(\"x, y, z\")\n",
            ">>> A = Matrix([[1, 2, 3], [4, 5, 6], [7, 8, 10]])\n",
            ">>> b = Matrix([3, 6, 9])\n",
            ">>> A\n",
            "Matrix([\n",
            "[1, 2,  3],\n",
            "[4, 5,  6],\n",
            "[7, 8, 10]])\n",
            ">>> b\n",
            "Matrix([\n",
            "[3],\n",
            "[6],\n",
            "[9]])\n",
            ">>> linsolve((A, b), [x, y, z])\n",
            "{(-1, 2, 0)}\n",
            "\n",
            "* Parametric Solution: In case the system is underdetermined, the\n",
            "  function will return a parametric solution in terms of the given\n",
            "  symbols. Those that are free will be returned unchanged. e.g. in\n",
            "  the system below, `z` is returned as the solution for variable z;\n",
            "  it can take on any value.\n",
            "\n",
            ">>> A = Matrix([[1, 2, 3], [4, 5, 6], [7, 8, 9]])\n",
            ">>> b = Matrix([3, 6, 9])\n",
            ">>> linsolve((A, b), x, y, z)\n",
            "{(z - 1, 2 - 2*z, z)}\n",
            "\n",
            "If no symbols are given, internally generated symbols will be used.\n",
            "The ``tau0`` in the third position indicates (as before) that the third\n",
            "variable -- whatever it is named -- can take on any value:\n",
            "\n",
            ">>> linsolve((A, b))\n",
            "{(tau0 - 1, 2 - 2*tau0, tau0)}\n",
            "\n",
            "* List of equations as input\n",
            "\n",
            ">>> Eqns = [3*x + 2*y - z - 1, 2*x - 2*y + 4*z + 2, - x + y/2 - z]\n",
            ">>> linsolve(Eqns, x, y, z)\n",
            "{(1, -2, -2)}\n",
            "\n",
            "* Augmented matrix as input\n",
            "\n",
            ">>> aug = Matrix([[2, 1, 3, 1], [2, 6, 8, 3], [6, 8, 18, 5]])\n",
            ">>> aug\n",
            "Matrix([\n",
            "[2, 1,  3, 1],\n",
            "[2, 6,  8, 3],\n",
            "[6, 8, 18, 5]])\n",
            ">>> linsolve(aug, x, y, z)\n",
            "{(3/10, 2/5, 0)}\n",
            "\n",
            "* Solve for symbolic coefficients\n",
            "\n",
            ">>> a, b, c, d, e, f = symbols('a, b, c, d, e, f')\n",
            ">>> eqns = [a*x + b*y - c, d*x + e*y - f]\n",
            ">>> linsolve(eqns, x, y)\n",
            "{((-b*f + c*e)/(a*e - b*d), (a*f - c*d)/(a*e - b*d))}\n",
            "\n",
            "* A degenerate system returns solution as set of given\n",
            "  symbols.\n",
            "\n",
            ">>> system = Matrix(([0, 0, 0], [0, 0, 0], [0, 0, 0]))\n",
            ">>> linsolve(system, x, y)\n",
            "{(x, y)}\n",
            "\n",
            "* For an empty system linsolve returns empty set\n",
            "\n",
            ">>> linsolve([], x)\n",
            "EmptySet\n",
            "\n",
            "* An error is raised if any nonlinearity is detected, even\n",
            "  if it could be removed with expansion\n",
            "\n",
            ">>> linsolve([x*(1/x - 1)], x)\n",
            "Traceback (most recent call last):\n",
            "...\n",
            "NonlinearError: nonlinear term: 1/x\n",
            "\n",
            ">>> linsolve([x*(y + 1)], x, y)\n",
            "Traceback (most recent call last):\n",
            "...\n",
            "NonlinearError: nonlinear cross-term: x*(y + 1)\n",
            "\n",
            ">>> linsolve([x**2 - 1], x)\n",
            "Traceback (most recent call last):\n",
            "...\n",
            "NonlinearError: nonlinear term: x**2\n",
            "\u001b[31mFile:\u001b[39m      c:\\users\\juana\\appdata\\local\\programs\\python\\python312\\lib\\site-packages\\sympy\\solvers\\solveset.py\n",
            "\u001b[31mType:\u001b[39m      function"
          ]
        }
      ],
      "source": [
        "?sp.linsolve"
      ]
    },
    {
      "cell_type": "code",
      "execution_count": 62,
      "metadata": {
        "colab": {
          "base_uri": "https://localhost:8080/",
          "height": 58
        },
        "id": "aNt0TMaB-mzC",
        "outputId": "249747b3-ee1f-4e02-e881-0c08347f889b"
      },
      "outputs": [
        {
          "data": {
            "text/latex": [
              "$\\displaystyle \\left\\{\\left( - \\frac{a}{6} + \\frac{b}{6}, \\  - \\frac{2 a}{3} + \\frac{2 b}{3}, \\  - \\frac{a}{6} + \\frac{b}{6}\\right)\\right\\}$"
            ],
            "text/plain": [
              "{(-a/6 + b/6, -2*a/3 + 2*b/3, -a/6 + b/6)}"
            ]
          },
          "execution_count": 62,
          "metadata": {},
          "output_type": "execute_result"
        }
      ],
      "source": [
        "c0,c1,c2 = sp.symbols('c0,c1,c2')\n",
        "sp.linsolve(AB,[c0,c1,c2])"
      ]
    },
    {
      "cell_type": "markdown",
      "metadata": {
        "id": "M84ATihD-mzC"
      },
      "source": [
        "Vemos que hubiéramos obtenido exactamente la misma fórmula por este procedimiento\n",
        "\n",
        "$$ \\int_a^b f(x)\\,dx \\approx \\frac{b-a}{6} \\left( f(a)+ 4f\\left(\\frac{a+b}{2}\\right) +f(b) \\right)$$"
      ]
    },
    {
      "cell_type": "markdown",
      "metadata": {},
      "source": [
        "> **Ejercicio 7:** Implemente una función que calcule la integral de una función $f$ en el intervalo $[a,b]$ usando la fórmula de Simpson compuesta, parametrizando también el número de subintervalos utilizados (se premia la eficiencia). Represente gráficamente la fórmula de Simpson compuesta análogamente a la representación mostrada para la fórmula de los trapecios compuesta."
      ]
    },
    {
      "cell_type": "markdown",
      "metadata": {
        "id": "ofNZpzXa-mzC"
      },
      "source": [
        ">**Ejercicio 8:** Realice una comparativa entre los errores cometidos al aproximar funciones potencias sucesivas $x^i$, con $i=1,2,3,\\ldots$ en el intervalo $[0,1]$ mediante las fórmulas de los trapecios y de Simpson compuestas con diferentes valores de $h$; e inducir de ahí, los posibles órdenes de exactitud (a partir de los valores de $i$ que proporcionen valores exactos de la integral). No deje de tener en cuenta los posibles errores de redondeo, inevitables en todo cálculo realizado con ordenador."
      ]
    },
    {
      "cell_type": "markdown",
      "metadata": {},
      "source": [
        "### 2.2.5. Integración Romberg ↘️"
      ]
    },
    {
      "cell_type": "markdown",
      "metadata": {},
      "source": [
        "La integración Romberg es una técnica que combina la fórmula compuesta de los trapecios, que denotamos como\n",
        "\n",
        "$$\n",
        "    T_n = \\frac h 2 \\left( f(a) + 2\\sum_{i=1}^{n-1} f(a+ih) + f(b) \\right),\n",
        "$$\n",
        "donde $h=(b-a)/n$, con diferentes valores de $n$ para aumentar el orden del término de error.\n",
        "\n",
        "La idea es construir la tabla\n",
        "\n",
        "\n",
        "|          |          |          |          |          |          |\n",
        "|:--------:|:--------:|:--------:|:--------:|:--------:|:--------:|\n",
        "| $R(0,0)$ |          |          |          |          |          |\n",
        "| $R(1,0)$ | $R(1,1)$ |          |          |          |          |\n",
        "| $\\vdots$ | $\\vdots$ | $\\ddots$ |          |          |          |\n",
        "| $R(j,0)$ | $R(j,1)$ | $\\ddots$ | $R(j,j)$ |          |          |\n",
        "| $\\vdots$ | $\\vdots$ | $\\ddots$ | $\\vdots$ | $\\ddots$ |          |\n",
        "| $R(N,0)$ | $R(N,1)$ | $\\cdots$ | $R(N,j)$ | $\\cdots$ | $R(N,N)$ |\n",
        "\n",
        "\n",
        "\n",
        "donde\n",
        "\n",
        "$$\n",
        "R(j,0) = T_{2^j}, \\qquad R(j,k) = \\dfrac{4^k R(j,k-1)-R(j-1,k-1)}{4^k-1}, j=0,\\dots,N,\\ \\ k = 1,\\dots,j.\n",
        "$$\n",
        "y aproximar el valor de la integral mediante la sucesión $\\{R(N,N)\\}$, estableciendo un criterio de parada basado en que la diferencia absoluta de dos terminos consecutivos sea menor que una tolerancia prefijada.\n"
      ]
    },
    {
      "cell_type": "markdown",
      "metadata": {},
      "source": [
        "### 2.2.6. Integración adaptativa 🛏️"
      ]
    },
    {
      "cell_type": "markdown",
      "metadata": {},
      "source": [
        "Hasta el momento, todas las fórmulas compuestas han utilizado nodos equiespaciados, que tienen la facilidad de que son muy sencillos de calcular, pero podrían suponer un problema en funciones con regiones cambiantes. La integración adaptativa, como su propio nombre indica, adapta el tamaño de los intervalos de acuerdo a las variaciones de la función. Para ello, dado un intervalo de integración $[a,b]$, consideramos la semiamplitud del intervalo $h=(b-a)/2$, el valor medio $m=(a+b)/2$ y denotamos la fórmula de Simpson simple como\n",
        "$$\n",
        "S(a,b) = \\frac h 3 (f(a)+4 f(m) + f(b)).\n",
        "$$\n",
        "Ahora, como sabemos que\n",
        "$$\n",
        "\\int_a^b f(x) dx = \\int_a^m f(x) dx + \\int_m^b f(x) dx,\n",
        "$$\n",
        "aproximamos cada una de las integrales mediante la regla de Simpson y fijamos una tolerancia $\\varepsilon$, de forma que, si\n",
        "$$\n",
        "|S(a,b) - S(a,m) - S(m,b)| < \\varepsilon,\n",
        "$$\n",
        "entonces aceptamos la aproximación $S(a,b) \\approx \\int_a^b f(x) dx $. En caso de que esto no se cumpla, repetimos el algoritmo por separado en cada uno de los subintervalos $[a,m]$ y $[m,b]$ con tolerancia $\\varepsilon/2$."
      ]
    },
    {
      "cell_type": "markdown",
      "metadata": {},
      "source": [
        ">**Ejercicio 9:** Programar las técnicas de integración de Romberg y adaptativa, para después aplicarlas a la aproximación de la siguiente integral $$\\int_a^b p(x)\\, dx$$\n",
        ">siendo  $\\;a=\\displaystyle\\min_{0\\leq i\\leq 7}{d_i}$, $\\;b=\\displaystyle\\max_{0\\leq i\\leq 7}{d_i}$ y\n",
        ">$$p(x)=d_0 + d_1 x + d_2 x^2 + d_3 x^3+ d_4 x^4 + d_5 x^5 + d_6 x^6 + d_7 x^7 $$\n",
        ">(siendo $d_0, d_1, \\ldots, d_7$ los dígitos de su DNI, pasaporte o tarjeta de residente)."
      ]
    },
    {
      "cell_type": "markdown",
      "metadata": {
        "id": "nLXqTLsz-mzG"
      },
      "source": [
        "### 2.2.7 Fórmulas gaussianas"
      ]
    },
    {
      "cell_type": "markdown",
      "metadata": {
        "id": "zlt4KnSy-mzG"
      },
      "source": [
        "Las fórmulas gaussianas usan como nodos aquellos que conducen a una precisión máxima. Si vamos a construir una fórmula de integración numérica con $n$ nodos, sabemos que podemos elegirlos de manera única, de forma que la fórmula correspondiente alcanza precisión $2n-1$. Por tanto, para construir fórmulas gaussianas, hemos de calcular los nodos y los coeficientes. Para ello, primero calcularemos los nodos y después resolveremos el sistema de ecuaciones lineales que nos dará el valor de los coeficientes.\n",
        "\n",
        "Lo haremos a continuación, puesto que *Python* (o cualquier otro sistema que permita realizar cálculos simbólicos, o bien numéricos) lo resuelve sin dificultad para valores de $n$ bajos. También sabemos que los nodos de una fórmula gaussiana son los ceros de cierto polinomio ortogonal. Para los productos escalares más usuales, los *polinomios ortogonales* correspondientes están contenidos en ciertos módulos concretos de *Python*; por tanto, podemos calcular sus raíces para obtener dichos nodos. Lo haremos para los polinomios de Chebyshev. En un caso especial es posible encontrar el polinomio ortogonal correspondiente y calcular sus raíces con la orden correspondiente."
      ]
    },
    {
      "cell_type": "markdown",
      "metadata": {
        "id": "faAelNRX-mzG"
      },
      "source": [
        "#### La fórmula gaussiana con dos nodos y peso $w=1$"
      ]
    },
    {
      "cell_type": "markdown",
      "metadata": {},
      "source": [
        "Siguiendo el Ejemplo 1 de las diapositivas de teoría, vamos a calcular la fórmula gaussiana con dos nodos $x_0$ y $x_1$.\n",
        "$$\n",
        "\\int_{-1}^1 f(x) dx = c_0 f(x_0) + c_1 f(x_1) + R(f)\n",
        "$$"
      ]
    },
    {
      "cell_type": "code",
      "execution_count": 63,
      "metadata": {
        "id": "xNZhG3Vi-mzG"
      },
      "outputs": [],
      "source": [
        "f = sp.Function('f')\n",
        "x = sp.Symbol('x')\n",
        "x0, x1 = sp.symbols('x_0,x_1')\n",
        "c0, c1 = sp.symbols('c_0,c_1')\n",
        "\n",
        "a, b = -1, 1\n",
        "n = 2"
      ]
    },
    {
      "cell_type": "markdown",
      "metadata": {},
      "source": [
        "Primero calculamos los nodos imponiendo que el polinomio $\\Pi(x)=(x-x_0)(x-x_1)$ verifique\n",
        "$$\n",
        "\\int_{-1}^1 \\Pi(x)dx = 0, \\qquad \\int_{-1}^1 x\\Pi(x)dx = 0. \n",
        "$$"
      ]
    },
    {
      "cell_type": "code",
      "execution_count": 64,
      "metadata": {},
      "outputs": [
        {
          "data": {
            "text/plain": [
              "(-sqrt(3)/3, sqrt(3)/3)"
            ]
          },
          "execution_count": 64,
          "metadata": {},
          "output_type": "execute_result"
        }
      ],
      "source": [
        "pol = (x-x0)*(x-x1)\n",
        "\n",
        "ecs = [sp.integrate(pol,[x,a,b]),\n",
        "       sp.integrate(pol*x,[x,a,b])]\n",
        "\n",
        "x0, x1 = sp.solve(ecs,[x0,x1])[0]\n",
        "x0,x1"
      ]
    },
    {
      "cell_type": "markdown",
      "metadata": {},
      "source": [
        "Una vez calculados los nodos, calculamos los coeficientes imponiendo exactitud en $\\{1,x\\}$, esto es:\n",
        "$$\n",
        "c_0\\cdot 1 + c_1\\cdot 1 = \\int_{-1}^1 1 \\cdot dx , \\qquad c_0 x_0 + c_1 x_1 = \\int_{-1}^1 x dx.\n",
        "$$"
      ]
    },
    {
      "cell_type": "code",
      "execution_count": 65,
      "metadata": {},
      "outputs": [],
      "source": [
        "ecs = [ sp.Eq(c0    + c1,    sp.integrate(1,(x,-1,1))),\n",
        "        sp.Eq(c0*x0 + c1*x1, sp.integrate(x,(x,-1,1)))]"
      ]
    },
    {
      "cell_type": "code",
      "execution_count": 66,
      "metadata": {},
      "outputs": [
        {
          "data": {
            "text/latex": [
              "$\\displaystyle c_{0} + c_{1} = 2$"
            ],
            "text/plain": [
              "Eq(c_0 + c_1, 2)"
            ]
          },
          "execution_count": 66,
          "metadata": {},
          "output_type": "execute_result"
        }
      ],
      "source": [
        "ecs[0]"
      ]
    },
    {
      "cell_type": "code",
      "execution_count": 67,
      "metadata": {},
      "outputs": [
        {
          "data": {
            "text/latex": [
              "$\\displaystyle - \\frac{\\sqrt{3} c_{0}}{3} + \\frac{\\sqrt{3} c_{1}}{3} = 0$"
            ],
            "text/plain": [
              "Eq(-sqrt(3)*c_0/3 + sqrt(3)*c_1/3, 0)"
            ]
          },
          "execution_count": 67,
          "metadata": {},
          "output_type": "execute_result"
        }
      ],
      "source": [
        "ecs[1]"
      ]
    },
    {
      "cell_type": "code",
      "execution_count": 68,
      "metadata": {},
      "outputs": [
        {
          "data": {
            "text/plain": [
              "(1, 1)"
            ]
          },
          "execution_count": 68,
          "metadata": {},
          "output_type": "execute_result"
        }
      ],
      "source": [
        "sols = sp.solve(ecs,[c0,c1])\n",
        "c0, c1 = sols[c0], sols[c1],\n",
        "c0, c1"
      ]
    },
    {
      "cell_type": "markdown",
      "metadata": {},
      "source": [
        "Finalmente, la fórmula gaussiana (fórmula de Gauss-Legendre) es:"
      ]
    },
    {
      "cell_type": "code",
      "execution_count": 69,
      "metadata": {},
      "outputs": [
        {
          "data": {
            "text/latex": [
              "$\\displaystyle f{\\left(- \\frac{\\sqrt{3}}{3} \\right)} + f{\\left(\\frac{\\sqrt{3}}{3} \\right)}$"
            ],
            "text/plain": [
              "f(-sqrt(3)/3) + f(sqrt(3)/3)"
            ]
          },
          "execution_count": 69,
          "metadata": {},
          "output_type": "execute_result"
        }
      ],
      "source": [
        "c0*f(x0) + c1*f(x1)"
      ]
    },
    {
      "cell_type": "markdown",
      "metadata": {
        "id": "cEbg14jM-mzH"
      },
      "source": [
        "Vemos pues que con la ayuda del comando `solve` del módulo de cálculo simbólico `SymPy` hemos podido obtener sin demasiado problema tanto los coeficientes de la fórmula Gaussiana como los nodos que hace falta considerar para obtener la máxima exactitud en el intervalo considerado ($[-1,1]$ en este caso). También vemos que\n",
        "uno de los posibles inconvenientes para la obtención de estas fórmulas gaussianas es que debemos resolver sistemas de ecuaciones no lineales, no siempre fáciles de resolver, aparte de que los nodos suelen ser números trascencentes, y si no trabajáramos en simbólico, ya su mera aproximación introduciría un primer error."
      ]
    },
    {
      "cell_type": "markdown",
      "metadata": {
        "id": "X8aLZIpc-mzI"
      },
      "source": [
        "#### Fórmulas de Gauss-Chebyshev"
      ]
    },
    {
      "cell_type": "markdown",
      "metadata": {},
      "source": [
        "En este caso vamos a deducir una fórmula gaussiana para un peso que no es idénticamente nulo. En particular, en el intervalo $[-1,1]$, consideramos el peso $w(x)=\\dfrac 1 {\\sqrt{1-x^2}}$. De acuerdo con el método, buscamos un polinomio $\\Pi(x)$ que verifique\n",
        "$$\n",
        "L(x^j \\Pi(x)) = \\int_{-1}^1 \\dfrac{x^j\\Pi(x)}{\\sqrt{1-x^2}}dx = 0,\\qquad j=0,\\dots,n.\n",
        "$$\n",
        "\n",
        "Los polinomios que verifican esta propiedad son conocidos como polinomios de Chebyshev, a menudo denotados como $T_k$. En `sympy`, podemos encontrarlos utilizando la función `chebyshevt`. Sin embargo, a nosotros nos interesan las raíces de estos polinomios, que afortunadamente también son conocidas y se pueden obtener mediante la función `chebyshevt_root`.\n"
      ]
    },
    {
      "cell_type": "code",
      "execution_count": 70,
      "metadata": {},
      "outputs": [
        {
          "name": "stdout",
          "output_type": "stream",
          "text": [
            "Polinomios de Chebyshev de diferentes grados:\n",
            "Grado 0: 1\n",
            "Grado 1: x\n",
            "Grado 2: 2*x**2 - 1\n",
            "Grado 3: 4*x**3 - 3*x\n",
            "Grado 4: 8*x**4 - 8*x**2 + 1\n",
            "Grado 5: 16*x**5 - 20*x**3 + 5*x\n",
            "Grado 6: 32*x**6 - 48*x**4 + 18*x**2 - 1\n",
            "Grado 7: 64*x**7 - 112*x**5 + 56*x**3 - 7*x\n",
            "Grado 8: 128*x**8 - 256*x**6 + 160*x**4 - 32*x**2 + 1\n",
            "Grado 9: 256*x**9 - 576*x**7 + 432*x**5 - 120*x**3 + 9*x\n"
          ]
        }
      ],
      "source": [
        "from sympy import chebyshevt, chebyshevt_root\n",
        "\n",
        "print(\"Polinomios de Chebyshev de diferentes grados:\")\n",
        "for j in range(10):\n",
        "    print(f\"Grado {j}: {chebyshevt(j,x)}\")"
      ]
    },
    {
      "cell_type": "markdown",
      "metadata": {},
      "source": [
        "La función `chebyshevt_root(n,k)` devuelve la `k`-ésima raíz del polinomio de Chebyshev de grado `n`."
      ]
    },
    {
      "cell_type": "code",
      "execution_count": 97,
      "metadata": {},
      "outputs": [
        {
          "data": {
            "text/latex": [
              "$\\displaystyle - \\frac{\\sqrt{3}}{2}$"
            ],
            "text/plain": [
              "-sqrt(3)/2"
            ]
          },
          "execution_count": 97,
          "metadata": {},
          "output_type": "execute_result"
        }
      ],
      "source": [
        "n = 3\n",
        "chebyshevt_root(n,2)"
      ]
    },
    {
      "cell_type": "markdown",
      "metadata": {},
      "source": [
        "Calculamos por tanto todos los nodos $x_0,\\dots,x_{n-1}$"
      ]
    },
    {
      "cell_type": "code",
      "execution_count": 72,
      "metadata": {},
      "outputs": [
        {
          "data": {
            "text/plain": [
              "[sqrt(3)/2, 0, -sqrt(3)/2]"
            ]
          },
          "execution_count": 72,
          "metadata": {},
          "output_type": "execute_result"
        }
      ],
      "source": [
        "nodos = [chebyshevt_root(n,k) for k in range(n)]\n",
        "nodos"
      ]
    },
    {
      "cell_type": "markdown",
      "metadata": {},
      "source": [
        "Por último, para obtener los pesos, imponemos exactitud en $1,x,\\dots,x^{n-1}$. Esto es, resolver el sistema\n",
        "$$\n",
        "\\sum_{k=0}^{n-1} c_k x_k^j =  \\int_{-1}^1 \\dfrac{x^j}{\\sqrt{1-x^2}}dx, \\qquad j=0,\\dots,n-1.\n",
        "$$\n",
        "\n",
        "Tenemos entonces la lista de coeficientes (incógnitas)"
      ]
    },
    {
      "cell_type": "code",
      "execution_count": 73,
      "metadata": {},
      "outputs": [
        {
          "data": {
            "text/plain": [
              "[c0, c1, c2]"
            ]
          },
          "execution_count": 73,
          "metadata": {},
          "output_type": "execute_result"
        }
      ],
      "source": [
        "c = sp.symbols('c0:'+ str(n)) # generamos una tupla de n coeficientes\n",
        "coefs = list(c)\n",
        "coefs"
      ]
    },
    {
      "cell_type": "markdown",
      "metadata": {},
      "source": [
        "Creamos las ecuaciones"
      ]
    },
    {
      "cell_type": "code",
      "execution_count": 74,
      "metadata": {},
      "outputs": [
        {
          "data": {
            "text/plain": [
              "[Eq(c0 + c1 + c2, pi),\n",
              " Eq(sqrt(3)*c0/2 - sqrt(3)*c2/2, 0),\n",
              " Eq(3*c0/4 + 3*c2/4, pi/2)]"
            ]
          },
          "execution_count": 74,
          "metadata": {},
          "output_type": "execute_result"
        }
      ],
      "source": [
        "ecs = [ sp.Eq(sum([ci*(xi**j) for ci,xi in zip(coefs, nodos)]), sp.integrate(x**j/sp.sqrt(1-x**2), (x,-1,1)) ) for j in range(n) ]\n",
        "ecs"
      ]
    },
    {
      "cell_type": "markdown",
      "metadata": {},
      "source": [
        "Y encontramos las soluciones"
      ]
    },
    {
      "cell_type": "code",
      "execution_count": 75,
      "metadata": {},
      "outputs": [
        {
          "data": {
            "text/plain": [
              "{c0: pi/3, c1: pi/3, c2: pi/3}"
            ]
          },
          "execution_count": 75,
          "metadata": {},
          "output_type": "execute_result"
        }
      ],
      "source": [
        "sols = sp.solve(ecs,coefs)\n",
        "sols"
      ]
    },
    {
      "cell_type": "markdown",
      "metadata": {},
      "source": [
        "Finalmente la fórmula de Gauss-Chebyshev calculada es:"
      ]
    },
    {
      "cell_type": "code",
      "execution_count": 76,
      "metadata": {},
      "outputs": [
        {
          "data": {
            "text/latex": [
              "$\\displaystyle \\frac{\\pi \\left(f{\\left(0 \\right)} + f{\\left(- \\frac{\\sqrt{3}}{2} \\right)} + f{\\left(\\frac{\\sqrt{3}}{2} \\right)}\\right)}{3}$"
            ],
            "text/plain": [
              "pi*(f(0) + f(-sqrt(3)/2) + f(sqrt(3)/2))/3"
            ]
          },
          "execution_count": 76,
          "metadata": {},
          "output_type": "execute_result"
        }
      ],
      "source": [
        "sum([ci*f(xi) for ci,xi in zip(sols.values(), nodos)]).factor()"
      ]
    },
    {
      "cell_type": "markdown",
      "metadata": {
        "id": "motGABvA-mzL"
      },
      "source": [
        "### 2.2.8. Otras posibilidades para la integración numérica usando algunos módulos de Python 🐍"
      ]
    },
    {
      "cell_type": "markdown",
      "metadata": {
        "id": "Woaob-yO-mzL"
      },
      "source": [
        "*Python* tiene también  varias órdenes para la integración de funciones, ya sea de manera simbólica o numérica. Cada una de ellas vendrá implementada en cierto módulo concreto de Python, por lo que será conveniente saber dónde y cómo deberemos cargar y usar dichas órdenes.\n",
        "\n",
        "Por ejemplo, para la integración simbólica usaremos evidentemente la orden correspondiente incorporada en el módulo `SymPy`. Esta órden es `integrate`, que ya la hemos utilizado anteriormente. A continuación vemos algunos otros ejemplos de uso, tanto para obtener integrales indefinidas (primitivas) como integrales definidas, de forma exacta siempre que sea posible. Nótese que esta orden requiere que la función tenga una primitiva, a la que aplica la regla de Barrow en el caso de tratarse de una integral definida."
      ]
    },
    {
      "cell_type": "code",
      "execution_count": 77,
      "metadata": {
        "id": "x4Zenwfv-mzL"
      },
      "outputs": [],
      "source": [
        "x = sp.Symbol('x')"
      ]
    },
    {
      "cell_type": "code",
      "execution_count": 78,
      "metadata": {
        "colab": {
          "base_uri": "https://localhost:8080/"
        },
        "id": "O2etP1jZ-mzL",
        "outputId": "bc450f11-1f9a-40c6-dd79-366e2033d481"
      },
      "outputs": [
        {
          "data": {
            "text/latex": [
              "$\\displaystyle \\frac{x^{2}}{2}$"
            ],
            "text/plain": [
              "x**2/2"
            ]
          },
          "execution_count": 78,
          "metadata": {},
          "output_type": "execute_result"
        }
      ],
      "source": [
        "# Integral indefinida\n",
        "sp.integrate(x,x)"
      ]
    },
    {
      "cell_type": "code",
      "execution_count": 79,
      "metadata": {},
      "outputs": [
        {
          "data": {
            "text/latex": [
              "$\\displaystyle \\frac{1}{2}$"
            ],
            "text/plain": [
              "1/2"
            ]
          },
          "execution_count": 79,
          "metadata": {},
          "output_type": "execute_result"
        }
      ],
      "source": [
        "# Integral definida\n",
        "sp.integrate(x,[x,0,1])"
      ]
    },
    {
      "cell_type": "code",
      "execution_count": 80,
      "metadata": {
        "colab": {
          "base_uri": "https://localhost:8080/"
        },
        "id": "HL73O4AR-mzM",
        "outputId": "513835af-8d62-42b1-d73c-635c9eeb5cc7"
      },
      "outputs": [
        {
          "data": {
            "text/plain": [
              "(x**3/3, 1/3)"
            ]
          },
          "execution_count": 80,
          "metadata": {},
          "output_type": "execute_result"
        }
      ],
      "source": [
        "sp.integrate(x**2,x),sp.integrate(x**2,[x,0,1])"
      ]
    },
    {
      "cell_type": "code",
      "execution_count": 81,
      "metadata": {
        "colab": {
          "base_uri": "https://localhost:8080/"
        },
        "id": "xJxSSmB--mzM",
        "outputId": "c2ba5d5c-f74c-4b9e-b4f9-5baaaf31969f"
      },
      "outputs": [
        {
          "data": {
            "text/plain": [
              "(7/4, 1.75000000000000)"
            ]
          },
          "execution_count": 81,
          "metadata": {},
          "output_type": "execute_result"
        }
      ],
      "source": [
        "# Nótese aquí el efecto de indicar alguno de los límites\n",
        "# de integración con el punto decimal\n",
        "sp.integrate(x**3-x+2,[x,0,1]),sp.integrate(x**3-x+2,[x,0,1.])"
      ]
    },
    {
      "cell_type": "markdown",
      "metadata": {},
      "source": [
        "Si intentamos integrar una función que no tiene primitiva"
      ]
    },
    {
      "cell_type": "code",
      "execution_count": 82,
      "metadata": {
        "colab": {
          "base_uri": "https://localhost:8080/",
          "height": 54
        },
        "id": "YrnXtUok-mzM",
        "outputId": "3a13fd00-fbe8-4a28-ad54-a9cdff1629aa"
      },
      "outputs": [
        {
          "data": {
            "text/latex": [
              "$\\displaystyle \\frac{\\sqrt{\\pi} \\operatorname{erfi}{\\left(x \\right)}}{2}$"
            ],
            "text/plain": [
              "sqrt(pi)*erfi(x)/2"
            ]
          },
          "execution_count": 82,
          "metadata": {},
          "output_type": "execute_result"
        }
      ],
      "source": [
        "sp.integrate(sp.exp(x**2),x)"
      ]
    },
    {
      "cell_type": "markdown",
      "metadata": {},
      "source": [
        "[¿Qué es eso de erfi?](https://docs.sympy.org/latest/modules/functions/special.html#sympy.functions.special.error_functions.erfi)"
      ]
    },
    {
      "cell_type": "code",
      "execution_count": 83,
      "metadata": {},
      "outputs": [
        {
          "name": "stdout",
          "output_type": "stream",
          "text": [
            "\u001b[31mInit signature:\u001b[39m sp.erfi(z)\n",
            "\u001b[31mDocstring:\u001b[39m     \n",
            "Imaginary error function.\n",
            "\n",
            "Explanation\n",
            "===========\n",
            "\n",
            "The function erfi is defined as:\n",
            "\n",
            ".. math ::\n",
            "    \\mathrm{erfi}(x) = \\frac{2}{\\sqrt{\\pi}} \\int_0^x e^{t^2} \\mathrm{d}t\n",
            "\n",
            "Examples\n",
            "========\n",
            "\n",
            ">>> from sympy import I, oo, erfi\n",
            ">>> from sympy.abc import z\n",
            "\n",
            "Several special values are known:\n",
            "\n",
            ">>> erfi(0)\n",
            "0\n",
            ">>> erfi(oo)\n",
            "oo\n",
            ">>> erfi(-oo)\n",
            "-oo\n",
            ">>> erfi(I*oo)\n",
            "I\n",
            ">>> erfi(-I*oo)\n",
            "-I\n",
            "\n",
            "In general one can pull out factors of -1 and $I$ from the argument:\n",
            "\n",
            ">>> erfi(-z)\n",
            "-erfi(z)\n",
            "\n",
            ">>> from sympy import conjugate\n",
            ">>> conjugate(erfi(z))\n",
            "erfi(conjugate(z))\n",
            "\n",
            "Differentiation with respect to $z$ is supported:\n",
            "\n",
            ">>> from sympy import diff\n",
            ">>> diff(erfi(z), z)\n",
            "2*exp(z**2)/sqrt(pi)\n",
            "\n",
            "We can numerically evaluate the imaginary error function to arbitrary\n",
            "precision on the whole complex plane:\n",
            "\n",
            ">>> erfi(2).evalf(30)\n",
            "18.5648024145755525987042919132\n",
            "\n",
            ">>> erfi(-2*I).evalf(30)\n",
            "-0.995322265018952734162069256367*I\n",
            "\n",
            "See Also\n",
            "========\n",
            "\n",
            "erf: Gaussian error function.\n",
            "erfc: Complementary error function.\n",
            "erf2: Two-argument error function.\n",
            "erfinv: Inverse error function.\n",
            "erfcinv: Inverse Complementary error function.\n",
            "erf2inv: Inverse two-argument error function.\n",
            "\n",
            "References\n",
            "==========\n",
            "\n",
            ".. [1] https://en.wikipedia.org/wiki/Error_function\n",
            ".. [2] https://mathworld.wolfram.com/Erfi.html\n",
            ".. [3] https://functions.wolfram.com/GammaBetaErf/Erfi\n",
            "\u001b[31mFile:\u001b[39m           c:\\users\\juana\\appdata\\local\\programs\\python\\python312\\lib\\site-packages\\sympy\\functions\\special\\error_functions.py\n",
            "\u001b[31mType:\u001b[39m           FunctionClass\n",
            "\u001b[31mSubclasses:\u001b[39m     "
          ]
        }
      ],
      "source": [
        "?sp.erfi"
      ]
    },
    {
      "cell_type": "code",
      "execution_count": 84,
      "metadata": {
        "colab": {
          "base_uri": "https://localhost:8080/",
          "height": 37
        },
        "id": "P_MxYmyZ-mzM",
        "outputId": "341db1e3-6924-4146-ec21-5f8ec555d6df"
      },
      "outputs": [
        {
          "data": {
            "text/latex": [
              "$\\displaystyle \\sqrt{\\pi}$"
            ],
            "text/plain": [
              "sqrt(pi)"
            ]
          },
          "execution_count": 84,
          "metadata": {},
          "output_type": "execute_result"
        }
      ],
      "source": [
        "sp.integrate(sp.exp(-x**2),[x,-sp.oo,sp.oo])"
      ]
    },
    {
      "cell_type": "code",
      "execution_count": 85,
      "metadata": {
        "colab": {
          "base_uri": "https://localhost:8080/",
          "height": 73
        },
        "id": "-mXh62cX-mzN",
        "outputId": "e6156bad-52f5-4745-990d-96cac001c8f1"
      },
      "outputs": [
        {
          "data": {
            "text/latex": [
              "$\\displaystyle \\frac{\\sqrt{2} \\sqrt{\\pi} C\\left(\\frac{\\sqrt{2} x}{\\sqrt{\\pi}}\\right) \\Gamma\\left(\\frac{1}{4}\\right)}{8 \\Gamma\\left(\\frac{5}{4}\\right)}$"
            ],
            "text/plain": [
              "sqrt(2)*sqrt(pi)*fresnelc(sqrt(2)*x/sqrt(pi))*gamma(1/4)/(8*gamma(5/4))"
            ]
          },
          "execution_count": 85,
          "metadata": {},
          "output_type": "execute_result"
        }
      ],
      "source": [
        "sp.integrate(sp.cos(x**2),x)"
      ]
    },
    {
      "cell_type": "markdown",
      "metadata": {},
      "source": [
        "[¿De donde sale esa C?](https://docs.sympy.org/latest/modules/functions/special.html#sympy.functions.special.error_functions.fresnelc)"
      ]
    },
    {
      "cell_type": "code",
      "execution_count": 86,
      "metadata": {},
      "outputs": [
        {
          "name": "stdout",
          "output_type": "stream",
          "text": [
            "\u001b[31mInit signature:\u001b[39m sp.fresnelc(z)\n",
            "\u001b[31mDocstring:\u001b[39m     \n",
            "Fresnel integral C.\n",
            "\n",
            "Explanation\n",
            "===========\n",
            "\n",
            "This function is defined by\n",
            "\n",
            ".. math:: \\operatorname{C}(z) = \\int_0^z \\cos{\\frac{\\pi}{2} t^2} \\mathrm{d}t.\n",
            "\n",
            "It is an entire function.\n",
            "\n",
            "Examples\n",
            "========\n",
            "\n",
            ">>> from sympy import I, oo, fresnelc\n",
            ">>> from sympy.abc import z\n",
            "\n",
            "Several special values are known:\n",
            "\n",
            ">>> fresnelc(0)\n",
            "0\n",
            ">>> fresnelc(oo)\n",
            "1/2\n",
            ">>> fresnelc(-oo)\n",
            "-1/2\n",
            ">>> fresnelc(I*oo)\n",
            "I/2\n",
            ">>> fresnelc(-I*oo)\n",
            "-I/2\n",
            "\n",
            "In general one can pull out factors of -1 and $i$ from the argument:\n",
            "\n",
            ">>> fresnelc(-z)\n",
            "-fresnelc(z)\n",
            ">>> fresnelc(I*z)\n",
            "I*fresnelc(z)\n",
            "\n",
            "The Fresnel C integral obeys the mirror symmetry\n",
            "$\\overline{C(z)} = C(\\bar{z})$:\n",
            "\n",
            ">>> from sympy import conjugate\n",
            ">>> conjugate(fresnelc(z))\n",
            "fresnelc(conjugate(z))\n",
            "\n",
            "Differentiation with respect to $z$ is supported:\n",
            "\n",
            ">>> from sympy import diff\n",
            ">>> diff(fresnelc(z), z)\n",
            "cos(pi*z**2/2)\n",
            "\n",
            "Defining the Fresnel functions via an integral:\n",
            "\n",
            ">>> from sympy import integrate, pi, cos, expand_func\n",
            ">>> integrate(cos(pi*z**2/2), z)\n",
            "fresnelc(z)*gamma(1/4)/(4*gamma(5/4))\n",
            ">>> expand_func(integrate(cos(pi*z**2/2), z))\n",
            "fresnelc(z)\n",
            "\n",
            "We can numerically evaluate the Fresnel integral to arbitrary precision\n",
            "on the whole complex plane:\n",
            "\n",
            ">>> fresnelc(2).evalf(30)\n",
            "0.488253406075340754500223503357\n",
            "\n",
            ">>> fresnelc(-2*I).evalf(30)\n",
            "-0.488253406075340754500223503357*I\n",
            "\n",
            "See Also\n",
            "========\n",
            "\n",
            "fresnels: Fresnel sine integral.\n",
            "\n",
            "References\n",
            "==========\n",
            "\n",
            ".. [1] https://en.wikipedia.org/wiki/Fresnel_integral\n",
            ".. [2] https://dlmf.nist.gov/7\n",
            ".. [3] https://mathworld.wolfram.com/FresnelIntegrals.html\n",
            ".. [4] https://functions.wolfram.com/GammaBetaErf/FresnelC\n",
            ".. [5] The converging factors for the fresnel integrals\n",
            "        by John W. Wrench Jr. and Vicki Alley\n",
            "\u001b[31mFile:\u001b[39m           c:\\users\\juana\\appdata\\local\\programs\\python\\python312\\lib\\site-packages\\sympy\\functions\\special\\error_functions.py\n",
            "\u001b[31mType:\u001b[39m           FunctionClass\n",
            "\u001b[31mSubclasses:\u001b[39m     "
          ]
        }
      ],
      "source": [
        "sp.fresnelc?"
      ]
    },
    {
      "cell_type": "code",
      "execution_count": 87,
      "metadata": {
        "colab": {
          "base_uri": "https://localhost:8080/",
          "height": 73
        },
        "id": "1pcVJy1a-mzN",
        "outputId": "cb56ddf3-6143-4fba-fba6-76320acc267b"
      },
      "outputs": [
        {
          "data": {
            "text/latex": [
              "$\\displaystyle \\frac{\\sqrt{2} \\sqrt{\\pi} C\\left(\\frac{\\sqrt{2}}{\\sqrt{\\pi}}\\right) \\Gamma\\left(\\frac{1}{4}\\right)}{8 \\Gamma\\left(\\frac{5}{4}\\right)}$"
            ],
            "text/plain": [
              "sqrt(2)*sqrt(pi)*fresnelc(sqrt(2)/sqrt(pi))*gamma(1/4)/(8*gamma(5/4))"
            ]
          },
          "execution_count": 87,
          "metadata": {},
          "output_type": "execute_result"
        }
      ],
      "source": [
        "sp.integrate(sp.cos(x**2),[x,0,1])"
      ]
    },
    {
      "cell_type": "markdown",
      "metadata": {
        "id": "ud2-zyr4-mzQ"
      },
      "source": [
        "Por otro lado estarían las órdenes específicas para la integración numérica, entre las que resaltamos la órden [`quad`](https://docs.scipy.org/doc/scipy/reference/generated/scipy.integrate.quad.html) para la integración de funciones de una variable. Existen las correspondientes versiones para funciones de dos y tres variables ([`dblquad`](https://docs.scipy.org/doc/scipy/reference/generated/scipy.integrate.dblquad.html#scipy.integrate.dblquad) y [`tplquad`](https://docs.scipy.org/doc/scipy/reference/generated/scipy.integrate.tplquad.html#scipy.integrate.tplquad)) que nos permitirán aproximar numéricamente integrales dobles y triples, respectivamente. Todas ellas se encuentran implementadas dentro del submódulo `integrate` del módulo `SciPy` y tendremos que cargarlas previamente para poder usarlas."
      ]
    },
    {
      "cell_type": "code",
      "execution_count": 88,
      "metadata": {
        "id": "BNT3_yCO-mzQ"
      },
      "outputs": [],
      "source": [
        "from scipy.integrate import quad, dblquad, tplquad"
      ]
    },
    {
      "cell_type": "markdown",
      "metadata": {
        "id": "78tFKRzy-mzQ"
      },
      "source": [
        "Empecemos con la orden `quad`, que nos permitirá aproximar la integral definida de una función real de variable real en un intervalo determinado. Así pues, esta orden lleva programada una integración numérica adaptativa que puede en principio ser aplicada a cualquier función definida y acotada en un intervalo $[a,b]$.\n",
        "Por otro lado, tiene bastantes argumentos opcionales que pueden ser usados para afinar mucho más en el cálculo de dicha aproximación numérica."
      ]
    },
    {
      "cell_type": "code",
      "execution_count": 89,
      "metadata": {
        "id": "5abvbvdI-mzQ"
      },
      "outputs": [
        {
          "name": "stdout",
          "output_type": "stream",
          "text": [
            "\u001b[31mSignature:\u001b[39m\n",
            "quad(\n",
            "    func,\n",
            "    a,\n",
            "    b,\n",
            "    args=(),\n",
            "    full_output=\u001b[32m0\u001b[39m,\n",
            "    epsabs=\u001b[32m1.49e-08\u001b[39m,\n",
            "    epsrel=\u001b[32m1.49e-08\u001b[39m,\n",
            "    limit=\u001b[32m50\u001b[39m,\n",
            "    points=\u001b[38;5;28;01mNone\u001b[39;00m,\n",
            "    weight=\u001b[38;5;28;01mNone\u001b[39;00m,\n",
            "    wvar=\u001b[38;5;28;01mNone\u001b[39;00m,\n",
            "    wopts=\u001b[38;5;28;01mNone\u001b[39;00m,\n",
            "    maxp1=\u001b[32m50\u001b[39m,\n",
            "    limlst=\u001b[32m50\u001b[39m,\n",
            "    complex_func=\u001b[38;5;28;01mFalse\u001b[39;00m,\n",
            ")\n",
            "\u001b[31mDocstring:\u001b[39m\n",
            "Compute a definite integral.\n",
            "\n",
            "Integrate func from `a` to `b` (possibly infinite interval) using a\n",
            "technique from the Fortran library QUADPACK.\n",
            "\n",
            "Parameters\n",
            "----------\n",
            "func : {function, scipy.LowLevelCallable}\n",
            "    A Python function or method to integrate. If `func` takes many\n",
            "    arguments, it is integrated along the axis corresponding to the\n",
            "    first argument.\n",
            "\n",
            "    If the user desires improved integration performance, then `f` may\n",
            "    be a `scipy.LowLevelCallable` with one of the signatures::\n",
            "\n",
            "        double func(double x)\n",
            "        double func(double x, void *user_data)\n",
            "        double func(int n, double *xx)\n",
            "        double func(int n, double *xx, void *user_data)\n",
            "\n",
            "    The ``user_data`` is the data contained in the `scipy.LowLevelCallable`.\n",
            "    In the call forms with ``xx``,  ``n`` is the length of the ``xx``\n",
            "    array which contains ``xx[0] == x`` and the rest of the items are\n",
            "    numbers contained in the ``args`` argument of quad.\n",
            "\n",
            "    In addition, certain ctypes call signatures are supported for\n",
            "    backward compatibility, but those should not be used in new code.\n",
            "a : float\n",
            "    Lower limit of integration (use -numpy.inf for -infinity).\n",
            "b : float\n",
            "    Upper limit of integration (use numpy.inf for +infinity).\n",
            "args : tuple, optional\n",
            "    Extra arguments to pass to `func`.\n",
            "full_output : int, optional\n",
            "    Non-zero to return a dictionary of integration information.\n",
            "    If non-zero, warning messages are also suppressed and the\n",
            "    message is appended to the output tuple.\n",
            "complex_func : bool, optional\n",
            "    Indicate if the function's (`func`) return type is real\n",
            "    (``complex_func=False``: default) or complex (``complex_func=True``).\n",
            "    In both cases, the function's argument is real.\n",
            "    If full_output is also non-zero, the `infodict`, `message`, and\n",
            "    `explain` for the real and complex components are returned in\n",
            "    a dictionary with keys \"real output\" and \"imag output\".\n",
            "\n",
            "Returns\n",
            "-------\n",
            "y : float\n",
            "    The integral of func from `a` to `b`.\n",
            "abserr : float\n",
            "    An estimate of the absolute error in the result.\n",
            "infodict : dict\n",
            "    A dictionary containing additional information.\n",
            "message\n",
            "    A convergence message.\n",
            "explain\n",
            "    Appended only with 'cos' or 'sin' weighting and infinite\n",
            "    integration limits, it contains an explanation of the codes in\n",
            "    infodict['ierlst']\n",
            "\n",
            "Other Parameters\n",
            "----------------\n",
            "epsabs : float or int, optional\n",
            "    Absolute error tolerance. Default is 1.49e-8. `quad` tries to obtain\n",
            "    an accuracy of ``abs(i-result) <= max(epsabs, epsrel*abs(i))``\n",
            "    where ``i`` = integral of `func` from `a` to `b`, and ``result`` is the\n",
            "    numerical approximation. See `epsrel` below.\n",
            "epsrel : float or int, optional\n",
            "    Relative error tolerance. Default is 1.49e-8.\n",
            "    If ``epsabs <= 0``, `epsrel` must be greater than both 5e-29\n",
            "    and ``50 * (machine epsilon)``. See `epsabs` above.\n",
            "limit : float or int, optional\n",
            "    An upper bound on the number of subintervals used in the adaptive\n",
            "    algorithm.\n",
            "points : (sequence of floats,ints), optional\n",
            "    A sequence of break points in the bounded integration interval\n",
            "    where local difficulties of the integrand may occur (e.g.,\n",
            "    singularities, discontinuities). The sequence does not have\n",
            "    to be sorted. Note that this option cannot be used in conjunction\n",
            "    with ``weight``.\n",
            "weight : float or int, optional\n",
            "    String indicating weighting function. Full explanation for this\n",
            "    and the remaining arguments can be found below.\n",
            "wvar : optional\n",
            "    Variables for use with weighting functions.\n",
            "wopts : optional\n",
            "    Optional input for reusing Chebyshev moments.\n",
            "maxp1 : float or int, optional\n",
            "    An upper bound on the number of Chebyshev moments.\n",
            "limlst : int, optional\n",
            "    Upper bound on the number of cycles (>=3) for use with a sinusoidal\n",
            "    weighting and an infinite end-point.\n",
            "\n",
            "See Also\n",
            "--------\n",
            "dblquad : double integral\n",
            "tplquad : triple integral\n",
            "nquad : n-dimensional integrals (uses `quad` recursively)\n",
            "fixed_quad : fixed-order Gaussian quadrature\n",
            "simpson : integrator for sampled data\n",
            "romb : integrator for sampled data\n",
            "scipy.special : for coefficients and roots of orthogonal polynomials\n",
            "\n",
            "Notes\n",
            "-----\n",
            "For valid results, the integral must converge; behavior for divergent\n",
            "integrals is not guaranteed.\n",
            "\n",
            "**Extra information for quad() inputs and outputs**\n",
            "\n",
            "If full_output is non-zero, then the third output argument\n",
            "(infodict) is a dictionary with entries as tabulated below. For\n",
            "infinite limits, the range is transformed to (0,1) and the\n",
            "optional outputs are given with respect to this transformed range.\n",
            "Let M be the input argument limit and let K be infodict['last'].\n",
            "The entries are:\n",
            "\n",
            "'neval'\n",
            "    The number of function evaluations.\n",
            "'last'\n",
            "    The number, K, of subintervals produced in the subdivision process.\n",
            "'alist'\n",
            "    A rank-1 array of length M, the first K elements of which are the\n",
            "    left end points of the subintervals in the partition of the\n",
            "    integration range.\n",
            "'blist'\n",
            "    A rank-1 array of length M, the first K elements of which are the\n",
            "    right end points of the subintervals.\n",
            "'rlist'\n",
            "    A rank-1 array of length M, the first K elements of which are the\n",
            "    integral approximations on the subintervals.\n",
            "'elist'\n",
            "    A rank-1 array of length M, the first K elements of which are the\n",
            "    moduli of the absolute error estimates on the subintervals.\n",
            "'iord'\n",
            "    A rank-1 integer array of length M, the first L elements of\n",
            "    which are pointers to the error estimates over the subintervals\n",
            "    with ``L=K`` if ``K<=M/2+2`` or ``L=M+1-K`` otherwise. Let I be the\n",
            "    sequence ``infodict['iord']`` and let E be the sequence\n",
            "    ``infodict['elist']``.  Then ``E[I[1]], ..., E[I[L]]`` forms a\n",
            "    decreasing sequence.\n",
            "\n",
            "If the input argument points is provided (i.e., it is not None),\n",
            "the following additional outputs are placed in the output\n",
            "dictionary. Assume the points sequence is of length P.\n",
            "\n",
            "'pts'\n",
            "    A rank-1 array of length P+2 containing the integration limits\n",
            "    and the break points of the intervals in ascending order.\n",
            "    This is an array giving the subintervals over which integration\n",
            "    will occur.\n",
            "'level'\n",
            "    A rank-1 integer array of length M (=limit), containing the\n",
            "    subdivision levels of the subintervals, i.e., if (aa,bb) is a\n",
            "    subinterval of ``(pts[1], pts[2])`` where ``pts[0]`` and ``pts[2]``\n",
            "    are adjacent elements of ``infodict['pts']``, then (aa,bb) has level l\n",
            "    if ``|bb-aa| = |pts[2]-pts[1]| * 2**(-l)``.\n",
            "'ndin'\n",
            "    A rank-1 integer array of length P+2. After the first integration\n",
            "    over the intervals (pts[1], pts[2]), the error estimates over some\n",
            "    of the intervals may have been increased artificially in order to\n",
            "    put their subdivision forward. This array has ones in slots\n",
            "    corresponding to the subintervals for which this happens.\n",
            "\n",
            "**Weighting the integrand**\n",
            "\n",
            "The input variables, *weight* and *wvar*, are used to weight the\n",
            "integrand by a select list of functions. Different integration\n",
            "methods are used to compute the integral with these weighting\n",
            "functions, and these do not support specifying break points. The\n",
            "possible values of weight and the corresponding weighting functions are.\n",
            "\n",
            "==========  ===================================   =====================\n",
            "``weight``  Weight function used                  ``wvar``\n",
            "==========  ===================================   =====================\n",
            "'cos'       cos(w*x)                              wvar = w\n",
            "'sin'       sin(w*x)                              wvar = w\n",
            "'alg'       g(x) = ((x-a)**alpha)*((b-x)**beta)   wvar = (alpha, beta)\n",
            "'alg-loga'  g(x)*log(x-a)                         wvar = (alpha, beta)\n",
            "'alg-logb'  g(x)*log(b-x)                         wvar = (alpha, beta)\n",
            "'alg-log'   g(x)*log(x-a)*log(b-x)                wvar = (alpha, beta)\n",
            "'cauchy'    1/(x-c)                               wvar = c\n",
            "==========  ===================================   =====================\n",
            "\n",
            "wvar holds the parameter w, (alpha, beta), or c depending on the weight\n",
            "selected. In these expressions, a and b are the integration limits.\n",
            "\n",
            "For the 'cos' and 'sin' weighting, additional inputs and outputs are\n",
            "available.\n",
            "\n",
            "For finite integration limits, the integration is performed using a\n",
            "Clenshaw-Curtis method which uses Chebyshev moments. For repeated\n",
            "calculations, these moments are saved in the output dictionary:\n",
            "\n",
            "'momcom'\n",
            "    The maximum level of Chebyshev moments that have been computed,\n",
            "    i.e., if ``M_c`` is ``infodict['momcom']`` then the moments have been\n",
            "    computed for intervals of length ``|b-a| * 2**(-l)``,\n",
            "    ``l=0,1,...,M_c``.\n",
            "'nnlog'\n",
            "    A rank-1 integer array of length M(=limit), containing the\n",
            "    subdivision levels of the subintervals, i.e., an element of this\n",
            "    array is equal to l if the corresponding subinterval is\n",
            "    ``|b-a|* 2**(-l)``.\n",
            "'chebmo'\n",
            "    A rank-2 array of shape (25, maxp1) containing the computed\n",
            "    Chebyshev moments. These can be passed on to an integration\n",
            "    over the same interval by passing this array as the second\n",
            "    element of the sequence wopts and passing infodict['momcom'] as\n",
            "    the first element.\n",
            "\n",
            "If one of the integration limits is infinite, then a Fourier integral is\n",
            "computed (assuming w neq 0). If full_output is 1 and a numerical error\n",
            "is encountered, besides the error message attached to the output tuple,\n",
            "a dictionary is also appended to the output tuple which translates the\n",
            "error codes in the array ``info['ierlst']`` to English messages. The\n",
            "output information dictionary contains the following entries instead of\n",
            "'last', 'alist', 'blist', 'rlist', and 'elist':\n",
            "\n",
            "'lst'\n",
            "    The number of subintervals needed for the integration (call it ``K_f``).\n",
            "'rslst'\n",
            "    A rank-1 array of length M_f=limlst, whose first ``K_f`` elements\n",
            "    contain the integral contribution over the interval\n",
            "    ``(a+(k-1)c, a+kc)`` where ``c = (2*floor(|w|) + 1) * pi / |w|``\n",
            "    and ``k=1,2,...,K_f``.\n",
            "'erlst'\n",
            "    A rank-1 array of length ``M_f`` containing the error estimate\n",
            "    corresponding to the interval in the same position in\n",
            "    ``infodict['rslist']``.\n",
            "'ierlst'\n",
            "    A rank-1 integer array of length ``M_f`` containing an error flag\n",
            "    corresponding to the interval in the same position in\n",
            "    ``infodict['rslist']``.  See the explanation dictionary (last entry\n",
            "    in the output tuple) for the meaning of the codes.\n",
            "\n",
            "\n",
            "**Details of QUADPACK level routines**\n",
            "\n",
            "`quad` calls routines from the FORTRAN library QUADPACK. This section\n",
            "provides details on the conditions for each routine to be called and a\n",
            "short description of each routine. The routine called depends on\n",
            "`weight`, `points` and the integration limits `a` and `b`.\n",
            "\n",
            "================  ==============  ==========  =====================\n",
            "QUADPACK routine  `weight`        `points`    infinite bounds\n",
            "================  ==============  ==========  =====================\n",
            "qagse             None            No          No\n",
            "qagie             None            No          Yes\n",
            "qagpe             None            Yes         No\n",
            "qawoe             'sin', 'cos'    No          No\n",
            "qawfe             'sin', 'cos'    No          either `a` or `b`\n",
            "qawse             'alg*'          No          No\n",
            "qawce             'cauchy'        No          No\n",
            "================  ==============  ==========  =====================\n",
            "\n",
            "The following provides a short description from [1]_ for each\n",
            "routine.\n",
            "\n",
            "qagse\n",
            "    is an integrator based on globally adaptive interval\n",
            "    subdivision in connection with extrapolation, which will\n",
            "    eliminate the effects of integrand singularities of\n",
            "    several types.\n",
            "qagie\n",
            "    handles integration over infinite intervals. The infinite range is\n",
            "    mapped onto a finite interval and subsequently the same strategy as\n",
            "    in ``QAGS`` is applied.\n",
            "qagpe\n",
            "    serves the same purposes as QAGS, but also allows the\n",
            "    user to provide explicit information about the location\n",
            "    and type of trouble-spots i.e. the abscissae of internal\n",
            "    singularities, discontinuities and other difficulties of\n",
            "    the integrand function.\n",
            "qawoe\n",
            "    is an integrator for the evaluation of\n",
            "    :math:`\\int^b_a \\cos(\\omega x)f(x)dx` or\n",
            "    :math:`\\int^b_a \\sin(\\omega x)f(x)dx`\n",
            "    over a finite interval [a,b], where :math:`\\omega` and :math:`f`\n",
            "    are specified by the user. The rule evaluation component is based\n",
            "    on the modified Clenshaw-Curtis technique\n",
            "\n",
            "    An adaptive subdivision scheme is used in connection\n",
            "    with an extrapolation procedure, which is a modification\n",
            "    of that in ``QAGS`` and allows the algorithm to deal with\n",
            "    singularities in :math:`f(x)`.\n",
            "qawfe\n",
            "    calculates the Fourier transform\n",
            "    :math:`\\int^\\infty_a \\cos(\\omega x)f(x)dx` or\n",
            "    :math:`\\int^\\infty_a \\sin(\\omega x)f(x)dx`\n",
            "    for user-provided :math:`\\omega` and :math:`f`. The procedure of\n",
            "    ``QAWO`` is applied on successive finite intervals, and convergence\n",
            "    acceleration by means of the :math:`\\varepsilon`-algorithm is applied\n",
            "    to the series of integral approximations.\n",
            "qawse\n",
            "    approximate :math:`\\int^b_a w(x)f(x)dx`, with :math:`a < b` where\n",
            "    :math:`w(x) = (x-a)^{\\alpha}(b-x)^{\\beta}v(x)` with\n",
            "    :math:`\\alpha,\\beta > -1`, where :math:`v(x)` may be one of the\n",
            "    following functions: :math:`1`, :math:`\\log(x-a)`, :math:`\\log(b-x)`,\n",
            "    :math:`\\log(x-a)\\log(b-x)`.\n",
            "\n",
            "    The user specifies :math:`\\alpha`, :math:`\\beta` and the type of the\n",
            "    function :math:`v`. A globally adaptive subdivision strategy is\n",
            "    applied, with modified Clenshaw-Curtis integration on those\n",
            "    subintervals which contain `a` or `b`.\n",
            "qawce\n",
            "    compute :math:`\\int^b_a f(x) / (x-c)dx` where the integral must be\n",
            "    interpreted as a Cauchy principal value integral, for user specified\n",
            "    :math:`c` and :math:`f`. The strategy is globally adaptive. Modified\n",
            "    Clenshaw-Curtis integration is used on those intervals containing the\n",
            "    point :math:`x = c`.\n",
            "\n",
            "**Integration of Complex Function of a Real Variable**\n",
            "\n",
            "A complex valued function, :math:`f`, of a real variable can be written as\n",
            ":math:`f = g + ih`.  Similarly, the integral of :math:`f` can be\n",
            "written as\n",
            "\n",
            ".. math::\n",
            "    \\int_a^b f(x) dx = \\int_a^b g(x) dx + i\\int_a^b h(x) dx\n",
            "\n",
            "assuming that the integrals of :math:`g` and :math:`h` exist\n",
            "over the interval :math:`[a,b]` [2]_. Therefore, ``quad`` integrates\n",
            "complex-valued functions by integrating the real and imaginary components\n",
            "separately.\n",
            "\n",
            "\n",
            "References\n",
            "----------\n",
            "\n",
            ".. [1] Piessens, Robert; de Doncker-Kapenga, Elise;\n",
            "       Überhuber, Christoph W.; Kahaner, David (1983).\n",
            "       QUADPACK: A subroutine package for automatic integration.\n",
            "       Springer-Verlag.\n",
            "       ISBN 978-3-540-12553-2.\n",
            "\n",
            ".. [2] McCullough, Thomas; Phillips, Keith (1973).\n",
            "       Foundations of Analysis in the Complex Plane.\n",
            "       Holt Rinehart Winston.\n",
            "       ISBN 0-03-086370-8\n",
            "\n",
            "Examples\n",
            "--------\n",
            "Calculate :math:`\\int^4_0 x^2 dx` and compare with an analytic result\n",
            "\n",
            ">>> from scipy import integrate\n",
            ">>> import numpy as np\n",
            ">>> x2 = lambda x: x**2\n",
            ">>> integrate.quad(x2, 0, 4)\n",
            "(21.333333333333332, 2.3684757858670003e-13)\n",
            ">>> print(4**3 / 3.)  # analytical result\n",
            "21.3333333333\n",
            "\n",
            "Calculate :math:`\\int^\\infty_0 e^{-x} dx`\n",
            "\n",
            ">>> invexp = lambda x: np.exp(-x)\n",
            ">>> integrate.quad(invexp, 0, np.inf)\n",
            "(1.0, 5.842605999138044e-11)\n",
            "\n",
            "Calculate :math:`\\int^1_0 a x \\,dx` for :math:`a = 1, 3`\n",
            "\n",
            ">>> f = lambda x, a: a*x\n",
            ">>> y, err = integrate.quad(f, 0, 1, args=(1,))\n",
            ">>> y\n",
            "0.5\n",
            ">>> y, err = integrate.quad(f, 0, 1, args=(3,))\n",
            ">>> y\n",
            "1.5\n",
            "\n",
            "Calculate :math:`\\int^1_0 x^2 + y^2 dx` with ctypes, holding\n",
            "y parameter as 1::\n",
            "\n",
            "    testlib.c =>\n",
            "        double func(int n, double args[n]){\n",
            "            return args[0]*args[0] + args[1]*args[1];}\n",
            "    compile to library testlib.*\n",
            "\n",
            "::\n",
            "\n",
            "   from scipy import integrate\n",
            "   import ctypes\n",
            "   lib = ctypes.CDLL('/home/.../testlib.*') #use absolute path\n",
            "   lib.func.restype = ctypes.c_double\n",
            "   lib.func.argtypes = (ctypes.c_int,ctypes.c_double)\n",
            "   integrate.quad(lib.func,0,1,(1))\n",
            "   #(1.3333333333333333, 1.4802973661668752e-14)\n",
            "   print((1.0**3/3.0 + 1.0) - (0.0**3/3.0 + 0.0)) #Analytic result\n",
            "   # 1.3333333333333333\n",
            "\n",
            "Be aware that pulse shapes and other sharp features as compared to the\n",
            "size of the integration interval may not be integrated correctly using\n",
            "this method. A simplified example of this limitation is integrating a\n",
            "y-axis reflected step function with many zero values within the integrals\n",
            "bounds.\n",
            "\n",
            ">>> y = lambda x: 1 if x<=0 else 0\n",
            ">>> integrate.quad(y, -1, 1)\n",
            "(1.0, 1.1102230246251565e-14)\n",
            ">>> integrate.quad(y, -1, 100)\n",
            "(1.0000000002199108, 1.0189464580163188e-08)\n",
            ">>> integrate.quad(y, -1, 10000)\n",
            "(0.0, 0.0)\n",
            "\u001b[31mFile:\u001b[39m      c:\\users\\juana\\appdata\\local\\programs\\python\\python312\\lib\\site-packages\\scipy\\integrate\\_quadpack_py.py\n",
            "\u001b[31mType:\u001b[39m      function"
          ]
        }
      ],
      "source": [
        "?quad"
      ]
    },
    {
      "cell_type": "code",
      "execution_count": 90,
      "metadata": {
        "id": "fCxSiiDO-mzQ"
      },
      "outputs": [],
      "source": [
        "def f(x):\n",
        "    \"\"\"función del integrando: x^2+1\"\"\"\n",
        "    return x**2+1"
      ]
    },
    {
      "cell_type": "code",
      "execution_count": 91,
      "metadata": {
        "colab": {
          "base_uri": "https://localhost:8080/"
        },
        "id": "n8aTWEvW-mzQ",
        "outputId": "da9a622c-0fd9-41cc-ebd2-cbb7579effed"
      },
      "outputs": [
        {
          "name": "stdout",
          "output_type": "stream",
          "text": [
            "valor aprox. de la integral = 1.3333333333333333,\n",
            "error estimado = 1.4802973661668752e-14\n"
          ]
        }
      ],
      "source": [
        "# No obstante, su uso básico sería el siguiente:\n",
        "# f sería la función del integrando,\n",
        "# que debería estar definida previamente\n",
        "# a no ser que usemos una función 'lambda'\n",
        "\n",
        "x_min = 0 # el límite inferior en la variable de integración x\n",
        "x_max = 1 # el límite superior en la variable de integración x\n",
        "\n",
        "val, abserr = quad(f, x_min, x_max)\n",
        "\n",
        "# en las variables val y abserr almacenaremos el valor aproximado\n",
        "# de la integral, así como la estimación del error cometido en\n",
        "# valor absoluto\n",
        "\n",
        "print (f\"valor aprox. de la integral = {val},\\nerror estimado = {abserr}\")"
      ]
    },
    {
      "cell_type": "markdown",
      "metadata": {},
      "source": [
        "> **Ejercicio 10:** Calcule la misma integral del ejercicio 9 pero utilizando la orden `quad` y compare los resultados de la integración Romberg y adaptativa manuales con los de la orden `quad`."
      ]
    },
    {
      "cell_type": "code",
      "execution_count": 92,
      "metadata": {},
      "outputs": [
        {
          "name": "stdout",
          "output_type": "stream",
          "text": [
            "Fin de la práctica 🏁\n"
          ]
        }
      ],
      "source": [
        "print(\"Fin de la práctica 🏁\")"
      ]
    }
  ],
  "metadata": {
    "anaconda-cloud": {},
    "colab": {
      "collapsed_sections": [
        "li7oJ-pu-mzD"
      ],
      "provenance": []
    },
    "kernelspec": {
      "display_name": ".venv",
      "language": "python",
      "name": "python3"
    },
    "language_info": {
      "codemirror_mode": {
        "name": "ipython",
        "version": 3
      },
      "file_extension": ".py",
      "mimetype": "text/x-python",
      "name": "python",
      "nbconvert_exporter": "python",
      "pygments_lexer": "ipython3",
      "version": "3.12.3"
    }
  },
  "nbformat": 4,
  "nbformat_minor": 0
}
