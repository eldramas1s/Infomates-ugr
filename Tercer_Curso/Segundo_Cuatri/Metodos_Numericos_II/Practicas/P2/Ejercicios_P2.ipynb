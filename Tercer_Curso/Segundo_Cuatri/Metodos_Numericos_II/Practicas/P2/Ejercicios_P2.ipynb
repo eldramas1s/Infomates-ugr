{
 "cells": [
  {
   "cell_type": "markdown",
   "id": "663e9d6e",
   "metadata": {},
   "source": [
    "# Práctica 2\n",
    "\n",
    "## Lucas Hidalgo Herrera"
   ]
  },
  {
   "cell_type": "markdown",
   "id": "50f9e854",
   "metadata": {},
   "source": [
    "Se importarán todos los paquetes generales en la siguiente celdad de código, si hay alguno necesario para un ejercicio que no se encuentre ahí, se añadirá al ejercicio."
   ]
  },
  {
   "cell_type": "code",
   "execution_count": 154,
   "id": "5778e6e0",
   "metadata": {},
   "outputs": [],
   "source": [
    "import numpy as np\n",
    "import sympy as sp\n",
    "import importlib as ilib\n",
    "import matplotlib.pyplot as plt\n",
    "import derivacion_numerica as dn\n",
    "import integracion_numerica as intn"
   ]
  },
  {
   "cell_type": "markdown",
   "id": "442a4800",
   "metadata": {},
   "source": [
    "### Ejercicio 1\n",
    "> Pruebe ahora a repetir el mismo proceso, pero con los datos de interpolación  \n",
    "> \n",
    "> a) $(a-h,f(a-h))$ y $(a,f(a))$,\n",
    "> \n",
    "> b) $(a-h,f(a-h))$ y $(a+h,f(a+h))$. \n",
    "> \n",
    "> ¿Qué fórmulas de derivación numérica se obtiene en cada caso?"
   ]
  },
  {
   "cell_type": "markdown",
   "id": "bd98f2e8",
   "metadata": {},
   "source": [
    "Procederemos de la siguiente forma, definimos los símbolos y funciones simbólicas que sean necesarias así como los valores de x que necesitemos para realizar la obtención de la fórmula.\n",
    "\n",
    "A continuación, procederemos a obtener el polinomio de interpolación y a derivar la expresión del mismo."
   ]
  },
  {
   "cell_type": "code",
   "execution_count": 155,
   "id": "08e770f9",
   "metadata": {},
   "outputs": [
    {
     "data": {
      "text/plain": [
       "[a - h, a]"
      ]
     },
     "execution_count": 155,
     "metadata": {},
     "output_type": "execute_result"
    }
   ],
   "source": [
    "f = sp.Function('f')                # Crea función simbólica\n",
    "a,h = sp.symbols('a,h')\n",
    "x_values = [a-h,a]                  # Intervalo simbólico, lista que contiene variables simbólicas\n",
    "x_values"
   ]
  },
  {
   "cell_type": "code",
   "execution_count": 156,
   "id": "4befab9f",
   "metadata": {},
   "outputs": [
    {
     "data": {
      "text/plain": [
       "[f(a - h), f(a)]"
      ]
     },
     "execution_count": 156,
     "metadata": {},
     "output_type": "execute_result"
    }
   ],
   "source": [
    "y_values = [f(x_values[0]),f(x_values[1])]\n",
    "y_values"
   ]
  },
  {
   "cell_type": "code",
   "execution_count": 157,
   "id": "7308b065",
   "metadata": {},
   "outputs": [
    {
     "data": {
      "text/latex": [
       "$\\displaystyle f{\\left(a - h \\right)} + \\frac{\\left(f{\\left(a \\right)} - f{\\left(a - h \\right)}\\right) \\left(- a + h + x\\right)}{h}$"
      ],
      "text/plain": [
       "f(a - h) + (f(a) - f(a - h))*(-a + h + x)/h"
      ]
     },
     "execution_count": 157,
     "metadata": {},
     "output_type": "execute_result"
    }
   ],
   "source": [
    "x = sp.Symbol('x')  # utilizaremos x como variable simbólica\n",
    "p = (y_values[1]-y_values[0])/(x_values[1]-x_values[0])*(x-x_values[0])+y_values[0]\n",
    "p  # este sería el polinomio interpolador de grado $1$, ecuación recta tangente con derivada aproximada (f(b)-f(a))/(b-a)"
   ]
  },
  {
   "cell_type": "code",
   "execution_count": 158,
   "id": "b4a3e991",
   "metadata": {},
   "outputs": [
    {
     "data": {
      "text/plain": [
       "(f(a - h), f(a))"
      ]
     },
     "execution_count": 158,
     "metadata": {},
     "output_type": "execute_result"
    }
   ],
   "source": [
    "p.subs({x:x_values[0]}),p.subs({x:x_values[1]}) #  Comprobamos que el polinomio interpolador pasa por los puntos (a,f(a)) y (a+h,f(a+h))"
   ]
  },
  {
   "cell_type": "code",
   "execution_count": 159,
   "id": "9f2c3d4b",
   "metadata": {},
   "outputs": [
    {
     "data": {
      "text/latex": [
       "$\\displaystyle \\frac{f{\\left(a \\right)} - f{\\left(a - h \\right)}}{h}$"
      ],
      "text/plain": [
       "(f(a) - f(a - h))/h"
      ]
     },
     "execution_count": 159,
     "metadata": {},
     "output_type": "execute_result"
    }
   ],
   "source": [
    "sp.diff(p,x)  # Derivamos el polinomio interpolador"
   ]
  },
  {
   "cell_type": "markdown",
   "id": "421751bc",
   "metadata": {},
   "source": [
    "Por tanto, nuestra fómula de interpolación es:\n",
    "$$\\frac{f(a)-f(a-h)}{h}$$\n",
    "Es decir, la **diferencia regresiva**."
   ]
  },
  {
   "cell_type": "markdown",
   "id": "1ae303c1",
   "metadata": {},
   "source": [
    "Procedemos de la misma forma con el segundo apartado."
   ]
  },
  {
   "cell_type": "code",
   "execution_count": 160,
   "id": "dbfd3061",
   "metadata": {},
   "outputs": [
    {
     "data": {
      "text/plain": [
       "[a - h, a + h]"
      ]
     },
     "execution_count": 160,
     "metadata": {},
     "output_type": "execute_result"
    }
   ],
   "source": [
    "x_values = [a-h,a+h]                  # Intervalo simbólico, lista que contiene variables simbólicas\n",
    "x_values"
   ]
  },
  {
   "cell_type": "code",
   "execution_count": 161,
   "id": "38cac2f5",
   "metadata": {},
   "outputs": [
    {
     "data": {
      "text/plain": [
       "[f(a - h), f(a + h)]"
      ]
     },
     "execution_count": 161,
     "metadata": {},
     "output_type": "execute_result"
    }
   ],
   "source": [
    "y_values = [f(x_values[0]),f(x_values[1])]\n",
    "y_values"
   ]
  },
  {
   "cell_type": "code",
   "execution_count": 162,
   "id": "b0910659",
   "metadata": {},
   "outputs": [
    {
     "data": {
      "text/latex": [
       "$\\displaystyle f{\\left(a - h \\right)} + \\frac{\\left(- f{\\left(a - h \\right)} + f{\\left(a + h \\right)}\\right) \\left(- a + h + x\\right)}{2 h}$"
      ],
      "text/plain": [
       "f(a - h) + (-f(a - h) + f(a + h))*(-a + h + x)/(2*h)"
      ]
     },
     "execution_count": 162,
     "metadata": {},
     "output_type": "execute_result"
    }
   ],
   "source": [
    "x = sp.Symbol('x')  # utilizaremos x como variable simbólica\n",
    "p = (y_values[1]-y_values[0])/(x_values[1]-x_values[0])*(x-x_values[0])+y_values[0]\n",
    "p  # este sería el polinomio interpolador de grado $1$, ecuación recta tangente con derivada aproximada (f(b)-f(a))/(b-a)"
   ]
  },
  {
   "cell_type": "code",
   "execution_count": 163,
   "id": "8eb96599",
   "metadata": {},
   "outputs": [
    {
     "data": {
      "text/latex": [
       "$\\displaystyle \\frac{- f{\\left(a - h \\right)} + f{\\left(a + h \\right)}}{2 h}$"
      ],
      "text/plain": [
       "(-f(a - h) + f(a + h))/(2*h)"
      ]
     },
     "execution_count": 163,
     "metadata": {},
     "output_type": "execute_result"
    }
   ],
   "source": [
    "sp.diff(p,x)  # Derivamos el polinomio interpolador"
   ]
  },
  {
   "cell_type": "markdown",
   "id": "a224ba7f",
   "metadata": {},
   "source": [
    "Por tanto, nuestra fómula de interpolación es:\n",
    "$$\\frac{f(a+h)-f(a-h)}{2h}$$\n",
    "Es decir, la **diferencia centrada con dos nodos**."
   ]
  },
  {
   "cell_type": "markdown",
   "id": "2319e679",
   "metadata": {},
   "source": [
    "### Ejercicio 2\n",
    ">Codifica una función para calcular la fórmula de derivación de tipo interpolatorio obtenida al derivar el polinomio interpolador en una lista de nodos que acepte como argumento. Añade un argumento opcional que sea el orden de la derivada a calcular. Comprueba el correcto funcionamiento de esta función con los ejemplos mostrados hasta el momento."
   ]
  },
  {
   "cell_type": "markdown",
   "id": "ed0fd1e1",
   "metadata": {},
   "source": [
    "Vamos a probar la función del módulo *derivacion_numerica* con los ejemplos vistos:\n",
    "- Diferencia progresiva: $x\\_values=(a,a+h)$\n",
    "- Diferencia regresiva: $x\\_values=(a-h,a)$\n",
    "- Diferencia centrada con dos nodos: $x\\_values=(a-h,a+h)$\n",
    "- Diferencia centrada con tres nodos: $x\\_values=(a-h,a,a+h)$"
   ]
  },
  {
   "cell_type": "code",
   "execution_count": 164,
   "id": "b35b970c",
   "metadata": {},
   "outputs": [
    {
     "name": "stdout",
     "output_type": "stream",
     "text": [
      "Diferencia progresiva:  (-f(a) + f(a + h))/h\n",
      "Diferencia regresiva:  (f(a) - f(a - h))/h\n",
      "Diferencia centrada con dos nodos:  (-f(a - h) + f(a + h))/(2*h)\n",
      "Diferencia centrada con tres nodos:  (-f(a - h) + f(a + h))/(2*h)\n"
     ]
    }
   ],
   "source": [
    "f = sp.Function('f')                # Crea función simbólica\n",
    "a,h = sp.symbols('a,h')\n",
    "array_exp =[]\n",
    "\n",
    "x_values = [a,a+h]                  # Intervalo simbólico, lista que contiene variables simbólicas\n",
    "array_exp.append(dn.formulador(f,x_values,a,1))\n",
    "\n",
    "x_values = [a-h,a]                  # Intervalo simbólico, lista que contiene variables simbólicas\n",
    "array_exp.append(dn.formulador(f,x_values,a,1))\n",
    "\n",
    "x_values = [a-h,a+h]                  # Intervalo simbólico, lista que contiene variables simbólicas\n",
    "array_exp.append(dn.formulador(f,x_values,a,1))\n",
    "\n",
    "x_values = [a-h,a,a+h]                  # Intervalo simbólico, lista que contiene variables simbólicas\n",
    "array_exp.append(dn.formulador(f,x_values,a,1))\n",
    "\n",
    "print('Diferencia progresiva: ' ,array_exp[0])\n",
    "print('Diferencia regresiva: ' ,array_exp[1])\n",
    "print('Diferencia centrada con dos nodos: ' ,array_exp[2])\n",
    "print('Diferencia centrada con tres nodos: ' ,array_exp[3])"
   ]
  },
  {
   "cell_type": "markdown",
   "id": "9f1dc8bc",
   "metadata": {},
   "source": [
    "Por tanto, podemos ver que la función es correcta."
   ]
  },
  {
   "cell_type": "markdown",
   "id": "40fe8744",
   "metadata": {},
   "source": [
    "### Ejercicio 3\n",
    "> Repita este procedimiento con la fórmula para la segunda derivada\n",
    "> $$\n",
    "> f''(a) \\approx  \\frac{ - f{\\left(a - 2 h \\right)} + 16 f{\\left(a - h \\right)}- 30 f{\\left(a \\right)} + 16 f{\\left(a + h \\right)} - f{\\left(a + 2 h \\right)}}{12 h^{2}}\n",
    "> $$\n",
    "> e indique su orden de aproximación."
   ]
  },
  {
   "cell_type": "code",
   "execution_count": 165,
   "id": "256b6fd1",
   "metadata": {},
   "outputs": [
    {
     "data": {
      "text/latex": [
       "$\\displaystyle \\frac{- 30 g{\\left(a \\right)} - g{\\left(a - 2 h \\right)} + 16 g{\\left(a - h \\right)} + 16 g{\\left(a + h \\right)} - g{\\left(a + 2 h \\right)}}{12 h^{2}}$"
      ],
      "text/plain": [
       "(-30*g(a) - g(a - 2*h) + 16*g(a - h) + 16*g(a + h) - g(a + 2*h))/(12*h**2)"
      ]
     },
     "execution_count": 165,
     "metadata": {},
     "output_type": "execute_result"
    }
   ],
   "source": [
    "formula_der = lambda f: (-30*f(a)-f(a-2*h)+16*f(a-h)+16*f(a+h)-f(a+2*h))/(12*h**2) # fórmula derivada\n",
    "formula_der(sp.Function('g'))"
   ]
  },
  {
   "cell_type": "code",
   "execution_count": 166,
   "id": "089c5642",
   "metadata": {},
   "outputs": [
    {
     "data": {
      "text/plain": [
       "[0, 0, 2, 6*a, 12*a**2, 20*a**3, 30*a**4, 42*a**5, 56*a**6, 72*a**7]"
      ]
     },
     "execution_count": 166,
     "metadata": {},
     "output_type": "execute_result"
    }
   ],
   "source": [
    "exact_values =[sp.diff(x**i,x,2).subs({x:a}) for i in range(10)]    # Derivada segunda de x^i con i=0,...,9\n",
    "exact_values"
   ]
  },
  {
   "cell_type": "code",
   "execution_count": 167,
   "id": "be4f6f18",
   "metadata": {},
   "outputs": [
    {
     "data": {
      "text/plain": [
       "[0,\n",
       " 0,\n",
       " 2,\n",
       " 6*a,\n",
       " 12*a**2,\n",
       " 20*a**3,\n",
       " 30*a**4 - 8*h**4,\n",
       " 42*a**5 - 56*a*h**4,\n",
       " 56*a**6 - 224*a**2*h**4 - 40*h**6,\n",
       " 72*a**7 - 672*a**3*h**4 - 360*a*h**6]"
      ]
     },
     "execution_count": 167,
     "metadata": {},
     "output_type": "execute_result"
    }
   ],
   "source": [
    "approx_values =[formula_der(lambda x:x**i).simplify() for i in range(10)]\n",
    "approx_values"
   ]
  },
  {
   "cell_type": "code",
   "execution_count": 168,
   "id": "6f06d262",
   "metadata": {},
   "outputs": [
    {
     "data": {
      "text/plain": [
       "array([0, 0, 0, 0, 0, 0, -8*h**4, -56*a*h**4, -224*a**2*h**4 - 40*h**6,\n",
       "       -672*a**3*h**4 - 360*a*h**6], dtype=object)"
      ]
     },
     "execution_count": 168,
     "metadata": {},
     "output_type": "execute_result"
    }
   ],
   "source": [
    "np.array(approx_values) - np.array(exact_values)\n",
    "\n",
    "#? Qué diferencia hay entra lo de la practica y esto?"
   ]
  },
  {
   "cell_type": "code",
   "execution_count": 169,
   "id": "ef17b149",
   "metadata": {},
   "outputs": [
    {
     "name": "stdout",
     "output_type": "stream",
     "text": [
      "Diferencia entre el valor aproximado y el valor exacto de (x^0)'': 0\n",
      "Diferencia entre el valor aproximado y el valor exacto de (x^1)'': 0\n",
      "Diferencia entre el valor aproximado y el valor exacto de (x^2)'': 0\n",
      "Diferencia entre el valor aproximado y el valor exacto de (x^3)'': 0\n",
      "Diferencia entre el valor aproximado y el valor exacto de (x^4)'': 0\n",
      "Diferencia entre el valor aproximado y el valor exacto de (x^5)'': 0\n",
      "Diferencia entre el valor aproximado y el valor exacto de (x^6)'': -8*h**4\n",
      "Diferencia entre el valor aproximado y el valor exacto de (x^7)'': -56*a*h**4\n",
      "Diferencia entre el valor aproximado y el valor exacto de (x^8)'': -224*a**2*h**4 - 40*h**6\n",
      "Diferencia entre el valor aproximado y el valor exacto de (x^9)'': -672*a**3*h**4 - 360*a*h**6\n",
      "comprobación terminada; deduzca de aquí el grado de exactitud de la fórmula\n"
     ]
    }
   ],
   "source": [
    "for i in range(10):\n",
    "    print(f\"Diferencia entre el valor aproximado y el valor exacto de (x^{i})\\'\\': {approx_values[i]- exact_values[i]}\")\n",
    "print(\"comprobación terminada; deduzca de aquí el grado de exactitud de la fórmula\")"
   ]
  },
  {
   "cell_type": "markdown",
   "id": "d12a090e",
   "metadata": {},
   "source": [
    "Hablar sobre el grado de la fórmula"
   ]
  },
  {
   "cell_type": "code",
   "execution_count": 170,
   "id": "b8d27b19",
   "metadata": {},
   "outputs": [
    {
     "data": {
      "text/latex": [
       "$\\displaystyle f{\\left(a \\right)} + \\left(- a + x\\right) \\left. \\frac{d}{d \\xi_{1}} f{\\left(\\xi_{1} \\right)} \\right|_{\\substack{ \\xi_{1}=a }} + \\frac{\\left(- a + x\\right)^{2} \\left. \\frac{d^{2}}{d \\xi_{1}^{2}} f{\\left(\\xi_{1} \\right)} \\right|_{\\substack{ \\xi_{1}=a }}}{2} + \\frac{\\left(- a + x\\right)^{3} \\left. \\frac{d^{3}}{d \\xi_{1}^{3}} f{\\left(\\xi_{1} \\right)} \\right|_{\\substack{ \\xi_{1}=a }}}{6} + \\frac{\\left(- a + x\\right)^{4} \\left. \\frac{d^{4}}{d \\xi_{1}^{4}} f{\\left(\\xi_{1} \\right)} \\right|_{\\substack{ \\xi_{1}=a }}}{24} + O\\left(\\left(- a + x\\right)^{5}; x\\rightarrow a\\right)$"
      ],
      "text/plain": [
       "f(a) + (-a + x)*Subs(Derivative(f(_xi_1), _xi_1), _xi_1, a) + (-a + x)**2*Subs(Derivative(f(_xi_1), (_xi_1, 2)), _xi_1, a)/2 + (-a + x)**3*Subs(Derivative(f(_xi_1), (_xi_1, 3)), _xi_1, a)/6 + (-a + x)**4*Subs(Derivative(f(_xi_1), (_xi_1, 4)), _xi_1, a)/24 + O((-a + x)**5, (x, a))"
      ]
     },
     "execution_count": 170,
     "metadata": {},
     "output_type": "execute_result"
    }
   ],
   "source": [
    "n=5\n",
    "fseries = (f(x).series(x,a,n))#.removeO()    # Series de Taylor de f(z) en el punto z=a hasta orden n-1 sin incluir O(z^5)\n",
    "fseries"
   ]
  },
  {
   "cell_type": "code",
   "execution_count": 171,
   "id": "fb825b6c",
   "metadata": {},
   "outputs": [],
   "source": [
    "fmas    = fseries.subs({x:(a+h)})           # Polin. Taylor para x=a+h\n",
    "fmenos  = fseries.subs({x:(a-h)})           # Polin. Taylor para x=a-h\n",
    "f2mas  = fseries.subs({x:(a+2*h)})         # Polin. Taylor para x=a+2h\n",
    "f2menos= fseries.subs({x:(a-2*h)})         # Polin. Taylor para x=a-2h"
   ]
  },
  {
   "cell_type": "code",
   "execution_count": 172,
   "id": "27bd4453",
   "metadata": {},
   "outputs": [
    {
     "data": {
      "text/latex": [
       "$\\displaystyle f{\\left(a \\right)} - 2 h \\left. \\frac{d}{d \\xi_{1}} f{\\left(\\xi_{1} \\right)} \\right|_{\\substack{ \\xi_{1}=a }} + 2 h^{2} \\left. \\frac{d^{2}}{d \\xi_{1}^{2}} f{\\left(\\xi_{1} \\right)} \\right|_{\\substack{ \\xi_{1}=a }} - \\frac{4 h^{3} \\left. \\frac{d^{3}}{d \\xi_{1}^{3}} f{\\left(\\xi_{1} \\right)} \\right|_{\\substack{ \\xi_{1}=a }}}{3} + \\frac{2 h^{4} \\left. \\frac{d^{4}}{d \\xi_{1}^{4}} f{\\left(\\xi_{1} \\right)} \\right|_{\\substack{ \\xi_{1}=a }}}{3} + O\\left(h^{5}\\right)$"
      ],
      "text/plain": [
       "f(a) - 2*h*Subs(Derivative(f(_xi_1), _xi_1), _xi_1, a) + 2*h**2*Subs(Derivative(f(_xi_1), (_xi_1, 2)), _xi_1, a) - 4*h**3*Subs(Derivative(f(_xi_1), (_xi_1, 3)), _xi_1, a)/3 + 2*h**4*Subs(Derivative(f(_xi_1), (_xi_1, 4)), _xi_1, a)/3 + O(h**5)"
      ]
     },
     "execution_count": 172,
     "metadata": {},
     "output_type": "execute_result"
    }
   ],
   "source": [
    "f2menos"
   ]
  },
  {
   "cell_type": "code",
   "execution_count": 173,
   "id": "38e2618b",
   "metadata": {},
   "outputs": [
    {
     "data": {
      "text/latex": [
       "$\\displaystyle f{\\left(a \\right)} - h \\left. \\frac{d}{d \\xi_{1}} f{\\left(\\xi_{1} \\right)} \\right|_{\\substack{ \\xi_{1}=a }} + \\frac{h^{2} \\left. \\frac{d^{2}}{d \\xi_{1}^{2}} f{\\left(\\xi_{1} \\right)} \\right|_{\\substack{ \\xi_{1}=a }}}{2} - \\frac{h^{3} \\left. \\frac{d^{3}}{d \\xi_{1}^{3}} f{\\left(\\xi_{1} \\right)} \\right|_{\\substack{ \\xi_{1}=a }}}{6} + \\frac{h^{4} \\left. \\frac{d^{4}}{d \\xi_{1}^{4}} f{\\left(\\xi_{1} \\right)} \\right|_{\\substack{ \\xi_{1}=a }}}{24} + O\\left(h^{5}\\right)$"
      ],
      "text/plain": [
       "f(a) - h*Subs(Derivative(f(_xi_1), _xi_1), _xi_1, a) + h**2*Subs(Derivative(f(_xi_1), (_xi_1, 2)), _xi_1, a)/2 - h**3*Subs(Derivative(f(_xi_1), (_xi_1, 3)), _xi_1, a)/6 + h**4*Subs(Derivative(f(_xi_1), (_xi_1, 4)), _xi_1, a)/24 + O(h**5)"
      ]
     },
     "execution_count": 173,
     "metadata": {},
     "output_type": "execute_result"
    }
   ],
   "source": [
    "fmenos"
   ]
  },
  {
   "cell_type": "code",
   "execution_count": 174,
   "id": "3469ee87",
   "metadata": {},
   "outputs": [
    {
     "data": {
      "text/latex": [
       "$\\displaystyle f{\\left(a \\right)} + h \\left. \\frac{d}{d \\xi_{1}} f{\\left(\\xi_{1} \\right)} \\right|_{\\substack{ \\xi_{1}=a }} + \\frac{h^{2} \\left. \\frac{d^{2}}{d \\xi_{1}^{2}} f{\\left(\\xi_{1} \\right)} \\right|_{\\substack{ \\xi_{1}=a }}}{2} + \\frac{h^{3} \\left. \\frac{d^{3}}{d \\xi_{1}^{3}} f{\\left(\\xi_{1} \\right)} \\right|_{\\substack{ \\xi_{1}=a }}}{6} + \\frac{h^{4} \\left. \\frac{d^{4}}{d \\xi_{1}^{4}} f{\\left(\\xi_{1} \\right)} \\right|_{\\substack{ \\xi_{1}=a }}}{24} + O\\left(h^{5}\\right)$"
      ],
      "text/plain": [
       "f(a) + h*Subs(Derivative(f(_xi_1), _xi_1), _xi_1, a) + h**2*Subs(Derivative(f(_xi_1), (_xi_1, 2)), _xi_1, a)/2 + h**3*Subs(Derivative(f(_xi_1), (_xi_1, 3)), _xi_1, a)/6 + h**4*Subs(Derivative(f(_xi_1), (_xi_1, 4)), _xi_1, a)/24 + O(h**5)"
      ]
     },
     "execution_count": 174,
     "metadata": {},
     "output_type": "execute_result"
    }
   ],
   "source": [
    "fmas"
   ]
  },
  {
   "cell_type": "code",
   "execution_count": 175,
   "id": "0fdc03fd",
   "metadata": {},
   "outputs": [
    {
     "data": {
      "text/latex": [
       "$\\displaystyle f{\\left(a \\right)} + 2 h \\left. \\frac{d}{d \\xi_{1}} f{\\left(\\xi_{1} \\right)} \\right|_{\\substack{ \\xi_{1}=a }} + 2 h^{2} \\left. \\frac{d^{2}}{d \\xi_{1}^{2}} f{\\left(\\xi_{1} \\right)} \\right|_{\\substack{ \\xi_{1}=a }} + \\frac{4 h^{3} \\left. \\frac{d^{3}}{d \\xi_{1}^{3}} f{\\left(\\xi_{1} \\right)} \\right|_{\\substack{ \\xi_{1}=a }}}{3} + \\frac{2 h^{4} \\left. \\frac{d^{4}}{d \\xi_{1}^{4}} f{\\left(\\xi_{1} \\right)} \\right|_{\\substack{ \\xi_{1}=a }}}{3} + O\\left(h^{5}\\right)$"
      ],
      "text/plain": [
       "f(a) + 2*h*Subs(Derivative(f(_xi_1), _xi_1), _xi_1, a) + 2*h**2*Subs(Derivative(f(_xi_1), (_xi_1, 2)), _xi_1, a) + 4*h**3*Subs(Derivative(f(_xi_1), (_xi_1, 3)), _xi_1, a)/3 + 2*h**4*Subs(Derivative(f(_xi_1), (_xi_1, 4)), _xi_1, a)/3 + O(h**5)"
      ]
     },
     "execution_count": 175,
     "metadata": {},
     "output_type": "execute_result"
    }
   ],
   "source": [
    "f2mas"
   ]
  },
  {
   "cell_type": "code",
   "execution_count": 176,
   "id": "c4c5ccde",
   "metadata": {},
   "outputs": [
    {
     "data": {
      "text/latex": [
       "$\\displaystyle 3 \\left. \\frac{d}{d \\xi_{1}} f{\\left(\\xi_{1} \\right)} \\right|_{\\substack{ \\xi_{1}=a }} + \\frac{3 h^{2} \\left. \\frac{d^{3}}{d \\xi_{1}^{3}} f{\\left(\\xi_{1} \\right)} \\right|_{\\substack{ \\xi_{1}=a }}}{2} + O\\left(h^{4}\\right)$"
      ],
      "text/plain": [
       "3*Subs(Derivative(f(_xi_1), _xi_1), _xi_1, a) + 3*h**2*Subs(Derivative(f(_xi_1), (_xi_1, 3)), _xi_1, a)/2 + O(h**4)"
      ]
     },
     "execution_count": 176,
     "metadata": {},
     "output_type": "execute_result"
    }
   ],
   "source": [
    "sp.expand((fmas + f2mas - fmenos - f2menos)/(2*h))\n",
    "\n",
    "#! No entiendo qué tengo que hacer aquí o como conseguir la fórmula"
   ]
  },
  {
   "cell_type": "markdown",
   "id": "9de5fee8",
   "metadata": {},
   "source": [
    "### Ejercicio 4:\n",
    "> Utilice la función $f(x) = \\dfrac{e^{\\cos(x)}}{x^2+1}$ y el valor $a=1$ y compruebe que ocurre este mismo hecho. Repita el procedimiento utilizando la fórmula de diferencia centrada en lugar de la de diferencia progresiva y comenta las diferencias observadas."
   ]
  },
  {
   "cell_type": "code",
   "execution_count": 177,
   "id": "2c0e4a60",
   "metadata": {},
   "outputs": [],
   "source": [
    "f = lambda x: (sp.exp(sp.cos(x)))/(1+x**2)  # Definimos la función a evaluar"
   ]
  },
  {
   "cell_type": "code",
   "execution_count": 178,
   "id": "f92153a1",
   "metadata": {},
   "outputs": [
    {
     "data": {
      "text/latex": [
       "$\\displaystyle -1.58046613519819$"
      ],
      "text/plain": [
       "-1.58046613519819"
      ]
     },
     "execution_count": 178,
     "metadata": {},
     "output_type": "execute_result"
    }
   ],
   "source": [
    "a = 1 # El valor exacto de la derivada de la función en este punto\n",
    "vexacto = (sp.diff(f(x),x)).subs({x:a}) # sería el siguiente\n",
    "vexacto.evalf()"
   ]
  },
  {
   "cell_type": "code",
   "execution_count": 179,
   "id": "beb63eb3",
   "metadata": {},
   "outputs": [
    {
     "data": {
      "text/plain": [
       "array([-0.726346167289936, -1.46062768559165, -1.56825363261489,\n",
       "       -1.57924300800925, -1.58034380417044, -1.58045390192660,\n",
       "       -1.58046491170543, -1.58046601567975, -1.58046610085244,\n",
       "       -1.58046629754767, -1.58046671018777, -1.58045640368950,\n",
       "       -1.58049766769998, -1.57857883945304, -1.57493367932844,\n",
       "       -1.87154898546997, 0.158301563928007, 1.58301563928007,\n",
       "       15.8301563928007, 158.301563928007, 1583.01563928007,\n",
       "       15830.1563928007, 158301.563928007, 1583015.63928007,\n",
       "       15830156.3928007, 158301563.928007, 1583015639.28007,\n",
       "       15830156392.8007, 158301563928.007, 1583015639280.07,\n",
       "       15830156392800.7], dtype=object)"
      ]
     },
     "execution_count": 179,
     "metadata": {},
     "output_type": "execute_result"
    }
   ],
   "source": [
    "n = 30 # Calculemos aproximaciones, mediante una fórmula numérica de la derivada primera progresiva\n",
    "dersnum = np.array([(f(a+10**(-j)).evalf()-f(a)).evalf()/(10**(-j)) for j in range(n+1)])\n",
    "dersnum  # con h desde 10^0 hasta el valor 10^(-n)."
   ]
  },
  {
   "cell_type": "code",
   "execution_count": 180,
   "id": "5992fd07",
   "metadata": {},
   "outputs": [
    {
     "name": "stdout",
     "output_type": "stream",
     "text": [
      "[0.854119967908256 0.119838449606543 0.0122125025833022\n",
      " 0.00122312718893935 0.000122331027746725 1.22332715939422e-5\n",
      " 1.22349276399092e-6 1.19518437147192e-7 3.43457553508841e-8\n",
      " -1.62349478305401e-7 -5.74989583279617e-7 9.73150868910366e-6\n",
      " -3.15325017885559e-5 0.00188729574514701 0.00553245586974915\n",
      " -0.291082850271774 1.73876769912620 3.16348177447826 17.4106225279989\n",
      " 159.882030063205 1584.59610541527 15831.7368589359 158303.144394142\n",
      " 1583017.21974620 15830157.9732668 158301565.508473 1583015640.86054\n",
      " 15830156394.3812 158301563929.587 1583015639281.65 15830156392802.3]\n"
     ]
    }
   ],
   "source": [
    "errores = np.array(dersnum) - vexacto.evalf()  # Aquí podemos ver una tabla\n",
    "print(errores)  "
   ]
  },
  {
   "cell_type": "markdown",
   "id": "934b400c",
   "metadata": {},
   "source": [
    "Concluir que cambia un poco el comportamiento porque el numerador nunca se anula -> crece y crece sin parar hasta que haya un desbordamiento."
   ]
  },
  {
   "cell_type": "code",
   "execution_count": 181,
   "id": "0243a425",
   "metadata": {},
   "outputs": [
    {
     "data": {
      "text/plain": [
       "[-0.726346,\n",
       " -1.46063,\n",
       " -1.56825,\n",
       " -1.57924,\n",
       " -1.58034,\n",
       " -1.58045,\n",
       " -1.58046,\n",
       " -1.58047,\n",
       " -1.58047,\n",
       " -1.58047,\n",
       " -1.58047,\n",
       " -1.58046,\n",
       " -1.58050,\n",
       " -1.57858,\n",
       " -1.57493,\n",
       " -1.87155,\n",
       " 0.158302,\n",
       " 1.58302,\n",
       " 15.8302,\n",
       " 158.302,\n",
       " 1583.02,\n",
       " 15830.2,\n",
       " 158302.,\n",
       " 1.58302e+6,\n",
       " 1.58302e+7,\n",
       " 1.58302e+8,\n",
       " 1.58302e+9,\n",
       " 1.58302e+10,\n",
       " 1.58302e+11,\n",
       " 1.58302e+12,\n",
       " 1.58302e+13]"
      ]
     },
     "execution_count": 181,
     "metadata": {},
     "output_type": "execute_result"
    }
   ],
   "source": [
    "[sp.N(dersnum[k],6) for k in range(n+1)]"
   ]
  },
  {
   "cell_type": "markdown",
   "id": "07893103",
   "metadata": {},
   "source": [
    "Repetimos con la diferencia centrada con dos nodos:"
   ]
  },
  {
   "cell_type": "code",
   "execution_count": 182,
   "id": "4e9fd9ab",
   "metadata": {},
   "outputs": [
    {
     "data": {
      "text/plain": [
       "array([-2.58636514597453, -3.16486806891512, -3.16097282927802,\n",
       "       -3.16093267610518, -3.16093227445302, -3.16093227044067,\n",
       "       -3.16093227037406, -3.16093227259451, -3.16093224927982,\n",
       "       -3.16093229368875, -3.16093262675565, -3.16091597341028,\n",
       "       -3.16091597341028, -3.15969472808320, -3.15303338993544,\n",
       "       -3.44169137633798, -1.11022302462516, 0, 0, 0, 0, 0, 0, 0, 0, 0, 0,\n",
       "       0, 0, 0, 0], dtype=object)"
      ]
     },
     "execution_count": 182,
     "metadata": {},
     "output_type": "execute_result"
    }
   ],
   "source": [
    "n = 30 # Calculemos aproximaciones, mediante una fórmula numérica de la derivada primera progresiva\n",
    "dersnum = np.array([(f(a+10**(-j)).evalf()-f(a-10**(-j))).evalf()/(10**(-j)) for j in range(n+1)])\n",
    "dersnum  # con h desde 10^0 hasta el valor 10^(-n)."
   ]
  },
  {
   "cell_type": "code",
   "execution_count": 183,
   "id": "a59c6cab",
   "metadata": {},
   "outputs": [
    {
     "name": "stdout",
     "output_type": "stream",
     "text": [
      "[-1.00589901077634 -1.58440193371693 -1.58050669407983 -1.58046654090699\n",
      " -1.58046613925483 -1.58046613524248 -1.58046613517587 -1.58046613739632\n",
      " -1.58046611408163 -1.58046615849055 -1.58046649155746 -1.58044983821209\n",
      " -1.58044983821209 -1.57922859288500 -1.57256725473725 -1.86122524113979\n",
      " 0.470243110573035 1.58046613519819 1.58046613519819 1.58046613519819\n",
      " 1.58046613519819 1.58046613519819 1.58046613519819 1.58046613519819\n",
      " 1.58046613519819 1.58046613519819 1.58046613519819 1.58046613519819\n",
      " 1.58046613519819 1.58046613519819 1.58046613519819]\n"
     ]
    }
   ],
   "source": [
    "errores = np.array(dersnum) - vexacto.evalf()  # Aquí podemos ver una tabla\n",
    "print(errores)"
   ]
  },
  {
   "cell_type": "code",
   "execution_count": 184,
   "id": "d216273d",
   "metadata": {},
   "outputs": [
    {
     "data": {
      "text/plain": [
       "[-2.58637,\n",
       " -3.16487,\n",
       " -3.16097,\n",
       " -3.16093,\n",
       " -3.16093,\n",
       " -3.16093,\n",
       " -3.16093,\n",
       " -3.16093,\n",
       " -3.16093,\n",
       " -3.16093,\n",
       " -3.16093,\n",
       " -3.16092,\n",
       " -3.16092,\n",
       " -3.15969,\n",
       " -3.15303,\n",
       " -3.44169,\n",
       " -1.11022,\n",
       " 0,\n",
       " 0,\n",
       " 0,\n",
       " 0,\n",
       " 0,\n",
       " 0,\n",
       " 0,\n",
       " 0,\n",
       " 0,\n",
       " 0,\n",
       " 0,\n",
       " 0,\n",
       " 0,\n",
       " 0]"
      ]
     },
     "execution_count": 184,
     "metadata": {},
     "output_type": "execute_result"
    }
   ],
   "source": [
    "[sp.N(dersnum[k],6) for k in range(n+1)]"
   ]
  },
  {
   "cell_type": "markdown",
   "id": "e92fe06a",
   "metadata": {},
   "source": [
    "Concluir que sí que ocurre lo que buscabamos, no como antes"
   ]
  },
  {
   "cell_type": "markdown",
   "id": "b1d163d4",
   "metadata": {},
   "source": [
    "### Ejercicio 5 (Implementación numérica de las fórmulas de derivación)\n",
    "> Implementa una función que acepte como argumentos una función en versión numérica `f`, un valor `a`, un valor `h`, y un tercer argumento que sea la fórmula de derivación numérica utilizada. La función deberá calcular la derivada de la función `f` en el punto `a` utilizando la fórmula y el valor de `h` indicados. Las posibles fórmulas utilizadas deben incluir, al menos: diferencia regresiva, diferencia progresiva, diferencia centrada y diferencia centrada con 5 nodos. Para la función $$f(x) = \\sin(\\log(x^2+1)),$$ calcula el valor de $f'(-1)$, primero derivando una versión simbólica y obteniendo el valor exacto y después utilizando la función implementada con distintos valores de `h` y distintas fórmulas y comprueba las diferencias en la aproximación en cada caso."
   ]
  },
  {
   "cell_type": "code",
   "execution_count": 185,
   "id": "774dedd8",
   "metadata": {},
   "outputs": [
    {
     "name": "stdout",
     "output_type": "stream",
     "text": [
      "-0.769238901363972\n"
     ]
    }
   ],
   "source": [
    "def f(x):\n",
    "    return np.sin(np.log(x*x+1))\n",
    "\n",
    "x=sp.Symbol('x')\n",
    "g = lambda x: sp.sin(sp.log(x*x+1))\n",
    "\n",
    "exacto=sp.diff(g(x),x).subs({x:-1}).evalf() # Derivada exacta en x=1\n",
    "print(exacto)"
   ]
  },
  {
   "cell_type": "markdown",
   "id": "619afa85",
   "metadata": {},
   "source": [
    "Obtenemos ahora la versión numérica aplicando cada una de las fórmulas:\n"
   ]
  },
  {
   "cell_type": "code",
   "execution_count": 186,
   "id": "44db890d",
   "metadata": {},
   "outputs": [
    {
     "name": "stdout",
     "output_type": "stream",
     "text": [
      "Derivada centrada con h=0.1: -0.7666700331873649\n",
      "Derivada progresiva con h=0.01: -0.7724078367032594\n",
      "Derivada regresiva con h=0.001: -0.7689191645420257\n",
      "Derivada centrada con tres nodos con h=0.0001: -0.7692388988000953\n",
      "Derivada centrada con cinco nodos con h=0.00001: -0.7692389013648955\n",
      "Diferencia entre la derivada centrada y la derivada exacta con h=0.1: -0.269612147952232\n",
      "Diferencia entre la derivada progresiva y la derivada exacta con h=0.01: 0.0291503616058432\n",
      "Diferencia entre la derivada regresiva y la derivada exacta con h=0.001: -0.00322021888898283\n",
      "Diferencia entre la derivada centrada con tres nodos y la derivada exacta con h=0.0001: -2.56413040689019e-7\n",
      "Diferencia entre la derivada centrada con cinco nodos y la derivada exacta con h=0.00001: 7.38298311375729e-13\n"
     ]
    }
   ],
   "source": [
    "n = 5 # Calculemos aproximaciones, mediante una fórmula numérica de la derivada primera progresiva\n",
    "dersnum = np.array([dn.derivada_numerica(f,-1,j-1,10**(-j)) for j in range(1,n+1)])\n",
    "difs=[exacto-dn.derivada_numerica(f,-1,j,10**(-j)) for j in range(n)]\n",
    "\n",
    "print('Derivada centrada con h=0.1:' , dersnum[0]) \n",
    "print('Derivada progresiva con h=0.01:' , dersnum[1])\n",
    "print('Derivada regresiva con h=0.001:' , dersnum[2])\n",
    "print('Derivada centrada con tres nodos con h=0.0001:' , dersnum[3])\n",
    "print('Derivada centrada con cinco nodos con h=0.00001:' , dersnum[4])\n",
    "\n",
    "print('Diferencia entre la derivada centrada y la derivada exacta con h=0.1:' , difs[0])\n",
    "print('Diferencia entre la derivada progresiva y la derivada exacta con h=0.01:' , difs[1])\n",
    "print('Diferencia entre la derivada regresiva y la derivada exacta con h=0.001:' , difs[2])\n",
    "print('Diferencia entre la derivada centrada con tres nodos y la derivada exacta con h=0.0001:' , difs[3])\n",
    "print('Diferencia entre la derivada centrada con cinco nodos y la derivada exacta con h=0.00001:' , difs[4])"
   ]
  },
  {
   "cell_type": "markdown",
   "id": "d45787d6",
   "metadata": {},
   "source": [
    "Tomar una conclusión aunque no es fácil pues no estamos en las mismas condiciones."
   ]
  },
  {
   "cell_type": "markdown",
   "id": "c3b4a117",
   "metadata": {},
   "source": [
    "### Ejercicio 6\n",
    "> Siguiendo el modelo y el código proporcionado para la fórmula de los rectángulos a la izquierda, codifique las fórmulas compuestas de los rectángulos a la derecha y centrados. Calcule con estas dos fórmulas la aproximación de $\\displaystyle\\int_0^1 (x^2+1)dx$, el error cometido con $n=1000$ y represente al menos una de las dos gráficamente."
   ]
  },
  {
   "cell_type": "markdown",
   "id": "67163e9d",
   "metadata": {},
   "source": [
    "Las funciones de integración compuesta se encuentran en el modulo *integracion_numerica*."
   ]
  },
  {
   "cell_type": "code",
   "execution_count": 204,
   "id": "d13f53fa",
   "metadata": {},
   "outputs": [
    {
     "data": {
      "text/latex": [
       "$\\displaystyle 1.33333333333333$"
      ],
      "text/plain": [
       "1.33333333333333"
      ]
     },
     "execution_count": 204,
     "metadata": {},
     "output_type": "execute_result"
    }
   ],
   "source": [
    "ilib.reload(intn) # Recargamos el módulo de integración numérica\n",
    "\n",
    "def func(x):\n",
    "    \"\"\"función x^2+1\"\"\"\n",
    "    return x*x+1\n",
    "\n",
    "a, b = 0, 1\n",
    "\n",
    "f = func\n",
    "valor_exacto = sp.integrate(f(x),(x,a,b)) # valor exacto de la integral definida\n",
    "valor_exacto.evalf()"
   ]
  },
  {
   "cell_type": "code",
   "execution_count": 207,
   "id": "0ceac700",
   "metadata": {},
   "outputs": [
    {
     "name": "stdout",
     "output_type": "stream",
     "text": [
      "Valor aproximado:  1.3338335\n",
      "Error:  -0.000500166666666635\n"
     ]
    }
   ],
   "source": [
    "valor_aproximado_dcha = intn.formula_rectangulo_derecha(f,a,b,1000) \n",
    "error_dcha = valor_exacto.evalf() - valor_aproximado_dcha\n",
    "print('Valor aproximado: ', valor_aproximado_dcha)\n",
    "print('Error: ', error_dcha)"
   ]
  },
  {
   "cell_type": "code",
   "execution_count": 208,
   "id": "e14dfba1",
   "metadata": {},
   "outputs": [
    {
     "name": "stdout",
     "output_type": "stream",
     "text": [
      "Valor aproximado:  1.333333250000001\n",
      "Error:  8.33333322347585e-8\n"
     ]
    }
   ],
   "source": [
    "valor_aproximado_medio = intn.formula_rectangulo_medio(f,a,b,1000) \n",
    "error_medio = valor_exacto.evalf() - valor_aproximado_medio\n",
    "print('Valor aproximado: ', valor_aproximado_medio)\n",
    "print('Error: ', error_medio)"
   ]
  },
  {
   "cell_type": "markdown",
   "id": "f749c278",
   "metadata": {},
   "source": [
    "Vamos a pintar la fórmula compuesta del punto medio."
   ]
  },
  {
   "cell_type": "code",
   "execution_count": 213,
   "id": "89ffac41",
   "metadata": {},
   "outputs": [
    {
     "data": {
      "text/plain": [
       "Text(0.5, 1.0, 'Fórmula compuesta de los rectángulos en el punto medio')"
      ]
     },
     "execution_count": 213,
     "metadata": {},
     "output_type": "execute_result"
    },
    {
     "data": {
      "image/png": "[encoded data removed]",
      "text/plain": [
       "<Figure size 800x800 with 1 Axes>"
      ]
     },
     "metadata": {},
     "output_type": "display_data"
    }
   ],
   "source": [
    "num_values = 100; num_nodos = 10  # Número de puntos para graficar y número de nodos de integración\n",
    "x_values = np.linspace(float(a), float(b), num_values)  # Genera valores de x uniformemente distribuidos en [a, b]\n",
    "y_values = f(x_values)  # Calcula los valores de la función en los puntos x\n",
    "x_nodos = np.linspace(a, b, num_nodos)  # Genera los nodos de integración uniformemente distribuidos en [a, b]\n",
    "y_nodos = f(x_nodos)  # Calcula los valores de la función en los nodos\n",
    "\n",
    "fig, ax = plt.subplots(figsize=(8, 8))  # Crea una figura y un eje para graficar\n",
    "ax.plot(x_values, y_values, 'k', label='función del integrando')  # Dibuja la función en negro con una etiqueta\n",
    "\n",
    "# Rellena las áreas bajo la curva usando rectángulos basados en la fórmula del rectángulo a la izquierda\n",
    "for k in range(1, num_nodos):  # Itera sobre los subintervalos definidos por los nodos\n",
    "    x_izq = x_nodos[k - 1]\n",
    "    x_der = x_nodos[k]\n",
    "    x_medio = (x_izq + x_der) / 2\n",
    "    altura = f(x_medio)\n",
    "    \n",
    "    zz = np.linspace(float(x_izq), float(x_der), num_values)\n",
    "    yk = [altura] * len(zz)  # Altura constante en el intervalo\n",
    "    ax.fill_between(zz, 0, yk)\n",
    "    \n",
    "    ax.plot(x_medio, altura, 'ro')\n",
    "\n",
    "ax.legend(loc=9)  # Añade la leyenda en la parte superior central\n",
    "ax.set_xlabel('$x$', fontsize=18)  # Etiqueta del eje x\n",
    "ax.set_ylabel('$y$', fontsize=18)  # Etiqueta del eje y\n",
    "ax.set_title('Fórmula compuesta de los rectángulos en el punto medio')  # Título del gráfico"
   ]
  }
 ],
 "metadata": {
  "kernelspec": {
   "display_name": ".venv",
   "language": "python",
   "name": "python3"
  },
  "language_info": {
   "codemirror_mode": {
    "name": "ipython",
    "version": 3
   },
   "file_extension": ".py",
   "mimetype": "text/x-python",
   "name": "python",
   "nbconvert_exporter": "python",
   "pygments_lexer": "ipython3",
   "version": "3.12.3"
  }
 },
 "nbformat": 4,
 "nbformat_minor": 5
}
