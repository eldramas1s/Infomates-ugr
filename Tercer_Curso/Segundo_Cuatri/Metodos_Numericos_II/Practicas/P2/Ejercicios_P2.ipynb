{
 "cells": [
  {
   "cell_type": "markdown",
   "id": "663e9d6e",
   "metadata": {},
   "source": [
    "# Práctica 2\n",
    "\n",
    "## Lucas Hidalgo Herrera"
   ]
  },
  {
   "cell_type": "markdown",
   "id": "50f9e854",
   "metadata": {},
   "source": [
    "Se importarán todos los paquetes generales en la siguiente celdad de código, si hay alguno necesario para un ejercicio que no se encuentre ahí, se añadirá al ejercicio."
   ]
  },
  {
   "cell_type": "code",
   "execution_count": 1417,
   "id": "5778e6e0",
   "metadata": {},
   "outputs": [
    {
     "data": {
      "text/plain": [
       "<module 'integracion_numerica' from '/home/el_dramas/Desktop/Infomates/Tercer_Curso/Segundo_Cuatri/Metodos_Numericos_II/Practicas/P2/integracion_numerica.py'>"
      ]
     },
     "execution_count": 1417,
     "metadata": {},
     "output_type": "execute_result"
    }
   ],
   "source": [
    "import numpy as np\n",
    "import sympy as sp\n",
    "import importlib as ilib\n",
    "import matplotlib.pyplot as plt\n",
    "import derivacion_numerica as dn\n",
    "import integracion_numerica as intn\n",
    "from scipy.integrate import quad\n",
    "\n",
    "ilib.reload(dn)\n",
    "ilib.reload(intn)"
   ]
  },
  {
   "cell_type": "markdown",
   "id": "442a4800",
   "metadata": {},
   "source": [
    "### Ejercicio 1\n",
    "> Pruebe ahora a repetir el mismo proceso, pero con los datos de interpolación  \n",
    "> \n",
    "> a) $(a-h,f(a-h))$ y $(a,f(a))$,\n",
    "> \n",
    "> b) $(a-h,f(a-h))$ y $(a+h,f(a+h))$. \n",
    "> \n",
    "> ¿Qué fórmulas de derivación numérica se obtiene en cada caso?"
   ]
  },
  {
   "cell_type": "markdown",
   "id": "bd98f2e8",
   "metadata": {},
   "source": [
    "Procederemos de la siguiente forma, definimos los símbolos y funciones simbólicas que sean necesarias así como los valores de x que necesitemos para realizar la obtención de la fórmula.\n",
    "\n",
    "A continuación, procederemos a obtener el polinomio de interpolación y a derivar la expresión del mismo."
   ]
  },
  {
   "cell_type": "code",
   "execution_count": 1418,
   "id": "08e770f9",
   "metadata": {},
   "outputs": [
    {
     "data": {
      "text/plain": [
       "[a - h, a]"
      ]
     },
     "execution_count": 1418,
     "metadata": {},
     "output_type": "execute_result"
    }
   ],
   "source": [
    "f = sp.Function('f')                # Crea función simbólica\n",
    "a,h = sp.symbols('a,h')\n",
    "x_values = [a-h,a]                  # Intervalo simbólico, lista que contiene variables simbólicas\n",
    "x_values"
   ]
  },
  {
   "cell_type": "code",
   "execution_count": 1419,
   "id": "4befab9f",
   "metadata": {},
   "outputs": [
    {
     "data": {
      "text/plain": [
       "[f(a - h), f(a)]"
      ]
     },
     "execution_count": 1419,
     "metadata": {},
     "output_type": "execute_result"
    }
   ],
   "source": [
    "y_values = [f(x_values[0]),f(x_values[1])]\n",
    "y_values"
   ]
  },
  {
   "cell_type": "code",
   "execution_count": 1420,
   "id": "7308b065",
   "metadata": {},
   "outputs": [
    {
     "data": {
      "text/latex": [
       "$\\displaystyle f{\\left(a - h \\right)} + \\frac{\\left(f{\\left(a \\right)} - f{\\left(a - h \\right)}\\right) \\left(- a + h + x\\right)}{h}$"
      ],
      "text/plain": [
       "f(a - h) + (f(a) - f(a - h))*(-a + h + x)/h"
      ]
     },
     "execution_count": 1420,
     "metadata": {},
     "output_type": "execute_result"
    }
   ],
   "source": [
    "x = sp.Symbol('x')  # utilizaremos x como variable simbólica\n",
    "p = (y_values[1]-y_values[0])/(x_values[1]-x_values[0])*(x-x_values[0])+y_values[0]\n",
    "p  # este sería el polinomio interpolador de grado $1$, ecuación recta tangente con derivada aproximada (f(b)-f(a))/(b-a)"
   ]
  },
  {
   "cell_type": "code",
   "execution_count": 1421,
   "id": "b4a3e991",
   "metadata": {},
   "outputs": [
    {
     "data": {
      "text/plain": [
       "(f(a - h), f(a))"
      ]
     },
     "execution_count": 1421,
     "metadata": {},
     "output_type": "execute_result"
    }
   ],
   "source": [
    "p.subs({x:x_values[0]}),p.subs({x:x_values[1]}) #  Comprobamos que el polinomio interpolador pasa por los puntos (a,f(a)) y (a+h,f(a+h))"
   ]
  },
  {
   "cell_type": "code",
   "execution_count": 1422,
   "id": "9f2c3d4b",
   "metadata": {},
   "outputs": [
    {
     "data": {
      "text/latex": [
       "$\\displaystyle \\frac{f{\\left(a \\right)} - f{\\left(a - h \\right)}}{h}$"
      ],
      "text/plain": [
       "(f(a) - f(a - h))/h"
      ]
     },
     "execution_count": 1422,
     "metadata": {},
     "output_type": "execute_result"
    }
   ],
   "source": [
    "sp.diff(p,x)  # Derivamos el polinomio interpolador"
   ]
  },
  {
   "cell_type": "markdown",
   "id": "421751bc",
   "metadata": {},
   "source": [
    "Por tanto, nuestra fómula de interpolación es:\n",
    "$$\\frac{f(a)-f(a-h)}{h}$$\n",
    "Es decir, la **diferencia regresiva**."
   ]
  },
  {
   "cell_type": "markdown",
   "id": "1ae303c1",
   "metadata": {},
   "source": [
    "Procedemos de la misma forma con el segundo apartado."
   ]
  },
  {
   "cell_type": "code",
   "execution_count": 1423,
   "id": "dbfd3061",
   "metadata": {},
   "outputs": [
    {
     "data": {
      "text/plain": [
       "[a - h, a + h]"
      ]
     },
     "execution_count": 1423,
     "metadata": {},
     "output_type": "execute_result"
    }
   ],
   "source": [
    "x_values = [a-h,a+h]                  # Intervalo simbólico, lista que contiene variables simbólicas\n",
    "x_values"
   ]
  },
  {
   "cell_type": "code",
   "execution_count": 1424,
   "id": "38cac2f5",
   "metadata": {},
   "outputs": [
    {
     "data": {
      "text/plain": [
       "[f(a - h), f(a + h)]"
      ]
     },
     "execution_count": 1424,
     "metadata": {},
     "output_type": "execute_result"
    }
   ],
   "source": [
    "y_values = [f(x_values[0]),f(x_values[1])]\n",
    "y_values"
   ]
  },
  {
   "cell_type": "code",
   "execution_count": 1425,
   "id": "b0910659",
   "metadata": {},
   "outputs": [
    {
     "data": {
      "text/latex": [
       "$\\displaystyle f{\\left(a - h \\right)} + \\frac{\\left(- f{\\left(a - h \\right)} + f{\\left(a + h \\right)}\\right) \\left(- a + h + x\\right)}{2 h}$"
      ],
      "text/plain": [
       "f(a - h) + (-f(a - h) + f(a + h))*(-a + h + x)/(2*h)"
      ]
     },
     "execution_count": 1425,
     "metadata": {},
     "output_type": "execute_result"
    }
   ],
   "source": [
    "x = sp.Symbol('x')  # utilizaremos x como variable simbólica\n",
    "p = (y_values[1]-y_values[0])/(x_values[1]-x_values[0])*(x-x_values[0])+y_values[0]\n",
    "p  # este sería el polinomio interpolador de grado $1$, ecuación recta tangente con derivada aproximada (f(b)-f(a))/(b-a)"
   ]
  },
  {
   "cell_type": "code",
   "execution_count": 1426,
   "id": "8eb96599",
   "metadata": {},
   "outputs": [
    {
     "data": {
      "text/latex": [
       "$\\displaystyle \\frac{- f{\\left(a - h \\right)} + f{\\left(a + h \\right)}}{2 h}$"
      ],
      "text/plain": [
       "(-f(a - h) + f(a + h))/(2*h)"
      ]
     },
     "execution_count": 1426,
     "metadata": {},
     "output_type": "execute_result"
    }
   ],
   "source": [
    "sp.diff(p,x)  # Derivamos el polinomio interpolador"
   ]
  },
  {
   "cell_type": "markdown",
   "id": "a224ba7f",
   "metadata": {},
   "source": [
    "Por tanto, nuestra fómula de interpolación es:\n",
    "$$\\frac{f(a+h)-f(a-h)}{2h}$$\n",
    "Es decir, la **diferencia centrada con dos nodos**."
   ]
  },
  {
   "cell_type": "markdown",
   "id": "2319e679",
   "metadata": {},
   "source": [
    "### Ejercicio 2\n",
    ">Codifica una función para calcular la fórmula de derivación de tipo interpolatorio obtenida al derivar el polinomio interpolador en una lista de nodos que acepte como argumento. Añade un argumento opcional que sea el orden de la derivada a calcular. Comprueba el correcto funcionamiento de esta función con los ejemplos mostrados hasta el momento."
   ]
  },
  {
   "cell_type": "markdown",
   "id": "ed0fd1e1",
   "metadata": {},
   "source": [
    "Vamos a probar la función del módulo *derivacion_numerica* con los ejemplos vistos:\n",
    "- Diferencia progresiva: $x\\_values=(a,a+h)$\n",
    "- Diferencia regresiva: $x\\_values=(a-h,a)$\n",
    "- Diferencia centrada con dos nodos: $x\\_values=(a-h,a+h)$\n",
    "- Diferencia centrada con tres nodos: $x\\_values=(a-h,a,a+h)$"
   ]
  },
  {
   "cell_type": "code",
   "execution_count": 1427,
   "id": "b35b970c",
   "metadata": {},
   "outputs": [
    {
     "name": "stdout",
     "output_type": "stream",
     "text": [
      "Diferencia progresiva:  (-f(a) + f(a + h))/h\n",
      "Diferencia regresiva:  (f(a) - f(a - h))/h\n",
      "Diferencia centrada con dos nodos:  (-f(a - h) + f(a + h))/(2*h)\n",
      "Diferencia centrada con tres nodos:  (-f(a - h) + f(a + h))/(2*h)\n"
     ]
    }
   ],
   "source": [
    "f = sp.Function('f')                \n",
    "a,h = sp.symbols('a,h')\n",
    "array_exp =[]\n",
    "\n",
    "# Fórmula diferencia progresiva\n",
    "x_values = [a,a+h]                  \n",
    "array_exp.append(dn.formulador(f,x_values,a,1))\n",
    "\n",
    "# Fórmula diferencia regresiva\n",
    "x_values = [a-h,a]                  \n",
    "array_exp.append(dn.formulador(f,x_values,a,1))\n",
    "\n",
    "# Fórmula diferencia centrada con dos nodos\n",
    "x_values = [a-h,a+h]                  \n",
    "array_exp.append(dn.formulador(f,x_values,a,1))\n",
    "\n",
    "# Fórmula centrada con tres nodos\n",
    "x_values = [a-h,a,a+h]                  \n",
    "array_exp.append(dn.formulador(f,x_values,a,1))\n",
    "\n",
    "print('Diferencia progresiva: ' ,array_exp[0])\n",
    "print('Diferencia regresiva: ' ,array_exp[1])\n",
    "print('Diferencia centrada con dos nodos: ' ,array_exp[2])\n",
    "print('Diferencia centrada con tres nodos: ' ,array_exp[3])"
   ]
  },
  {
   "cell_type": "markdown",
   "id": "9f1dc8bc",
   "metadata": {},
   "source": [
    "Por tanto, los resultados obtenidos son los buscados, además podemos apreciar que la fórmula de diferencia centrada con dos nodos es igual a la diferencia centrada con tres nodos."
   ]
  },
  {
   "cell_type": "markdown",
   "id": "40fe8744",
   "metadata": {},
   "source": [
    "### Ejercicio 3\n",
    "> Repita este procedimiento con la fórmula para la segunda derivada\n",
    "> $$\n",
    "> f''(a) \\approx \\frac{f(a+h)-2f(a)+f(a-h)}{h^2}\n",
    "> $$\n",
    "> y compruebe que tiene orden de aproximación 2."
   ]
  },
  {
   "cell_type": "code",
   "execution_count": 1428,
   "id": "256b6fd1",
   "metadata": {},
   "outputs": [
    {
     "data": {
      "text/latex": [
       "$\\displaystyle \\frac{- 2 g{\\left(a \\right)} + g{\\left(a - h \\right)} + g{\\left(a + h \\right)}}{h^{2}}$"
      ],
      "text/plain": [
       "(-2*g(a) + g(a - h) + g(a + h))/h**2"
      ]
     },
     "execution_count": 1428,
     "metadata": {},
     "output_type": "execute_result"
    }
   ],
   "source": [
    "formula_der = lambda f: (f(a+h)-2*f(a)+f(a-h))/(h**2) # fórmula derivada\n",
    "formula_der(sp.Function('g'))"
   ]
  },
  {
   "cell_type": "code",
   "execution_count": 1429,
   "id": "089c5642",
   "metadata": {},
   "outputs": [
    {
     "data": {
      "text/plain": [
       "[0, 0, 2, 6*a, 12*a**2, 20*a**3, 30*a**4, 42*a**5, 56*a**6, 72*a**7]"
      ]
     },
     "execution_count": 1429,
     "metadata": {},
     "output_type": "execute_result"
    }
   ],
   "source": [
    "exact_values =[sp.diff(x**i,x,2).subs({x:a}) for i in range(10)]    # Derivada segunda de x^i con i=0,...,9\n",
    "exact_values"
   ]
  },
  {
   "cell_type": "code",
   "execution_count": 1430,
   "id": "be4f6f18",
   "metadata": {},
   "outputs": [
    {
     "data": {
      "text/plain": [
       "[0,\n",
       " 0,\n",
       " 2,\n",
       " 6*a,\n",
       " 12*a**2 + 2*h**2,\n",
       " 10*a*(2*a**2 + h**2),\n",
       " (-2*a**6 + (a - h)**6 + (a + h)**6)/h**2,\n",
       " (-2*a**7 + (a - h)**7 + (a + h)**7)/h**2,\n",
       " (-2*a**8 + (a - h)**8 + (a + h)**8)/h**2,\n",
       " (-2*a**9 + (a - h)**9 + (a + h)**9)/h**2]"
      ]
     },
     "execution_count": 1430,
     "metadata": {},
     "output_type": "execute_result"
    }
   ],
   "source": [
    "approx_values =[formula_der(lambda x:x**i).simplify() for i in range(10)]\n",
    "approx_values"
   ]
  },
  {
   "cell_type": "code",
   "execution_count": 1431,
   "id": "6f06d262",
   "metadata": {},
   "outputs": [
    {
     "data": {
      "text/plain": [
       "array([0, 0, 0, 0, 2*h**2, -20*a**3 + 10*a*(2*a**2 + h**2),\n",
       "       -30*a**4 + (-2*a**6 + (a - h)**6 + (a + h)**6)/h**2,\n",
       "       -42*a**5 + (-2*a**7 + (a - h)**7 + (a + h)**7)/h**2,\n",
       "       -56*a**6 + (-2*a**8 + (a - h)**8 + (a + h)**8)/h**2,\n",
       "       -72*a**7 + (-2*a**9 + (a - h)**9 + (a + h)**9)/h**2], dtype=object)"
      ]
     },
     "execution_count": 1431,
     "metadata": {},
     "output_type": "execute_result"
    }
   ],
   "source": [
    "np.array(approx_values) - np.array(exact_values)\n",
    "\n",
    "#? Qué diferencia hay entra lo de la practica y esto?"
   ]
  },
  {
   "cell_type": "code",
   "execution_count": 1432,
   "id": "ef17b149",
   "metadata": {},
   "outputs": [
    {
     "name": "stdout",
     "output_type": "stream",
     "text": [
      "Diferencia entre el valor aproximado y el valor exacto de (x^0)'': 0\n",
      "Diferencia entre el valor aproximado y el valor exacto de (x^1)'': 0\n",
      "Diferencia entre el valor aproximado y el valor exacto de (x^2)'': 0\n",
      "Diferencia entre el valor aproximado y el valor exacto de (x^3)'': 0\n",
      "Diferencia entre el valor aproximado y el valor exacto de (x^4)'': 2*h**2\n",
      "Diferencia entre el valor aproximado y el valor exacto de (x^5)'': -20*a**3 + 10*a*(2*a**2 + h**2)\n",
      "Diferencia entre el valor aproximado y el valor exacto de (x^6)'': -30*a**4 + (-2*a**6 + (a - h)**6 + (a + h)**6)/h**2\n",
      "Diferencia entre el valor aproximado y el valor exacto de (x^7)'': -42*a**5 + (-2*a**7 + (a - h)**7 + (a + h)**7)/h**2\n",
      "Diferencia entre el valor aproximado y el valor exacto de (x^8)'': -56*a**6 + (-2*a**8 + (a - h)**8 + (a + h)**8)/h**2\n",
      "Diferencia entre el valor aproximado y el valor exacto de (x^9)'': -72*a**7 + (-2*a**9 + (a - h)**9 + (a + h)**9)/h**2\n",
      "comprobación terminada; deduzca de aquí el grado de exactitud de la fórmula\n"
     ]
    }
   ],
   "source": [
    "for i in range(10):\n",
    "    print(f\"Diferencia entre el valor aproximado y el valor exacto de (x^{i})\\'\\': {approx_values[i]- exact_values[i]}\")\n",
    "print(\"comprobación terminada; deduzca de aquí el grado de exactitud de la fórmula\")"
   ]
  },
  {
   "cell_type": "markdown",
   "id": "d12a090e",
   "metadata": {},
   "source": [
    "Por tanto, el orden de exactitud para funciones polinómicas es 3."
   ]
  },
  {
   "cell_type": "code",
   "execution_count": 1433,
   "id": "b8d27b19",
   "metadata": {},
   "outputs": [
    {
     "data": {
      "text/latex": [
       "$\\displaystyle \\frac{\\left(- a + x\\right)^{6} \\left. \\frac{d^{6}}{d \\xi_{1}^{6}} f{\\left(\\xi_{1} \\right)} \\right|_{\\substack{ \\xi_{1}=a }}}{720} + \\frac{\\left(- a + x\\right)^{5} \\left. \\frac{d^{5}}{d \\xi_{1}^{5}} f{\\left(\\xi_{1} \\right)} \\right|_{\\substack{ \\xi_{1}=a }}}{120} + \\frac{\\left(- a + x\\right)^{4} \\left. \\frac{d^{4}}{d \\xi_{1}^{4}} f{\\left(\\xi_{1} \\right)} \\right|_{\\substack{ \\xi_{1}=a }}}{24} + \\frac{\\left(- a + x\\right)^{3} \\left. \\frac{d^{3}}{d \\xi_{1}^{3}} f{\\left(\\xi_{1} \\right)} \\right|_{\\substack{ \\xi_{1}=a }}}{6} + \\frac{\\left(- a + x\\right)^{2} \\left. \\frac{d^{2}}{d \\xi_{1}^{2}} f{\\left(\\xi_{1} \\right)} \\right|_{\\substack{ \\xi_{1}=a }}}{2} + \\left(- a + x\\right) \\left. \\frac{d}{d \\xi_{1}} f{\\left(\\xi_{1} \\right)} \\right|_{\\substack{ \\xi_{1}=a }} + f{\\left(a \\right)}$"
      ],
      "text/plain": [
       "(-a + x)**6*Subs(Derivative(f(_xi_1), (_xi_1, 6)), _xi_1, a)/720 + (-a + x)**5*Subs(Derivative(f(_xi_1), (_xi_1, 5)), _xi_1, a)/120 + (-a + x)**4*Subs(Derivative(f(_xi_1), (_xi_1, 4)), _xi_1, a)/24 + (-a + x)**3*Subs(Derivative(f(_xi_1), (_xi_1, 3)), _xi_1, a)/6 + (-a + x)**2*Subs(Derivative(f(_xi_1), (_xi_1, 2)), _xi_1, a)/2 + (-a + x)*Subs(Derivative(f(_xi_1), _xi_1), _xi_1, a) + f(a)"
      ]
     },
     "execution_count": 1433,
     "metadata": {},
     "output_type": "execute_result"
    }
   ],
   "source": [
    "n=7\n",
    "fseries = (f(x).series(x,a,n)).removeO()    # Series de Taylor de f(z) en el punto z=a hasta orden n-1 sin incluir O(z^5)\n",
    "fseries"
   ]
  },
  {
   "cell_type": "code",
   "execution_count": 1434,
   "id": "fb825b6c",
   "metadata": {},
   "outputs": [],
   "source": [
    "fmas    = fseries.subs({x:(a+h)})           # Polin. Taylor para x=a+h\n",
    "fmenos  = fseries.subs({x:(a-h)})           # Polin. Taylor para x=a-h\n",
    "fa = fseries.subs({x:a})                    # Polin. Taylor para x=a"
   ]
  },
  {
   "cell_type": "code",
   "execution_count": 1435,
   "id": "c4c5ccde",
   "metadata": {},
   "outputs": [
    {
     "data": {
      "text/latex": [
       "$\\displaystyle \\frac{h^{4} \\left. \\frac{d^{6}}{d \\xi_{1}^{6}} f{\\left(\\xi_{1} \\right)} \\right|_{\\substack{ \\xi_{1}=a }}}{360} + \\frac{h^{2} \\left. \\frac{d^{4}}{d \\xi_{1}^{4}} f{\\left(\\xi_{1} \\right)} \\right|_{\\substack{ \\xi_{1}=a }}}{12} + \\left. \\frac{d^{2}}{d \\xi_{1}^{2}} f{\\left(\\xi_{1} \\right)} \\right|_{\\substack{ \\xi_{1}=a }}$"
      ],
      "text/plain": [
       "h**4*Subs(Derivative(f(_xi_1), (_xi_1, 6)), _xi_1, a)/360 + h**2*Subs(Derivative(f(_xi_1), (_xi_1, 4)), _xi_1, a)/12 + Subs(Derivative(f(_xi_1), (_xi_1, 2)), _xi_1, a)"
      ]
     },
     "execution_count": 1435,
     "metadata": {},
     "output_type": "execute_result"
    }
   ],
   "source": [
    "sp.expand((fmas + fmenos - 2*fa)/(h**2))"
   ]
  },
  {
   "cell_type": "markdown",
   "id": "7fbdc137",
   "metadata": {},
   "source": [
    "Vemos que el error de aproximación es de orden $h²$, como se buscaba.\n"
   ]
  },
  {
   "cell_type": "markdown",
   "id": "9de5fee8",
   "metadata": {},
   "source": [
    "### Ejercicio 4:\n",
    "> Utilice la función $f(x) = \\dfrac{e^{\\cos(x)}}{x^2+1}$ y el valor $a=1$ y compruebe que ocurre este mismo hecho. Repita el procedimiento utilizando la fórmula de diferencia centrada en lugar de la de diferencia progresiva y comenta las diferencias observadas."
   ]
  },
  {
   "cell_type": "code",
   "execution_count": 1436,
   "id": "2c0e4a60",
   "metadata": {},
   "outputs": [],
   "source": [
    "x = sp.Symbol('x')\n",
    "fsymb = sp.exp(sp.cos(x))/(x**2+1)\n",
    "\n",
    "fnum = lambda x: np.exp(np.cos(x))/(x**2+1)"
   ]
  },
  {
   "cell_type": "code",
   "execution_count": 1437,
   "id": "f92153a1",
   "metadata": {},
   "outputs": [
    {
     "data": {
      "text/latex": [
       "$\\displaystyle -1.58046613519819$"
      ],
      "text/plain": [
       "-1.58046613519819"
      ]
     },
     "execution_count": 1437,
     "metadata": {},
     "output_type": "execute_result"
    }
   ],
   "source": [
    "a = 1 # El valor exacto de la derivada de la función en este punto\n",
    "vexacto = (sp.diff(fsymb,x)).subs({x:a}) # sería el siguiente\n",
    "vexacto.evalf()"
   ]
  },
  {
   "cell_type": "code",
   "execution_count": 1438,
   "id": "beb63eb3",
   "metadata": {},
   "outputs": [
    {
     "data": {
      "text/plain": [
       "[-0.726346,\n",
       " -1.46063,\n",
       " -1.56825,\n",
       " -1.57924,\n",
       " -1.58034,\n",
       " -1.58045,\n",
       " -1.58046,\n",
       " -1.58047,\n",
       " -1.58047,\n",
       " -1.58047,\n",
       " -1.58047,\n",
       " -1.58046,\n",
       " -1.58062,\n",
       " -1.57874,\n",
       " -1.57652,\n",
       " -1.88738,\n",
       " 0,\n",
       " 0,\n",
       " 0,\n",
       " 0,\n",
       " 0]"
      ]
     },
     "execution_count": 1438,
     "metadata": {},
     "output_type": "execute_result"
    }
   ],
   "source": [
    "n = 20 \n",
    "dersnum = np.array([(fnum(a+10**(-j))-fnum(a))/(10**(-j)) for j in range(n+1)])\n",
    "[sp.N(dersnum[k],6) for k in range(n+1)]"
   ]
  },
  {
   "cell_type": "code",
   "execution_count": 1439,
   "id": "5992fd07",
   "metadata": {},
   "outputs": [
    {
     "name": "stdout",
     "output_type": "stream",
     "text": [
      "[0.854119967908255 0.119838449606543 0.0122125025833004\n",
      " 0.00122312718892359 0.000122331026478184 1.22332700112082e-5\n",
      " 1.22347693376490e-6 1.19360135775182e-7 3.27627398544195e-8\n",
      " -1.78179634824360e-7 -7.33291147136939e-7 8.14849304986431e-6\n",
      " -0.000158384960643909 0.00172899418121886 0.00394944023046917\n",
      " -0.306913006664574 1.58046613519819 1.58046613519819 1.58046613519819\n",
      " 1.58046613519819 1.58046613519819]\n"
     ]
    }
   ],
   "source": [
    "errores = np.array(dersnum) - vexacto.evalf()  # Aquí podemos ver una tabla\n",
    "print(errores)  "
   ]
  },
  {
   "cell_type": "markdown",
   "id": "07893103",
   "metadata": {},
   "source": [
    "Repetimos con la diferencia centrada con dos nodos:"
   ]
  },
  {
   "cell_type": "code",
   "execution_count": 1440,
   "id": "4e9fd9ab",
   "metadata": {},
   "outputs": [
    {
     "data": {
      "text/plain": [
       "[-1.29318,\n",
       " -1.58243,\n",
       " -1.58049,\n",
       " -1.58047,\n",
       " -1.58047,\n",
       " -1.58047,\n",
       " -1.58047,\n",
       " -1.58047,\n",
       " -1.58047,\n",
       " -1.58047,\n",
       " -1.58047,\n",
       " -1.58046,\n",
       " -1.58051,\n",
       " -1.57985,\n",
       " -1.57652,\n",
       " -1.72085,\n",
       " -0.555112,\n",
       " 0,\n",
       " 0,\n",
       " 0,\n",
       " 0]"
      ]
     },
     "execution_count": 1440,
     "metadata": {},
     "output_type": "execute_result"
    }
   ],
   "source": [
    "dersnum = np.array([(fnum(a+10**(-j))-fnum(a-10**(-j)))/(2*10**(-j)) for j in range(n+1)])\n",
    "[sp.N(dersnum[k],6) for k in range(n+1)] "
   ]
  },
  {
   "cell_type": "code",
   "execution_count": 1441,
   "id": "a59c6cab",
   "metadata": {},
   "outputs": [
    {
     "name": "stdout",
     "output_type": "stream",
     "text": [
      "[0.287283562210927 -0.00196789925936902 -2.02794408181717e-5\n",
      " -2.02854397057806e-7 -2.02887417977138e-9 -2.21458407168029e-11\n",
      " 1.11606279773468e-11 -1.09906239664781e-9 1.05582793619163e-8\n",
      " -1.16461811305868e-8 -1.78179634824360e-7 8.14849304986431e-6\n",
      " -4.73626581813935e-5 0.000618771156593700 0.00394944023046917\n",
      " -0.140379552970801 1.02535462288561 1.58046613519819 1.58046613519819\n",
      " 1.58046613519819 1.58046613519819]\n"
     ]
    }
   ],
   "source": [
    "errores = np.array(dersnum) - vexacto.evalf()  # Aquí podemos ver una tabla\n",
    "print(errores)"
   ]
  },
  {
   "cell_type": "markdown",
   "id": "e92fe06a",
   "metadata": {},
   "source": [
    "La principal diferencia es que la fórmula de la derivada centrada tiene una mayor velocidad de convergencia, pues con un $h$ mayor es capaz de realizar una mejor aproximación, por ejemplo, con $j=2$ obtiene un error mucho menor que la diferencia progresiva. A continuación, a medida que se aumenta el valor de $h$ ambas soluciones comienzan a alejarse de la solución."
   ]
  },
  {
   "cell_type": "markdown",
   "id": "b1d163d4",
   "metadata": {},
   "source": [
    "### Ejercicio 5 (Implementación numérica de las fórmulas de derivación)\n",
    "> Implementa una función que acepte como argumentos una función en versión numérica `f`, un valor `a`, un valor `h`, y un tercer argumento que sea la fórmula de derivación numérica utilizada. La función deberá calcular la derivada de la función `f` en el punto `a` utilizando la fórmula y el valor de `h` indicados. Las posibles fórmulas utilizadas deben incluir, al menos: diferencia regresiva, diferencia progresiva, diferencia centrada y diferencia centrada con 5 nodos. Para la función $$f(x) = \\sin(\\log(x^2+1)),$$ calcula el valor de $f'(-1)$, primero derivando una versión simbólica y obteniendo el valor exacto y después utilizando la función implementada con distintos valores de `h` y distintas fórmulas y comprueba las diferencias en la aproximación en cada caso."
   ]
  },
  {
   "cell_type": "code",
   "execution_count": 1443,
   "id": "774dedd8",
   "metadata": {},
   "outputs": [
    {
     "name": "stdout",
     "output_type": "stream",
     "text": [
      "-0.769238901363972\n"
     ]
    }
   ],
   "source": [
    "def f(x):\n",
    "    return np.sin(np.log(x*x+1))\n",
    "\n",
    "x=sp.Symbol('x')\n",
    "g = lambda x: sp.sin(sp.log(x*x+1))\n",
    "\n",
    "exacto=sp.diff(g(x),x).subs({x:-1}).evalf() # Derivada exacta en x=1\n",
    "print(exacto)"
   ]
  },
  {
   "cell_type": "markdown",
   "id": "619afa85",
   "metadata": {},
   "source": [
    "Obtenemos ahora la versión numérica aplicando cada una de las fórmulas:\n"
   ]
  },
  {
   "cell_type": "code",
   "execution_count": 1444,
   "id": "44db890d",
   "metadata": {},
   "outputs": [
    {
     "name": "stdout",
     "output_type": "stream",
     "text": [
      "Derivada centrada con h=0.1: -0.7666700331873649\n",
      "Derivada progresiva con h=0.01: -0.7724078367032594\n",
      "Derivada regresiva con h=0.001: -0.7689191645420257\n",
      "Derivada centrada con tres nodos con h=0.0001: -0.7692388988000953\n",
      "Derivada centrada con cinco nodos con h=0.00001: -0.7692389013648955\n",
      "Diferencia entre la derivada centrada y la derivada exacta con h=0.1: -0.269612147952232\n",
      "Diferencia entre la derivada progresiva y la derivada exacta con h=0.01: 0.0291503616058432\n",
      "Diferencia entre la derivada regresiva y la derivada exacta con h=0.001: -0.00322021888898283\n",
      "Diferencia entre la derivada centrada con tres nodos y la derivada exacta con h=0.0001: -2.56413040689019e-7\n",
      "Diferencia entre la derivada centrada con cinco nodos y la derivada exacta con h=0.00001: 7.38298311375729e-13\n"
     ]
    }
   ],
   "source": [
    "n = 5 # Calculemos aproximaciones, mediante una fórmula numérica de la derivada primera progresiva\n",
    "dersnum = np.array([dn.derivada_numerica(f,-1,j-1,10**(-j)) for j in range(1,n+1)])\n",
    "difs=[exacto-dn.derivada_numerica(f,-1,j,10**(-j)) for j in range(n)]\n",
    "\n",
    "print('Derivada centrada con h=0.1:' , dersnum[0]) \n",
    "print('Derivada progresiva con h=0.01:' , dersnum[1])\n",
    "print('Derivada regresiva con h=0.001:' , dersnum[2])\n",
    "print('Derivada centrada con tres nodos con h=0.0001:' , dersnum[3])\n",
    "print('Derivada centrada con cinco nodos con h=0.00001:' , dersnum[4])\n",
    "\n",
    "print('Diferencia entre la derivada centrada y la derivada exacta con h=0.1:' , difs[0])\n",
    "print('Diferencia entre la derivada progresiva y la derivada exacta con h=0.01:' , difs[1])\n",
    "print('Diferencia entre la derivada regresiva y la derivada exacta con h=0.001:' , difs[2])\n",
    "print('Diferencia entre la derivada centrada con tres nodos y la derivada exacta con h=0.0001:' , difs[3])\n",
    "print('Diferencia entre la derivada centrada con cinco nodos y la derivada exacta con h=0.00001:' , difs[4])"
   ]
  },
  {
   "cell_type": "markdown",
   "id": "d45787d6",
   "metadata": {},
   "source": [
    "Para poder tomar conclusiones correctas vamos a elegir un valor de $h$ fijo para comparar errores con los valores exactos. Concretamente vamos a tomar $h=0.001$."
   ]
  },
  {
   "cell_type": "code",
   "execution_count": 1445,
   "id": "55f5f404",
   "metadata": {},
   "outputs": [
    {
     "name": "stdout",
     "output_type": "stream",
     "text": [
      "Derivada centrada: -0.7692386449509314\n",
      "Derivada progresiva: -0.7695581253598371\n",
      "Derivada regresiva: -0.7689191645420257\n",
      "Derivada centrada con tres nodos: -0.7692386449509314\n",
      "Derivada centrada con cinco nodos: -0.7692389013641739\n",
      "Diferencia entre la derivada centrada y la derivada exacta: -2.56413040689019e-7\n",
      "Diferencia entre la derivada progresiva y la derivada exacta: 0.000319223995865037\n",
      "Diferencia entre la derivada regresiva y la derivada exacta: -0.000319736821946415\n",
      "Diferencia entre la derivada centrada con tres nodos y la derivada exacta: -2.56413040689019e-7\n",
      "Diferencia entre la derivada centrada con cinco nodos y la derivada exacta: 2.01838545876853e-13\n"
     ]
    }
   ],
   "source": [
    "n = 5 # Calculemos aproximaciones, mediante una fórmula numérica de la derivada primera progresiva\n",
    "dersnum = np.array([dn.derivada_numerica(f,-1,j-1,10**(-3)) for j in range(1,n+1)])\n",
    "difs=[exacto-dn.derivada_numerica(f,-1,j,10**(-3)) for j in range(n)]\n",
    "\n",
    "print('Derivada centrada:' , dersnum[0]) \n",
    "print('Derivada progresiva:' , dersnum[1])\n",
    "print('Derivada regresiva:' , dersnum[2])\n",
    "print('Derivada centrada con tres nodos:' , dersnum[3])\n",
    "print('Derivada centrada con cinco nodos:' , dersnum[4])\n",
    "\n",
    "print('Diferencia entre la derivada centrada y la derivada exacta:' , difs[0])\n",
    "print('Diferencia entre la derivada progresiva y la derivada exacta:' , difs[1])\n",
    "print('Diferencia entre la derivada regresiva y la derivada exacta:' , difs[2])\n",
    "print('Diferencia entre la derivada centrada con tres nodos y la derivada exacta:' , difs[3])\n",
    "print('Diferencia entre la derivada centrada con cinco nodos y la derivada exacta:' , difs[4])"
   ]
  },
  {
   "cell_type": "markdown",
   "id": "94234566",
   "metadata": {},
   "source": [
    "Los resultados obtenidos con la comparación de valores nos permiten determinar que, a mayor número de nodos de interpolación obtenemos una pejor aproximación. Esta conclusión se debe a que el menor error obtenido de entre todos los calculados ha sido el calculado con la fórmula de derivación numérica de la derivada centrada con cinco nodos."
   ]
  },
  {
   "cell_type": "markdown",
   "id": "c3b4a117",
   "metadata": {},
   "source": [
    "### Ejercicio 6\n",
    "> Siguiendo el modelo y el código proporcionado para la fórmula de los rectángulos a la izquierda, codifique las fórmulas compuestas de los rectángulos a la derecha y centrados. Calcule con estas dos fórmulas la aproximación de $\\displaystyle\\int_0^1 (x^2+1)dx$, el error cometido con $n=1000$ y represente al menos una de las dos gráficamente."
   ]
  },
  {
   "cell_type": "markdown",
   "id": "67163e9d",
   "metadata": {},
   "source": [
    "Las funciones de integración compuesta se encuentran en el modulo *integracion_numerica*."
   ]
  },
  {
   "cell_type": "code",
   "execution_count": 1446,
   "id": "d13f53fa",
   "metadata": {},
   "outputs": [
    {
     "data": {
      "text/latex": [
       "$\\displaystyle 1.33333333333333$"
      ],
      "text/plain": [
       "1.33333333333333"
      ]
     },
     "execution_count": 1446,
     "metadata": {},
     "output_type": "execute_result"
    }
   ],
   "source": [
    "ilib.reload(intn) # Recargamos el módulo de integración numérica\n",
    "\n",
    "def func(x):\n",
    "    \"\"\"función x^2+1\"\"\"\n",
    "    return x*x+1\n",
    "\n",
    "a, b = 0, 1\n",
    "\n",
    "f = func\n",
    "valor_exacto = sp.integrate(f(x),(x,a,b)) # valor exacto de la integral definida\n",
    "valor_exacto.evalf()"
   ]
  },
  {
   "cell_type": "code",
   "execution_count": 1447,
   "id": "0ceac700",
   "metadata": {},
   "outputs": [
    {
     "name": "stdout",
     "output_type": "stream",
     "text": [
      "Valor aproximado:  1.3338335\n",
      "Error:  -0.000500166666666635\n"
     ]
    }
   ],
   "source": [
    "valor_aproximado_dcha = intn.formula_rectangulo_derecha(f,a,b,1000) \n",
    "error_dcha = valor_exacto.evalf() - valor_aproximado_dcha\n",
    "print('Valor aproximado: ', valor_aproximado_dcha)\n",
    "print('Error: ', error_dcha)"
   ]
  },
  {
   "cell_type": "code",
   "execution_count": 1448,
   "id": "e14dfba1",
   "metadata": {},
   "outputs": [
    {
     "name": "stdout",
     "output_type": "stream",
     "text": [
      "Valor aproximado:  1.333333250000001\n",
      "Error:  8.33333322347585e-8\n"
     ]
    }
   ],
   "source": [
    "valor_aproximado_medio = intn.formula_rectangulo_medio(f,a,b,1000) \n",
    "error_medio = valor_exacto.evalf() - valor_aproximado_medio\n",
    "print('Valor aproximado: ', valor_aproximado_medio)\n",
    "print('Error: ', error_medio)"
   ]
  },
  {
   "cell_type": "markdown",
   "id": "f749c278",
   "metadata": {},
   "source": [
    "Vamos a pintar la fórmula compuesta del punto medio."
   ]
  },
  {
   "cell_type": "code",
   "execution_count": 1449,
   "id": "89ffac41",
   "metadata": {},
   "outputs": [
    {
     "data": {
      "text/plain": [
       "Text(0.5, 1.0, 'Fórmula compuesta de los rectángulos compuesta en el punto medio')"
      ]
     },
     "execution_count": 1449,
     "metadata": {},
     "output_type": "execute_result"
    },
    {
     "data": {
      "image/png": "[encoded data removed]",
      "text/plain": [
       "<Figure size 800x800 with 1 Axes>"
      ]
     },
     "metadata": {},
     "output_type": "display_data"
    }
   ],
   "source": [
    "num_values = 100; num_nodos = 10  # Número de puntos para graficar y número de nodos de integración\n",
    "x_values = np.linspace(float(a), float(b), num_values)  # Genera valores de x uniformemente distribuidos en [a, b]\n",
    "y_values = f(x_values)  # Calcula los valores de la función en los puntos x\n",
    "x_nodos = np.linspace(a, b, num_nodos)  # Genera los nodos de integración uniformemente distribuidos en [a, b]\n",
    "y_nodos = f(x_nodos)  # Calcula los valores de la función en los nodos\n",
    "\n",
    "fig, ax = plt.subplots(figsize=(8, 8))  # Crea una figura y un eje para graficar\n",
    "ax.plot(x_values, y_values, 'k', label='función del integrando')  # Dibuja la función en negro con una etiqueta\n",
    "\n",
    "# Rellena las áreas bajo la curva usando rectángulos basados en la fórmula del rectángulo a la izquierda\n",
    "for k in range(1, num_nodos):  # Itera sobre los subintervalos definidos por los nodos\n",
    "    x_izq = x_nodos[k - 1]\n",
    "    x_der = x_nodos[k]\n",
    "    x_medio = (x_izq + x_der) / 2\n",
    "    altura = f(x_medio)\n",
    "    \n",
    "    zz = np.linspace(float(x_izq), float(x_der), num_values)\n",
    "    yk = [altura] * len(zz)  # Altura constante en el intervalo\n",
    "    ax.fill_between(zz, 0, yk)\n",
    "    \n",
    "    ax.plot(x_medio, altura, 'ro')\n",
    "\n",
    "ax.legend(loc=9)  # Añade la leyenda en la parte superior central\n",
    "ax.set_xlabel('$x$', fontsize=18)  # Etiqueta del eje x\n",
    "ax.set_ylabel('$y$', fontsize=18)  # Etiqueta del eje y\n",
    "ax.set_title('Fórmula compuesta de los rectángulos compuesta en el punto medio')  # Título del gráfico"
   ]
  },
  {
   "cell_type": "markdown",
   "id": "486adb2a",
   "metadata": {},
   "source": [
    "## Ejercicio 7: \n",
    "> Implemente una función que calcule la integral de una función $f$ en el intervalo $[a,b]$ usando la fórmula de Simpson compuesta, parametrizando también el número de subintervalos utilizados (se premia la eficiencia). Represente gráficamente la fórmula de Simpson compuesta análogamente a la representación mostrada para la fórmula de los trapecios compuesta."
   ]
  },
  {
   "cell_type": "markdown",
   "id": "0a5d91d7",
   "metadata": {},
   "source": [
    "Debido a que no se comenta nada sobre la función y los intervalos a usar tomaremos los mismos valores que en el ejercicio anterio así como la función a usar. Para poder comparar correctamente tomamos los valores:\n",
    "- $f(x)=x²+1$\n",
    "- $[0,1]$ como intervalo de integración.\n",
    "- $n=10$"
   ]
  },
  {
   "cell_type": "code",
   "execution_count": 1450,
   "id": "ef551eeb",
   "metadata": {},
   "outputs": [
    {
     "name": "stdout",
     "output_type": "stream",
     "text": [
      "Valor aproximado de la integral:  1.3333333333333333\n"
     ]
    }
   ],
   "source": [
    "f=func\n",
    "\n",
    "integral=intn.Simpson_compuesta(f,0,1,10)\n",
    "print(\"Valor aproximado de la integral: \", integral)"
   ]
  },
  {
   "cell_type": "markdown",
   "id": "4094450f",
   "metadata": {},
   "source": [
    "Por tanto, vemos que la aproximación es bastante buena, tan buena que da el valor exacto. Procedemos a graficar la situación."
   ]
  },
  {
   "cell_type": "code",
   "execution_count": 1451,
   "id": "a8ff3703",
   "metadata": {},
   "outputs": [
    {
     "data": {
      "text/plain": [
       "Text(0.5, 1.0, 'Fórmula del Simpson compuesta')"
      ]
     },
     "execution_count": 1451,
     "metadata": {},
     "output_type": "execute_result"
    },
    {
     "data": {
      "image/png": "[encoded data removed]",
      "text/plain": [
       "<Figure size 800x800 with 1 Axes>"
      ]
     },
     "metadata": {},
     "output_type": "display_data"
    }
   ],
   "source": [
    "num_values = 100                            # Número de puntos para graficar\n",
    "num_nodos=10                                # Número de nodos de integración    \n",
    "x_values = np.linspace(float(a),float(b),num_values)        \n",
    "y_values = f(x_values)\n",
    "x_nodos = np.linspace(a,b,num_nodos)\n",
    "y_nodos = f(x_nodos)\n",
    "\n",
    "fig,ax = plt.subplots(figsize=(8,8))        # Crea una figura y un eje para graficar\n",
    "ax.plot(x_values,y_values,'k',label='función del integrando')\n",
    "for k in range(1,num_nodos):                   # Itera sobre los subintervalos definidos por los nodos generando las parábolas y los rectángulos\n",
    "    zz = np.linspace(float(x_nodos[k-1]),float(x_nodos[k]),num_values)\n",
    "    if(k==num_nodos-1):\n",
    "        yk = [intn.linea(z,x_nodos[k-1],y_nodos[k-1],x_nodos[k],y_nodos[k]) for z in zz]\n",
    "    else:\n",
    "        yk = [intn.parabola(x, x_nodos[k-1], y_nodos[k-1], x_nodos[k], y_nodos[k], x_nodos[k+1], y_nodos[k+1]) for x in zz]   \n",
    "     \n",
    "    ax.fill_between(zz,0,yk)\n",
    "ax.plot(x_nodos,y_nodos,'ro')\n",
    "\n",
    "\n",
    "\n",
    "ax.legend(loc=9)                            # Añade la leyenda en la parte superior central\n",
    "ax.plot(x_nodos,y_nodos,'ro')               # Dibuja los nodos de integración en rojo\n",
    "ax.set_xlabel('$x$',fontsize=18)            # Etiqueta del eje x\n",
    "ax.set_ylabel('$y$',fontsize=18)            # Etiqueta del eje y\n",
    "ax.set_title('Fórmula del Simpson compuesta')   # Título del gráfico"
   ]
  },
  {
   "cell_type": "markdown",
   "id": "ee54aabf",
   "metadata": {},
   "source": [
    "Y como se puede ver, obtenemos una solución muy bien aproximada de la solución, por lo menos para el ojo humano."
   ]
  },
  {
   "cell_type": "markdown",
   "id": "8575926f",
   "metadata": {},
   "source": [
    "## Ejercicio 8:\n",
    "> Realice una comparativa entre los errores cometidos al aproximar funciones potencias sucesivas $x^i$, con $i=1,2,3,\\ldots$ en el intervalo $[0,1]$ mediante las fórmulas de los trapecios y de Simpson compuestas con diferentes valores de $h$; e inducir de ahí, los posibles órdenes de exactitud (a partir de los valores de $i$ que proporcionen valores exactos de la integral). No deje de tener en cuenta los posibles errores de redondeo, inevitables en todo cálculo realizado con ordenador."
   ]
  },
  {
   "cell_type": "code",
   "execution_count": 1452,
   "id": "a852973e",
   "metadata": {},
   "outputs": [
    {
     "name": "stdout",
     "output_type": "stream",
     "text": [
      "Valores exactos: [1, 1/2, 1/3, 1/4, 1/5, 1/6, 1/7, 1/8, 1/9, 1/10]\n",
      "Valores aproximados del trapecio compuesta: [np.float64(1.0), np.float64(0.5), np.float64(0.3350000000000001), np.float64(0.25250000000000006), np.float64(0.20333), np.float64(0.17082500000000003), np.float64(0.1478405), np.float64(0.13080425000000004), np.float64(0.11773133300000001), np.float64(0.10743049850000003)]\n",
      "Valores aproximados de Simpson compuesta: [np.float64(1.0), np.float64(0.5), np.float64(0.3333333333333333), np.float64(0.25000000000000006), np.float64(0.20001333333333335), np.float64(0.16670000000000004), np.float64(0.14292333333333337), np.float64(0.12511500000000003), np.float64(0.11129336133333335), np.float64(0.10027012600000003)]\n",
      "Errores de la fórmula del trapecio compuesta: [0, 0, -0.00166666666666676, -0.00250000000000006, -0.00333000000000000, -0.00415833333333337, -0.00498335714285716, -0.00580425000000004, -0.00662022188888890, -0.00743049850000002]\n",
      "Errores de la fórmula de Simpson compuesta: [0, 0, 0, -5.55111512312578e-17, -1.33333333333374e-5, -3.33333333333852e-5, -6.61904761905252e-5, -0.000115000000000032, -0.000182250222222249, -0.000270126000000023]\n"
     ]
    }
   ],
   "source": [
    "# Vamos a tomar un array de valores exactos de integrales de potencias\n",
    "n = 10\n",
    "exactos= [sp.integrate(x**i,(x,0,1)) for i in range(n)] # Valores exactos de la integral definida de x^i en [0,1]\n",
    "\n",
    "# Vamos a calcular los valores aproximados de la integral definida de x^i en [0,1] usando la regla del trapecio compuesta\n",
    "aproximados_trapecio = [intn.Trapecios_compuesta(lambda x: x**i,0,1,10) for i in range(n)]\n",
    "\n",
    "# Vamos a calcular los valores aproximados de la integral definida de x^i en [0,1] usando la regla de Simpson compuesta\n",
    "aproximados_simpson = [intn.Simpson_compuesta(lambda x: x**i,0,1,10) for i in range(n)]\n",
    "\n",
    "# Vamos a calcular los errores entre los valores exactos y los aproximados\n",
    "errores_trapecio = [exactos[i] - aproximados_trapecio[i] for i in range(n)]\n",
    "errores_simpson = [exactos[i] - aproximados_simpson[i] for i in range(n)]\n",
    "\n",
    "print(\"Valores exactos:\", exactos)\n",
    "print(\"Valores aproximados del trapecio compuesta:\", aproximados_trapecio)\n",
    "print(\"Valores aproximados de Simpson compuesta:\", aproximados_simpson)\n",
    "\n",
    "print(\"Errores de la fórmula del trapecio compuesta:\", errores_trapecio)\n",
    "print(\"Errores de la fórmula de Simpson compuesta:\", errores_simpson)"
   ]
  },
  {
   "cell_type": "markdown",
   "id": "5f617113",
   "metadata": {},
   "source": [
    "Donde se ve claramente que se cumplen los grados de exactitud que conocíamos inicialmente de forma aproximada:\n",
    "- **Simpson**: exacta en $\\mathbb{P_3}$ pues el valor de $x³$ es prácticamente nulo y cuyo desvío puede ocasionarse por truncamientos del ordenador.\n",
    "- **Trapecio**: exacta en $\\mathbb{P_1}$ pues el valor de $x$ es prácticamente nulo y cuyo desvío puede ocasionarse por truncamientos del ordenador."
   ]
  },
  {
   "cell_type": "markdown",
   "id": "a958ac31",
   "metadata": {},
   "source": [
    "## Ejercicio 9:\n",
    "> Programar las técnicas de integración de Romberg y adaptativa, para después aplicarlas a la aproximación de la siguiente integral $$\\int_a^b p(x)\\, dx$$\n",
    ">siendo  $\\;a=\\displaystyle\\min_{0\\leq i\\leq 7}{d_i}$, $\\;b=\\displaystyle\\max_{0\\leq i\\leq 7}{d_i}$ y\n",
    ">$$p(x)=d_0 + d_1 x + d_2 x^2 + d_3 x^3+ d_4 x^4 + d_5 x^5 + d_6 x^6 + d_7 x^7 $$\n",
    ">(siendo $d_0, d_1, \\ldots, d_7$ los dígitos de su DNI, pasaporte o tarjeta de residente)."
   ]
  },
  {
   "cell_type": "markdown",
   "id": "e0ae79ea",
   "metadata": {},
   "source": [
    "Debido a que no nos dicen una condición de parada, en ambos métodos usaremos una condición de parada basada en tolerancia, usaremos como tolerancia $tol=10^{-5}$. En integración adaptativa quedaría como:\n",
    "$$|S(a,b)-S(a,m)-S(m,b)|<10\\epsilon, \\epsilon=10^{-5}$$"
   ]
  },
  {
   "cell_type": "code",
   "execution_count": 1453,
   "id": "a3365569",
   "metadata": {},
   "outputs": [
    {
     "name": "stdout",
     "output_type": "stream",
     "text": [
      "Valor aproximado de la integral:  6973428.9214285705\n",
      "Valor exacto:  6973428.92142857\n"
     ]
    }
   ],
   "source": [
    "def f(x):\n",
    "    return 2+6*x+5*x**2+x**3+2*x**4+9*x**5+9*x**6    \n",
    "\n",
    "exacto = sp.integrate(f(x),(x,0,9)).evalf()\n",
    "romberg = intn.Integracion_Romberg(f,0,9) \n",
    "\n",
    "print(\"Valor aproximado de la integral: \", romberg)\n",
    "print(\"Valor exacto: \", exacto)\n"
   ]
  },
  {
   "cell_type": "markdown",
   "id": "68caf2d4",
   "metadata": {},
   "source": [
    "Pasamos a realizar la ejecución con integración adaptativa, tal y como se vió en la teoría, vamos a realizar la integración adaptativa usando la formula de Simpson simple."
   ]
  },
  {
   "cell_type": "code",
   "execution_count": 1454,
   "id": "2b1cdc94",
   "metadata": {},
   "outputs": [
    {
     "name": "stdout",
     "output_type": "stream",
     "text": [
      "Valor aproximado de la integral:  6973428.92143104\n",
      "Valor exacto:  6973428.92142857\n"
     ]
    }
   ],
   "source": [
    "adaptativa= intn.Integracion_adaptativa(f,0,9,10**(-5))\n",
    "print(\"Valor aproximado de la integral: \", adaptativa)\n",
    "print(\"Valor exacto: \", exacto)"
   ]
  },
  {
   "cell_type": "markdown",
   "id": "13329eb1",
   "metadata": {},
   "source": [
    "Para compararlo, calculamos los errores con el valor exacto para ver que el error de **integración de Romberg** es menor que el cometido en **integración adaptativa** en varios órdenes de magnitud."
   ]
  },
  {
   "cell_type": "code",
   "execution_count": 1455,
   "id": "547509c7",
   "metadata": {},
   "outputs": [
    {
     "name": "stdout",
     "output_type": "stream",
     "text": [
      "Error cometido en integración de romberg:  9.31322574615479e-10\n",
      "Error cometido en integración adaptativa:  2.46893614530563e-6\n"
     ]
    }
   ],
   "source": [
    "err_romberg = abs(exacto - romberg)\n",
    "err_adap = abs(exacto-adaptativa)\n",
    "\n",
    "print(\"Error cometido en integración de romberg: \", err_romberg)\n",
    "print(\"Error cometido en integración adaptativa: \", err_adap)"
   ]
  },
  {
   "cell_type": "markdown",
   "id": "5704590d",
   "metadata": {},
   "source": [
    "En clase se comentó que se premiaba la eficiencia de la **integración de Romberg**; usaremos la fórmula de las transparencias sobre la primera columna de la tabla. No obstante, haciendo pruebas vamos a ver que la aproximación bajo las mismas condiciones es peor."
   ]
  },
  {
   "cell_type": "code",
   "execution_count": 1456,
   "id": "d115da61",
   "metadata": {},
   "outputs": [
    {
     "name": "stdout",
     "output_type": "stream",
     "text": [
      "Valor aproximado de la integral con Romberg eficiente:  6973442.368696902\n",
      "Error cometido en integración de romberg eficiente:  13.4472683304921\n",
      "Error cometido en integración de romberg:  9.31322574615479e-10\n"
     ]
    }
   ],
   "source": [
    "romberg_eficiente = intn.Integracion_Romberg_eficiente(f,0,9)\n",
    "print(\"Valor aproximado de la integral con Romberg eficiente: \", romberg_eficiente)\n",
    "err_romberg_eficiente = abs(exacto - romberg_eficiente)\n",
    "print(\"Error cometido en integración de romberg eficiente: \", err_romberg_eficiente)\n",
    "print(\"Error cometido en integración de romberg: \", err_romberg)"
   ]
  },
  {
   "cell_type": "markdown",
   "id": "4344ca02",
   "metadata": {},
   "source": [
    "## Ejercicio 10:\n",
    "> Calcule la misma integral del ejercicio 9 pero utilizando la orden `quad` y compare los resultados de la integración Romberg y adaptativa manuales con los de la orden `quad`."
   ]
  },
  {
   "cell_type": "markdown",
   "id": "70c40c4c",
   "metadata": {},
   "source": [
    "Haciendo uso de la herramienta `quad`obtenemos el siguiente resultado:"
   ]
  },
  {
   "cell_type": "code",
   "execution_count": 1457,
   "id": "f5aa2027",
   "metadata": {},
   "outputs": [
    {
     "name": "stdout",
     "output_type": "stream",
     "text": [
      "Valor romberg:  6973428.9214285705\n",
      "Valor adaptativa:  6973428.92143104\n",
      "Valor quad:  6973428.921428572\n"
     ]
    }
   ],
   "source": [
    "quad_value = quad(f,0,9)\n",
    "\n",
    "print(\"Valor romberg: \", romberg)\n",
    "print(\"Valor adaptativa: \", adaptativa)\n",
    "print(\"Valor quad: \", quad_value[0])"
   ]
  },
  {
   "cell_type": "markdown",
   "id": "f205da28",
   "metadata": {},
   "source": [
    "Vemos ahora los errores para determinar cual resultado es mejor."
   ]
  },
  {
   "cell_type": "code",
   "execution_count": 1458,
   "id": "87efb74a",
   "metadata": {},
   "outputs": [
    {
     "name": "stdout",
     "output_type": "stream",
     "text": [
      "Error cometido en integración de romberg:  9.31322574615479e-10\n",
      "Error cometido en integración adaptativa:  2.46893614530563e-6\n",
      "Error cometido en orden quad:  7.742061349156972e-08\n"
     ]
    }
   ],
   "source": [
    "print(\"Error cometido en integración de romberg: \", err_romberg)\n",
    "print(\"Error cometido en integración adaptativa: \", err_adap)\n",
    "print(\"Error cometido en orden quad: \", quad_value[-1])"
   ]
  },
  {
   "cell_type": "markdown",
   "id": "0e9b93d1",
   "metadata": {},
   "source": [
    "Y como se puede ver, **integración de Romberg** sigue aportando un valor más preciso."
   ]
  },
  {
   "cell_type": "code",
   "execution_count": 1459,
   "id": "58d23309",
   "metadata": {},
   "outputs": [
    {
     "name": "stdout",
     "output_type": "stream",
     "text": [
      "Fin de la práctica 🏁\n"
     ]
    }
   ],
   "source": [
    "print(\"Fin de la práctica 🏁\")"
   ]
  }
 ],
 "metadata": {
  "kernelspec": {
   "display_name": ".venv",
   "language": "python",
   "name": "python3"
  },
  "language_info": {
   "codemirror_mode": {
    "name": "ipython",
    "version": 3
   },
   "file_extension": ".py",
   "mimetype": "text/x-python",
   "name": "python",
   "nbconvert_exporter": "python",
   "pygments_lexer": "ipython3",
   "version": "3.12.3"
  }
 },
 "nbformat": 4,
 "nbformat_minor": 5
}
