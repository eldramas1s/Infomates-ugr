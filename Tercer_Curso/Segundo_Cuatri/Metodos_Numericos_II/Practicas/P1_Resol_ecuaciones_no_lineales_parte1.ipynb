{
 "cells": [
  {
   "cell_type": "markdown",
   "metadata": {
    "id": "nPgcEXwmcp-T"
   },
   "source": [
    "# Resolución numérica de ecuaciones no lineales\n",
    "\n",
    "**Parte 1: Cálculo gráfico de raíces, métodos de búsqueda incremental, bisección, secante, Wittaker y Newton-Raphson**"
   ]
  },
  {
   "cell_type": "markdown",
   "metadata": {
    "id": "zy_fGeMocp-U"
   },
   "source": [
    "Autor de esta versión: **Juan Antonio Villegas Recio**\n",
    "\n",
    "Autor de la versión original: Pedro González Rodelas\n",
    "\n",
    "Fecha de la primera versión: 10/08/2017\n",
    "\n",
    "Sucesivas revisiones: 15/08/2017, 19/10/2018, 15,22/03/2020 y 20/04/2020, 24/03/2021\n",
    "\n",
    "Fecha de la última revisión: 10/4/2025\n",
    "\n",
    "Notebook adaptado y extendido a partir del notebook original realizado con Mathematica e incluido en el libro:\n",
    "\n",
    "\"Análisis Numérico con Mathematica\" de Ariel Ciencia. ISBN:"
   ]
  },
  {
   "cell_type": "markdown",
   "metadata": {
    "id": "8mY_XmOUcp-V"
   },
   "source": [
    "En esta práctica vamos a usar varios procedimientos computacionales ya implementados en alguno de los módulos o librerías de Python, así como revisar e implementar nosotros mismos otros métodos numéricos varios para calcular o aproximar las raíces, también llamados ceros, de una cierta función $f(x)$ en un intervalo $[a,b]$ de la recta real."
   ]
  },
  {
   "cell_type": "markdown",
   "metadata": {
    "id": "fB_d-EDgcp-V"
   },
   "source": [
    "## Carga de los módulos y funciones empleadas"
   ]
  },
  {
   "cell_type": "markdown",
   "metadata": {
    "id": "9XMSSbZScp-V"
   },
   "source": [
    "Antes de empezar a realizar cualquier cálculo numérico o simbólico debemos de cargar los correspondientes módulos de Python que implementan la mayoría de funciones y procedimientos necesarios para ello: [`numpy`](https://numpy.org/) y [`sympy`](https://www.sympy.org/), que serán cargados con los pseudónimos `np` y `sp`, respectivamente. Además cargaremos también el submódulo `pyplot`, del paquete [`matplotlib`](https://matplotlib.org/), que nos permitirá realizar las representaciones gráficas que nos ayudarán a visualizar todo el proceso."
   ]
  },
  {
   "cell_type": "code",
   "execution_count": null,
   "metadata": {
    "colab": {
     "base_uri": "https://localhost:8080/"
    },
    "executionInfo": {
     "elapsed": 10982,
     "status": "ok",
     "timestamp": 1745347113799,
     "user": {
      "displayName": "juan_antonio VILLEGAS RECIO",
      "userId": "07002128450319972745"
     },
     "user_tz": -120
    },
    "id": "_B44W0p-UZQu",
    "outputId": "9a9db233-3e60-42b8-a7cf-866b06494a1b"
   },
   "outputs": [],
   "source": [
    "# Carga de librerías necesarias\n",
    "import numpy as np\n",
    "from numpy import sign\n",
    "import sympy as sp\n",
    "%matplotlib inline\n",
    "import matplotlib.pyplot as plt\n",
    "\n",
    "from decimal import * # Este módulo nos permitirá trabajar con una precisión determinada\n",
    "getcontext()"
   ]
  },
  {
   "cell_type": "code",
   "execution_count": null,
   "metadata": {
    "colab": {
     "base_uri": "https://localhost:8080/"
    },
    "executionInfo": {
     "elapsed": 14,
     "status": "ok",
     "timestamp": 1745347115218,
     "user": {
      "displayName": "juan_antonio VILLEGAS RECIO",
      "userId": "07002128450319972745"
     },
     "user_tz": -120
    },
    "id": "NiUBGCvocp-W",
    "outputId": "848bbed8-5d4f-4d62-96ae-7035ebca7561"
   },
   "outputs": [],
   "source": [
    "mporig = getcontext().prec\n",
    "mporig  # Esta sería la precisión con la que se trabaja por defecto"
   ]
  },
  {
   "cell_type": "code",
   "execution_count": null,
   "metadata": {
    "executionInfo": {
     "elapsed": 17,
     "status": "ok",
     "timestamp": 1745347115854,
     "user": {
      "displayName": "juan_antonio VILLEGAS RECIO",
      "userId": "07002128450319972745"
     },
     "user_tz": -120
    },
    "id": "UYrSRkbjcp-W"
   },
   "outputs": [],
   "source": [
    "def mychop(expr, *, max=10**(-16)):\n",
    "    ''' Esta función redondea por cero cualquier número más\n",
    "    pequeño a la cantidad máxima indicada'''\n",
    "    print(expr)\n",
    "    if abs(expr) > max:\n",
    "      return expr\n",
    "    else:\n",
    "      return 0\n",
    "\n",
    "# Variante vectorizada de mychop\n",
    "chop_vec = np.vectorize(mychop)"
   ]
  },
  {
   "cell_type": "markdown",
   "metadata": {
    "id": "f1BH49PxUZQw"
   },
   "source": [
    "## Primer intento: Obtener las raíces simbólicas"
   ]
  },
  {
   "cell_type": "markdown",
   "metadata": {
    "collapsed": true,
    "id": "U69eXcPrcp-W"
   },
   "source": [
    "En un primer momento podríamos intentar tratar de obtener simbólicamente la o las posibles raíces. Para trabajo simbólico podemos utilizar el módulo `sympy`. Primero definiremos una variable simbólica usando la función `Symbol` y definiremos la función de la cual queremos conocer su raíz o raíces."
   ]
  },
  {
   "cell_type": "code",
   "execution_count": null,
   "metadata": {
    "colab": {
     "base_uri": "https://localhost:8080/",
     "height": 38
    },
    "executionInfo": {
     "elapsed": 44,
     "status": "ok",
     "timestamp": 1745347269785,
     "user": {
      "displayName": "juan_antonio VILLEGAS RECIO",
      "userId": "07002128450319972745"
     },
     "user_tz": -120
    },
    "id": "9fQcBVqpcp-X",
    "outputId": "aef5019c-ef25-44e8-81d5-0758fbe2ded2"
   },
   "outputs": [],
   "source": [
    "x = sp.Symbol('x') # Ahora cada vez que usemos x se referirá a la variable simbólica\n",
    "x"
   ]
  },
  {
   "cell_type": "markdown",
   "metadata": {
    "id": "NCM773fmUZQx"
   },
   "source": [
    "Como primer ejemplo, supongamos que queremos conocer las raices de la funcion $f(x)=e^x-3$, $x\\in\\mathbb R$. Como primero vamos a trabajar en simbólico utilizaremos la función `exp` de `sympy`, pero cuidado porque `numpy` también posee una funcion llamada `exp`. La diferencia entre estas dos funciones es que la de `sympy` trabaja en simbólico y la de `numpy` en numérico, aunque los valores en sí son los mismos en ambos casos. Observa las siguientes celdas:"
   ]
  },
  {
   "cell_type": "code",
   "execution_count": null,
   "metadata": {
    "colab": {
     "base_uri": "https://localhost:8080/"
    },
    "executionInfo": {
     "elapsed": 212,
     "status": "ok",
     "timestamp": 1745347271172,
     "user": {
      "displayName": "juan_antonio VILLEGAS RECIO",
      "userId": "07002128450319972745"
     },
     "user_tz": -120
    },
    "id": "j2g__ULBcp-X",
    "outputId": "2dfe4974-62d1-4744-e1fc-77676958a38d"
   },
   "outputs": [],
   "source": [
    "def fsym(x):\n",
    "    ''' Version simbolica de la función'''\n",
    "    return sp.exp(x)-3\n",
    "\n",
    "fsym(x), fsym(1)"
   ]
  },
  {
   "cell_type": "code",
   "execution_count": null,
   "metadata": {
    "colab": {
     "base_uri": "https://localhost:8080/"
    },
    "executionInfo": {
     "elapsed": 8,
     "status": "ok",
     "timestamp": 1745347271765,
     "user": {
      "displayName": "juan_antonio VILLEGAS RECIO",
      "userId": "07002128450319972745"
     },
     "user_tz": -120
    },
    "id": "BOmOPlbVcp-X",
    "outputId": "0b4dbeec-c3f6-427c-c8f4-6114dedfc561"
   },
   "outputs": [],
   "source": [
    "def fnum(x):\n",
    "    ''' Version numerica de la función'''\n",
    "    return np.exp(x)-3\n",
    "\n",
    "fnum(1) #, fnum(x) # No se puede evaluar la función simbólica en este caso"
   ]
  },
  {
   "cell_type": "code",
   "execution_count": null,
   "metadata": {
    "executionInfo": {
     "elapsed": 8,
     "status": "ok",
     "timestamp": 1745347272577,
     "user": {
      "displayName": "juan_antonio VILLEGAS RECIO",
      "userId": "07002128450319972745"
     },
     "user_tz": -120
    },
    "id": "l9vKCAEocp-X"
   },
   "outputs": [],
   "source": [
    "# De momento nos quedamos con la versión simbólica de la función\n",
    "f = fsym"
   ]
  },
  {
   "cell_type": "code",
   "execution_count": null,
   "metadata": {
    "colab": {
     "base_uri": "https://localhost:8080/"
    },
    "executionInfo": {
     "elapsed": 18,
     "status": "ok",
     "timestamp": 1745347273241,
     "user": {
      "displayName": "juan_antonio VILLEGAS RECIO",
      "userId": "07002128450319972745"
     },
     "user_tz": -120
    },
    "id": "iO3mwDZIcp-X",
    "outputId": "96b819a5-f6c8-4090-95df-6b66946793d0"
   },
   "outputs": [],
   "source": [
    "a, b = 0, 2 # Intervalo de búsqueda de la raíz\n",
    "f(a),f(b) # Evaluamos la función en los extremos del intervalo"
   ]
  },
  {
   "cell_type": "code",
   "execution_count": null,
   "metadata": {
    "colab": {
     "base_uri": "https://localhost:8080/"
    },
    "executionInfo": {
     "elapsed": 16,
     "status": "ok",
     "timestamp": 1745347273793,
     "user": {
      "displayName": "juan_antonio VILLEGAS RECIO",
      "userId": "07002128450319972745"
     },
     "user_tz": -120
    },
    "id": "5BTThGBscp-X",
    "outputId": "c5c60e24-0f47-4ad1-abc1-8143a6df5739"
   },
   "outputs": [],
   "source": [
    "# Observamos el signo de la función en los extremos del intervalo\n",
    "sign(f(a)*f(b))"
   ]
  },
  {
   "cell_type": "markdown",
   "metadata": {
    "id": "cmyUDNjWUZQy"
   },
   "source": [
    "Como la función es continua y derivable en $[0,2]$ y ademas tiene signo distinto en los extremos, entonces sabemos a ciencia cierta, por el teorema de Bolzano, que existe al menos una raíz en dicho intervalo.\n",
    "\n",
    "A continuación usamos la funcion `sp.plot` para representar la función en el intervalo deseado."
   ]
  },
  {
   "cell_type": "code",
   "execution_count": null,
   "metadata": {
    "colab": {
     "base_uri": "https://localhost:8080/",
     "height": 504
    },
    "executionInfo": {
     "elapsed": 728,
     "status": "ok",
     "timestamp": 1745347276720,
     "user": {
      "displayName": "juan_antonio VILLEGAS RECIO",
      "userId": "07002128450319972745"
     },
     "user_tz": -120
    },
    "id": "Hm_R9Zsrcp-X",
    "outputId": "93c5fad1-ece8-481a-a4f7-b257f599f229"
   },
   "outputs": [],
   "source": [
    "sp.plot(f(x),(x,a,b))"
   ]
  },
  {
   "cell_type": "markdown",
   "metadata": {
    "id": "hnbv05iyUZQz"
   },
   "source": [
    "En efecto hay una raíz. En este caso concreto podemos usar la función `sp.solve` para obtenerla."
   ]
  },
  {
   "cell_type": "code",
   "execution_count": null,
   "metadata": {
    "colab": {
     "base_uri": "https://localhost:8080/"
    },
    "executionInfo": {
     "elapsed": 193,
     "status": "ok",
     "timestamp": 1745347290812,
     "user": {
      "displayName": "juan_antonio VILLEGAS RECIO",
      "userId": "07002128450319972745"
     },
     "user_tz": -120
    },
    "id": "oPrk8o1fcp-X",
    "outputId": "c0ce2d8a-589b-409f-e0cc-e2a2a0b46e21"
   },
   "outputs": [],
   "source": [
    "sol_exact = sp.solve(f(x),x)[0] # Solución exacta de la ecuación f(x)=0\n",
    "print(sol_exact)"
   ]
  },
  {
   "cell_type": "code",
   "execution_count": null,
   "metadata": {
    "colab": {
     "base_uri": "https://localhost:8080/",
     "height": 37
    },
    "executionInfo": {
     "elapsed": 30,
     "status": "ok",
     "timestamp": 1745347299063,
     "user": {
      "displayName": "juan_antonio VILLEGAS RECIO",
      "userId": "07002128450319972745"
     },
     "user_tz": -120
    },
    "id": "kNEitSeicp-X",
    "outputId": "18c074ad-23da-43a7-9aec-2281a8d753d5"
   },
   "outputs": [],
   "source": [
    "sol_exact.evalf()"
   ]
  },
  {
   "cell_type": "markdown",
   "metadata": {
    "id": "3l-NW3-5cp-X"
   },
   "source": [
    "No obstante, es bien sabido que no siempre es posible, ni fácil, encontrar simbólicamente las raíces de ciertas ecuaciones de tipo trascendente o incluso polinómicas de grado superior. Por ello es habitual y más recomendable emplear algún método numérico para aproximar las posibles raíces de las ecuaciones de tipo no lineal. En todo caso, lo primero que tenemos que hacer es estudiar si efectivamente dicha ecuación puede tener soluciones reales y comprobar que se dan las condiciones adecuadas para poder aplicar el método correspondiente. Muchas veces lo mejor será ayudarnos previamente,  siempre que podamos, con una representación gráfica de la función en un intervalo apropiado. De esta manera, la ecuación tendrá una interpretación geométrica muy clara, como la búsqueda de los puntos de corte de la gráfica de dicha función con el eje $OX$."
   ]
  },
  {
   "cell_type": "markdown",
   "metadata": {
    "id": "StrC9vI6UZQ0"
   },
   "source": [
    "## Segundo intento: Aproximar las raíces de forma numérica"
   ]
  },
  {
   "cell_type": "code",
   "execution_count": null,
   "metadata": {
    "executionInfo": {
     "elapsed": 48,
     "status": "ok",
     "timestamp": 1745347389856,
     "user": {
      "displayName": "juan_antonio VILLEGAS RECIO",
      "userId": "07002128450319972745"
     },
     "user_tz": -120
    },
    "id": "kwlCUed_cp-Y"
   },
   "outputs": [],
   "source": [
    "# ahora nos interesará emplear la versión numérica de la función\n",
    "# por lo que nos convendrá intercambiar la definición de f(x)\n",
    "f = fnum"
   ]
  },
  {
   "cell_type": "markdown",
   "metadata": {
    "id": "-VRY6kqpUZQ0"
   },
   "source": [
    "En el siguiente código definimos un array de `numpy` (que no es lo mismo que una lista convencional) correspondiente a los valores de `num_points` valores reales equiespaciados entre `a` y `b`. Aplicamos la funcion `f` a cada uno de esos valores. Obsérvese que estamos pasando una colección de números como argumento a `f` y no un único valor. Esto es parte de la potencia de `numpy` para el cálculo numérico."
   ]
  },
  {
   "cell_type": "code",
   "execution_count": null,
   "metadata": {
    "colab": {
     "base_uri": "https://localhost:8080/"
    },
    "executionInfo": {
     "elapsed": 38,
     "status": "ok",
     "timestamp": 1745347391369,
     "user": {
      "displayName": "juan_antonio VILLEGAS RECIO",
      "userId": "07002128450319972745"
     },
     "user_tz": -120
    },
    "id": "RN72rKoKcp-Y",
    "outputId": "d6d94cff-da15-4ebb-e470-49be9d83eaa5"
   },
   "outputs": [],
   "source": [
    "num_points = 100\n",
    "x_values = np.linspace(a,b,num_points)\n",
    "y_values = f(x_values)\n",
    "x_values, y_values # Valores de x e y para graficar la función"
   ]
  },
  {
   "cell_type": "code",
   "execution_count": null,
   "metadata": {
    "executionInfo": {
     "elapsed": 10,
     "status": "ok",
     "timestamp": 1745347396062,
     "user": {
      "displayName": "juan_antonio VILLEGAS RECIO",
      "userId": "07002128450319972745"
     },
     "user_tz": -120
    },
    "id": "-emEC3q5UZQ0"
   },
   "outputs": [],
   "source": [
    "# Tambien podiamos haber hecho\n",
    "y_values = np.array([f(x) for x in x_values])\n",
    "# o incluso\n",
    "y_values = np.array(list(map(f,x_values))) # Version con map\n",
    "# pero ambas son más lentas que la versión vectorizada"
   ]
  },
  {
   "cell_type": "code",
   "execution_count": null,
   "metadata": {
    "colab": {
     "base_uri": "https://localhost:8080/",
     "height": 430
    },
    "executionInfo": {
     "elapsed": 347,
     "status": "ok",
     "timestamp": 1745347397283,
     "user": {
      "displayName": "juan_antonio VILLEGAS RECIO",
      "userId": "07002128450319972745"
     },
     "user_tz": -120
    },
    "id": "aWBvoVKBcp-Y",
    "outputId": "f0d0d6ec-eb69-41cb-df4e-58994c7cbbc5"
   },
   "outputs": [],
   "source": [
    "# Graficamos la función utilizando matplotlib\n",
    "plt.plot(x_values,y_values);"
   ]
  },
  {
   "cell_type": "markdown",
   "metadata": {
    "id": "8R2HXEGEcp-Y"
   },
   "source": [
    "Con la ayuda de este gráfico podemos intuir dónde podría estar el punto de corte de dicha gráfica con el eje $Ox$, no obstante convendría ajustar alguna de las opciones por defecto de los gráficos de MatPlotlib con el objeto de poder controlar la posición exacta de los ejes, por ejemplo."
   ]
  },
  {
   "cell_type": "code",
   "execution_count": null,
   "metadata": {
    "colab": {
     "base_uri": "https://localhost:8080/",
     "height": 423
    },
    "executionInfo": {
     "elapsed": 325,
     "status": "ok",
     "timestamp": 1745347416699,
     "user": {
      "displayName": "juan_antonio VILLEGAS RECIO",
      "userId": "07002128450319972745"
     },
     "user_tz": -120
    },
    "id": "PbXNh7arcp-Y",
    "outputId": "71a5bfec-799e-4115-ee10-7e09fe79966a"
   },
   "outputs": [],
   "source": [
    "# Con plt.subplots() generamos una instancia de la clase Figure y\n",
    "# una de la clase Axes, que nos permite graficar en ella e incluso incluir\n",
    "# varios gráficos en la misma figura.\n",
    "fig, ax = plt.subplots()\n",
    "\n",
    "# Si queremos evitar que se dibujen los ejes derecho y superior de la figura\n",
    "ax.spines['right'].set_color('none')    # borde derecho\n",
    "ax.spines['top'].set_color('none')      # borde superior\n",
    "\n",
    "# Fijar la posición de las marcas en la parte inferior\n",
    "ax.xaxis.set_ticks_position('bottom')\n",
    "# Situar el eje Ox en la recta horizontal y=0\n",
    "ax.spines['bottom'].set_position(('data',0))\n",
    "\n",
    "\n",
    "# Fijar la posición de las marcas a la izquierda del eje Oy\n",
    "ax.yaxis.set_ticks_position('left')\n",
    "# Situar el eje Oy en la recta vertical x=0\n",
    "ax.spines['left'].set_position(('data',0))\n",
    "\n",
    "# Mostramos el gráfico despues de las modificaciones\n",
    "ax.plot(x_values, y_values)"
   ]
  },
  {
   "cell_type": "markdown",
   "metadata": {
    "id": "UXGIra5ncp-Z"
   },
   "source": [
    "Vemos claramente que esta función posee una raíz, también llamado cero o punto de corte con el eje $Ox$ cerca del valor real $1.0$ y en todo caso comprendido entre los valores $1.0$ y $1.5$. Esta simple idea de ir acotando el cero de una función *continua* entre dos valores reales, entre los cuales se encuentre el punto de corte con el eje $Ox$, podría servirnos para aproximar cada vez más dicho cero o raíz, pudiéndose realizar todo este proceso de manera gráfica, como veremos a continuación."
   ]
  },
  {
   "cell_type": "code",
   "execution_count": null,
   "metadata": {
    "executionInfo": {
     "elapsed": 62,
     "status": "ok",
     "timestamp": 1745347435733,
     "user": {
      "displayName": "juan_antonio VILLEGAS RECIO",
      "userId": "07002128450319972745"
     },
     "user_tz": -120
    },
    "id": "AvTjQZd7cp-Z"
   },
   "outputs": [],
   "source": [
    "a_1, b_1 = 1.0, 1.5 # Intervalo de búsqueda de la raíz\n",
    "x_values_1 = np.linspace(a_1,b_1,num_points)\n",
    "y_values_1 = f(x_values_1)"
   ]
  },
  {
   "cell_type": "markdown",
   "metadata": {
    "id": "nafzCM6dUZQ1"
   },
   "source": [
    "El siguiente código muestra el gráfico original con un pequeño subgráfico con zoom alrededor de la raíz."
   ]
  },
  {
   "cell_type": "code",
   "execution_count": null,
   "metadata": {
    "colab": {
     "base_uri": "https://localhost:8080/",
     "height": 443
    },
    "executionInfo": {
     "elapsed": 365,
     "status": "ok",
     "timestamp": 1745347459627,
     "user": {
      "displayName": "juan_antonio VILLEGAS RECIO",
      "userId": "07002128450319972745"
     },
     "user_tz": -120
    },
    "id": "aGwLVl4Icp-Z",
    "outputId": "33c9c764-63e2-4fd3-fbf0-555db7cde679"
   },
   "outputs": [],
   "source": [
    "fig = plt.figure()\n",
    "\n",
    "ax1 = fig.add_axes([0.1, 0.1, 0.8, 0.8]) # Ejes principales, https://www.geeksforgeeks.org/matplotlib-figure-figure-add_axes-in-python/\n",
    "ax2 = fig.add_axes([0.2, 0.5, 0.4, 0.3]) # Ejes insertados\n",
    "\n",
    "ax1.spines['right'].set_color('none')\n",
    "ax1.spines['top'].set_color('none')\n",
    "ax1.xaxis.set_ticks_position('bottom')\n",
    "ax1.spines['bottom'].set_position(('data',0))\n",
    "ax1.yaxis.set_ticks_position('left')\n",
    "ax1.spines['left'].set_position(('data',0))\n",
    "\n",
    "ax2.spines['right'].set_color('none')\n",
    "ax2.spines['top'].set_color('none')\n",
    "ax2.xaxis.set_ticks_position('bottom')\n",
    "ax2.spines['bottom'].set_position(('data',0))\n",
    "ax2.yaxis.set_ticks_position('left')\n",
    "# ax2.spines['left'].set_position(('data',0))\n",
    "\n",
    "# Figura principal\n",
    "ax1.plot(x_values, y_values, 'b')\n",
    "ax1.set_xlabel('x')\n",
    "ax1.set_ylabel('y')\n",
    "ax1.set_title('Grafica inicial en azul')\n",
    "\n",
    "# Subfigura insertada\n",
    "ax2.plot(x_values_1, y_values_1, 'g')\n",
    "ax2.set_xlabel('x')\n",
    "ax2.set_ylabel('y')\n",
    "ax2.set_title('Zoom alrededor de la raíz');"
   ]
  },
  {
   "cell_type": "markdown",
   "metadata": {
    "id": "bRPGrhdwcp-f"
   },
   "source": [
    "Repitamos el proceso varias veces, hasta que consigamos acotar el cero de esta misma función, con un error inferior a una milésima por ejemplo, modificando convenientemente los límites $a_1$ y $b_1$ del subintervalo considerado para representar solamente un zoom de su gráfica inicial en el subintervalo adecuado."
   ]
  },
  {
   "cell_type": "code",
   "execution_count": null,
   "metadata": {
    "executionInfo": {
     "elapsed": 55,
     "status": "ok",
     "timestamp": 1745347487546,
     "user": {
      "displayName": "juan_antonio VILLEGAS RECIO",
      "userId": "07002128450319972745"
     },
     "user_tz": -120
    },
    "id": "gLp8Xj97cp-f"
   },
   "outputs": [],
   "source": [
    "a_1 = 1.098; b_1 = 1.099;\n",
    "x_values_1 = np.linspace(a_1,b_1,num_points)\n",
    "y_values_1 = f(x_values_1)"
   ]
  },
  {
   "cell_type": "code",
   "execution_count": null,
   "metadata": {
    "colab": {
     "base_uri": "https://localhost:8080/",
     "height": 448
    },
    "executionInfo": {
     "elapsed": 150,
     "status": "ok",
     "timestamp": 1745347490882,
     "user": {
      "displayName": "juan_antonio VILLEGAS RECIO",
      "userId": "07002128450319972745"
     },
     "user_tz": -120
    },
    "id": "t92eSI4lcp-f",
    "outputId": "f5302999-de3d-46dc-ab6c-25b7399ef4c3"
   },
   "outputs": [],
   "source": [
    "fig, ax = plt.subplots()\n",
    "ax.spines['right'].set_color('none')\n",
    "ax.spines['top'].set_color('none')\n",
    "ax.xaxis.set_ticks_position('bottom')\n",
    "# ax.spines['bottom'].set_position(('data',0))\n",
    "ax.yaxis.set_ticks_position('left')\n",
    "ax.plot(x_values_1, y_values_1);"
   ]
  },
  {
   "cell_type": "markdown",
   "metadata": {
    "id": "YzsakPYecp-f"
   },
   "source": [
    "Esta misma idea también es la base de otros métodos numéricos. En todos ellos partimos de que se dan las hipótesis del conocido teorema de Bolzano para la función $f$ en cierto intervalo de su dominio de definición; esto es, continuidad en dicho intervalo y cambio de signo para los valores de la función en los extremos del mismo. Así podremos  tener asegurada la existencia de al menos una raíz de la ecuación $f(x)=0$ en dicho intervalo.\n",
    "\n",
    "En esta misma idea se basan los denominados métodos de *bisección* y el de *regula-falsi*, que chequean en todo momento que el preceptivo cambio de signo entre los valores de la función en los extremos del subintervalo considerado en cada iteración del método sigue teniendo lugar."
   ]
  },
  {
   "cell_type": "markdown",
   "metadata": {
    "id": "_fukTWkdcp-f"
   },
   "source": [
    "## Método de búsqueda incremental"
   ]
  },
  {
   "cell_type": "markdown",
   "metadata": {
    "id": "qcJfMvfzcp-f"
   },
   "source": [
    "Por otra parte, el denominado *método de búsqueda incremental* también va chequeando valores de la función continua en puntos sucesivos $x_i < x_{i+1} = x_i + \\Delta x $ para un cierto valor adecuado del incremento $\\Delta x > 0$. De manera que , si la función tiene ceros en el intervalo de partida y elegimos adecuadamente este valor del incremento, podremos localizar y aislar al menos algunos de ellos con este rudimentario procedimiento, aunque por supuesto que también adolece de algún que otro inconveniente:\n",
    "* Es posible que pasemos por alto sin detectar varios ceros demasiado próximos, si el incremento $\\Delta x$ no es lo suficientemente pequeño.\n",
    "* Las raíces dobles (ceros que coinciden) no serán detectadas por este tipo de procedimientos, ya que no necesariamente involucran cambio de signo.\n",
    "* Ciertas singularidades o discontinuidades de la función pueden dar lugar a incongruencias o falsos ceros, si no se verifica previamente la continuidad de la función en los subintervalos considerados."
   ]
  },
  {
   "cell_type": "markdown",
   "metadata": {
    "id": "z6xuzjH7cp-f"
   },
   "source": [
    "Veámos a continuación una posible implementación en forma de módulo o función de este sencillo procedimiento."
   ]
  },
  {
   "cell_type": "code",
   "execution_count": null,
   "metadata": {
    "executionInfo": {
     "elapsed": 8,
     "status": "ok",
     "timestamp": 1745347598176,
     "user": {
      "displayName": "juan_antonio VILLEGAS RECIO",
      "userId": "07002128450319972745"
     },
     "user_tz": -120
    },
    "id": "-EFzzoVecp-f"
   },
   "outputs": [],
   "source": [
    "def busqueda_incremental(f,a,b,dx):\n",
    "    x1, x2 = a, a + dx\n",
    "    f1, f2 = f(x1), f(x2)\n",
    "    while np.sign(f1) == np.sign(f2):\n",
    "        if x1 >= b:\n",
    "            return None,None   # se podría cambiar por x2 >= b\n",
    "        x1, x2 = x2, x2 + dx\n",
    "        f1, f2 = f2, f(x2)\n",
    "    else: # si no se cumple la condición del while\n",
    "        return x1,x2"
   ]
  },
  {
   "cell_type": "code",
   "execution_count": null,
   "metadata": {
    "executionInfo": {
     "elapsed": 33,
     "status": "ok",
     "timestamp": 1745347599319,
     "user": {
      "displayName": "juan_antonio VILLEGAS RECIO",
      "userId": "07002128450319972745"
     },
     "user_tz": -120
    },
    "id": "PjRQPjgmcp-g"
   },
   "outputs": [],
   "source": [
    "# recordemos qué función tenemos definida en este momento\n",
    "?f"
   ]
  },
  {
   "cell_type": "code",
   "execution_count": null,
   "metadata": {
    "colab": {
     "base_uri": "https://localhost:8080/"
    },
    "executionInfo": {
     "elapsed": 66,
     "status": "ok",
     "timestamp": 1745347608914,
     "user": {
      "displayName": "juan_antonio VILLEGAS RECIO",
      "userId": "07002128450319972745"
     },
     "user_tz": -120
    },
    "id": "NWd679kQcp-g",
    "outputId": "6f12a946-647c-4c45-a275-ee93143bf331"
   },
   "outputs": [],
   "source": [
    "a,b # así como el intervalo del que partíamos"
   ]
  },
  {
   "cell_type": "code",
   "execution_count": null,
   "metadata": {
    "colab": {
     "base_uri": "https://localhost:8080/"
    },
    "executionInfo": {
     "elapsed": 31,
     "status": "ok",
     "timestamp": 1745347609655,
     "user": {
      "displayName": "juan_antonio VILLEGAS RECIO",
      "userId": "07002128450319972745"
     },
     "user_tz": -120
    },
    "id": "u8E8N-_Tcp-g",
    "outputId": "e66222eb-6f9f-4591-8c52-03ed9089b881"
   },
   "outputs": [],
   "source": [
    "# Comprobamos si la función tiene el mismo signo en los extremos del intervalo\n",
    "np.sign(f(a)) != np.sign(f(b))"
   ]
  },
  {
   "cell_type": "markdown",
   "metadata": {
    "collapsed": true,
    "id": "7hS0Rn8dcp-g"
   },
   "source": [
    "Empecemos realizando ahora una búsqueda incremental con paso de una décima (`dx = 0.1`) y sigamos refinando la búsqueda con pasos correspondientes a una centésima (`dx = 0.01`), una milésima (`dx = 0.001`), etc. Otra idea útil sería tomar como aproximación de la raíz el punto medio de cada uno de los sucesivos intervalos en los que hayamos encajado la misma. Así tendremos asegurado que el error cometido será inferior a dicho valor del incremento `dx`."
   ]
  },
  {
   "cell_type": "code",
   "execution_count": null,
   "metadata": {
    "colab": {
     "base_uri": "https://localhost:8080/"
    },
    "executionInfo": {
     "elapsed": 14,
     "status": "ok",
     "timestamp": 1745347611802,
     "user": {
      "displayName": "juan_antonio VILLEGAS RECIO",
      "userId": "07002128450319972745"
     },
     "user_tz": -120
    },
    "id": "bCHwXZN5cp-g",
    "outputId": "fe80cc44-31b6-48b6-fd3f-5c69dc26a803"
   },
   "outputs": [],
   "source": [
    "dx = 0.1\n",
    "a1,b1 = busqueda_incremental(f,a,b,dx) # búsqueda incremental con décimas\n",
    "print(f\"a1={a1},b1={b1}\")\n",
    "print (f\"Estimación de la raíz (dx={dx}): {(a1+b1)/2}\")"
   ]
  },
  {
   "cell_type": "code",
   "execution_count": null,
   "metadata": {
    "colab": {
     "base_uri": "https://localhost:8080/"
    },
    "executionInfo": {
     "elapsed": 23,
     "status": "ok",
     "timestamp": 1745347620926,
     "user": {
      "displayName": "juan_antonio VILLEGAS RECIO",
      "userId": "07002128450319972745"
     },
     "user_tz": -120
    },
    "id": "GHctZQB9cp-g",
    "outputId": "87b8240e-40b4-44e9-ae54-32f9b678eef0"
   },
   "outputs": [],
   "source": [
    "dx = 0.01\n",
    "a2,b2 = busqueda_incremental(f,a1,b1,dx) # búsqueda incremental con centésimas\n",
    "print(f\"a2={a2},b2={b2}\")\n",
    "print (f\"Estimación de la raíz (dx={dx}): {(a2+b2)/2}\")"
   ]
  },
  {
   "cell_type": "code",
   "execution_count": null,
   "metadata": {
    "colab": {
     "base_uri": "https://localhost:8080/"
    },
    "executionInfo": {
     "elapsed": 6,
     "status": "ok",
     "timestamp": 1745347621974,
     "user": {
      "displayName": "juan_antonio VILLEGAS RECIO",
      "userId": "07002128450319972745"
     },
     "user_tz": -120
    },
    "id": "-ZV1ztxvcp-g",
    "outputId": "60f59d1c-4f7b-4190-adf5-e4a5bcb085b7"
   },
   "outputs": [],
   "source": [
    "dx = 0.001\n",
    "a3,b3 = busqueda_incremental(f,a2,b2,dx) # búsqueda incremental con milésimas\n",
    "print(f\"a3={a3},b3={b3}\")\n",
    "print (f\"Estimación de la raíz (dx={dx}): {(a3+b3)/2}\")"
   ]
  },
  {
   "cell_type": "code",
   "execution_count": null,
   "metadata": {
    "colab": {
     "base_uri": "https://localhost:8080/"
    },
    "executionInfo": {
     "elapsed": 17,
     "status": "ok",
     "timestamp": 1745340520912,
     "user": {
      "displayName": "juan_antonio VILLEGAS RECIO",
      "userId": "07002128450319972745"
     },
     "user_tz": -120
    },
    "id": "FpBT33NKZnaN",
    "outputId": "502ec7e7-6e6c-4670-9987-ae83a3968b93"
   },
   "outputs": [],
   "source": [
    "print(f\"Valor exacto de la raíz {sol_exact.evalf()}\")"
   ]
  },
  {
   "cell_type": "markdown",
   "metadata": {
    "id": "YdD6CJ3Jcp-h"
   },
   "source": [
    "También vamos a guardar dicho procedimiento en un fichero de Python `busqueda_incremental.py` en nuestro directorio de trabajo, por si queremos usarlo posteriormente en una sesión de Python desde la terminal o bien desde cualquier sistema integrado de desarrolo (IDE, de las siglas en inglés)."
   ]
  },
  {
   "cell_type": "code",
   "execution_count": null,
   "metadata": {
    "colab": {
     "base_uri": "https://localhost:8080/",
     "height": 35
    },
    "executionInfo": {
     "elapsed": 5,
     "status": "ok",
     "timestamp": 1745347644373,
     "user": {
      "displayName": "juan_antonio VILLEGAS RECIO",
      "userId": "07002128450319972745"
     },
     "user_tz": -120
    },
    "id": "m0nYeFElcp-h",
    "outputId": "56afdb61-63f1-4a07-9be2-0ba58bed1add"
   },
   "outputs": [],
   "source": [
    "%pwd # esta orden de IPython se traduciría en la correspondiente\n",
    "# del sistema operativo que nos muestra dicho directorio de trabajo"
   ]
  },
  {
   "cell_type": "code",
   "execution_count": null,
   "metadata": {
    "colab": {
     "base_uri": "https://localhost:8080/"
    },
    "executionInfo": {
     "elapsed": 19,
     "status": "ok",
     "timestamp": 1745347645475,
     "user": {
      "displayName": "juan_antonio VILLEGAS RECIO",
      "userId": "07002128450319972745"
     },
     "user_tz": -120
    },
    "id": "6Z02PfiDcp-h",
    "outputId": "4c49e567-0550-464e-9a5a-b0fc7c9cc900"
   },
   "outputs": [],
   "source": [
    "%%writefile busqueda_incremental.py\n",
    "# -*- coding: UTF-8 -*-\n",
    "## modulo busqueda_incremental\n",
    "'''\n",
    "x1,x2 = busqueda_incremental(f,a,b,dx)\n",
    "buscará dentro del intervalo [a,b] en incrementos de dx una acotación\n",
    "de la forma [x1,x2] de la raíz más pequeña de f(x) en dicho intervalo.\n",
    "Se devolverá x1 = x2 = None en caso de no encontrarse ninguna.\n",
    "'''\n",
    "# global f,a,b,dx\n",
    "\n",
    "def busqueda_incremental(f,a,b,dx):\n",
    "    x1, x2 = a, a + dx\n",
    "    f1, f2 = f(x1), f(x2)\n",
    "    while np.sign(f1) == np.sign(f2):\n",
    "        if x1 >= b:\n",
    "            return None,None   # se podría cambiar por x2 >= b\n",
    "        x1, x2 = x2, x2 + dx\n",
    "        f1, f2 = f2, f(x2)\n",
    "    else: # si no se cumple la condición del while\n",
    "        return x1,x2"
   ]
  },
  {
   "cell_type": "markdown",
   "metadata": {
    "id": "9uQhdoNOcp-h"
   },
   "source": [
    "Por otra parte, en todos y cada uno de los métodos que se presentan a continuación será absolutamente necesario evitar la posibilidad de entrar en un posible \"bucle infinito\", que dejaría bloqueado al programa e incluso al sistema operativo del ordenador en el caso de que no consigamos interrumpir los cálculos."
   ]
  },
  {
   "cell_type": "markdown",
   "metadata": {
    "id": "d-A1i34p8ZEU"
   },
   "source": [
    "### Precisión y tolerancia"
   ]
  },
  {
   "cell_type": "markdown",
   "metadata": {
    "id": "M4PHYWNAcp-h"
   },
   "source": [
    "Tendremos pues que idear unos ciertos criterios de parada, de manera que el proceso se detenga cuando los resultados obtenidos se diferencien en menos de un cierto valor, que será la tolerancia o error máximo permitido, `tol`; o bien, cuando sean realizadas un número máximo de iteraciones, `nmax`, que indicaremos de antemano.\n",
    "\n",
    "Por otro lado, para la comprobación de una posible raíz exacta de la ecuación, se ha implementado una condición del tipo\n",
    "$|f(c)|<\\varepsilon$, siendo $\\varepsilon =10^{-\\sigma }$ con $\\sigma = 16$, que suele ser la precisión de la máquina cuando se trabaja en \"doble precisión\", que es lo habitual en cálculo numérico.\n",
    "\n",
    "Esto es debido a que, a no ser que se efectuaran todos los cálculos de forma simbólica (con la consecuente ralentización del proceso), siempre se realizan con una precisión limitada, y, por lo tanto, hay que considerar de esta manera la posibilidad de encontrar un valor de la raíz, afectado siempre por errores de redondeo, muy próximo a la raíz exacta de la ecuación."
   ]
  },
  {
   "cell_type": "code",
   "execution_count": null,
   "metadata": {
    "executionInfo": {
     "elapsed": 6,
     "status": "ok",
     "timestamp": 1745347651784,
     "user": {
      "displayName": "juan_antonio VILLEGAS RECIO",
      "userId": "07002128450319972745"
     },
     "user_tz": -120
    },
    "id": "x5Pell2xcp-i"
   },
   "outputs": [],
   "source": [
    "mp = 16;                # Máxima precisión\n",
    "getcontext().prec = mp #https://docs.python.org/3/library/decimal.html"
   ]
  },
  {
   "cell_type": "code",
   "execution_count": null,
   "metadata": {
    "colab": {
     "base_uri": "https://localhost:8080/"
    },
    "executionInfo": {
     "elapsed": 7,
     "status": "ok",
     "timestamp": 1745347652513,
     "user": {
      "displayName": "juan_antonio VILLEGAS RECIO",
      "userId": "07002128450319972745"
     },
     "user_tz": -120
    },
    "id": "gPTjt44bcp-i",
    "outputId": "e18dca54-44fc-48e9-edcb-01dbc7a76d2e"
   },
   "outputs": [],
   "source": [
    "prec = 10**(-mp)\n",
    "prec"
   ]
  },
  {
   "cell_type": "markdown",
   "metadata": {
    "id": "A9FAvFefcp-i"
   },
   "source": [
    "También se ofrece la posibilidad de solicitar que se calculen o simplemente se muestren todos los resultados con un número de cifras significativas determinado por el usuario, que en todo caso debe ser igual o inferior al valor de la  Precision de la Máquina con la que se trabaje."
   ]
  },
  {
   "cell_type": "code",
   "execution_count": null,
   "metadata": {
    "executionInfo": {
     "elapsed": 2,
     "status": "ok",
     "timestamp": 1745347687096,
     "user": {
      "displayName": "juan_antonio VILLEGAS RECIO",
      "userId": "07002128450319972745"
     },
     "user_tz": -120
    },
    "id": "OuWo6goycp-i"
   },
   "outputs": [],
   "source": [
    "cifras = 5  # Número de cifras con el que queremos calcular\n",
    "getcontext().prec = cifras # y presentar los resultados"
   ]
  },
  {
   "cell_type": "code",
   "execution_count": null,
   "metadata": {
    "colab": {
     "base_uri": "https://localhost:8080/"
    },
    "executionInfo": {
     "elapsed": 8,
     "status": "ok",
     "timestamp": 1745347694072,
     "user": {
      "displayName": "juan_antonio VILLEGAS RECIO",
      "userId": "07002128450319972745"
     },
     "user_tz": -120
    },
    "id": "Cwod2miwcp-i",
    "outputId": "8eb2c3f5-5dfd-4465-dee2-d66f38edbeea"
   },
   "outputs": [],
   "source": [
    "tol = 10**(-cifras)     # Tolerancia\n",
    "tol"
   ]
  },
  {
   "cell_type": "code",
   "execution_count": null,
   "metadata": {
    "executionInfo": {
     "elapsed": 3,
     "status": "ok",
     "timestamp": 1745347694524,
     "user": {
      "displayName": "juan_antonio VILLEGAS RECIO",
      "userId": "07002128450319972745"
     },
     "user_tz": -120
    },
    "id": "WG34E43Bcp-i"
   },
   "outputs": [],
   "source": [
    "nmax = 100  # Número máximo de iteraciones"
   ]
  },
  {
   "cell_type": "markdown",
   "metadata": {
    "id": "mDpLS_7Xcp-i"
   },
   "source": [
    "## Algoritmos de resolución numérica de ecuaciones más empleados"
   ]
  },
  {
   "cell_type": "markdown",
   "metadata": {
    "id": "8kviXRZfcp-i"
   },
   "source": [
    "### Método de Bisección"
   ]
  },
  {
   "cell_type": "markdown",
   "metadata": {
    "id": "a0yWUw4x7UIC"
   },
   "source": [
    "Método de bisección: https://es.wikipedia.org/wiki/M%C3%A9todo_de_bisecci%C3%B3n"
   ]
  },
  {
   "cell_type": "markdown",
   "metadata": {
    "id": "6kBqtjLpcp-k"
   },
   "source": [
    "A continuación tenemos la implementación del método de bisección (también llamado de bipartición).  Para obtener\n",
    "el algoritmo de regula-falsi bastará sustituir la línea de programa donde se calcula el valor de  $c$ como el punto medio del intervalo por alguna de las siguientes asignaciones\n",
    "\n",
    "$$c=b-\\frac{(a-b)f(b)}{f(a)-f(b)} =a-\\frac{(b-a)f(a)}{f(b)-f(a)}$$\n",
    "\n",
    "que corresponderían con el punto de corte de la recta secante con el eje  $Ox$.\n",
    "\n",
    "Recuerde también que cuando se emplee este programa para aproximar una raíz de la ecuación     $f(x)=0$ se debe elegir\n",
    "un intervalo de partida adecuado en cada caso, de manera que se verifiquen la hipótesis del teorema de Bolzano."
   ]
  },
  {
   "cell_type": "code",
   "execution_count": null,
   "metadata": {
    "colab": {
     "base_uri": "https://localhost:8080/"
    },
    "executionInfo": {
     "elapsed": 36,
     "status": "ok",
     "timestamp": 1745347879874,
     "user": {
      "displayName": "juan_antonio VILLEGAS RECIO",
      "userId": "07002128450319972745"
     },
     "user_tz": -120
    },
    "id": "M9abcSh_cp-k",
    "outputId": "74a90160-fcce-454c-c834-9d295857c718"
   },
   "outputs": [],
   "source": [
    "# Conviene guardar una copia de los extremos del\n",
    "#  intervalo original, ya que los iremos modificando en cada iteración\n",
    "a0, b0 = a, b\n",
    "a,b"
   ]
  },
  {
   "cell_type": "markdown",
   "metadata": {
    "id": "NNtaDhJxcp-l"
   },
   "source": [
    "Ejecutemos en primer lugar el algoritmo usando la doble precisión habitual de la máquina en coma flotante (usando 64 bits para almacenar los números de la clase `float`), que equivale a trabajar con unas 16 cifras significativas para todos los cálculos."
   ]
  },
  {
   "cell_type": "markdown",
   "metadata": {
    "id": "_AzIK10v6f7p"
   },
   "source": [
    "Primero mostramos el **método de bisección**."
   ]
  },
  {
   "cell_type": "code",
   "execution_count": null,
   "metadata": {
    "executionInfo": {
     "elapsed": 1,
     "status": "ok",
     "timestamp": 1745347883051,
     "user": {
      "displayName": "juan_antonio VILLEGAS RECIO",
      "userId": "07002128450319972745"
     },
     "user_tz": -120
    },
    "id": "HGvDEWhocp-l"
   },
   "outputs": [],
   "source": [
    "def biseccion(f, a, b, nmax=nmax, tol=tol, prec=prec):\n",
    "  niter = 0\n",
    "  cont = True\n",
    "  exit = ''\n",
    "  while niter < nmax and cont:\n",
    "      niter += 1\n",
    "      c = (a+b)/2\n",
    "      if abs(f(c)) < prec:    # Si |f(c)|< prec\n",
    "          exit = 'precision'\n",
    "          cont = False\n",
    "      elif sign(f(a)) != sign(f(c)):\n",
    "          b = c\n",
    "      else:\n",
    "          a = c\n",
    "\n",
    "      if b-a < tol:\n",
    "          exit = 'tolerancia'\n",
    "          cont = False\n",
    "\n",
    "  if exit == 'precision':\n",
    "      print(f'Posiblemente solución exacta: {c}')\n",
    "  elif exit == 'tolerancia':\n",
    "      print(f'Aproximación solicitada: {c}')\n",
    "  else:\n",
    "      print('Se llegó al número máximo de iteraciones')\n",
    "  return c, niter, exit\n"
   ]
  },
  {
   "cell_type": "code",
   "execution_count": null,
   "metadata": {
    "colab": {
     "base_uri": "https://localhost:8080/"
    },
    "executionInfo": {
     "elapsed": 20,
     "status": "ok",
     "timestamp": 1745347883985,
     "user": {
      "displayName": "juan_antonio VILLEGAS RECIO",
      "userId": "07002128450319972745"
     },
     "user_tz": -120
    },
    "id": "eRYZP6Spfn-M",
    "outputId": "f5e5916d-51d9-423c-fce6-4e08cc27971e"
   },
   "outputs": [],
   "source": [
    "sol_approx, niter, exit = biseccion(f,a,b,nmax,tol,prec)\n",
    "print('Solución exacta, ', sol_exact, \", con decimales  \", sol_exact.evalf() )\n",
    "print('Número total de iteraciones ', niter)"
   ]
  },
  {
   "cell_type": "code",
   "execution_count": null,
   "metadata": {
    "colab": {
     "base_uri": "https://localhost:8080/"
    },
    "executionInfo": {
     "elapsed": 46,
     "status": "ok",
     "timestamp": 1745347885317,
     "user": {
      "displayName": "juan_antonio VILLEGAS RECIO",
      "userId": "07002128450319972745"
     },
     "user_tz": -120
    },
    "id": "DUfE7F6Ecp-l",
    "outputId": "1530efa8-a0fb-4662-85ae-151c13a326d9"
   },
   "outputs": [],
   "source": [
    "sp.N(sol_approx, cifras), sol_approx, sp.N(sol_exact)"
   ]
  },
  {
   "cell_type": "markdown",
   "metadata": {
    "id": "-TXEUgd5cp-l"
   },
   "source": [
    "Repitamos ahora el mismo algoritmo, pero usando una precisión y número de cifras significativas concreto, indicado por el valor de la variable `cifras`. Para ello convirtamos previamente los valores extremos del intervalo al formato decimal determinado por la precisión que hemos forzado en este caso."
   ]
  },
  {
   "cell_type": "code",
   "execution_count": null,
   "metadata": {
    "executionInfo": {
     "elapsed": 15,
     "status": "ok",
     "timestamp": 1745347888840,
     "user": {
      "displayName": "juan_antonio VILLEGAS RECIO",
      "userId": "07002128450319972745"
     },
     "user_tz": -120
    },
    "id": "2Ye3t0bGcp-l"
   },
   "outputs": [],
   "source": [
    "a,b = Decimal(a),Decimal(b)"
   ]
  },
  {
   "cell_type": "code",
   "execution_count": null,
   "metadata": {
    "colab": {
     "base_uri": "https://localhost:8080/"
    },
    "executionInfo": {
     "elapsed": 19,
     "status": "ok",
     "timestamp": 1745347889925,
     "user": {
      "displayName": "juan_antonio VILLEGAS RECIO",
      "userId": "07002128450319972745"
     },
     "user_tz": -120
    },
    "id": "jAie7OGEcp-l",
    "outputId": "e9346b55-09b4-43be-d186-7f37afa5c409"
   },
   "outputs": [],
   "source": [
    "a,b"
   ]
  },
  {
   "cell_type": "code",
   "execution_count": null,
   "metadata": {
    "colab": {
     "base_uri": "https://localhost:8080/"
    },
    "executionInfo": {
     "elapsed": 12,
     "status": "ok",
     "timestamp": 1745347890983,
     "user": {
      "displayName": "juan_antonio VILLEGAS RECIO",
      "userId": "07002128450319972745"
     },
     "user_tz": -120
    },
    "id": "XtZHe2QWhi35",
    "outputId": "06a7d065-3092-4438-9d04-973aea67af69"
   },
   "outputs": [],
   "source": [
    "getcontext().prec = cifras\n",
    "sol_approx, niter, exit = biseccion(f,a,b,nmax,tol,prec)\n",
    "print('Solución exacta, ', sol_exact, \", con decimales  \", sol_exact.evalf() )\n",
    "print('Número total de iteraciones ', niter)"
   ]
  },
  {
   "cell_type": "markdown",
   "metadata": {
    "id": "sPkRz--dcp-m"
   },
   "source": [
    "Vemos cómo, en efecto, se ha debido de  cumplir uno de los criterios de parada impuestos en un  número finito de iteraciones. Así pues,  el método ha sido capaz de calcular una aproximación de la raíz de la ecuación con algunas cifras decimales exactas;\n",
    "esto lo podemos concluir en este caso ya que una variación pequeña, que ha sido el error máximo cometido o tolerancia, podría\n",
    "cambiar como mucho  alguna de las últimas cifras decimales en una unidad y vemos que, en muchos de los casos, esto no afectaría por\n",
    "errores de redondeo a las otras."
   ]
  },
  {
   "cell_type": "markdown",
   "metadata": {
    "id": "jpQMavQPcp-m"
   },
   "source": [
    "### Método de la secante"
   ]
  },
  {
   "cell_type": "markdown",
   "metadata": {
    "id": "ydg9KoAR7ZHn"
   },
   "source": [
    "https://es.wikipedia.org/wiki/M%C3%A9todo_de_la_secante"
   ]
  },
  {
   "cell_type": "markdown",
   "metadata": {
    "id": "bcfG0Ckucp-m"
   },
   "source": [
    "A continuación tenemos la implementación del método de la secante. Es parecido al de regula-falsi, salvo que ahora se construye iterativamente\n",
    "una sucesión de valores\n",
    "$$x_{k+1}=x_k-\\frac{x_k-x_{k-1}}{f\\left(x_k\\right)-f\\left(x_{k-1}\\right)}f\\left(x_k\\right)\\\\\n",
    "=x_{k-1}-\\frac{x_k-x_{k-1}}{f\\left(x_k\\right)-f\\left(x_{k-1}\\right)}f\\left(x_{k-1}\\right)$$\n",
    "sin realizar la comprobación de cambio de signo.\n",
    "\n",
    "Ahora bien, lo mismo que ocurría al emplear el método de bisección en la sección anterior,\n",
    "debemos de idear algún criterio de parada cuando programamos cualquier método iterativo. Lo que haremos ahora, al no poder controlar de\n",
    "forma tan clara como en el método de bisección el error absoluto cometido,  es fijarnos en la diferencia entre dos iteraciones consecutivas,\n",
    "parando el proceso cuando ésta sea inferior a la tolerancia prefijada, **tol**; también fijaremos un número máximo de iteraciones\n",
    "a realizar, en caso de que dicha tolerancia sea dificil de alcanzar en un número de iteraciones razonable.\n",
    "\n",
    "**Ejercicio 1.** Teniendo en cuenta la recomendación explicada sobre los criterios de parada, codifica una función similar a la explicada en el método de bisección para el método de la secante.\n",
    "\n",
    "Aproxima la raíz de la función $f(x)=e^x-3$:\n",
    "* Cambiando la precisión a 5 cifras significativas.\n",
    "* Con la precisión por defecto y aproximando la raíz con 28 cifras significativas."
   ]
  },
  {
   "cell_type": "markdown",
   "metadata": {
    "id": "3E4Uh5tjcp-n"
   },
   "source": [
    "### Métodos de Whittaker y Newton Raphson"
   ]
  },
  {
   "cell_type": "markdown",
   "metadata": {
    "id": "xixNj2l39MPU"
   },
   "source": [
    "https://www.ecured.cu/M%C3%A9todo_de_Whittaker"
   ]
  },
  {
   "cell_type": "markdown",
   "metadata": {
    "id": "7BDDAAWh8g3D"
   },
   "source": [
    "https://es.wikipedia.org/wiki/M%C3%A9todo_de_Newton"
   ]
  },
  {
   "cell_type": "markdown",
   "metadata": {
    "id": "URJmw5c1cp-n"
   },
   "source": [
    "Vamos a implementar en esta sección el llamado método de Whittaker que, a partir de un valor inicial $x_0$, utiliza en principio rectas\n",
    "con pendiente fijada para calcular el punto de corte de éstas con el eje $Ox$ para aproximar la raíz buscada. No obstante, empleando\n",
    "el programa resultante y permitiendo variar dichas pendientes, ajustándose a las de la propia función $f$, es decir, $m=f'\\left(x_k\\right)$, $k\\geq 0$, para que sean las de la recta tangente en\n",
    "el punto $\\left(x_k,f\\left(x_k\\right)\\right)$) obtendríamos el conocido método de  [Newton-Raphson](https://es.wikipedia.org/wiki/Método_de_Newton).\n",
    "\n",
    "También se verá que para que este método funcione correctamente será necesario que la derivada de la función no esté próxima a cero,\n",
    "al menos en cierto entorno de la raíz, ya que de lo contrario se podría producir una división entre cero o bien la creación\n",
    "de enormes errores de redondeo al dividir entre cantidades muy pequeñas."
   ]
  },
  {
   "cell_type": "markdown",
   "metadata": {
    "id": "1KfO6_Dqcp-n"
   },
   "source": [
    "Sigamos pues con el ejemplo que teníamos desde el principio de la práctica, e intentemos representar gráficamente todo este proceso, pero también vamos a necesitar evaluar la función derivada de la función de partida. Para ello también podemos aprovechar la potencia de cálculo simbólico de Python, a través del módulo SymPy, para ayudarnos a calcular la función derivada. No obstante, para poder realizar los cálculos y aproximaciones numéricas posteriores, convendrá definir ambas funciones, tanto la función $f$ como su derivada, empleando las versiones de NumPy de las correspondientes expresiones.  "
   ]
  },
  {
   "cell_type": "code",
   "execution_count": null,
   "metadata": {
    "executionInfo": {
     "elapsed": 44,
     "status": "ok",
     "timestamp": 1745347909250,
     "user": {
      "displayName": "juan_antonio VILLEGAS RECIO",
      "userId": "07002128450319972745"
     },
     "user_tz": -120
    },
    "id": "iG-tlkadoVFf"
   },
   "outputs": [],
   "source": [
    "f = fsym    # Ahora trabajaremos con la versión simbólica"
   ]
  },
  {
   "cell_type": "code",
   "execution_count": null,
   "metadata": {
    "colab": {
     "base_uri": "https://localhost:8080/"
    },
    "executionInfo": {
     "elapsed": 25,
     "status": "ok",
     "timestamp": 1745347909744,
     "user": {
      "displayName": "juan_antonio VILLEGAS RECIO",
      "userId": "07002128450319972745"
     },
     "user_tz": -120
    },
    "id": "JWqkiEAjcp-o",
    "outputId": "bfe02bb5-c8d2-44fa-cced-50a6027e3748"
   },
   "outputs": [],
   "source": [
    "f(x),sp.diff(f(x),x)    # derivada simbólica de f"
   ]
  },
  {
   "cell_type": "code",
   "execution_count": null,
   "metadata": {
    "executionInfo": {
     "elapsed": 3,
     "status": "ok",
     "timestamp": 1745347910472,
     "user": {
      "displayName": "juan_antonio VILLEGAS RECIO",
      "userId": "07002128450319972745"
     },
     "user_tz": -120
    },
    "id": "LUD-za4Wcp-o"
   },
   "outputs": [],
   "source": [
    "def df(x):##\n",
    "    ''' Función sp.exp(x)\n",
    "    Derivada simbólica de f en una función de python\n",
    "    '''\n",
    "    return sp.exp(x)"
   ]
  },
  {
   "cell_type": "markdown",
   "metadata": {
    "id": "PWXVtvfEuDSX"
   },
   "source": [
    "Le agradecemos a `sympy` su ayuda y volvemos a la versión numérica."
   ]
  },
  {
   "cell_type": "code",
   "execution_count": null,
   "metadata": {
    "executionInfo": {
     "elapsed": 4,
     "status": "ok",
     "timestamp": 1745347911688,
     "user": {
      "displayName": "juan_antonio VILLEGAS RECIO",
      "userId": "07002128450319972745"
     },
     "user_tz": -120
    },
    "id": "29NLsJfwuoBb"
   },
   "outputs": [],
   "source": [
    "f = fnum\n",
    "df = lambda x: np.exp(x)"
   ]
  },
  {
   "cell_type": "code",
   "execution_count": null,
   "metadata": {
    "executionInfo": {
     "elapsed": 32,
     "status": "ok",
     "timestamp": 1745347912173,
     "user": {
      "displayName": "juan_antonio VILLEGAS RECIO",
      "userId": "07002128450319972745"
     },
     "user_tz": -120
    },
    "id": "dH9uW0nsqBW7"
   },
   "outputs": [],
   "source": [
    "a,b = 0, 2"
   ]
  },
  {
   "cell_type": "code",
   "execution_count": null,
   "metadata": {
    "colab": {
     "base_uri": "https://localhost:8080/"
    },
    "executionInfo": {
     "elapsed": 21,
     "status": "ok",
     "timestamp": 1745347912903,
     "user": {
      "displayName": "juan_antonio VILLEGAS RECIO",
      "userId": "07002128450319972745"
     },
     "user_tz": -120
    },
    "id": "0r0bwrw1cp-o",
    "outputId": "8589a571-5a23-432c-babb-2032b7dce253"
   },
   "outputs": [],
   "source": [
    "f(a),df(a)"
   ]
  },
  {
   "cell_type": "code",
   "execution_count": null,
   "metadata": {
    "executionInfo": {
     "elapsed": 5,
     "status": "ok",
     "timestamp": 1745347913710,
     "user": {
      "displayName": "juan_antonio VILLEGAS RECIO",
      "userId": "07002128450319972745"
     },
     "user_tz": -120
    },
    "id": "ucp6RZHncp-o"
   },
   "outputs": [],
   "source": [
    "x0 = a"
   ]
  },
  {
   "cell_type": "code",
   "execution_count": null,
   "metadata": {
    "colab": {
     "base_uri": "https://localhost:8080/"
    },
    "executionInfo": {
     "elapsed": 20,
     "status": "ok",
     "timestamp": 1745347914324,
     "user": {
      "displayName": "juan_antonio VILLEGAS RECIO",
      "userId": "07002128450319972745"
     },
     "user_tz": -120
    },
    "id": "9rqGHMoPcp-o",
    "outputId": "eedc427f-2d43-4fb2-c379-73db75203bb8"
   },
   "outputs": [],
   "source": [
    "f(x0), df(x0)"
   ]
  },
  {
   "cell_type": "code",
   "execution_count": null,
   "metadata": {
    "colab": {
     "base_uri": "https://localhost:8080/"
    },
    "executionInfo": {
     "elapsed": 8,
     "status": "ok",
     "timestamp": 1745347915095,
     "user": {
      "displayName": "juan_antonio VILLEGAS RECIO",
      "userId": "07002128450319972745"
     },
     "user_tz": -120
    },
    "id": "AA8x2rbQcp-o",
    "outputId": "226c7837-efc6-454b-ac58-ed73ab73b700"
   },
   "outputs": [],
   "source": [
    "x0"
   ]
  },
  {
   "cell_type": "code",
   "execution_count": null,
   "metadata": {
    "colab": {
     "base_uri": "https://localhost:8080/"
    },
    "executionInfo": {
     "elapsed": 9,
     "status": "ok",
     "timestamp": 1745347915870,
     "user": {
      "displayName": "juan_antonio VILLEGAS RECIO",
      "userId": "07002128450319972745"
     },
     "user_tz": -120
    },
    "id": "BOobvPMIcp-p",
    "outputId": "71e3aa77-b33d-413f-d3e6-d1b8f291bf8a"
   },
   "outputs": [],
   "source": [
    "m =10\n",
    "x1 = x0 - f(x0)/m\n",
    "x1"
   ]
  },
  {
   "cell_type": "code",
   "execution_count": null,
   "metadata": {
    "colab": {
     "base_uri": "https://localhost:8080/"
    },
    "executionInfo": {
     "elapsed": 21,
     "status": "ok",
     "timestamp": 1745347917794,
     "user": {
      "displayName": "juan_antonio VILLEGAS RECIO",
      "userId": "07002128450319972745"
     },
     "user_tz": -120
    },
    "id": "gEtWU_a-qvnF",
    "outputId": "91a9a6c4-d230-41cd-bd78-500c57ad6c04"
   },
   "outputs": [],
   "source": [
    "abs(f(x1)) < prec"
   ]
  },
  {
   "cell_type": "code",
   "execution_count": null,
   "metadata": {
    "colab": {
     "base_uri": "https://localhost:8080/"
    },
    "executionInfo": {
     "elapsed": 38,
     "status": "ok",
     "timestamp": 1745347918710,
     "user": {
      "displayName": "juan_antonio VILLEGAS RECIO",
      "userId": "07002128450319972745"
     },
     "user_tz": -120
    },
    "id": "scFkZ6b_cp-p",
    "outputId": "8bc14a94-bf7a-434b-8152-176cd84e7f15"
   },
   "outputs": [],
   "source": [
    "x0 = x1\n",
    "x1 = x0 - f(x0)/m\n",
    "x1"
   ]
  },
  {
   "cell_type": "code",
   "execution_count": null,
   "metadata": {
    "colab": {
     "base_uri": "https://localhost:8080/"
    },
    "executionInfo": {
     "elapsed": 7,
     "status": "ok",
     "timestamp": 1745347920262,
     "user": {
      "displayName": "juan_antonio VILLEGAS RECIO",
      "userId": "07002128450319972745"
     },
     "user_tz": -120
    },
    "id": "TFEql9ghcp-p",
    "outputId": "763082ea-859a-48f8-a67a-4334fe7d3d2d"
   },
   "outputs": [],
   "source": [
    "abs(f(x1)) < prec"
   ]
  },
  {
   "cell_type": "markdown",
   "metadata": {
    "id": "7gImthchr7R_"
   },
   "source": [
    "Repitiendo el mismo proceso se llega iterativamente a construir una sucesión que, si se dan ciertas condiciones apropiadas, va a converger hacia la verdadera raíz de nuestra ecuación. Para ello habrá que elegir convenientemente tanto el valor de la pendiente $m$ como el del valor inicial $x_0$, ya que basta probar con ciertos valores para darnos cuenta cómo nos aproximamos más y más a la raíz, o por el contrario ocurre todo lo contrario.\n",
    "\n",
    "**Ejercicio 2.** Teniendo en cuenta estos primeros pasos, codifica una función para el método de Wittaker.\n",
    "\n",
    "Aproxima la raíz de la función $f(x)=e^x-3$:\n",
    "* Cambiando la precisión a 5 cifras significativas.\n",
    "* Con la precisión por defecto y aproximando la raíz con 28 cifras significativas.\n",
    "\n",
    "Comprueba que una mala elección de $m$ puede provocar que la sucesión no converja.\n",
    "\n",
    "**Ejercicio 3.** Modifique el método anterior para que, en lugar de fijar una pendiente $m$, calcule en cada iteración la derivada de la función en dicho punto, obteniendo el método de Newton-Raphson. Con este método:\n",
    "\n",
    "Aproxima la raíz de la función $f(x)=e^x-3$:\n",
    "* Cambiando la precisión a 5 cifras significativas.\n",
    "* Con la precisión por defecto y aproximando la raíz con 28 cifras significativas.\n",
    "\n",
    "Compare, en iguales condiciones, el rendimiento de Newton-Raphson con respecto al método de Wittaker."
   ]
  },
  {
   "cell_type": "markdown",
   "metadata": {
    "id": "tJyB7gEzxD-y"
   },
   "source": [
    "## Ejercicios de la parte 1 de la práctica 1\n",
    "\n",
    "**Ejercicio 4.** Demuestre que la ecuación  $x^3+4 x^2=10  $  tiene una única raíz en el intervalo $[1,2]$.  Aproxime dicha raíz con el método de bisección con al menos 3 cifras decimales exactas. ¿Cuántas iteraciones serán necesarias para conseguir 5 cifras decimales exactas (tol =$10^{-5}$)?  Aproxime también la raíz con el método de Newton-Raphson partiendo del extremo adecuado hasta que la diferencia en valor absoluto, entre dos aproximaciones consecutivas sea  inferior a  $10^{-3}$.\n",
    "\n",
    "\n",
    "**Ejercicio 5.** Use el método de Newton-Raphson para aproximar las soluciones de las siguientes ecuaciones con tolerancia $10^{-5}$ , partiendo de un valor adecuado, próximo a cada una de ellas en cada caso.\n",
    "\n",
    "1. $3x=2+x^2-e^x$.\n",
    "\n",
    "2. $x^2+10 \\cos x+x=0$.\n",
    "\n",
    "\n",
    "**Ejercicio 6.** Para la función  $ f(x)= 3 x^2+e^x-1$,\n",
    "\n",
    "i) encuentre, mediante el método de bisección una aproximación de la raíz en $[0,1]$ con, al menos, cuatro decimales exactos (tol =$10^{-4}$), y determine el número de iteraciones realizadas;\n",
    "\n",
    "ii) encuentre, mediante el método de Newton-Raphson, una aproximación de la raíz en $[0,1]$ con una tolerancia de $10^{-4}$, partiendo de $x_0=0$, y determine el número de iteraciones realizadas.  "
   ]
  }
 ],
 "metadata": {
  "anaconda-cloud": {},
  "colab": {
   "collapsed_sections": [
    "8kviXRZfcp-i",
    "jpQMavQPcp-m",
    "MW4_-uSrcp-w",
    "jr7yFeSNcp-z",
    "yyNEN0w-cp-1",
    "n3RiGTxbcp-3"
   ],
   "provenance": []
  },
  "kernelspec": {
   "display_name": "Base",
   "language": "python",
   "name": "python3"
  },
  "language_info": {
   "codemirror_mode": {
    "name": "ipython",
    "version": 3
   },
   "file_extension": ".py",
   "mimetype": "text/x-python",
   "name": "python",
   "nbconvert_exporter": "python",
   "pygments_lexer": "ipython3",
   "version": "3.12.3"
  }
 },
 "nbformat": 4,
 "nbformat_minor": 0
}
